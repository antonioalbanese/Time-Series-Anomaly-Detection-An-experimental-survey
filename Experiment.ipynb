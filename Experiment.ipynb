{
  "nbformat": 4,
  "nbformat_minor": 0,
  "metadata": {
    "colab": {
      "provenance": [],
      "authorship_tag": "ABX9TyNPvrqUyn3zV5894ScjFiJP",
      "include_colab_link": true
    },
    "kernelspec": {
      "name": "python3",
      "display_name": "Python 3"
    },
    "language_info": {
      "name": "python"
    },
    "accelerator": "GPU",
    "widgets": {
      "application/vnd.jupyter.widget-state+json": {
        "52ddc8dac0c047be84c0941647398192": {
          "model_module": "@jupyter-widgets/controls",
          "model_name": "HBoxModel",
          "model_module_version": "1.5.0",
          "state": {
            "_dom_classes": [],
            "_model_module": "@jupyter-widgets/controls",
            "_model_module_version": "1.5.0",
            "_model_name": "HBoxModel",
            "_view_count": null,
            "_view_module": "@jupyter-widgets/controls",
            "_view_module_version": "1.5.0",
            "_view_name": "HBoxView",
            "box_style": "",
            "children": [
              "IPY_MODEL_efa46f96c902485182c99e2d6f496b02",
              "IPY_MODEL_7482bb2dcd9f4b2eb3f0d8da1eca840d",
              "IPY_MODEL_045593c2f7c64a6e8762a23c29b29313"
            ],
            "layout": "IPY_MODEL_e18cf96e13d348fea450811baf1d3a5d"
          }
        },
        "efa46f96c902485182c99e2d6f496b02": {
          "model_module": "@jupyter-widgets/controls",
          "model_name": "HTMLModel",
          "model_module_version": "1.5.0",
          "state": {
            "_dom_classes": [],
            "_model_module": "@jupyter-widgets/controls",
            "_model_module_version": "1.5.0",
            "_model_name": "HTMLModel",
            "_view_count": null,
            "_view_module": "@jupyter-widgets/controls",
            "_view_module_version": "1.5.0",
            "_view_name": "HTMLView",
            "description": "",
            "description_tooltip": null,
            "layout": "IPY_MODEL_42c27d73615144f0be08a9b0c83b1ab7",
            "placeholder": "​",
            "style": "IPY_MODEL_5604c33c97f44f619831b02275c39d2c",
            "value": "Epoch 29: 100%"
          }
        },
        "7482bb2dcd9f4b2eb3f0d8da1eca840d": {
          "model_module": "@jupyter-widgets/controls",
          "model_name": "FloatProgressModel",
          "model_module_version": "1.5.0",
          "state": {
            "_dom_classes": [],
            "_model_module": "@jupyter-widgets/controls",
            "_model_module_version": "1.5.0",
            "_model_name": "FloatProgressModel",
            "_view_count": null,
            "_view_module": "@jupyter-widgets/controls",
            "_view_module_version": "1.5.0",
            "_view_name": "ProgressView",
            "bar_style": "success",
            "description": "",
            "description_tooltip": null,
            "layout": "IPY_MODEL_04aeebee67924a5c8b1995908494b615",
            "max": 68,
            "min": 0,
            "orientation": "horizontal",
            "style": "IPY_MODEL_c09ec3b325f341c2993a6459d95d07fd",
            "value": 68
          }
        },
        "045593c2f7c64a6e8762a23c29b29313": {
          "model_module": "@jupyter-widgets/controls",
          "model_name": "HTMLModel",
          "model_module_version": "1.5.0",
          "state": {
            "_dom_classes": [],
            "_model_module": "@jupyter-widgets/controls",
            "_model_module_version": "1.5.0",
            "_model_name": "HTMLModel",
            "_view_count": null,
            "_view_module": "@jupyter-widgets/controls",
            "_view_module_version": "1.5.0",
            "_view_name": "HTMLView",
            "description": "",
            "description_tooltip": null,
            "layout": "IPY_MODEL_db0297d1c9854776a284b183ff256351",
            "placeholder": "​",
            "style": "IPY_MODEL_6c98170c595a49529a0617ce28584f05",
            "value": " 68/68 [00:01&lt;00:00, 55.58it/s, loss=0.0368, v_num=0, train_loss=0.0266]"
          }
        },
        "e18cf96e13d348fea450811baf1d3a5d": {
          "model_module": "@jupyter-widgets/base",
          "model_name": "LayoutModel",
          "model_module_version": "1.2.0",
          "state": {
            "_model_module": "@jupyter-widgets/base",
            "_model_module_version": "1.2.0",
            "_model_name": "LayoutModel",
            "_view_count": null,
            "_view_module": "@jupyter-widgets/base",
            "_view_module_version": "1.2.0",
            "_view_name": "LayoutView",
            "align_content": null,
            "align_items": null,
            "align_self": null,
            "border": null,
            "bottom": null,
            "display": "inline-flex",
            "flex": null,
            "flex_flow": "row wrap",
            "grid_area": null,
            "grid_auto_columns": null,
            "grid_auto_flow": null,
            "grid_auto_rows": null,
            "grid_column": null,
            "grid_gap": null,
            "grid_row": null,
            "grid_template_areas": null,
            "grid_template_columns": null,
            "grid_template_rows": null,
            "height": null,
            "justify_content": null,
            "justify_items": null,
            "left": null,
            "margin": null,
            "max_height": null,
            "max_width": null,
            "min_height": null,
            "min_width": null,
            "object_fit": null,
            "object_position": null,
            "order": null,
            "overflow": null,
            "overflow_x": null,
            "overflow_y": null,
            "padding": null,
            "right": null,
            "top": null,
            "visibility": null,
            "width": "100%"
          }
        },
        "42c27d73615144f0be08a9b0c83b1ab7": {
          "model_module": "@jupyter-widgets/base",
          "model_name": "LayoutModel",
          "model_module_version": "1.2.0",
          "state": {
            "_model_module": "@jupyter-widgets/base",
            "_model_module_version": "1.2.0",
            "_model_name": "LayoutModel",
            "_view_count": null,
            "_view_module": "@jupyter-widgets/base",
            "_view_module_version": "1.2.0",
            "_view_name": "LayoutView",
            "align_content": null,
            "align_items": null,
            "align_self": null,
            "border": null,
            "bottom": null,
            "display": null,
            "flex": null,
            "flex_flow": null,
            "grid_area": null,
            "grid_auto_columns": null,
            "grid_auto_flow": null,
            "grid_auto_rows": null,
            "grid_column": null,
            "grid_gap": null,
            "grid_row": null,
            "grid_template_areas": null,
            "grid_template_columns": null,
            "grid_template_rows": null,
            "height": null,
            "justify_content": null,
            "justify_items": null,
            "left": null,
            "margin": null,
            "max_height": null,
            "max_width": null,
            "min_height": null,
            "min_width": null,
            "object_fit": null,
            "object_position": null,
            "order": null,
            "overflow": null,
            "overflow_x": null,
            "overflow_y": null,
            "padding": null,
            "right": null,
            "top": null,
            "visibility": null,
            "width": null
          }
        },
        "5604c33c97f44f619831b02275c39d2c": {
          "model_module": "@jupyter-widgets/controls",
          "model_name": "DescriptionStyleModel",
          "model_module_version": "1.5.0",
          "state": {
            "_model_module": "@jupyter-widgets/controls",
            "_model_module_version": "1.5.0",
            "_model_name": "DescriptionStyleModel",
            "_view_count": null,
            "_view_module": "@jupyter-widgets/base",
            "_view_module_version": "1.2.0",
            "_view_name": "StyleView",
            "description_width": ""
          }
        },
        "04aeebee67924a5c8b1995908494b615": {
          "model_module": "@jupyter-widgets/base",
          "model_name": "LayoutModel",
          "model_module_version": "1.2.0",
          "state": {
            "_model_module": "@jupyter-widgets/base",
            "_model_module_version": "1.2.0",
            "_model_name": "LayoutModel",
            "_view_count": null,
            "_view_module": "@jupyter-widgets/base",
            "_view_module_version": "1.2.0",
            "_view_name": "LayoutView",
            "align_content": null,
            "align_items": null,
            "align_self": null,
            "border": null,
            "bottom": null,
            "display": null,
            "flex": "2",
            "flex_flow": null,
            "grid_area": null,
            "grid_auto_columns": null,
            "grid_auto_flow": null,
            "grid_auto_rows": null,
            "grid_column": null,
            "grid_gap": null,
            "grid_row": null,
            "grid_template_areas": null,
            "grid_template_columns": null,
            "grid_template_rows": null,
            "height": null,
            "justify_content": null,
            "justify_items": null,
            "left": null,
            "margin": null,
            "max_height": null,
            "max_width": null,
            "min_height": null,
            "min_width": null,
            "object_fit": null,
            "object_position": null,
            "order": null,
            "overflow": null,
            "overflow_x": null,
            "overflow_y": null,
            "padding": null,
            "right": null,
            "top": null,
            "visibility": null,
            "width": null
          }
        },
        "c09ec3b325f341c2993a6459d95d07fd": {
          "model_module": "@jupyter-widgets/controls",
          "model_name": "ProgressStyleModel",
          "model_module_version": "1.5.0",
          "state": {
            "_model_module": "@jupyter-widgets/controls",
            "_model_module_version": "1.5.0",
            "_model_name": "ProgressStyleModel",
            "_view_count": null,
            "_view_module": "@jupyter-widgets/base",
            "_view_module_version": "1.2.0",
            "_view_name": "StyleView",
            "bar_color": null,
            "description_width": ""
          }
        },
        "db0297d1c9854776a284b183ff256351": {
          "model_module": "@jupyter-widgets/base",
          "model_name": "LayoutModel",
          "model_module_version": "1.2.0",
          "state": {
            "_model_module": "@jupyter-widgets/base",
            "_model_module_version": "1.2.0",
            "_model_name": "LayoutModel",
            "_view_count": null,
            "_view_module": "@jupyter-widgets/base",
            "_view_module_version": "1.2.0",
            "_view_name": "LayoutView",
            "align_content": null,
            "align_items": null,
            "align_self": null,
            "border": null,
            "bottom": null,
            "display": null,
            "flex": null,
            "flex_flow": null,
            "grid_area": null,
            "grid_auto_columns": null,
            "grid_auto_flow": null,
            "grid_auto_rows": null,
            "grid_column": null,
            "grid_gap": null,
            "grid_row": null,
            "grid_template_areas": null,
            "grid_template_columns": null,
            "grid_template_rows": null,
            "height": null,
            "justify_content": null,
            "justify_items": null,
            "left": null,
            "margin": null,
            "max_height": null,
            "max_width": null,
            "min_height": null,
            "min_width": null,
            "object_fit": null,
            "object_position": null,
            "order": null,
            "overflow": null,
            "overflow_x": null,
            "overflow_y": null,
            "padding": null,
            "right": null,
            "top": null,
            "visibility": null,
            "width": null
          }
        },
        "6c98170c595a49529a0617ce28584f05": {
          "model_module": "@jupyter-widgets/controls",
          "model_name": "DescriptionStyleModel",
          "model_module_version": "1.5.0",
          "state": {
            "_model_module": "@jupyter-widgets/controls",
            "_model_module_version": "1.5.0",
            "_model_name": "DescriptionStyleModel",
            "_view_count": null,
            "_view_module": "@jupyter-widgets/base",
            "_view_module_version": "1.2.0",
            "_view_name": "StyleView",
            "description_width": ""
          }
        },
        "e7ca3c4128c94cf8b8d2cb8156912058": {
          "model_module": "@jupyter-widgets/controls",
          "model_name": "HBoxModel",
          "model_module_version": "1.5.0",
          "state": {
            "_dom_classes": [],
            "_model_module": "@jupyter-widgets/controls",
            "_model_module_version": "1.5.0",
            "_model_name": "HBoxModel",
            "_view_count": null,
            "_view_module": "@jupyter-widgets/controls",
            "_view_module_version": "1.5.0",
            "_view_name": "HBoxView",
            "box_style": "",
            "children": [
              "IPY_MODEL_569c09c17cba401591268f8820d57a2d",
              "IPY_MODEL_c2ef116dc1224e788ee0dc9a7fc3fee6",
              "IPY_MODEL_0dd875e163cb40a798ebfda23c1895aa"
            ],
            "layout": "IPY_MODEL_8cd7e7c4d6b14df99894c6ff2c8fbaac"
          }
        },
        "569c09c17cba401591268f8820d57a2d": {
          "model_module": "@jupyter-widgets/controls",
          "model_name": "HTMLModel",
          "model_module_version": "1.5.0",
          "state": {
            "_dom_classes": [],
            "_model_module": "@jupyter-widgets/controls",
            "_model_module_version": "1.5.0",
            "_model_name": "HTMLModel",
            "_view_count": null,
            "_view_module": "@jupyter-widgets/controls",
            "_view_module_version": "1.5.0",
            "_view_name": "HTMLView",
            "description": "",
            "description_tooltip": null,
            "layout": "IPY_MODEL_6f7f928bf0bf49ceaa48cb0a6426c025",
            "placeholder": "​",
            "style": "IPY_MODEL_c426f1f3fb384434af6e2b26dbc7b248",
            "value": "Predicting DataLoader 0: 100%"
          }
        },
        "c2ef116dc1224e788ee0dc9a7fc3fee6": {
          "model_module": "@jupyter-widgets/controls",
          "model_name": "FloatProgressModel",
          "model_module_version": "1.5.0",
          "state": {
            "_dom_classes": [],
            "_model_module": "@jupyter-widgets/controls",
            "_model_module_version": "1.5.0",
            "_model_name": "FloatProgressModel",
            "_view_count": null,
            "_view_module": "@jupyter-widgets/controls",
            "_view_module_version": "1.5.0",
            "_view_name": "ProgressView",
            "bar_style": "success",
            "description": "",
            "description_tooltip": null,
            "layout": "IPY_MODEL_7060a3fb88ca4f159a9c676b3fe7437b",
            "max": 2152,
            "min": 0,
            "orientation": "horizontal",
            "style": "IPY_MODEL_29bbb3aaf6b44052980cbcf096b9c7ea",
            "value": 2152
          }
        },
        "0dd875e163cb40a798ebfda23c1895aa": {
          "model_module": "@jupyter-widgets/controls",
          "model_name": "HTMLModel",
          "model_module_version": "1.5.0",
          "state": {
            "_dom_classes": [],
            "_model_module": "@jupyter-widgets/controls",
            "_model_module_version": "1.5.0",
            "_model_name": "HTMLModel",
            "_view_count": null,
            "_view_module": "@jupyter-widgets/controls",
            "_view_module_version": "1.5.0",
            "_view_name": "HTMLView",
            "description": "",
            "description_tooltip": null,
            "layout": "IPY_MODEL_f1b3fba1a68f406b9fd76c88cee0f0fa",
            "placeholder": "​",
            "style": "IPY_MODEL_3faf92d3e2804cffafc84cc7975a7846",
            "value": " 2152/2152 [00:08&lt;00:00, 263.12it/s]"
          }
        },
        "8cd7e7c4d6b14df99894c6ff2c8fbaac": {
          "model_module": "@jupyter-widgets/base",
          "model_name": "LayoutModel",
          "model_module_version": "1.2.0",
          "state": {
            "_model_module": "@jupyter-widgets/base",
            "_model_module_version": "1.2.0",
            "_model_name": "LayoutModel",
            "_view_count": null,
            "_view_module": "@jupyter-widgets/base",
            "_view_module_version": "1.2.0",
            "_view_name": "LayoutView",
            "align_content": null,
            "align_items": null,
            "align_self": null,
            "border": null,
            "bottom": null,
            "display": "inline-flex",
            "flex": null,
            "flex_flow": "row wrap",
            "grid_area": null,
            "grid_auto_columns": null,
            "grid_auto_flow": null,
            "grid_auto_rows": null,
            "grid_column": null,
            "grid_gap": null,
            "grid_row": null,
            "grid_template_areas": null,
            "grid_template_columns": null,
            "grid_template_rows": null,
            "height": null,
            "justify_content": null,
            "justify_items": null,
            "left": null,
            "margin": null,
            "max_height": null,
            "max_width": null,
            "min_height": null,
            "min_width": null,
            "object_fit": null,
            "object_position": null,
            "order": null,
            "overflow": null,
            "overflow_x": null,
            "overflow_y": null,
            "padding": null,
            "right": null,
            "top": null,
            "visibility": null,
            "width": "100%"
          }
        },
        "6f7f928bf0bf49ceaa48cb0a6426c025": {
          "model_module": "@jupyter-widgets/base",
          "model_name": "LayoutModel",
          "model_module_version": "1.2.0",
          "state": {
            "_model_module": "@jupyter-widgets/base",
            "_model_module_version": "1.2.0",
            "_model_name": "LayoutModel",
            "_view_count": null,
            "_view_module": "@jupyter-widgets/base",
            "_view_module_version": "1.2.0",
            "_view_name": "LayoutView",
            "align_content": null,
            "align_items": null,
            "align_self": null,
            "border": null,
            "bottom": null,
            "display": null,
            "flex": null,
            "flex_flow": null,
            "grid_area": null,
            "grid_auto_columns": null,
            "grid_auto_flow": null,
            "grid_auto_rows": null,
            "grid_column": null,
            "grid_gap": null,
            "grid_row": null,
            "grid_template_areas": null,
            "grid_template_columns": null,
            "grid_template_rows": null,
            "height": null,
            "justify_content": null,
            "justify_items": null,
            "left": null,
            "margin": null,
            "max_height": null,
            "max_width": null,
            "min_height": null,
            "min_width": null,
            "object_fit": null,
            "object_position": null,
            "order": null,
            "overflow": null,
            "overflow_x": null,
            "overflow_y": null,
            "padding": null,
            "right": null,
            "top": null,
            "visibility": null,
            "width": null
          }
        },
        "c426f1f3fb384434af6e2b26dbc7b248": {
          "model_module": "@jupyter-widgets/controls",
          "model_name": "DescriptionStyleModel",
          "model_module_version": "1.5.0",
          "state": {
            "_model_module": "@jupyter-widgets/controls",
            "_model_module_version": "1.5.0",
            "_model_name": "DescriptionStyleModel",
            "_view_count": null,
            "_view_module": "@jupyter-widgets/base",
            "_view_module_version": "1.2.0",
            "_view_name": "StyleView",
            "description_width": ""
          }
        },
        "7060a3fb88ca4f159a9c676b3fe7437b": {
          "model_module": "@jupyter-widgets/base",
          "model_name": "LayoutModel",
          "model_module_version": "1.2.0",
          "state": {
            "_model_module": "@jupyter-widgets/base",
            "_model_module_version": "1.2.0",
            "_model_name": "LayoutModel",
            "_view_count": null,
            "_view_module": "@jupyter-widgets/base",
            "_view_module_version": "1.2.0",
            "_view_name": "LayoutView",
            "align_content": null,
            "align_items": null,
            "align_self": null,
            "border": null,
            "bottom": null,
            "display": null,
            "flex": "2",
            "flex_flow": null,
            "grid_area": null,
            "grid_auto_columns": null,
            "grid_auto_flow": null,
            "grid_auto_rows": null,
            "grid_column": null,
            "grid_gap": null,
            "grid_row": null,
            "grid_template_areas": null,
            "grid_template_columns": null,
            "grid_template_rows": null,
            "height": null,
            "justify_content": null,
            "justify_items": null,
            "left": null,
            "margin": null,
            "max_height": null,
            "max_width": null,
            "min_height": null,
            "min_width": null,
            "object_fit": null,
            "object_position": null,
            "order": null,
            "overflow": null,
            "overflow_x": null,
            "overflow_y": null,
            "padding": null,
            "right": null,
            "top": null,
            "visibility": null,
            "width": null
          }
        },
        "29bbb3aaf6b44052980cbcf096b9c7ea": {
          "model_module": "@jupyter-widgets/controls",
          "model_name": "ProgressStyleModel",
          "model_module_version": "1.5.0",
          "state": {
            "_model_module": "@jupyter-widgets/controls",
            "_model_module_version": "1.5.0",
            "_model_name": "ProgressStyleModel",
            "_view_count": null,
            "_view_module": "@jupyter-widgets/base",
            "_view_module_version": "1.2.0",
            "_view_name": "StyleView",
            "bar_color": null,
            "description_width": ""
          }
        },
        "f1b3fba1a68f406b9fd76c88cee0f0fa": {
          "model_module": "@jupyter-widgets/base",
          "model_name": "LayoutModel",
          "model_module_version": "1.2.0",
          "state": {
            "_model_module": "@jupyter-widgets/base",
            "_model_module_version": "1.2.0",
            "_model_name": "LayoutModel",
            "_view_count": null,
            "_view_module": "@jupyter-widgets/base",
            "_view_module_version": "1.2.0",
            "_view_name": "LayoutView",
            "align_content": null,
            "align_items": null,
            "align_self": null,
            "border": null,
            "bottom": null,
            "display": null,
            "flex": null,
            "flex_flow": null,
            "grid_area": null,
            "grid_auto_columns": null,
            "grid_auto_flow": null,
            "grid_auto_rows": null,
            "grid_column": null,
            "grid_gap": null,
            "grid_row": null,
            "grid_template_areas": null,
            "grid_template_columns": null,
            "grid_template_rows": null,
            "height": null,
            "justify_content": null,
            "justify_items": null,
            "left": null,
            "margin": null,
            "max_height": null,
            "max_width": null,
            "min_height": null,
            "min_width": null,
            "object_fit": null,
            "object_position": null,
            "order": null,
            "overflow": null,
            "overflow_x": null,
            "overflow_y": null,
            "padding": null,
            "right": null,
            "top": null,
            "visibility": null,
            "width": null
          }
        },
        "3faf92d3e2804cffafc84cc7975a7846": {
          "model_module": "@jupyter-widgets/controls",
          "model_name": "DescriptionStyleModel",
          "model_module_version": "1.5.0",
          "state": {
            "_model_module": "@jupyter-widgets/controls",
            "_model_module_version": "1.5.0",
            "_model_name": "DescriptionStyleModel",
            "_view_count": null,
            "_view_module": "@jupyter-widgets/base",
            "_view_module_version": "1.2.0",
            "_view_name": "StyleView",
            "description_width": ""
          }
        }
      }
    }
  },
  "cells": [
    {
      "cell_type": "markdown",
      "metadata": {
        "id": "view-in-github",
        "colab_type": "text"
      },
      "source": [
        "<a href=\"https://colab.research.google.com/github/antonioalbanese/Time-Series-Anomaly-Detection-An-experimental-survey/blob/main/Experiment.ipynb\" target=\"_parent\"><img src=\"https://colab.research.google.com/assets/colab-badge.svg\" alt=\"Open In Colab\"/></a>"
      ]
    },
    {
      "cell_type": "code",
      "source": [
        "!pip install pytorch_lightning torchinfo --quiet"
      ],
      "metadata": {
        "colab": {
          "base_uri": "https://localhost:8080/"
        },
        "id": "DEh4gQRTg-i9",
        "outputId": "3ed91241-3b6c-471b-d057-fa7d5728e92a"
      },
      "execution_count": 2,
      "outputs": [
        {
          "output_type": "stream",
          "name": "stdout",
          "text": [
            "\u001b[K     |████████████████████████████████| 708 kB 13.4 MB/s \n",
            "\u001b[K     |████████████████████████████████| 529 kB 60.3 MB/s \n",
            "\u001b[?25h"
          ]
        }
      ]
    },
    {
      "cell_type": "code",
      "execution_count": 3,
      "metadata": {
        "colab": {
          "base_uri": "https://localhost:8080/"
        },
        "id": "-gxesA1FbjV5",
        "outputId": "2cc20800-7b5d-48f9-e24a-3b1c650341f5"
      },
      "outputs": [
        {
          "output_type": "stream",
          "name": "stdout",
          "text": [
            "Cloning into 'Time-Series-Anomaly-Detection-An-experimental-survey'...\n",
            "remote: Enumerating objects: 159, done.\u001b[K\n",
            "remote: Counting objects: 100% (142/142), done.\u001b[K\n",
            "remote: Compressing objects: 100% (116/116), done.\u001b[K\n",
            "remote: Total 159 (delta 31), reused 118 (delta 20), pack-reused 17\u001b[K\n",
            "Receiving objects: 100% (159/159), 2.25 MiB | 802.00 KiB/s, done.\n",
            "Resolving deltas: 100% (31/31), done.\n",
            "/content/Time-Series-Anomaly-Detection-An-experimental-survey\n",
            "Downloading...\n",
            "From: https://drive.google.com/uc?id=1ZCLBU_pKTbsPlcj_LwxZE3IRy6mrlys3\n",
            "To: /content/Time-Series-Anomaly-Detection-An-experimental-survey/dataset/MSL.zip\n",
            "100% 767k/767k [00:00<00:00, 127MB/s]\n"
          ]
        }
      ],
      "source": [
        "!git clone https://github.com/antonioalbanese/Time-Series-Anomaly-Detection-An-experimental-survey/\n",
        "\n",
        "%cd Time-Series-Anomaly-Detection-An-experimental-survey\n",
        "\n",
        "%mkdir dataset\n",
        "!gdown https://drive.google.com/uc?id=1ZCLBU_pKTbsPlcj_LwxZE3IRy6mrlys3 -O=\"./dataset/MSL.zip\"\n",
        "import zipfile\n",
        "with zipfile.ZipFile(\"./dataset/MSL.zip\", 'r') as zip_ref:\n",
        "    zip_ref.extractall(\"./dataset/\")"
      ]
    },
    {
      "cell_type": "code",
      "source": [
        "from AnomalyDetectionMethodClass import ADMethod\n",
        "data_path = './dataset/MSL'\n",
        "settings = {\n",
        "    'lr':1e-4,\n",
        "    'num_epochs':3,\n",
        "    'k':3,\n",
        "    'win_size':100,\n",
        "    'input_c':55,\n",
        "    'output_c':55,\n",
        "    'batch_size':256,\n",
        "    'pretrained_model':None,\n",
        "    'dataset':'MSL',\n",
        "    'mode':'train', # choices=['train', 'test']\n",
        "    'data_path':'./dataset/MSL',\n",
        "    'model_save_path':'checkpoints',\n",
        "    'anormly_ratio':1\n",
        "}\n",
        "method = ADMethod('transformer',settings, data_path)"
      ],
      "metadata": {
        "id": "UEinh9TJbwD6"
      },
      "execution_count": 2,
      "outputs": []
    },
    {
      "cell_type": "code",
      "source": [
        "method.prepare_pipeline()\n",
        "method.train()\n",
        "method.test()\n",
        "method.results()"
      ],
      "metadata": {
        "colab": {
          "base_uri": "https://localhost:8080/"
        },
        "id": "Sszr6Cqlbz5F",
        "outputId": "f8586ee2-ec5e-4f2d-bbcc-6b52465a32f9"
      },
      "execution_count": 3,
      "outputs": [
        {
          "output_type": "stream",
          "name": "stdout",
          "text": [
            "test: (73729, 55)\n",
            "train: (58317, 55)\n",
            "test: (73729, 55)\n",
            "train: (58317, 55)\n",
            "test: (73729, 55)\n",
            "train: (58317, 55)\n",
            "test: (73729, 55)\n",
            "train: (58317, 55)\n",
            "======================TRAIN MODE======================\n",
            "\tspeed: 0.8180s/iter; left time: 478.5215s\n",
            "\tspeed: 0.7547s/iter; left time: 366.0355s\n",
            "Epoch: 1 cost time: 178.35229921340942\n",
            "Epoch: 1, Steps: 228 | Train Loss: -41.9398839 Vali Loss: -44.9924650 \n",
            "Validation loss decreased (inf --> -44.992465).  Saving model ...\n",
            "Updating learning rate to 0.0001\n",
            "\tspeed: 1.5929s/iter; left time: 568.6633s\n",
            "\tspeed: 0.7542s/iter; left time: 193.8339s\n",
            "Epoch: 2 cost time: 171.64147114753723\n",
            "Epoch: 2, Steps: 228 | Train Loss: -47.0828519 Vali Loss: -45.9290438 \n",
            "EarlyStopping counter: 1 out of 3\n",
            "Updating learning rate to 5e-05\n",
            "\tspeed: 1.5907s/iter; left time: 205.2040s\n",
            "\tspeed: 0.7547s/iter; left time: 21.8872s\n",
            "Epoch: 3 cost time: 171.46167659759521\n",
            "Epoch: 3, Steps: 228 | Train Loss: -47.7037282 Vali Loss: -46.1303732 \n",
            "EarlyStopping counter: 2 out of 3\n",
            "Updating learning rate to 2.5e-05\n",
            "======================TEST MODE======================\n"
          ]
        },
        {
          "output_type": "stream",
          "name": "stderr",
          "text": [
            "/usr/local/lib/python3.7/dist-packages/torch/nn/_reduction.py:42: UserWarning: size_average and reduce args will be deprecated, please use reduction='none' instead.\n",
            "  warnings.warn(warning.format(ret))\n"
          ]
        },
        {
          "output_type": "stream",
          "name": "stdout",
          "text": [
            "Threshold : 0.007498042606748454\n",
            "pred:    (73700,)\n",
            "gt:      (73700,)\n",
            "pred:  (73700,)\n",
            "gt:    (73700,)\n",
            "Accuracy : 0.9857, Precision : 0.9193, Recall : 0.9473, F-score : 0.9331 \n"
          ]
        }
      ]
    },
    {
      "cell_type": "code",
      "source": [],
      "metadata": {
        "id": "a8y-8dwBgXf1"
      },
      "execution_count": null,
      "outputs": []
    },
    {
      "cell_type": "code",
      "source": [
        "import pandas as pd\n",
        "import pytorch_lightning as pl\n",
        "import torch\n",
        "from pytorch_lightning.callbacks import ModelCheckpoint\n",
        "from torchinfo import summary\n",
        "\n",
        "from DeepAnt.deepant import AnomalyDetector, DataModule, TrafficDataset, DeepAnt\n",
        "\n",
        "from DeepAnt.utils import plot_predictions, loss_plot, ts_plot\n",
        "\n",
        "pl.seed_everything(42, workers=True)\n",
        "\n",
        "\n",
        "if not torch.cuda.is_available():\n",
        "    print('Please Activate GPU Accelerator if available')\n",
        "else:\n",
        "    print('Everything is Set')"
      ],
      "metadata": {
        "colab": {
          "base_uri": "https://localhost:8080/"
        },
        "id": "84Ys_TbNgpKW",
        "outputId": "27e36345-2da9-4e7b-c0ba-b2c76646cc82"
      },
      "execution_count": 4,
      "outputs": [
        {
          "output_type": "stream",
          "name": "stderr",
          "text": [
            "INFO:pytorch_lightning.utilities.seed:Global seed set to 42\n"
          ]
        },
        {
          "output_type": "stream",
          "name": "stdout",
          "text": [
            "Everything is Set\n"
          ]
        }
      ]
    },
    {
      "cell_type": "code",
      "source": [
        "df = pd.read_csv('DeepAnt/data/TravelTime_451.csv', index_col = 'timestamp', parse_dates=['timestamp'])\n",
        "df.plot(figsize = (15, 6), title = 'Travel Time', legend = False);"
      ],
      "metadata": {
        "colab": {
          "base_uri": "https://localhost:8080/",
          "height": 399
        },
        "id": "MEJpKGCFhs1k",
        "outputId": "d8375472-6a79-4817-bc1f-0a483d6c9c40"
      },
      "execution_count": 5,
      "outputs": [
        {
          "output_type": "display_data",
          "data": {
            "text/plain": [
              "<Figure size 1080x432 with 1 Axes>"
            ],
            "image/png": "[encoded data removed]"
          },
          "metadata": {
            "needs_background": "light"
          }
        }
      ]
    },
    {
      "cell_type": "code",
      "source": [
        "SEQ_LEN = 10\n",
        "dataset = TrafficDataset(df, SEQ_LEN)\n",
        "target_idx = dataset.timestamp # Timestamps to detect where the Anomaly Happens\n",
        "X, y = dataset[0]\n",
        "X.shape, y.shape, len(dataset) # Checking Sizes are compatible...\n",
        "\n",
        "model = DeepAnt(SEQ_LEN, 1)\n",
        "sample = torch.randn(32,1,10)\n",
        "\n",
        "model(sample).shape"
      ],
      "metadata": {
        "colab": {
          "base_uri": "https://localhost:8080/"
        },
        "id": "RhUqsigFh1Pu",
        "outputId": "363fb988-ef47-44e7-96a8-bda4b0c84eee"
      },
      "execution_count": 7,
      "outputs": [
        {
          "output_type": "execute_result",
          "data": {
            "text/plain": [
              "torch.Size([32, 1])"
            ]
          },
          "metadata": {},
          "execution_count": 7
        }
      ]
    },
    {
      "cell_type": "code",
      "source": [
        "model = DeepAnt(SEQ_LEN, 1)\n",
        "anomaly_detector = AnomalyDetector(model)\n",
        "dm = DataModule(df, SEQ_LEN)\n",
        "mc = ModelCheckpoint(\n",
        "    dirpath = 'checkpoints',\n",
        "    save_last = True,\n",
        "    save_top_k = 1,\n",
        "    verbose = True,\n",
        "    monitor = 'train_loss', \n",
        "    mode = 'min'\n",
        "    )\n",
        "\n",
        "mc.CHECKPOINT_NAME_LAST = f'DeepAnt-best-checkpoint'\n",
        "summary(model)"
      ],
      "metadata": {
        "colab": {
          "base_uri": "https://localhost:8080/"
        },
        "id": "0I1g_owsh_yP",
        "outputId": "66807fce-ca39-4ba8-fa1b-665fa9c9887b"
      },
      "execution_count": 8,
      "outputs": [
        {
          "output_type": "execute_result",
          "data": {
            "text/plain": [
              "=================================================================\n",
              "Layer (type:depth-idx)                   Param #\n",
              "=================================================================\n",
              "DeepAnt                                  --\n",
              "├─Sequential: 1-1                        --\n",
              "│    └─Conv1d: 2-1                       128\n",
              "│    └─ReLU: 2-2                         --\n",
              "│    └─MaxPool1d: 2-3                    --\n",
              "├─Sequential: 1-2                        --\n",
              "│    └─Conv1d: 2-4                       3,104\n",
              "│    └─ReLU: 2-5                         --\n",
              "│    └─MaxPool1d: 2-6                    --\n",
              "├─Flatten: 1-3                           --\n",
              "├─Sequential: 1-4                        --\n",
              "│    └─Linear: 2-7                       1,320\n",
              "│    └─ReLU: 2-8                         --\n",
              "│    └─Dropout: 2-9                      --\n",
              "├─Linear: 1-5                            41\n",
              "=================================================================\n",
              "Total params: 4,593\n",
              "Trainable params: 4,593\n",
              "Non-trainable params: 0\n",
              "================================================================="
            ]
          },
          "metadata": {},
          "execution_count": 8
        }
      ]
    },
    {
      "cell_type": "code",
      "source": [
        "trainer = pl.Trainer(max_epochs=30,\n",
        "                    accelerator=\"gpu\",\n",
        "                    devices=1, \n",
        "                    callbacks=[mc], \n",
        "                    #progress_bar_refresh_rate=30, \n",
        "                    #fast_dev_run=True,\n",
        "                    #overfit_batches=1\n",
        "                    )\n",
        "trainer.fit(anomaly_detector, dm)"
      ],
      "metadata": {
        "colab": {
          "base_uri": "https://localhost:8080/",
          "height": 920,
          "referenced_widgets": [
            "52ddc8dac0c047be84c0941647398192",
            "efa46f96c902485182c99e2d6f496b02",
            "7482bb2dcd9f4b2eb3f0d8da1eca840d",
            "045593c2f7c64a6e8762a23c29b29313",
            "e18cf96e13d348fea450811baf1d3a5d",
            "42c27d73615144f0be08a9b0c83b1ab7",
            "5604c33c97f44f619831b02275c39d2c",
            "04aeebee67924a5c8b1995908494b615",
            "c09ec3b325f341c2993a6459d95d07fd",
            "db0297d1c9854776a284b183ff256351",
            "6c98170c595a49529a0617ce28584f05"
          ]
        },
        "id": "zeUGzpGyiH-a",
        "outputId": "99cd0cc9-a36c-4abf-c38a-b096fc21adc2"
      },
      "execution_count": 9,
      "outputs": [
        {
          "output_type": "stream",
          "name": "stderr",
          "text": [
            "INFO:pytorch_lightning.utilities.rank_zero:GPU available: True (cuda), used: True\n",
            "INFO:pytorch_lightning.utilities.rank_zero:TPU available: False, using: 0 TPU cores\n",
            "INFO:pytorch_lightning.utilities.rank_zero:IPU available: False, using: 0 IPUs\n",
            "INFO:pytorch_lightning.utilities.rank_zero:HPU available: False, using: 0 HPUs\n",
            "WARNING:pytorch_lightning.loggers.tensorboard:Missing logger folder: /content/Time-Series-Anomaly-Detection-An-experimental-survey/lightning_logs\n",
            "INFO:pytorch_lightning.accelerators.cuda:LOCAL_RANK: 0 - CUDA_VISIBLE_DEVICES: [0]\n",
            "INFO:pytorch_lightning.callbacks.model_summary:\n",
            "  | Name      | Type    | Params\n",
            "--------------------------------------\n",
            "0 | model     | DeepAnt | 4.6 K \n",
            "1 | criterion | L1Loss  | 0     \n",
            "--------------------------------------\n",
            "4.6 K     Trainable params\n",
            "0         Non-trainable params\n",
            "4.6 K     Total params\n",
            "0.018     Total estimated model params size (MB)\n",
            "/usr/local/lib/python3.7/dist-packages/torch/utils/data/dataloader.py:566: UserWarning: This DataLoader will create 10 worker processes in total. Our suggested max number of worker in current system is 2, which is smaller than what this DataLoader is going to create. Please be aware that excessive worker creation might get DataLoader running slow or even freeze, lower the worker number to avoid potential slowness/freeze if necessary.\n",
            "  cpuset_checked))\n"
          ]
        },
        {
          "output_type": "display_data",
          "data": {
            "text/plain": [
              "Training: 0it [00:00, ?it/s]"
            ],
            "application/vnd.jupyter.widget-view+json": {
              "version_major": 2,
              "version_minor": 0,
              "model_id": "52ddc8dac0c047be84c0941647398192"
            }
          },
          "metadata": {}
        },
        {
          "output_type": "stream",
          "name": "stderr",
          "text": [
            "INFO:pytorch_lightning.utilities.rank_zero:Epoch 0, global step 68: 'train_loss' reached 0.09627 (best 0.09627), saving model to '/content/Time-Series-Anomaly-Detection-An-experimental-survey/checkpoints/epoch=0-step=68.ckpt' as top 1\n",
            "INFO:pytorch_lightning.utilities.rank_zero:Epoch 1, global step 136: 'train_loss' reached 0.06732 (best 0.06732), saving model to '/content/Time-Series-Anomaly-Detection-An-experimental-survey/checkpoints/epoch=1-step=136.ckpt' as top 1\n",
            "INFO:pytorch_lightning.utilities.rank_zero:Epoch 2, global step 204: 'train_loss' was not in top 1\n",
            "INFO:pytorch_lightning.utilities.rank_zero:Epoch 3, global step 272: 'train_loss' reached 0.06699 (best 0.06699), saving model to '/content/Time-Series-Anomaly-Detection-An-experimental-survey/checkpoints/epoch=3-step=272.ckpt' as top 1\n",
            "INFO:pytorch_lightning.utilities.rank_zero:Epoch 4, global step 340: 'train_loss' reached 0.04623 (best 0.04623), saving model to '/content/Time-Series-Anomaly-Detection-An-experimental-survey/checkpoints/epoch=4-step=340.ckpt' as top 1\n",
            "INFO:pytorch_lightning.utilities.rank_zero:Epoch 5, global step 408: 'train_loss' was not in top 1\n",
            "INFO:pytorch_lightning.utilities.rank_zero:Epoch 6, global step 476: 'train_loss' was not in top 1\n",
            "INFO:pytorch_lightning.utilities.rank_zero:Epoch 7, global step 544: 'train_loss' was not in top 1\n",
            "INFO:pytorch_lightning.utilities.rank_zero:Epoch 8, global step 612: 'train_loss' was not in top 1\n",
            "INFO:pytorch_lightning.utilities.rank_zero:Epoch 9, global step 680: 'train_loss' was not in top 1\n",
            "INFO:pytorch_lightning.utilities.rank_zero:Epoch 10, global step 748: 'train_loss' was not in top 1\n",
            "INFO:pytorch_lightning.utilities.rank_zero:Epoch 11, global step 816: 'train_loss' was not in top 1\n",
            "INFO:pytorch_lightning.utilities.rank_zero:Epoch 12, global step 884: 'train_loss' reached 0.03990 (best 0.03990), saving model to '/content/Time-Series-Anomaly-Detection-An-experimental-survey/checkpoints/epoch=12-step=884.ckpt' as top 1\n",
            "INFO:pytorch_lightning.utilities.rank_zero:Epoch 13, global step 952: 'train_loss' reached 0.02843 (best 0.02843), saving model to '/content/Time-Series-Anomaly-Detection-An-experimental-survey/checkpoints/epoch=13-step=952.ckpt' as top 1\n",
            "INFO:pytorch_lightning.utilities.rank_zero:Epoch 14, global step 1020: 'train_loss' was not in top 1\n",
            "INFO:pytorch_lightning.utilities.rank_zero:Epoch 15, global step 1088: 'train_loss' was not in top 1\n",
            "INFO:pytorch_lightning.utilities.rank_zero:Epoch 16, global step 1156: 'train_loss' was not in top 1\n",
            "INFO:pytorch_lightning.utilities.rank_zero:Epoch 17, global step 1224: 'train_loss' was not in top 1\n",
            "INFO:pytorch_lightning.utilities.rank_zero:Epoch 18, global step 1292: 'train_loss' was not in top 1\n",
            "INFO:pytorch_lightning.utilities.rank_zero:Epoch 19, global step 1360: 'train_loss' was not in top 1\n",
            "INFO:pytorch_lightning.utilities.rank_zero:Epoch 20, global step 1428: 'train_loss' reached 0.01568 (best 0.01568), saving model to '/content/Time-Series-Anomaly-Detection-An-experimental-survey/checkpoints/epoch=20-step=1428.ckpt' as top 1\n",
            "INFO:pytorch_lightning.utilities.rank_zero:Epoch 21, global step 1496: 'train_loss' was not in top 1\n",
            "INFO:pytorch_lightning.utilities.rank_zero:Epoch 22, global step 1564: 'train_loss' was not in top 1\n",
            "INFO:pytorch_lightning.utilities.rank_zero:Epoch 23, global step 1632: 'train_loss' was not in top 1\n",
            "INFO:pytorch_lightning.utilities.rank_zero:Epoch 24, global step 1700: 'train_loss' was not in top 1\n",
            "INFO:pytorch_lightning.utilities.rank_zero:Epoch 25, global step 1768: 'train_loss' was not in top 1\n",
            "INFO:pytorch_lightning.utilities.rank_zero:Epoch 26, global step 1836: 'train_loss' was not in top 1\n",
            "INFO:pytorch_lightning.utilities.rank_zero:Epoch 27, global step 1904: 'train_loss' was not in top 1\n",
            "INFO:pytorch_lightning.utilities.rank_zero:Epoch 28, global step 1972: 'train_loss' was not in top 1\n",
            "INFO:pytorch_lightning.utilities.rank_zero:Epoch 29, global step 2040: 'train_loss' was not in top 1\n",
            "INFO:pytorch_lightning.utilities.rank_zero:`Trainer.fit` stopped: `max_epochs=30` reached.\n"
          ]
        }
      ]
    },
    {
      "cell_type": "code",
      "source": [
        "anomaly_detector = AnomalyDetector.load_from_checkpoint('checkpoints/DeepAnt-best-checkpoint.ckpt',\n",
        "                                model = model)"
      ],
      "metadata": {
        "id": "YJknauYBibJ0"
      },
      "execution_count": 10,
      "outputs": []
    },
    {
      "cell_type": "code",
      "source": [
        "output = trainer.predict(anomaly_detector, dm)\n",
        "preds_losses = pd.Series(torch.tensor([item[1] for item in output]).numpy(), index = target_idx)\n"
      ],
      "metadata": {
        "colab": {
          "base_uri": "https://localhost:8080/",
          "height": 121,
          "referenced_widgets": [
            "e7ca3c4128c94cf8b8d2cb8156912058",
            "569c09c17cba401591268f8820d57a2d",
            "c2ef116dc1224e788ee0dc9a7fc3fee6",
            "0dd875e163cb40a798ebfda23c1895aa",
            "8cd7e7c4d6b14df99894c6ff2c8fbaac",
            "6f7f928bf0bf49ceaa48cb0a6426c025",
            "c426f1f3fb384434af6e2b26dbc7b248",
            "7060a3fb88ca4f159a9c676b3fe7437b",
            "29bbb3aaf6b44052980cbcf096b9c7ea",
            "f1b3fba1a68f406b9fd76c88cee0f0fa",
            "3faf92d3e2804cffafc84cc7975a7846"
          ]
        },
        "id": "JbQ4DNZxidgc",
        "outputId": "159b4815-4377-4c65-9cd1-4ebdd78f4baf"
      },
      "execution_count": 12,
      "outputs": [
        {
          "output_type": "stream",
          "name": "stderr",
          "text": [
            "INFO:pytorch_lightning.accelerators.cuda:LOCAL_RANK: 0 - CUDA_VISIBLE_DEVICES: [0]\n",
            "/usr/local/lib/python3.7/dist-packages/torch/utils/data/dataloader.py:566: UserWarning: This DataLoader will create 10 worker processes in total. Our suggested max number of worker in current system is 2, which is smaller than what this DataLoader is going to create. Please be aware that excessive worker creation might get DataLoader running slow or even freeze, lower the worker number to avoid potential slowness/freeze if necessary.\n",
            "  cpuset_checked))\n"
          ]
        },
        {
          "output_type": "display_data",
          "data": {
            "text/plain": [
              "Predicting: 68it [00:00, ?it/s]"
            ],
            "application/vnd.jupyter.widget-view+json": {
              "version_major": 2,
              "version_minor": 0,
              "model_id": "e7ca3c4128c94cf8b8d2cb8156912058"
            }
          },
          "metadata": {}
        }
      ]
    },
    {
      "cell_type": "code",
      "source": [
        "THRESHOLD = 0.5    \n",
        "plot_predictions(preds_losses, THRESHOLD)"
      ],
      "metadata": {
        "colab": {
          "base_uri": "https://localhost:8080/",
          "height": 601
        },
        "id": "Cd7nXMyejHmI",
        "outputId": "3524456d-1879-4d64-dce7-ff8eae4a24dc"
      },
      "execution_count": 13,
      "outputs": [
        {
          "output_type": "display_data",
          "data": {
            "text/plain": [
              "<Figure size 1152x576 with 1 Axes>"
            ],
            "image/png": "[encoded data removed]"
          },
          "metadata": {
            "needs_background": "light"
          }
        }
      ]
    },
    {
      "cell_type": "code",
      "source": [
        "loss_plot(preds_losses, THRESHOLD)"
      ],
      "metadata": {
        "colab": {
          "base_uri": "https://localhost:8080/",
          "height": 483
        },
        "id": "OltaH1w3jLnm",
        "outputId": "f31d1ece-1d8f-4238-edee-1e80076227d0"
      },
      "execution_count": 14,
      "outputs": [
        {
          "output_type": "display_data",
          "data": {
            "text/plain": [
              "<Figure size 1080x576 with 1 Axes>"
            ],
            "image/png": "[encoded data removed]"
          },
          "metadata": {
            "needs_background": "light"
          }
        }
      ]
    },
    {
      "cell_type": "code",
      "source": [
        "print('Anomalies Detected: ')\n",
        "preds_losses.loc[lambda x: x > THRESHOLD]\n",
        "\n",
        "ts_plot(df, preds_losses, THRESHOLD)"
      ],
      "metadata": {
        "colab": {
          "base_uri": "https://localhost:8080/",
          "height": 516
        },
        "id": "HXimxNMvjOTY",
        "outputId": "d419e60f-c87a-49b5-f4cb-7749e51fcdeb"
      },
      "execution_count": 15,
      "outputs": [
        {
          "output_type": "stream",
          "name": "stdout",
          "text": [
            "Anomalies Detected: \n"
          ]
        },
        {
          "output_type": "display_data",
          "data": {
            "text/plain": [
              "<Figure size 1440x576 with 1 Axes>"
            ],
            "image/png": "[encoded data removed]"
          },
          "metadata": {
            "needs_background": "light"
          }
        }
      ]
    }
  ]
}