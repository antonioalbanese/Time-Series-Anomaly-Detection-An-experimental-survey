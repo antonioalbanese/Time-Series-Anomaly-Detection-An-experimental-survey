{
  "nbformat": 4,
  "nbformat_minor": 0,
  "metadata": {
    "colab": {
      "provenance": [],
      "include_colab_link": true
    },
    "kernelspec": {
      "name": "python3",
      "display_name": "Python 3"
    },
    "language_info": {
      "name": "python"
    },
    "accelerator": "GPU",
    "gpuClass": "standard"
  },
  "cells": [
    {
      "cell_type": "markdown",
      "metadata": {
        "id": "view-in-github",
        "colab_type": "text"
      },
      "source": [
        "<a href=\"https://colab.research.google.com/github/antonioalbanese/Time-Series-Anomaly-Detection-An-experimental-survey/blob/main/Experiment.ipynb\" target=\"_parent\"><img src=\"https://colab.research.google.com/assets/colab-badge.svg\" alt=\"Open In Colab\"/></a>"
      ]
    },
    {
      "cell_type": "code",
      "source": [
        "!pip install torchinfo --quiet\n",
        "\n",
        "!pip install wandb --quiet\n",
        "\n",
        "import os\n",
        "os.environ[\"WANDB_API_KEY\"] = \"571001027d1947e02fe01237fe2d0bf5bbf8071b\"\n",
        "os.environ[\"WANDB_NOTEBOOK_NAME\"] = \"Experiments\""
      ],
      "metadata": {
        "colab": {
          "base_uri": "https://localhost:8080/"
        },
        "id": "HfBsDcWthQQi",
        "outputId": "03063ad7-a085-498e-de3e-43790d5e11ce"
      },
      "execution_count": 1,
      "outputs": [
        {
          "output_type": "stream",
          "name": "stdout",
          "text": [
            "\u001b[K     |████████████████████████████████| 1.9 MB 8.2 MB/s \n",
            "\u001b[K     |████████████████████████████████| 168 kB 15.0 MB/s \n",
            "\u001b[K     |████████████████████████████████| 182 kB 14.8 MB/s \n",
            "\u001b[K     |████████████████████████████████| 62 kB 441 kB/s \n",
            "\u001b[K     |████████████████████████████████| 168 kB 45.0 MB/s \n",
            "\u001b[K     |████████████████████████████████| 166 kB 7.1 MB/s \n",
            "\u001b[K     |████████████████████████████████| 166 kB 11.3 MB/s \n",
            "\u001b[K     |████████████████████████████████| 162 kB 43.4 MB/s \n",
            "\u001b[K     |████████████████████████████████| 162 kB 31.4 MB/s \n",
            "\u001b[K     |████████████████████████████████| 158 kB 15.1 MB/s \n",
            "\u001b[K     |████████████████████████████████| 157 kB 25.0 MB/s \n",
            "\u001b[K     |████████████████████████████████| 157 kB 61.0 MB/s \n",
            "\u001b[K     |████████████████████████████████| 157 kB 57.1 MB/s \n",
            "\u001b[K     |████████████████████████████████| 157 kB 32.0 MB/s \n",
            "\u001b[K     |████████████████████████████████| 157 kB 31.5 MB/s \n",
            "\u001b[K     |████████████████████████████████| 157 kB 62.5 MB/s \n",
            "\u001b[K     |████████████████████████████████| 157 kB 49.6 MB/s \n",
            "\u001b[K     |████████████████████████████████| 156 kB 62.5 MB/s \n",
            "\u001b[?25h  Building wheel for pathtools (setup.py) ... \u001b[?25l\u001b[?25hdone\n"
          ]
        }
      ]
    },
    {
      "cell_type": "code",
      "source": [
        "import zipfile\n",
        "import numpy as np\n",
        "\n",
        "\n",
        "!pip install torchinfo --quiet\n",
        "\n",
        "!git clone https://github.com/antonioalbanese/Time-Series-Anomaly-Detection-An-experimental-survey/\n",
        "\n",
        "%cd Time-Series-Anomaly-Detection-An-experimental-survey\n",
        "\n",
        "%mkdir data\n",
        "\n",
        "# %mkdir ./data/SMD\n",
        "# !python USAD/gdrivedl.py https://drive.google.com/file/d/18JNYBsaX7tu0Qfgo92nCBCklv471L1xB data/SMD\n",
        "# with zipfile.ZipFile(\"./data/SMD/SMD.zip\", 'r') as zip_ref:\n",
        "#     zip_ref.extractall(\"./data/\")\n",
        "\n",
        "# %mkdir ./data/MSL\n",
        "# !python USAD/gdrivedl.py https://drive.google.com/uc?id=1ZCLBU_pKTbsPlcj_LwxZE3IRy6mrlys3 data/MSL\n",
        "# with zipfile.ZipFile(\"./data/MSL/MSL.zip\", 'r') as zip_ref:\n",
        "#     zip_ref.extractall(\"./data/\")\n",
        "\n",
        "!mkdir data/SWAT\n",
        "#normal period\n",
        "!python USAD/gdrivedl.py https://drive.google.com/open?id=1rVJ5ry5GG-ZZi5yI4x9lICB8VhErXwCw data/SWAT\n",
        "#anomalies\n",
        "!python USAD/gdrivedl.py https://drive.google.com/open?id=1iDYc0OEmidN712fquOBRFjln90SbpaE7 data/SWAT"
      ],
      "metadata": {
        "colab": {
          "base_uri": "https://localhost:8080/"
        },
        "id": "O2QQtDc21dg8",
        "outputId": "eb51372e-a1df-4b49-bedf-5a6422c02b87"
      },
      "execution_count": 2,
      "outputs": [
        {
          "output_type": "stream",
          "name": "stdout",
          "text": [
            "Cloning into 'Time-Series-Anomaly-Detection-An-experimental-survey'...\n",
            "remote: Enumerating objects: 1099, done.\u001b[K\n",
            "remote: Counting objects: 100% (582/582), done.\u001b[K\n",
            "remote: Compressing objects: 100% (216/216), done.\u001b[K\n",
            "remote: Total 1099 (delta 396), reused 533 (delta 366), pack-reused 517\u001b[K\n",
            "Receiving objects: 100% (1099/1099), 3.04 MiB | 16.12 MiB/s, done.\n",
            "Resolving deltas: 100% (669/669), done.\n",
            "/content/Time-Series-Anomaly-Detection-An-experimental-survey\n",
            "data/SWAT/SWaT_Dataset_Normal_v1.csv\n",
            "[==================================================] 163.77MB/163.77MB\n",
            "data/SWAT/SWaT_Dataset_Attack_v0.csv\n",
            "[==================================================] 127.27MB/127.27MB\n"
          ]
        }
      ]
    },
    {
      "cell_type": "code",
      "source": [
        "### NEW USAD \n",
        "from AnomalyDetectionMethodClass import ADMethod\n",
        "\n",
        "configuration = {\n",
        "    'DATASET': 'SWAT', #SWAT, MSL, SMD, NAB\n",
        "    'DATAPATH': None, #\"realKnownCause/machine_temperature_system_failure.csv\", #Only needed with NAB\n",
        "    'SEQ_LEN': 100,\n",
        "    'STEP': 100,\n",
        "    'HIDDEN_SIZE': 100, #Needed for USAD method\n",
        "    'LR': 0.001,\n",
        "    'EPOCHS': 1, \n",
        "    'VERBOSE': True,\n",
        "    'LOGGER': True\n",
        "}\n",
        "method = ADMethod(name = 'USAD', config = configuration)\n",
        "train_history = method.train()\n",
        "_, score = method.test()\n",
        "for th in np.linspace(0,1,10,endpoint=False):\n",
        "  rep = method.results(threshold = th, plot = False)\n",
        "\n",
        "method.close_run()"
      ],
      "metadata": {
        "colab": {
          "base_uri": "https://localhost:8080/",
          "height": 1000
        },
        "id": "yAzTRgG-5Ao1",
        "outputId": "34e05638-52db-4ffa-ff0d-ecb5e94676e7"
      },
      "execution_count": 3,
      "outputs": [
        {
          "output_type": "stream",
          "name": "stderr",
          "text": [
            "\u001b[34m\u001b[1mwandb\u001b[0m: \u001b[33mWARNING\u001b[0m WANDB_NOTEBOOK_NAME should be a path to a notebook file, couldn't find Experiments.\n"
          ]
        },
        {
          "output_type": "stream",
          "name": "stdout",
          "text": [
            "=====================================================================\n",
            "Initializing...\n"
          ]
        },
        {
          "output_type": "stream",
          "name": "stderr",
          "text": [
            "\u001b[34m\u001b[1mwandb\u001b[0m: Currently logged in as: \u001b[33mmichiamoantonio\u001b[0m. Use \u001b[1m`wandb login --relogin`\u001b[0m to force relogin\n"
          ]
        },
        {
          "output_type": "display_data",
          "data": {
            "text/plain": [
              "<IPython.core.display.HTML object>"
            ],
            "text/html": [
              "Tracking run with wandb version 0.13.5"
            ]
          },
          "metadata": {}
        },
        {
          "output_type": "display_data",
          "data": {
            "text/plain": [
              "<IPython.core.display.HTML object>"
            ],
            "text/html": [
              "Run data is saved locally in <code>/content/Time-Series-Anomaly-Detection-An-experimental-survey/wandb/run-20221127_125840-TRAINING___USAD_SWAT-seqlen_100-step_100-lr_0.001</code>"
            ]
          },
          "metadata": {}
        },
        {
          "output_type": "display_data",
          "data": {
            "text/plain": [
              "<IPython.core.display.HTML object>"
            ],
            "text/html": [
              "Syncing run <strong><a href=\"https://wandb.ai/michiamoantonio/experimental-survey-AD/runs/TRAINING___USAD_SWAT-seqlen_100-step_100-lr_0.001\" target=\"_blank\">TRAINING___USAD_SWAT-seqlen_100-step_100-lr_0.001</a></strong> to <a href=\"https://wandb.ai/michiamoantonio/experimental-survey-AD\" target=\"_blank\">Weights & Biases</a> (<a href=\"https://wandb.me/run\" target=\"_blank\">docs</a>)<br/>"
            ]
          },
          "metadata": {}
        },
        {
          "output_type": "stream",
          "name": "stderr",
          "text": [
            "/content/Time-Series-Anomaly-Detection-An-experimental-survey/datafactory.py:25: DtypeWarning: Columns (26) have mixed types.Specify dtype option on import or set low_memory=False.\n",
            "  self.load_data()\n",
            "/content/Time-Series-Anomaly-Detection-An-experimental-survey/datafactory.py:25: DtypeWarning: Columns (1,9,28,46) have mixed types.Specify dtype option on import or set low_memory=False.\n",
            "  self.load_data()\n",
            "/usr/local/lib/python3.7/dist-packages/torch/utils/data/dataloader.py:566: UserWarning: This DataLoader will create 4 worker processes in total. Our suggested max number of worker in current system is 2, which is smaller than what this DataLoader is going to create. Please be aware that excessive worker creation might get DataLoader running slow or even freeze, lower the worker number to avoid potential slowness/freeze if necessary.\n",
            "  cpuset_checked))\n"
          ]
        },
        {
          "output_type": "stream",
          "name": "stdout",
          "text": [
            "Data preprocessing and method configuration finished in 31.546733856201172 sec.\n",
            "Model summary: \n",
            "=================================================================\n",
            "Layer (type:depth-idx)                   Param #\n",
            "=================================================================\n",
            "UsadModel                                --\n",
            "├─UsadEncoder: 1-1                       --\n",
            "│    └─Linear: 2-1                       13,007,550\n",
            "│    └─Linear: 2-2                       3,252,525\n",
            "│    └─Linear: 2-3                       12,760,000\n",
            "│    └─ReLU: 2-4                         --\n",
            "├─UsadDecoder: 1-2                       --\n",
            "│    └─Linear: 2-5                       12,751,275\n",
            "│    └─Linear: 2-6                       3,253,800\n",
            "│    └─Linear: 2-7                       13,010,100\n",
            "│    └─ReLU: 2-8                         --\n",
            "│    └─Sigmoid: 2-9                      --\n",
            "├─UsadDecoder: 1-3                       --\n",
            "│    └─Linear: 2-10                      12,751,275\n",
            "│    └─Linear: 2-11                      3,253,800\n",
            "│    └─Linear: 2-12                      13,010,100\n",
            "│    └─ReLU: 2-13                        --\n",
            "│    └─Sigmoid: 2-14                     --\n",
            "=================================================================\n",
            "Total params: 87,050,425\n",
            "Trainable params: 87,050,425\n",
            "Non-trainable params: 0\n",
            "=================================================================\n",
            "=====================================================================\n",
            "Training...\n",
            "Epoch 1/1: train_loss_1:0.0569293100386858. train_loss_2:0.0846344580873847\n",
            "Training finished in 10.044110298156738 sec., avg time per epoch: 10.044110298156738 sec.\n",
            "=====================================================================\n",
            "=====================================================================\n",
            "Testing...\n",
            "Test finished in 16.390140056610107 sec.\n",
            "=====================================================================\n",
            "=====================================================================\n",
            "Computing results... \n"
          ]
        },
        {
          "output_type": "stream",
          "name": "stderr",
          "text": [
            "/usr/local/lib/python3.7/dist-packages/ipykernel_launcher.py:19: DtypeWarning: Columns (1,9,28,46) have mixed types.Specify dtype option on import or set low_memory=False.\n"
          ]
        },
        {
          "output_type": "stream",
          "name": "stdout",
          "text": [
            "              precision    recall  f1-score   support\n",
            "\n",
            "       False       1.00      0.00      0.00      3917\n",
            "        True       0.13      1.00      0.23       582\n",
            "\n",
            "    accuracy                           0.13      4499\n",
            "   macro avg       0.56      0.50      0.11      4499\n",
            "weighted avg       0.89      0.13      0.03      4499\n",
            "\n",
            "=====================================================================\n",
            "Computing results... \n"
          ]
        },
        {
          "output_type": "stream",
          "name": "stderr",
          "text": [
            "/usr/local/lib/python3.7/dist-packages/ipykernel_launcher.py:19: DtypeWarning:\n",
            "\n",
            "Columns (1,9,28,46) have mixed types.Specify dtype option on import or set low_memory=False.\n",
            "\n"
          ]
        },
        {
          "output_type": "stream",
          "name": "stdout",
          "text": [
            "              precision    recall  f1-score   support\n",
            "\n",
            "       False       0.98      0.59      0.74      3917\n",
            "        True       0.25      0.93      0.40       582\n",
            "\n",
            "    accuracy                           0.63      4499\n",
            "   macro avg       0.62      0.76      0.57      4499\n",
            "weighted avg       0.89      0.63      0.69      4499\n",
            "\n",
            "=====================================================================\n",
            "Computing results... \n"
          ]
        },
        {
          "output_type": "stream",
          "name": "stderr",
          "text": [
            "/usr/local/lib/python3.7/dist-packages/ipykernel_launcher.py:19: DtypeWarning:\n",
            "\n",
            "Columns (1,9,28,46) have mixed types.Specify dtype option on import or set low_memory=False.\n",
            "\n"
          ]
        },
        {
          "output_type": "stream",
          "name": "stdout",
          "text": [
            "              precision    recall  f1-score   support\n",
            "\n",
            "       False       0.98      0.77      0.86      3917\n",
            "        True       0.36      0.89      0.51       582\n",
            "\n",
            "    accuracy                           0.78      4499\n",
            "   macro avg       0.67      0.83      0.69      4499\n",
            "weighted avg       0.90      0.78      0.82      4499\n",
            "\n",
            "=====================================================================\n",
            "Computing results... \n"
          ]
        },
        {
          "output_type": "stream",
          "name": "stderr",
          "text": [
            "/usr/local/lib/python3.7/dist-packages/ipykernel_launcher.py:19: DtypeWarning:\n",
            "\n",
            "Columns (1,9,28,46) have mixed types.Specify dtype option on import or set low_memory=False.\n",
            "\n"
          ]
        },
        {
          "output_type": "stream",
          "name": "stdout",
          "text": [
            "              precision    recall  f1-score   support\n",
            "\n",
            "       False       0.97      0.91      0.94      3917\n",
            "        True       0.57      0.80      0.66       582\n",
            "\n",
            "    accuracy                           0.90      4499\n",
            "   macro avg       0.77      0.85      0.80      4499\n",
            "weighted avg       0.92      0.90      0.90      4499\n",
            "\n",
            "=====================================================================\n",
            "Computing results... \n"
          ]
        },
        {
          "output_type": "stream",
          "name": "stderr",
          "text": [
            "/usr/local/lib/python3.7/dist-packages/ipykernel_launcher.py:19: DtypeWarning:\n",
            "\n",
            "Columns (1,9,28,46) have mixed types.Specify dtype option on import or set low_memory=False.\n",
            "\n"
          ]
        },
        {
          "output_type": "stream",
          "name": "stdout",
          "text": [
            "              precision    recall  f1-score   support\n",
            "\n",
            "       False       0.95      1.00      0.97      3917\n",
            "        True       1.00      0.65      0.79       582\n",
            "\n",
            "    accuracy                           0.96      4499\n",
            "   macro avg       0.97      0.83      0.88      4499\n",
            "weighted avg       0.96      0.96      0.95      4499\n",
            "\n",
            "=====================================================================\n",
            "Computing results... \n"
          ]
        },
        {
          "output_type": "stream",
          "name": "stderr",
          "text": [
            "/usr/local/lib/python3.7/dist-packages/ipykernel_launcher.py:19: DtypeWarning:\n",
            "\n",
            "Columns (1,9,28,46) have mixed types.Specify dtype option on import or set low_memory=False.\n",
            "\n"
          ]
        },
        {
          "output_type": "stream",
          "name": "stdout",
          "text": [
            "              precision    recall  f1-score   support\n",
            "\n",
            "       False       0.95      1.00      0.97      3917\n",
            "        True       1.00      0.63      0.78       582\n",
            "\n",
            "    accuracy                           0.95      4499\n",
            "   macro avg       0.97      0.82      0.87      4499\n",
            "weighted avg       0.96      0.95      0.95      4499\n",
            "\n",
            "=====================================================================\n",
            "Computing results... \n"
          ]
        },
        {
          "output_type": "stream",
          "name": "stderr",
          "text": [
            "/usr/local/lib/python3.7/dist-packages/ipykernel_launcher.py:19: DtypeWarning:\n",
            "\n",
            "Columns (1,9,28,46) have mixed types.Specify dtype option on import or set low_memory=False.\n",
            "\n"
          ]
        },
        {
          "output_type": "stream",
          "name": "stdout",
          "text": [
            "              precision    recall  f1-score   support\n",
            "\n",
            "       False       0.95      1.00      0.97      3917\n",
            "        True       1.00      0.62      0.76       582\n",
            "\n",
            "    accuracy                           0.95      4499\n",
            "   macro avg       0.97      0.81      0.87      4499\n",
            "weighted avg       0.95      0.95      0.95      4499\n",
            "\n",
            "=====================================================================\n",
            "Computing results... \n"
          ]
        },
        {
          "output_type": "stream",
          "name": "stderr",
          "text": [
            "/usr/local/lib/python3.7/dist-packages/ipykernel_launcher.py:19: DtypeWarning:\n",
            "\n",
            "Columns (1,9,28,46) have mixed types.Specify dtype option on import or set low_memory=False.\n",
            "\n"
          ]
        },
        {
          "output_type": "stream",
          "name": "stdout",
          "text": [
            "              precision    recall  f1-score   support\n",
            "\n",
            "       False       0.95      1.00      0.97      3917\n",
            "        True       1.00      0.62      0.76       582\n",
            "\n",
            "    accuracy                           0.95      4499\n",
            "   macro avg       0.97      0.81      0.87      4499\n",
            "weighted avg       0.95      0.95      0.95      4499\n",
            "\n",
            "=====================================================================\n",
            "Computing results... \n"
          ]
        },
        {
          "output_type": "stream",
          "name": "stderr",
          "text": [
            "/usr/local/lib/python3.7/dist-packages/ipykernel_launcher.py:19: DtypeWarning:\n",
            "\n",
            "Columns (1,9,28,46) have mixed types.Specify dtype option on import or set low_memory=False.\n",
            "\n"
          ]
        },
        {
          "output_type": "stream",
          "name": "stdout",
          "text": [
            "              precision    recall  f1-score   support\n",
            "\n",
            "       False       0.95      1.00      0.97      3917\n",
            "        True       1.00      0.62      0.76       582\n",
            "\n",
            "    accuracy                           0.95      4499\n",
            "   macro avg       0.97      0.81      0.87      4499\n",
            "weighted avg       0.95      0.95      0.95      4499\n",
            "\n",
            "=====================================================================\n",
            "Computing results... \n"
          ]
        },
        {
          "output_type": "stream",
          "name": "stderr",
          "text": [
            "/usr/local/lib/python3.7/dist-packages/ipykernel_launcher.py:19: DtypeWarning:\n",
            "\n",
            "Columns (1,9,28,46) have mixed types.Specify dtype option on import or set low_memory=False.\n",
            "\n"
          ]
        },
        {
          "output_type": "stream",
          "name": "stdout",
          "text": [
            "              precision    recall  f1-score   support\n",
            "\n",
            "       False       0.95      1.00      0.97      3917\n",
            "        True       1.00      0.62      0.76       582\n",
            "\n",
            "    accuracy                           0.95      4499\n",
            "   macro avg       0.97      0.81      0.87      4499\n",
            "weighted avg       0.95      0.95      0.95      4499\n",
            "\n"
          ]
        }
      ]
    },
    {
      "cell_type": "code",
      "source": [],
      "metadata": {
        "colab": {
          "base_uri": "https://localhost:8080/",
          "height": 510
        },
        "id": "lmf6aZsQqq7Q",
        "outputId": "5914bf10-3859-4191-e596-6ceecb7358be"
      },
      "execution_count": 4,
      "outputs": [
        {
          "output_type": "stream",
          "name": "stdout",
          "text": [
            "Run closed.\n",
            "Best accuracy is 0.9551011335852412 with threshold 0.4\n",
            "Best Avg f1-score is 0.8826566449436368 with threshold 0.4\n",
            "Best True f1-score is 0.7904564315352697 with threshold 0.4\n"
          ]
        },
        {
          "output_type": "display_data",
          "data": {
            "text/plain": [
              "<IPython.core.display.HTML object>"
            ],
            "text/html": [
              "Waiting for W&B process to finish... <strong style=\"color:green\">(success).</strong>"
            ]
          },
          "metadata": {}
        },
        {
          "output_type": "display_data",
          "data": {
            "text/plain": [
              "<IPython.core.display.HTML object>"
            ],
            "text/html": [
              "<style>\n",
              "    table.wandb td:nth-child(1) { padding: 0 10px; text-align: left ; width: auto;} td:nth-child(2) {text-align: left ; width: 100%}\n",
              "    .wandb-row { display: flex; flex-direction: row; flex-wrap: wrap; justify-content: flex-start; width: 100% }\n",
              "    .wandb-col { display: flex; flex-direction: column; flex-basis: 100%; flex: 1; padding: 10px; }\n",
              "    </style>\n",
              "<div class=\"wandb-row\"><div class=\"wandb-col\"><h3>Run history:</h3><br/><table class=\"wandb\"><tr><td>F1_Avg</td><td>▁▅▆▇██████</td></tr><tr><td>F1_True</td><td>▁▃▅▆██████</td></tr><tr><td>Precision_Avg</td><td>▁▂▃▄██████</td></tr><tr><td>Precision_True</td><td>▁▂▃▅██████</td></tr><tr><td>Recall_Avg</td><td>▁▆▇█▇▇▇▇▇▇</td></tr><tr><td>Recall_True</td><td>█▇▆▄▂▁▁▁▁▁</td></tr><tr><td>accuracy</td><td>▁▅▇▇██████</td></tr><tr><td>epoch</td><td>▁</td></tr><tr><td>loss1</td><td>▁</td></tr><tr><td>loss2</td><td>▁</td></tr><tr><td>loss_sum</td><td>▁</td></tr><tr><td>threshold</td><td>▁▂▃▃▄▅▆▆▇█</td></tr></table><br/></div><div class=\"wandb-col\"><h3>Run summary:</h3><br/><table class=\"wandb\"><tr><td>F1_Avg</td><td>0.86839</td></tr><tr><td>F1_True</td><td>0.76433</td></tr><tr><td>Precision_Avg</td><td>0.97318</td></tr><tr><td>Precision_True</td><td>1.0</td></tr><tr><td>Recall_Avg</td><td>0.80928</td></tr><tr><td>Recall_True</td><td>0.61856</td></tr><tr><td>accuracy</td><td>0.95066</td></tr><tr><td>epoch</td><td>0</td></tr><tr><td>loss1</td><td>0.05693</td></tr><tr><td>loss2</td><td>0.08463</td></tr><tr><td>loss_sum</td><td>0.14156</td></tr><tr><td>threshold</td><td>0.9</td></tr></table><br/></div></div>"
            ]
          },
          "metadata": {}
        },
        {
          "output_type": "display_data",
          "data": {
            "text/plain": [
              "<IPython.core.display.HTML object>"
            ],
            "text/html": [
              "Synced <strong style=\"color:#cdcd00\">TRAINING___USAD_SWAT-seqlen_100-step_100-lr_0.001</strong>: <a href=\"https://wandb.ai/michiamoantonio/experimental-survey-AD/runs/TRAINING___USAD_SWAT-seqlen_100-step_100-lr_0.001\" target=\"_blank\">https://wandb.ai/michiamoantonio/experimental-survey-AD/runs/TRAINING___USAD_SWAT-seqlen_100-step_100-lr_0.001</a><br/>Synced 5 W&B file(s), 10 media file(s), 20 artifact file(s) and 0 other file(s)"
            ]
          },
          "metadata": {}
        },
        {
          "output_type": "display_data",
          "data": {
            "text/plain": [
              "<IPython.core.display.HTML object>"
            ],
            "text/html": [
              "Find logs at: <code>./wandb/run-20221127_125840-TRAINING___USAD_SWAT-seqlen_100-step_100-lr_0.001/logs</code>"
            ]
          },
          "metadata": {}
        }
      ]
    },
    {
      "cell_type": "code",
      "source": [
        "import pandas as pd\n",
        "import numpy as np\n",
        "from sklearn.preprocessing import MinMaxScaler\n",
        "import sklearn\n",
        "from sklearn.metrics import classification_report\n",
        "import plotly.express as px\n",
        "import plotly.graph_objects as go\n",
        "settings = configuration\n",
        "def results(threshold: float, plot: bool, scores):\n",
        "    print(\"=====================================================================\")\n",
        "    print(\"Computing results... \") \n",
        "\t\t\n",
        "\t\t\n",
        "    window_size = settings['SEQ_LEN']\n",
        "    step = settings['STEP']\n",
        "    \n",
        "    attack = pd.read_csv(\"./data/SWAT/SWaT_Dataset_Attack_v0.csv\", sep=\";\")\n",
        "    ground_truth = attack.values[:,-1]\n",
        "    ground_truth = np.array([False if el == \"Normal\" else True for el in ground_truth])\n",
        "    limit = int(len(ground_truth)*0.6)\n",
        "    ground_windows = ground_truth[np.arange(window_size)[None, :] + np.arange(0,limit-window_size, step)[:, None]]\n",
        "    ground = np.array([True if el.sum() > 0 else False for el in ground_windows])\n",
        "    \n",
        "    scaler = MinMaxScaler()\n",
        "    s = scaler.fit_transform(np.array(scores).reshape(-1, 1))\n",
        "    anomalies = np.array([True if el > threshold else False for el in s])\n",
        "\n",
        "    gt = ground\n",
        "    pred = anomalies.copy()\n",
        "    anomaly_state = False\n",
        "    for i in range(len(gt)):\n",
        "      if gt[i] == 1 and pred[i] == 1 and not anomaly_state:\n",
        "        anomaly_state = True\n",
        "        for j in range(i, 0, -1):\n",
        "          if gt[j] == 0:\n",
        "            break\n",
        "          else:\n",
        "            if pred[j] == 0:\n",
        "                pred[j] = 1\n",
        "        for j in range(i, len(gt)):\n",
        "            if gt[j] == 0:\n",
        "                break\n",
        "            else:\n",
        "                if pred[j] == 0:\n",
        "                    pred[j] = 1\n",
        "      elif gt[i] == 0:\n",
        "        anomaly_state = False\n",
        "      if anomaly_state:\n",
        "        pred[i] = 1\n",
        "\n",
        "\n",
        "\n",
        "    report = classification_report(ground, anomalies) #, output_dict=True)\n",
        "    rep2 = classification_report(ground, pred)\n",
        "    print(report)\n",
        "    print(rep2)\n",
        "    # print(classification_report(ground, anomalies, output_dict=False))\n",
        "    \n",
        "    # s_scaled = s.reshape(-1)\n",
        "    # tp = np.logical_and(np.array(s_scaled) >= threshold,  ground == True)\n",
        "    # fn = np.logical_and(np.array(s_scaled) < threshold,  ground == True)\n",
        "    # fp = np.logical_and(np.array(s_scaled) >= threshold,  ground == False)\n",
        "    \n",
        "    # fig = go.Figure()\n",
        "    # fig.add_hline(y=threshold, line_color=\"#aaaaaa\", name=\"threshold\", line_dash=\"dash\")\n",
        "    # fig.add_trace(go.Scatter(x=np.arange(len(s)), y=s_scaled, mode='lines', name='Anomaly score', line_color=\"#515ad6\"))\n",
        "    # fig.add_trace(go.Scatter(x=np.arange(len(s))[tp], y=ground[tp]*s_scaled[tp], mode='markers', name='True positives', line_color=\"green\"))\n",
        "    # fig.add_trace(go.Scatter(x=np.arange(len(s))[fn], y=ground[fn]*threshold, mode='markers', name='False negatives', line_color=\"red\"))\n",
        "    # fig.add_trace(go.Scatter(x=np.arange(len(s))[fp], y=s_scaled[fp], mode='markers', name='False positives', line_color=\"#000000\", marker=dict(size=10, symbol=34, line=dict(width=2))))\n",
        "    # fig.update_layout(plot_bgcolor=\"white\")\n",
        "    # fig.update_xaxes(showgrid=False, gridwidth=1, gridcolor='LightGrey', showline=True, linewidth=2, linecolor='DarkGrey')\n",
        "    # fig.update_yaxes(showgrid=True, gridwidth=1, gridcolor='LightGrey', showline=True, linewidth=2, linecolor='DarkGrey')\n",
        "    # fig.show()\n",
        "    \n",
        "    \n"
      ],
      "metadata": {
        "id": "H9Wh5DSakA9K"
      },
      "execution_count": null,
      "outputs": []
    },
    {
      "cell_type": "code",
      "source": [
        "### NEW DEEPANT \n",
        "from AnomalyDetectionMethodClass import ADMethod\n",
        "\n",
        "configuration = {\n",
        "    'DATASET': 'MSL', #SWAT, MSL, SMD, NAB\n",
        "    'DATAPATH': None, #\"realKnownCause/machine_temperature_system_failure.csv\", #Only needed with NAB\n",
        "    'SEQ_LEN': 100,\n",
        "    'STEP': 100,\n",
        "    'HIDDEN_SIZE': None, #Needed for USAD method\n",
        "    'LR': 0.00001,\n",
        "    'EPOCHS': 80, #50 for SWAT\n",
        "    'VERBOSE': True,\n",
        "    'CENTILE': 1\n",
        "}\n",
        "method = ADMethod(name = 'DEEPANT', config = configuration)\n",
        "train_losses = method.train()\n",
        "predictions, score = method.test()\n",
        "rep = method.results(0.6, True)"
      ],
      "metadata": {
        "id": "w93QZYTNMKEc",
        "outputId": "a32107a3-924a-4e52-db0b-1ca94dd51eda",
        "colab": {
          "base_uri": "https://localhost:8080/",
          "height": 1000
        }
      },
      "execution_count": null,
      "outputs": [
        {
          "output_type": "stream",
          "name": "stdout",
          "text": [
            "=====================================================================\n",
            "Initializing...\n",
            "Data preprocessing and method configuration finished in 0.14605140686035156 sec.\n",
            "Model summary: \n",
            "=================================================================\n",
            "Layer (type:depth-idx)                   Param #\n",
            "=================================================================\n",
            "DeepAnt                                  --\n",
            "├─Sequential: 1-1                        --\n",
            "│    └─Conv1d: 2-1                       5,312\n",
            "│    └─ReLU: 2-2                         --\n",
            "│    └─MaxPool1d: 2-3                    --\n",
            "├─Sequential: 1-2                        --\n",
            "│    └─Conv1d: 2-4                       3,104\n",
            "│    └─ReLU: 2-5                         --\n",
            "│    └─MaxPool1d: 2-6                    --\n",
            "├─Flatten: 1-3                           --\n",
            "├─Sequential: 1-4                        --\n",
            "│    └─Linear: 2-7                       29,480\n",
            "│    └─ReLU: 2-8                         --\n",
            "│    └─Dropout: 2-9                      --\n",
            "├─Linear: 1-5                            2,255\n",
            "=================================================================\n",
            "Total params: 40,151\n",
            "Trainable params: 40,151\n",
            "Non-trainable params: 0\n",
            "=================================================================\n",
            "=====================================================================\n",
            "Training...\n"
          ]
        },
        {
          "output_type": "stream",
          "name": "stderr",
          "text": [
            "/usr/local/lib/python3.7/dist-packages/torch/utils/data/dataloader.py:566: UserWarning: This DataLoader will create 4 worker processes in total. Our suggested max number of worker in current system is 2, which is smaller than what this DataLoader is going to create. Please be aware that excessive worker creation might get DataLoader running slow or even freeze, lower the worker number to avoid potential slowness/freeze if necessary.\n",
            "  cpuset_checked))\n"
          ]
        },
        {
          "output_type": "stream",
          "name": "stdout",
          "text": [
            "Epoch 1/80: train_loss:0.08260278403759003\n",
            "Epoch 2/80: train_loss:0.08262385179599126\n",
            "Epoch 3/80: train_loss:0.08269261568784714\n",
            "Epoch 4/80: train_loss:0.08261758585770924\n",
            "Epoch 5/80: train_loss:0.08258768916130066\n",
            "Epoch 6/80: train_loss:0.08249961584806442\n",
            "Epoch 7/80: train_loss:0.08240966002146403\n",
            "Epoch 8/80: train_loss:0.0823507085442543\n",
            "Epoch 9/80: train_loss:0.08223804086446762\n",
            "Epoch 10/80: train_loss:0.08208281298478444\n",
            "Epoch 11/80: train_loss:0.08203437676032384\n",
            "Epoch 12/80: train_loss:0.08182398478190105\n",
            "Epoch 13/80: train_loss:0.08171512186527252\n",
            "Epoch 14/80: train_loss:0.08147646735111873\n",
            "Epoch 15/80: train_loss:0.08118778963883717\n",
            "Epoch 16/80: train_loss:0.08102376013994217\n",
            "Epoch 17/80: train_loss:0.08073212206363678\n",
            "Epoch 18/80: train_loss:0.08045539756615956\n",
            "Epoch 19/80: train_loss:0.08018702765305837\n",
            "Epoch 20/80: train_loss:0.079881156484286\n",
            "Epoch 21/80: train_loss:0.07961425930261612\n",
            "Epoch 22/80: train_loss:0.07918140292167664\n",
            "Epoch 23/80: train_loss:0.07885564118623734\n",
            "Epoch 24/80: train_loss:0.07845429579416911\n",
            "Epoch 25/80: train_loss:0.0780395120382309\n",
            "Epoch 26/80: train_loss:0.0776789312561353\n",
            "Epoch 27/80: train_loss:0.07722051193316777\n",
            "Epoch 28/80: train_loss:0.07667241990566254\n",
            "Epoch 29/80: train_loss:0.07631162305672963\n",
            "Epoch 30/80: train_loss:0.07573265582323074\n",
            "Epoch 31/80: train_loss:0.07529233147700627\n",
            "Epoch 32/80: train_loss:0.07481303066015244\n",
            "Epoch 33/80: train_loss:0.07421754548947017\n",
            "Epoch 34/80: train_loss:0.07376453280448914\n",
            "Epoch 35/80: train_loss:0.07310568541288376\n",
            "Epoch 36/80: train_loss:0.0726093699534734\n",
            "Epoch 37/80: train_loss:0.0720205157995224\n",
            "Epoch 38/80: train_loss:0.07141233732302983\n",
            "Epoch 39/80: train_loss:0.07086191574732463\n",
            "Epoch 40/80: train_loss:0.07017061362663905\n",
            "Epoch 41/80: train_loss:0.06963161875804265\n",
            "Epoch 42/80: train_loss:0.06901148209969203\n",
            "Epoch 43/80: train_loss:0.06845578302939732\n",
            "Epoch 44/80: train_loss:0.06780125697453816\n",
            "Epoch 45/80: train_loss:0.06726207335789998\n",
            "Epoch 46/80: train_loss:0.06652148564656575\n",
            "Epoch 47/80: train_loss:0.06590550641218822\n",
            "Epoch 48/80: train_loss:0.06527338922023773\n",
            "Epoch 49/80: train_loss:0.06462014466524124\n",
            "Epoch 50/80: train_loss:0.06407701224088669\n",
            "Epoch 51/80: train_loss:0.06339296698570251\n",
            "Epoch 52/80: train_loss:0.06277702127893765\n",
            "Epoch 53/80: train_loss:0.062190512816111244\n",
            "Epoch 54/80: train_loss:0.06157503525416056\n",
            "Epoch 55/80: train_loss:0.060992742578188576\n",
            "Epoch 56/80: train_loss:0.060302420208851494\n",
            "Epoch 57/80: train_loss:0.059788890182971954\n",
            "Epoch 58/80: train_loss:0.05914143224557241\n",
            "Epoch 59/80: train_loss:0.05858792861302694\n",
            "Epoch 60/80: train_loss:0.05792230119307836\n",
            "Epoch 61/80: train_loss:0.05742105469107628\n",
            "Epoch 62/80: train_loss:0.056769222021102905\n",
            "Epoch 63/80: train_loss:0.05632690712809563\n",
            "Epoch 64/80: train_loss:0.05575792243083318\n",
            "Epoch 65/80: train_loss:0.055138714611530304\n",
            "Epoch 66/80: train_loss:0.05452916646997134\n",
            "Epoch 67/80: train_loss:0.05401238054037094\n",
            "Epoch 68/80: train_loss:0.05341612050930659\n",
            "Epoch 69/80: train_loss:0.05292994777361552\n",
            "Epoch 70/80: train_loss:0.052408188581466675\n",
            "Epoch 71/80: train_loss:0.05177919318278631\n",
            "Epoch 72/80: train_loss:0.051294601211945214\n",
            "Epoch 73/80: train_loss:0.050738513469696045\n",
            "Epoch 74/80: train_loss:0.05029888451099396\n",
            "Epoch 75/80: train_loss:0.04975117494662603\n",
            "Epoch 76/80: train_loss:0.049271283050378166\n",
            "Epoch 77/80: train_loss:0.048834548642237983\n",
            "Epoch 78/80: train_loss:0.048304290821154915\n",
            "Epoch 79/80: train_loss:0.04791293665766716\n",
            "Epoch 80/80: train_loss:0.047406021505594254\n",
            "Training finished in 36.65543580055237 sec., avg time per epoch: 0.4581929475069046 sec.\n",
            "=====================================================================\n",
            "=====================================================================\n",
            "Testing...\n",
            "Test finished in 1.9700627326965332 sec.\n",
            "=====================================================================\n",
            "=====================================================================\n",
            "Computing results... \n",
            "              precision    recall  f1-score   support\n",
            "\n",
            "       False       0.93      0.80      0.86       622\n",
            "        True       0.38      0.66      0.49       115\n",
            "\n",
            "    accuracy                           0.78       737\n",
            "   macro avg       0.66      0.73      0.67       737\n",
            "weighted avg       0.84      0.78      0.80       737\n",
            "\n"
          ]
        },
        {
          "output_type": "display_data",
          "data": {
            "text/html": [
              "<html>\n",
              "<head><meta charset=\"utf-8\" /></head>\n",
              "<body>\n",
              "    <div>            <script src=\"https://cdnjs.cloudflare.com/ajax/libs/mathjax/2.7.5/MathJax.js?config=TeX-AMS-MML_SVG\"></script><script type=\"text/javascript\">if (window.MathJax) {MathJax.Hub.Config({SVG: {font: \"STIX-Web\"}});}</script>                <script type=\"text/javascript\">window.PlotlyConfig = {MathJaxConfig: 'local'};</script>\n",
              "        <script src=\"https://cdn.plot.ly/plotly-2.8.3.min.js\"></script>                <div id=\"5ef63ad5-e1f8-4599-8adb-e3464493981d\" class=\"plotly-graph-div\" style=\"height:525px; width:100%;\"></div>            <script type=\"text/javascript\">                                    window.PLOTLYENV=window.PLOTLYENV || {};                                    if (document.getElementById(\"5ef63ad5-e1f8-4599-8adb-e3464493981d\")) {                    Plotly.newPlot(                        \"5ef63ad5-e1f8-4599-8adb-e3464493981d\",                        [{\"line\":{\"color\":\"#515ad6\"},\"mode\":\"lines\",\"name\":\"Anomaly score\",\"x\":[0,1,2,3,4,5,6,7,8,9,10,11,12,13,14,15,16,17,18,19,20,21,22,23,24,25,26,27,28,29,30,31,32,33,34,35,36,37,38,39,40,41,42,43,44,45,46,47,48,49,50,51,52,53,54,55,56,57,58,59,60,61,62,63,64,65,66,67,68,69,70,71,72,73,74,75,76,77,78,79,80,81,82,83,84,85,86,87,88,89,90,91,92,93,94,95,96,97,98,99,100,101,102,103,104,105,106,107,108,109,110,111,112,113,114,115,116,117,118,119,120,121,122,123,124,125,126,127,128,129,130,131,132,133,134,135,136,137,138,139,140,141,142,143,144,145,146,147,148,149,150,151,152,153,154,155,156,157,158,159,160,161,162,163,164,165,166,167,168,169,170,171,172,173,174,175,176,177,178,179,180,181,182,183,184,185,186,187,188,189,190,191,192,193,194,195,196,197,198,199,200,201,202,203,204,205,206,207,208,209,210,211,212,213,214,215,216,217,218,219,220,221,222,223,224,225,226,227,228,229,230,231,232,233,234,235,236,237,238,239,240,241,242,243,244,245,246,247,248,249,250,251,252,253,254,255,256,257,258,259,260,261,262,263,264,265,266,267,268,269,270,271,272,273,274,275,276,277,278,279,280,281,282,283,284,285,286,287,288,289,290,291,292,293,294,295,296,297,298,299,300,301,302,303,304,305,306,307,308,309,310,311,312,313,314,315,316,317,318,319,320,321,322,323,324,325,326,327,328,329,330,331,332,333,334,335,336,337,338,339,340,341,342,343,344,345,346,347,348,349,350,351,352,353,354,355,356,357,358,359,360,361,362,363,364,365,366,367,368,369,370,371,372,373,374,375,376,377,378,379,380,381,382,383,384,385,386,387,388,389,390,391,392,393,394,395,396,397,398,399,400,401,402,403,404,405,406,407,408,409,410,411,412,413,414,415,416,417,418,419,420,421,422,423,424,425,426,427,428,429,430,431,432,433,434,435,436,437,438,439,440,441,442,443,444,445,446,447,448,449,450,451,452,453,454,455,456,457,458,459,460,461,462,463,464,465,466,467,468,469,470,471,472,473,474,475,476,477,478,479,480,481,482,483,484,485,486,487,488,489,490,491,492,493,494,495,496,497,498,499,500,501,502,503,504,505,506,507,508,509,510,511,512,513,514,515,516,517,518,519,520,521,522,523,524,525,526,527,528,529,530,531,532,533,534,535,536,537,538,539,540,541,542,543,544,545,546,547,548,549,550,551,552,553,554,555,556,557,558,559,560,561,562,563,564,565,566,567,568,569,570,571,572,573,574,575,576,577,578,579,580,581,582,583,584,585,586,587,588,589,590,591,592,593,594,595,596,597,598,599,600,601,602,603,604,605,606,607,608,609,610,611,612,613,614,615,616,617,618,619,620,621,622,623,624,625,626,627,628,629,630,631,632,633,634,635,636,637,638,639,640,641,642,643,644,645,646,647,648,649,650,651,652,653,654,655,656,657,658,659,660,661,662,663,664,665,666,667,668,669,670,671,672,673,674,675,676,677,678,679,680,681,682,683,684,685,686,687,688,689,690,691,692,693,694,695,696,697,698,699,700,701,702,703,704,705,706,707,708,709,710,711,712,713,714,715,716,717,718,719,720,721,722,723,724,725,726,727,728,729,730,731,732,733,734,735,736],\"y\":[0.014495648998100075,0.016386343067550935,0.00759931325609986,0.005352932081161443,0.8668556200832045,0.006981853452071196,0.009646745667228784,0.005385838055403713,0.015330023471415377,0.006998798137658024,0.011216020231954615,0.006091614468461848,0.007366248183363289,0.009811729413946868,0.870760462359953,0.009434596690763464,0.013577837077453248,0.014827318524686772,0.0044140527724077505,0.9586352992295313,0.007701094838497513,0.008985562522712709,0.0010717135404074707,0.016676104755677323,0.8838481138900731,0.010433576681207868,0.010176645321405886,0.010769822785821337,0.0066876286547947195,0.013214207150596846,0.006084617221065514,0.005615612530716019,0.0061127196795275895,0.004414317533120049,0.8386687407768716,0.8364524666772168,0.012949295146467144,0.006156329551138318,0.937321305430681,0.9928898888943019,0.006224335231238998,0.838281131094073,0.9483790744026015,0.8118598275091524,0.90445754161055,0.006458459346824763,0.005198765700688501,0.01189793035794745,0.8049086484767485,0.8059758610850469,0.007411181858535509,0.015443000649647154,0.9089046138260768,0.003521582234223386,0.9014512215454098,0.9028316082533934,0.853025428223976,0.8591212788638347,0.02152758004775379,0.9550589115278629,0.017216519192428392,0.008948269085238159,0.006347411139496828,0.014010229143588349,0.003783770985312296,0.008682298038259317,0.004239764577800509,0.002395176695247747,0.004703020178397299,0.009708624027987778,0.011671408657100424,0.014341369148750449,0.01102588421756856,0.021758300097038608,0.012804206276129992,0.007795500943909794,0.016076762148961365,0.01253834869802789,0.009427864204079373,0.014306118151056424,0.008355280735617254,0.944118696312201,0.01670708175901575,0.8689743109488994,0.01873408977233909,0.014805002978936277,0.0096454975095851,0.8646637039690808,0.015028498843071336,0.01333474892060843,0.9378033212188919,0.9505814296533814,0.007560053024762536,0.9486377834414716,0.9483647016782197,0.9463573616035241,0.011957993216679286,0.9428906604826632,0.009864227680898896,0.014208232333425441,0.9159284885854848,0.012076946422417134,0.011575413987414351,0.9435106544249383,0.015373444228231614,0.9424287665085869,0.0159682102569208,0.0128980450371588,0.011647769307788436,0.9569076977588535,0.011614106874368202,0.8861504730441825,0.9600854314737246,0.006838390968966712,0.006915738919915482,0.011204635521325945,0.010236254304630987,0.006407700935982086,0.012967298874903166,0.8714946816381033,0.0026160249522598766,0.006742623237034062,0.00880749203221548,0.00680136229220446,0.009270823278730134,0.006731919339665604,0.003454143898506179,0.013045516753906583,0.006026634625073135,0.007036583273598296,0.012955498111726638,0.8721718638942337,0.015424959098252256,0.007260495190281269,0.0054832699975279064,0.0074361450114089345,0.009425027482161952,0.006154514049111159,0.005096530242784059,0.008338184758194811,0.0031874163923493737,0.007077432069209355,0.00852798036595076,0.0071050428292057655,0.9377555129988433,0.010411639365046355,0.008037832641576648,0.012222375699384336,0.005281068459253024,0.006911237987806518,0.008082236795324271,0.009301346406561717,0.003943799924414626,0.002035631647952396,0.008577452796190876,0.006176716125984971,0.007855866386312804,0.012220862781028408,0.961196972589853,0.00929533255609677,0.006738235773801782,0.007374266650649941,0.008006477408649237,0.012309179390057878,0.007133447871339016,0.007356187276296111,0.007815925341715324,0.005397033651237837,0.005943613230289468,0.009869182488514705,0.007630365905356096,0.003762098429863081,0.005629266618878637,0.006022322807758607,0.008796031675669058,0.005470183253748817,0.9602542731622505,0.008047666610890403,0.008881700677575655,0.00803106233193368,0.010183415631048853,0.9636554649182978,0.02119893635787906,0.9383738427309265,0.011270069240221503,0.008256335875137077,0.005903331779061882,0.011802238271932552,0.00531321797431733,0.006177245647409568,0.005349111962312636,0.9419177026879415,0.007006022322807781,0.8364385478283418,0.0068268171435436065,0.004407622869394945,0.005518861401852038,0.005389658174252521,0.0029652065088168755,0.007111207971506328,0.004591782856274873,0.8815303229687332,0.005839637916275731,0.005039379751887452,0.8614958042235235,0.007733093061726204,0.008080686054009412,0.8781333673840825,0.008053869576149897,0.006656840766250782,0.007930112854631854,0.005952463802671892,0.005438714551944723,0.005353764186257215,0.937692575595235,0.010084281655774185,0.006036544240304698,0.007918349914414202,0.013851032309581846,0.008028528193687434,0.006885934428302987,0.009443901138652622,0.011279298042192909,0.010417237162963389,0.008277630200997255,0.9399406209803651,0.007705974000195515,0.005533120657357005,0.010026601643452981,0.0063482432445926,0.0053642033229133745,0.005540836540972427,0.007174183198073392,0.006556534279250237,0.0059833273371335816,0.004429144133008545,0.9614308697676854,0.008961960996359652,0.013958676450608831,0.010032085972493332,0.005519731329906685,0.004869062967964577,0.0034388634231109494,0.008485164776476928,0.006707901760764634,0.004568067861045133,0.006672650763070664,0.007392081264291417,0.004566403650853534,0.0025362185089826683,0.007907835131840235,0.8621070232393337,0.008285610845324975,0.011200248058093665,0.8790892292013819,0.9404421534153677,0.01064965924539868,0.8674199386299799,0.009131937373652421,0.006654306628004536,0.006252097283070968,0.01783991720100425,0.018829101045093777,0.9357165529305078,0.008230124564619912,0.011969302281390148,0.8818295782195433,0.0007113363880163481,0.013774327348934357,0.8786060030784864,0.9425053201773987,0.004718451945628144,0.011872248568854882,0.01246830057814663,0.9401239866851081,0.009642093443284205,0.01377273878466062,0.9394997565714365,0.9436259388036627,0.012448178764012274,0.9425711321258834,0.010542279865083992,0.960132180650924,0.937109042985339,0.005024023630574415,0.004628622418242689,0.019442438146602403,0.0091543663882796,0.0054496453870665484,0.011960716469720023,0.9608886398289072,0.0049609727580895435,0.008249338627740688,0.013557034450058736,0.012601096986841587,0.8831548946993695,0.013210122271035685,0.014767785187379479,0.943226074482181,0.9575753486293415,0.008813014184214762,0.01815214572671675,0.0065182574448443,0.010599316887103916,0.8749285524306396,0.009372756152963346,0.011999787586262856,0.01095742466196109,0.008820503130076818,0.015073432518243557,0.8669129596888956,0.00833599102657867,0.011829092572750943,0.8802115120378375,0.006385877088697256,0.8667067489169775,0.0033719924317772154,0.9417257133485695,0.008597952839914214,0.01231235651860546,0.9521807356474732,0.00632407437385607,0.0,0.00988480337054004,0.008812144256160115,0.9389048770738706,0.8792252405615832,0.8789238672250748,0.013848309056541108,0.8800481168553931,0.01322759647804711,0.8785967742765148,0.007385764830155239,0.012683361922447234,0.000532395969464472,0.011602759986698463,0.9464755205271249,0.009034543254487104,0.009885786767471427,0.9459220949925127,0.009867518278323162,0.003502557285897101,0.00724430696387246,0.01181350951368454,0.0066737476288787345,0.010955079638509335,0.9473604264735296,0.9501770265768317,0.9408927005017744,0.878133518675918,0.9567577675497774,0.010915895053089819,0.8773554247654447,0.010037267717862508,0.009685098147552529,0.012027738752889316,0.008196764714870908,0.011225022096172599,0.010743989704893209,0.011011889722775892,0.012673830536804653,0.008754350774962172,0.9438003782901057,0.007271993369786622,0.00864867342779796,0.9358156490828236,0.0038697803938489983,0.8735038372148263,0.0026415554495168303,0.013929893178886599,0.009243212518733723,0.8799706554355677,0.9501555431361768,0.006065857033451527,0.9460718739097533,0.01331602655595332,0.9432676797369701,0.006109353436185572,0.011950542093776162,0.94389781023223,0.012221467948370757,0.8782241424854405,0.8805088004947847,0.014854324117340778,0.0066644810039484526,0.8791771297578634,0.011225892024227302,0.012501698250854565,0.019045977891421484,0.9507269723992253,0.45032665420223666,0.44639102403694425,0.008575486002328103,0.0063038390908450315,0.9449663844670488,0.0059970192482550755,0.900844692576503,0.8872134494810842,0.9452638242158318,0.017637564370893755,0.009633318516819589,0.009343481182775393,0.9561993493845902,0.006101977959200255,0.01341429060317334,0.008398361085803385,0.007142487558515931,0.9468014031410001,0.009661383152322733,0.007612286531002266,0.007131178493805068,0.0038401271940720627,0.9416818387162464,0.013756550558251757,0.010239998777561987,0.007809192855031288,0.008868197881248652,0.009424573606655162,0.009524388395190042,0.009976599691788268,0.007468407995349924,0.012087045152443188,0.009964912397488479,0.008269800848505149,0.010158944176641094,0.008689181816778968,0.009548519442967696,0.009882117940458235,0.007556195082954853,0.009769178585185334,0.010189732065185031,0.009656655282460347,0.010368861598531398,0.009704993023933461,0.010317611489223055,0.015226804616579603,0.0102390153806306,0.010268706403366468,0.009121687351790753,0.009417009014875355,0.004190632554190499,0.010358233347080747,0.008646857925770801,0.011559377052841102,0.009727989382944169,0.007418443866644142,0.007759644778873365,0.010174451589789746,0.007881850759076547,0.008488984895325735,0.008487245039216385,0.008013928531552361,0.0074751404820339595,0.007545302070791904,0.009511301651410897,0.007114195985259364,0.010611193296198251,0.012859087389492652,0.007491820406908489,0.00611336266982887,0.01605323626852606,0.006699315949094564,0.005537092068041427,0.009512852392725812,0.007881737290199864,0.005826097296989852,0.007406945687138788,0.008217642988183227,0.00983018701788968,0.005471998755775975,0.0060979309025980255,0.004637548636542865,0.0037934914857493673,0.005912825341745587,0.006695949705752546,0.007489324091621119,0.010578589905627211,0.007424419894150214,0.006443178871429478,0.007938509551507489,0.01198700342615494,0.008664180840946611,0.007394085881113066,0.010577568685736893,0.008123009945017523,0.007568752305309345,0.006202587029871975,0.011204635521325945,0.008482517169353998,0.008253726090973024,0.008907458112585975,0.01177281200990904,0.00874648359951119,0.009946038740997754,0.01104441746742918,0.007114612037807222,0.0075991619642643005,0.008096117821240256,0.007915021494031116,0.015818242224885648,0.009573142189211015,0.007856395907737401,0.007895088794691252,0.007965174737531389,0.012783819701283339,0.008681503756122422,0.007423587789054442,0.007902539917594376,0.0071485392319397545,0.9371364268075819,0.011118701758707106,0.007293514633400222,0.008872282760809758,0.007178230254675622,0.009868615144131232,0.010452261222904047,0.010137725496698669,0.010978492050067956,0.011468904535154367,0.010189732065185031,0.010262806021778148,0.007381831242429748,0.8730927772975103,0.010368521191901292,0.008529833690936794,0.011116508027090966,0.008905377849846519,0.007475367419787382,0.008126300542441789,0.008480512552532349,0.0073457103166810755,0.9603379375473355,0.011969642688020199,0.009047554352348441,0.010860068365754705,0.006777193421467931,0.00968748099396316,0.8762839759857495,0.011994681486811432,0.008938132532253174,0.009009996154161537,0.010217721054770368,0.009502678016781896,0.009042070023308035,0.009183149660001888,0.008169191777833429,0.009901067242866657,0.009774133392801143,0.009844824502983629,0.009908745303523203,0.010054288049367144,0.010631239464414799,0.009890779398046112,0.015446026486359066,0.009831813405122347,0.008154213886109318,0.011615392854970763,0.004573173960496502,0.01004388673566986,0.006484368073670643,0.008414398020376634,0.0038213670064580763,0.005774922833599261,0.004175389901754145,0.010838282341428751,0.005709829521333809,0.006551049950209886,0.006498665152134542,0.007558502283447677,0.004081778078478704,0.009400329090000825,0.010602040140144653,0.009383535696249556,0.007656047694448609,0.00773797222342415,0.00815315484326018,0.010849818343893036,0.01430536169187846,0.007786347787856196,0.0077338116979452365,0.007675677810117243,0.9387136441936765,0.003059688260146909,0.010472647797750645,0.009545001907790063,0.004517460742038071,0.004589891708329907,0.005652452092683835,0.006873225914112879,0.010123957939659367,0.00476527676874533,0.006217035400171489,0.006217791859349453,0.004628471126407074,0.004624310600928161,0.001030599984084113,0.00583010653063315,0.004617199884655143,0.004621209118298442,0.9848668828526137,0.8541154858994497,0.8561768371594534,0.9569108748874011,0.015584723276642287,0.9952209934971743,0.8411434213317253,0.9541339132450253,0.9580249879647345,0.850576013405667,0.017956525383290345,0.9440032606416409,0.9455326698076869,0.9899147349472945,0.9415426502274975,0.9442081097870385,0.9487244736632685,0.876831803722445,0.8767160654682133,0.0076424692522037985,0.003743186950413535,0.0065826699438495395,0.005354634114311918,0.008121572672579347,0.00856447952128847,0.007631387125246358,0.009959201130694706,0.007746179805505293,0.007962148900819421,0.008689673515244634,0.008892139814231814,0.005940322632865258,0.007269723992252675,0.006142410702263457,0.00453349767661132,0.005307128477934575,0.009057728728292302,0.006482590394602417,0.004109577953269605,0.009915364321330555,0.006075766648683145,0.008362542743725887,0.0055219250615228255,0.006655138733100363,0.008311027873705246,0.007313371686822279,0.005452633400819584,0.0044816802229194486,0.005335268759355527,0.9905973637095065,0.8712226589177006,0.0060067397486922025,0.009390154714056909,0.004937446877654239,0.0057903167778712294,0.0073648109109251125,0.006720232045365759,0.007056932025486018,0.007140180358023052,0.008799019689422094,0.0075607338380227485,0.007254330047980706,0.008981931518658393,0.009716718141192238,0.00780752864483969,0.0067075991770934595,0.00809017961669306,0.0020752322859198258,0.010959542747659479,0.005491931455115839,0.006881887371700757,0.012123657776657581,0.0035047131945543653,0.012024183394752808,0.007059730924444563,0.015861625158742954,0.004321046116474769,0.007382814639361135,0.004949323286748575,0.9487538242793743,0.00399852974594167,0.8324143362933076,0.009099901327464854,0.007398359875468663,0.011718195657258679,0.010569588041409173,0.009763467318391561,0.005254251981393565,0.0021553034899093326,0.9449447497345584,0.01034083478598713,0.0029288586453147802,0.004397259378656537,0.006523552659090215,0.0050235319321086935,0.9433474105343296,0.009936507355355173,1.0,0.9571269196286329,0.009423211980134794,0.002980108754623123,0.005232503780026543,0.01318655856764156,0.006721366734132761,0.008271691996450115,0.860912725489134,0.00261129708239749,0.002306897909177097,0.011031595484362333,0.0072497534699539345,0.009162082271895022,0.013030198455552422,0.013187239380901716,0.9429408893720814,0.9468594992058692,0.01140082320913588,0.013753222137868615,0.8759700454268866,0.011144610485552986,0.961606519588813,0.875873067360269,0.9439752716520555,0.9392421065754155,0.00837778539616224,0.9489267508474613,0.950561307839247,0.9512197299077634,0.010992221784148326,0.9078868736480183,0.9041321128721818,0.007425176353328178,0.01208522965041603,0.8061711031988843,0.8011300592368054,0.008993278406328131,0.01507959766054412,0.007721973111809832,0.8689605433918601],\"type\":\"scatter\"},{\"line\":{\"color\":\"green\"},\"mode\":\"markers\",\"name\":\"True positives\",\"x\":[38,59,87,90,97,100,103,183,214,257,274,277,278,280,282,283,295,298,299,304,320,362,402,608,649,678,719,720,724,736],\"y\":[0.937321305430681,0.9550589115278629,0.8646637039690808,0.9378033212188919,0.9428906604826632,0.9159284885854848,0.9435106544249383,0.9383738427309265,0.937692575595235,0.8674199386299799,0.9401239866851081,0.9394997565714365,0.9436259388036627,0.9425711321258834,0.960132180650924,0.937109042985339,0.8831548946993695,0.943226074482181,0.9575753486293415,0.8749285524306396,0.9521807356474732,0.9438003782901057,0.9561993493845902,0.850576013405667,0.8712226589177006,0.9487538242793743,0.875873067360269,0.9439752716520555,0.950561307839247,0.8689605433918601],\"type\":\"scatter\"},{\"line\":{\"color\":\"red\"},\"mode\":\"markers\",\"name\":\"False negatives\",\"x\":[5,6,7,21,22,25,26,61,62,63,84,85,86,88,89,96,98,99,101,102,139,140,182,184,198,199,200,213,219,220,256,258,259,260,261,272,273,275,276,279,281,284,296,297,300,301,302,303,305,306,307,319,321,322,341,342,343,361,363,364,390,391,392,401,459,460,461,487,488,492,493,556,557,585,609,624,625,650,661,662,679,700,701,734,735],\"y\":[0.6,0.6,0.6,0.6,0.6,0.6,0.6,0.6,0.6,0.6,0.6,0.6,0.6,0.6,0.6,0.6,0.6,0.6,0.6,0.6,0.6,0.6,0.6,0.6,0.6,0.6,0.6,0.6,0.6,0.6,0.6,0.6,0.6,0.6,0.6,0.6,0.6,0.6,0.6,0.6,0.6,0.6,0.6,0.6,0.6,0.6,0.6,0.6,0.6,0.6,0.6,0.6,0.6,0.6,0.6,0.6,0.6,0.6,0.6,0.6,0.6,0.6,0.6,0.6,0.6,0.6,0.6,0.6,0.6,0.6,0.6,0.6,0.6,0.6,0.6,0.6,0.6,0.6,0.6,0.6,0.6,0.6,0.6,0.6,0.6],\"type\":\"scatter\"},{\"line\":{\"color\":\"#000000\"},\"marker\":{\"line\":{\"width\":2},\"size\":10,\"symbol\":34},\"mode\":\"markers\",\"name\":\"False positives\",\"x\":[4,14,19,24,34,35,39,41,42,43,44,48,49,52,54,55,56,57,81,83,91,93,94,95,105,109,111,112,119,131,144,158,176,181,191,193,201,204,207,225,236,251,254,255,263,266,269,270,290,310,313,315,317,325,326,327,329,331,336,339,346,347,348,349,350,352,365,367,371,372,374,376,379,381,382,385,389,394,396,397,398,407,412,509,522,531,537,581,599,600,601,602,604,605,606,607,610,611,612,613,614,615,616,617,648,680,688,694,696,697,704,712,713,716,718,721,723,725,727,728,731,732],\"y\":[0.8668556200832045,0.870760462359953,0.9586352992295313,0.8838481138900731,0.8386687407768716,0.8364524666772168,0.9928898888943019,0.838281131094073,0.9483790744026015,0.8118598275091524,0.90445754161055,0.8049086484767485,0.8059758610850469,0.9089046138260768,0.9014512215454098,0.9028316082533934,0.853025428223976,0.8591212788638347,0.944118696312201,0.8689743109488994,0.9505814296533814,0.9486377834414716,0.9483647016782197,0.9463573616035241,0.9424287665085869,0.9569076977588535,0.8861504730441825,0.9600854314737246,0.8714946816381033,0.8721718638942337,0.9377555129988433,0.961196972589853,0.9602542731622505,0.9636554649182978,0.9419177026879415,0.8364385478283418,0.8815303229687332,0.8614958042235235,0.8781333673840825,0.9399406209803651,0.9614308697676854,0.8621070232393337,0.8790892292013819,0.9404421534153677,0.9357165529305078,0.8818295782195433,0.8786060030784864,0.9425053201773987,0.9608886398289072,0.8669129596888956,0.8802115120378375,0.8667067489169775,0.9417257133485695,0.9389048770738706,0.8792252405615832,0.8789238672250748,0.8800481168553931,0.8785967742765148,0.9464755205271249,0.9459220949925127,0.9473604264735296,0.9501770265768317,0.9408927005017744,0.878133518675918,0.9567577675497774,0.8773554247654447,0.9358156490828236,0.8735038372148263,0.8799706554355677,0.9501555431361768,0.9460718739097533,0.9432676797369701,0.94389781023223,0.8782241424854405,0.8805088004947847,0.8791771297578634,0.9507269723992253,0.9449663844670488,0.900844692576503,0.8872134494810842,0.9452638242158318,0.9468014031410001,0.9416818387162464,0.9371364268075819,0.8730927772975103,0.9603379375473355,0.8762839759857495,0.9387136441936765,0.9848668828526137,0.8541154858994497,0.8561768371594534,0.9569108748874011,0.9952209934971743,0.8411434213317253,0.9541339132450253,0.9580249879647345,0.9440032606416409,0.9455326698076869,0.9899147349472945,0.9415426502274975,0.9442081097870385,0.9487244736632685,0.876831803722445,0.8767160654682133,0.9905973637095065,0.8324143362933076,0.9449447497345584,0.9433474105343296,1.0,0.9571269196286329,0.860912725489134,0.9429408893720814,0.9468594992058692,0.8759700454268866,0.961606519588813,0.9392421065754155,0.9489267508474613,0.9512197299077634,0.9078868736480183,0.9041321128721818,0.8061711031988843,0.8011300592368054],\"type\":\"scatter\"}],                        {\"template\":{\"data\":{\"bar\":[{\"error_x\":{\"color\":\"#2a3f5f\"},\"error_y\":{\"color\":\"#2a3f5f\"},\"marker\":{\"line\":{\"color\":\"#E5ECF6\",\"width\":0.5},\"pattern\":{\"fillmode\":\"overlay\",\"size\":10,\"solidity\":0.2}},\"type\":\"bar\"}],\"barpolar\":[{\"marker\":{\"line\":{\"color\":\"#E5ECF6\",\"width\":0.5},\"pattern\":{\"fillmode\":\"overlay\",\"size\":10,\"solidity\":0.2}},\"type\":\"barpolar\"}],\"carpet\":[{\"aaxis\":{\"endlinecolor\":\"#2a3f5f\",\"gridcolor\":\"white\",\"linecolor\":\"white\",\"minorgridcolor\":\"white\",\"startlinecolor\":\"#2a3f5f\"},\"baxis\":{\"endlinecolor\":\"#2a3f5f\",\"gridcolor\":\"white\",\"linecolor\":\"white\",\"minorgridcolor\":\"white\",\"startlinecolor\":\"#2a3f5f\"},\"type\":\"carpet\"}],\"choropleth\":[{\"colorbar\":{\"outlinewidth\":0,\"ticks\":\"\"},\"type\":\"choropleth\"}],\"contour\":[{\"colorbar\":{\"outlinewidth\":0,\"ticks\":\"\"},\"colorscale\":[[0.0,\"#0d0887\"],[0.1111111111111111,\"#46039f\"],[0.2222222222222222,\"#7201a8\"],[0.3333333333333333,\"#9c179e\"],[0.4444444444444444,\"#bd3786\"],[0.5555555555555556,\"#d8576b\"],[0.6666666666666666,\"#ed7953\"],[0.7777777777777778,\"#fb9f3a\"],[0.8888888888888888,\"#fdca26\"],[1.0,\"#f0f921\"]],\"type\":\"contour\"}],\"contourcarpet\":[{\"colorbar\":{\"outlinewidth\":0,\"ticks\":\"\"},\"type\":\"contourcarpet\"}],\"heatmap\":[{\"colorbar\":{\"outlinewidth\":0,\"ticks\":\"\"},\"colorscale\":[[0.0,\"#0d0887\"],[0.1111111111111111,\"#46039f\"],[0.2222222222222222,\"#7201a8\"],[0.3333333333333333,\"#9c179e\"],[0.4444444444444444,\"#bd3786\"],[0.5555555555555556,\"#d8576b\"],[0.6666666666666666,\"#ed7953\"],[0.7777777777777778,\"#fb9f3a\"],[0.8888888888888888,\"#fdca26\"],[1.0,\"#f0f921\"]],\"type\":\"heatmap\"}],\"heatmapgl\":[{\"colorbar\":{\"outlinewidth\":0,\"ticks\":\"\"},\"colorscale\":[[0.0,\"#0d0887\"],[0.1111111111111111,\"#46039f\"],[0.2222222222222222,\"#7201a8\"],[0.3333333333333333,\"#9c179e\"],[0.4444444444444444,\"#bd3786\"],[0.5555555555555556,\"#d8576b\"],[0.6666666666666666,\"#ed7953\"],[0.7777777777777778,\"#fb9f3a\"],[0.8888888888888888,\"#fdca26\"],[1.0,\"#f0f921\"]],\"type\":\"heatmapgl\"}],\"histogram\":[{\"marker\":{\"pattern\":{\"fillmode\":\"overlay\",\"size\":10,\"solidity\":0.2}},\"type\":\"histogram\"}],\"histogram2d\":[{\"colorbar\":{\"outlinewidth\":0,\"ticks\":\"\"},\"colorscale\":[[0.0,\"#0d0887\"],[0.1111111111111111,\"#46039f\"],[0.2222222222222222,\"#7201a8\"],[0.3333333333333333,\"#9c179e\"],[0.4444444444444444,\"#bd3786\"],[0.5555555555555556,\"#d8576b\"],[0.6666666666666666,\"#ed7953\"],[0.7777777777777778,\"#fb9f3a\"],[0.8888888888888888,\"#fdca26\"],[1.0,\"#f0f921\"]],\"type\":\"histogram2d\"}],\"histogram2dcontour\":[{\"colorbar\":{\"outlinewidth\":0,\"ticks\":\"\"},\"colorscale\":[[0.0,\"#0d0887\"],[0.1111111111111111,\"#46039f\"],[0.2222222222222222,\"#7201a8\"],[0.3333333333333333,\"#9c179e\"],[0.4444444444444444,\"#bd3786\"],[0.5555555555555556,\"#d8576b\"],[0.6666666666666666,\"#ed7953\"],[0.7777777777777778,\"#fb9f3a\"],[0.8888888888888888,\"#fdca26\"],[1.0,\"#f0f921\"]],\"type\":\"histogram2dcontour\"}],\"mesh3d\":[{\"colorbar\":{\"outlinewidth\":0,\"ticks\":\"\"},\"type\":\"mesh3d\"}],\"parcoords\":[{\"line\":{\"colorbar\":{\"outlinewidth\":0,\"ticks\":\"\"}},\"type\":\"parcoords\"}],\"pie\":[{\"automargin\":true,\"type\":\"pie\"}],\"scatter\":[{\"marker\":{\"colorbar\":{\"outlinewidth\":0,\"ticks\":\"\"}},\"type\":\"scatter\"}],\"scatter3d\":[{\"line\":{\"colorbar\":{\"outlinewidth\":0,\"ticks\":\"\"}},\"marker\":{\"colorbar\":{\"outlinewidth\":0,\"ticks\":\"\"}},\"type\":\"scatter3d\"}],\"scattercarpet\":[{\"marker\":{\"colorbar\":{\"outlinewidth\":0,\"ticks\":\"\"}},\"type\":\"scattercarpet\"}],\"scattergeo\":[{\"marker\":{\"colorbar\":{\"outlinewidth\":0,\"ticks\":\"\"}},\"type\":\"scattergeo\"}],\"scattergl\":[{\"marker\":{\"colorbar\":{\"outlinewidth\":0,\"ticks\":\"\"}},\"type\":\"scattergl\"}],\"scattermapbox\":[{\"marker\":{\"colorbar\":{\"outlinewidth\":0,\"ticks\":\"\"}},\"type\":\"scattermapbox\"}],\"scatterpolar\":[{\"marker\":{\"colorbar\":{\"outlinewidth\":0,\"ticks\":\"\"}},\"type\":\"scatterpolar\"}],\"scatterpolargl\":[{\"marker\":{\"colorbar\":{\"outlinewidth\":0,\"ticks\":\"\"}},\"type\":\"scatterpolargl\"}],\"scatterternary\":[{\"marker\":{\"colorbar\":{\"outlinewidth\":0,\"ticks\":\"\"}},\"type\":\"scatterternary\"}],\"surface\":[{\"colorbar\":{\"outlinewidth\":0,\"ticks\":\"\"},\"colorscale\":[[0.0,\"#0d0887\"],[0.1111111111111111,\"#46039f\"],[0.2222222222222222,\"#7201a8\"],[0.3333333333333333,\"#9c179e\"],[0.4444444444444444,\"#bd3786\"],[0.5555555555555556,\"#d8576b\"],[0.6666666666666666,\"#ed7953\"],[0.7777777777777778,\"#fb9f3a\"],[0.8888888888888888,\"#fdca26\"],[1.0,\"#f0f921\"]],\"type\":\"surface\"}],\"table\":[{\"cells\":{\"fill\":{\"color\":\"#EBF0F8\"},\"line\":{\"color\":\"white\"}},\"header\":{\"fill\":{\"color\":\"#C8D4E3\"},\"line\":{\"color\":\"white\"}},\"type\":\"table\"}]},\"layout\":{\"annotationdefaults\":{\"arrowcolor\":\"#2a3f5f\",\"arrowhead\":0,\"arrowwidth\":1},\"autotypenumbers\":\"strict\",\"coloraxis\":{\"colorbar\":{\"outlinewidth\":0,\"ticks\":\"\"}},\"colorscale\":{\"diverging\":[[0,\"#8e0152\"],[0.1,\"#c51b7d\"],[0.2,\"#de77ae\"],[0.3,\"#f1b6da\"],[0.4,\"#fde0ef\"],[0.5,\"#f7f7f7\"],[0.6,\"#e6f5d0\"],[0.7,\"#b8e186\"],[0.8,\"#7fbc41\"],[0.9,\"#4d9221\"],[1,\"#276419\"]],\"sequential\":[[0.0,\"#0d0887\"],[0.1111111111111111,\"#46039f\"],[0.2222222222222222,\"#7201a8\"],[0.3333333333333333,\"#9c179e\"],[0.4444444444444444,\"#bd3786\"],[0.5555555555555556,\"#d8576b\"],[0.6666666666666666,\"#ed7953\"],[0.7777777777777778,\"#fb9f3a\"],[0.8888888888888888,\"#fdca26\"],[1.0,\"#f0f921\"]],\"sequentialminus\":[[0.0,\"#0d0887\"],[0.1111111111111111,\"#46039f\"],[0.2222222222222222,\"#7201a8\"],[0.3333333333333333,\"#9c179e\"],[0.4444444444444444,\"#bd3786\"],[0.5555555555555556,\"#d8576b\"],[0.6666666666666666,\"#ed7953\"],[0.7777777777777778,\"#fb9f3a\"],[0.8888888888888888,\"#fdca26\"],[1.0,\"#f0f921\"]]},\"colorway\":[\"#636efa\",\"#EF553B\",\"#00cc96\",\"#ab63fa\",\"#FFA15A\",\"#19d3f3\",\"#FF6692\",\"#B6E880\",\"#FF97FF\",\"#FECB52\"],\"font\":{\"color\":\"#2a3f5f\"},\"geo\":{\"bgcolor\":\"white\",\"lakecolor\":\"white\",\"landcolor\":\"#E5ECF6\",\"showlakes\":true,\"showland\":true,\"subunitcolor\":\"white\"},\"hoverlabel\":{\"align\":\"left\"},\"hovermode\":\"closest\",\"mapbox\":{\"style\":\"light\"},\"paper_bgcolor\":\"white\",\"plot_bgcolor\":\"#E5ECF6\",\"polar\":{\"angularaxis\":{\"gridcolor\":\"white\",\"linecolor\":\"white\",\"ticks\":\"\"},\"bgcolor\":\"#E5ECF6\",\"radialaxis\":{\"gridcolor\":\"white\",\"linecolor\":\"white\",\"ticks\":\"\"}},\"scene\":{\"xaxis\":{\"backgroundcolor\":\"#E5ECF6\",\"gridcolor\":\"white\",\"gridwidth\":2,\"linecolor\":\"white\",\"showbackground\":true,\"ticks\":\"\",\"zerolinecolor\":\"white\"},\"yaxis\":{\"backgroundcolor\":\"#E5ECF6\",\"gridcolor\":\"white\",\"gridwidth\":2,\"linecolor\":\"white\",\"showbackground\":true,\"ticks\":\"\",\"zerolinecolor\":\"white\"},\"zaxis\":{\"backgroundcolor\":\"#E5ECF6\",\"gridcolor\":\"white\",\"gridwidth\":2,\"linecolor\":\"white\",\"showbackground\":true,\"ticks\":\"\",\"zerolinecolor\":\"white\"}},\"shapedefaults\":{\"line\":{\"color\":\"#2a3f5f\"}},\"ternary\":{\"aaxis\":{\"gridcolor\":\"white\",\"linecolor\":\"white\",\"ticks\":\"\"},\"baxis\":{\"gridcolor\":\"white\",\"linecolor\":\"white\",\"ticks\":\"\"},\"bgcolor\":\"#E5ECF6\",\"caxis\":{\"gridcolor\":\"white\",\"linecolor\":\"white\",\"ticks\":\"\"}},\"title\":{\"x\":0.05},\"xaxis\":{\"automargin\":true,\"gridcolor\":\"white\",\"linecolor\":\"white\",\"ticks\":\"\",\"title\":{\"standoff\":15},\"zerolinecolor\":\"white\",\"zerolinewidth\":2},\"yaxis\":{\"automargin\":true,\"gridcolor\":\"white\",\"linecolor\":\"white\",\"ticks\":\"\",\"title\":{\"standoff\":15},\"zerolinecolor\":\"white\",\"zerolinewidth\":2}}},\"shapes\":[{\"line\":{\"color\":\"#aaaaaa\",\"dash\":\"dash\"},\"name\":\"threshold\",\"type\":\"line\",\"x0\":0,\"x1\":1,\"xref\":\"x domain\",\"y0\":0.6,\"y1\":0.6,\"yref\":\"y\"}],\"plot_bgcolor\":\"white\",\"xaxis\":{\"showgrid\":false,\"gridwidth\":1,\"gridcolor\":\"LightGrey\",\"showline\":true,\"linewidth\":2,\"linecolor\":\"DarkGrey\"},\"yaxis\":{\"showgrid\":true,\"gridwidth\":1,\"gridcolor\":\"LightGrey\",\"showline\":true,\"linewidth\":2,\"linecolor\":\"DarkGrey\"}},                        {\"responsive\": true}                    ).then(function(){\n",
              "                            \n",
              "var gd = document.getElementById('5ef63ad5-e1f8-4599-8adb-e3464493981d');\n",
              "var x = new MutationObserver(function (mutations, observer) {{\n",
              "        var display = window.getComputedStyle(gd).display;\n",
              "        if (!display || display === 'none') {{\n",
              "            console.log([gd, 'removed!']);\n",
              "            Plotly.purge(gd);\n",
              "            observer.disconnect();\n",
              "        }}\n",
              "}});\n",
              "\n",
              "// Listen for the removal of the full notebook cells\n",
              "var notebookContainer = gd.closest('#notebook-container');\n",
              "if (notebookContainer) {{\n",
              "    x.observe(notebookContainer, {childList: true});\n",
              "}}\n",
              "\n",
              "// Listen for the clearing of the current output cell\n",
              "var outputEl = gd.closest('.output');\n",
              "if (outputEl) {{\n",
              "    x.observe(outputEl, {childList: true});\n",
              "}}\n",
              "\n",
              "                        })                };                            </script>        </div>\n",
              "</body>\n",
              "</html>"
            ]
          },
          "metadata": {}
        }
      ]
    },
    {
      "cell_type": "code",
      "source": [
        "method.ground.shape, method.anomalies.shape"
      ],
      "metadata": {
        "id": "pWJ38qHeRsCI",
        "colab": {
          "base_uri": "https://localhost:8080/"
        },
        "outputId": "082df6b3-4513-4ba1-b9e0-77365dc86f6c"
      },
      "execution_count": null,
      "outputs": [
        {
          "output_type": "execute_result",
          "data": {
            "text/plain": [
              "((4499,), (2699,))"
            ]
          },
          "metadata": {},
          "execution_count": 4
        }
      ]
    },
    {
      "cell_type": "code",
      "source": [],
      "metadata": {
        "id": "CtDixTEHRr_e"
      },
      "execution_count": null,
      "outputs": []
    },
    {
      "cell_type": "code",
      "source": [],
      "metadata": {
        "id": "U9ldBdAGRr9J"
      },
      "execution_count": null,
      "outputs": []
    },
    {
      "cell_type": "code",
      "source": [],
      "metadata": {
        "id": "V0_ufISORr6u"
      },
      "execution_count": null,
      "outputs": []
    },
    {
      "cell_type": "code",
      "source": [],
      "metadata": {
        "id": "P41lU0eRRr4O"
      },
      "execution_count": null,
      "outputs": []
    },
    {
      "cell_type": "code",
      "source": [
        "### USAD\n",
        "from AnomalyDetectionMethodClass import ADMethod_back\n",
        "settings_={\n",
        "    'EPOCHS':20,\n",
        "    'BATCH_SIZE': 256,\n",
        "    'SEQ_LEN': 12,\n",
        "    'HIDDEN_SIZE': 100,\n",
        "    'ALPHA': 0.5,\n",
        "    'BETA': 0.5,\n",
        "    'CONFIDENCE': 0.82,\n",
        "    'DATASET': 'SWAT'}\n",
        "data_path = ''\n",
        "method_ = ADMethod_back('USAD',settings_,'')\n",
        "\n",
        "method_.prepare_pipeline()\n",
        "#h = method.train()\n",
        "#scores, report = method.test()"
      ],
      "metadata": {
        "id": "8HysJsSBIfX0",
        "colab": {
          "base_uri": "https://localhost:8080/"
        },
        "outputId": "890de6a9-5377-4002-e1d7-93f3b2da93d2"
      },
      "execution_count": null,
      "outputs": [
        {
          "output_type": "stream",
          "name": "stderr",
          "text": [
            "/content/Time-Series-Anomaly-Detection-An-experimental-survey/USAD/USADSolver.py:22: DtypeWarning: Columns (26) have mixed types.Specify dtype option on import or set low_memory=False.\n",
            "  self.prepare_data()\n",
            "/content/Time-Series-Anomaly-Detection-An-experimental-survey/USAD/USADSolver.py:22: DtypeWarning: Columns (1,9,28,46) have mixed types.Specify dtype option on import or set low_memory=False.\n",
            "  self.prepare_data()\n"
          ]
        },
        {
          "output_type": "stream",
          "name": "stdout",
          "text": [
            "(494988, 12, 51)\n"
          ]
        }
      ]
    },
    {
      "cell_type": "code",
      "source": [
        "for [el] in method_.solver.train_loader:\n",
        "  print(el.size())\n",
        "  break\n",
        "  "
      ],
      "metadata": {
        "colab": {
          "base_uri": "https://localhost:8080/"
        },
        "id": "aUupyW1h0kl2",
        "outputId": "a73ed80e-c9df-4bf7-f64b-0cd63ade522b"
      },
      "execution_count": null,
      "outputs": [
        {
          "output_type": "stream",
          "name": "stdout",
          "text": [
            "torch.Size([256, 612])\n"
          ]
        }
      ]
    },
    {
      "cell_type": "code",
      "source": [
        "for el in method.train_dl:\n",
        "  print(el.size())\n",
        "  break\n",
        "\n"
      ],
      "metadata": {
        "colab": {
          "base_uri": "https://localhost:8080/"
        },
        "id": "dvapzMfnBtCl",
        "outputId": "dc93836b-e16d-40ff-d303-6b0db73d0bfe"
      },
      "execution_count": null,
      "outputs": [
        {
          "output_type": "stream",
          "name": "stdout",
          "text": [
            "torch.Size([256, 612])\n"
          ]
        }
      ]
    },
    {
      "cell_type": "code",
      "source": [
        "for el in method.solver.train_loader:\n",
        "  print(el[0].shape)\n",
        "  print(len(el))\n",
        "  break"
      ],
      "metadata": {
        "colab": {
          "base_uri": "https://localhost:8080/"
        },
        "id": "HyC6JV0Z0rJy",
        "outputId": "8630b255-8b0e-4984-d8af-8835be170c13"
      },
      "execution_count": null,
      "outputs": [
        {
          "output_type": "stream",
          "name": "stdout",
          "text": [
            "torch.Size([7919, 612])\n",
            "1\n"
          ]
        }
      ]
    },
    {
      "cell_type": "code",
      "source": [
        "###  TRANSFORMER\n",
        "from AnomalyDetectionMethodClass import ADMethod\n",
        "data_path = './dataset/MSL'\n",
        "settings = {\n",
        "    'lr':1e-4,\n",
        "    'num_epochs':3,\n",
        "    'k':3,\n",
        "    'win_size':100,\n",
        "    'input_c':55,\n",
        "    'output_c':55,\n",
        "    'batch_size':256,\n",
        "    'pretrained_model':None,\n",
        "    'dataset':'MSL',\n",
        "    'mode':'train', # choices=['train', 'test']\n",
        "    'data_path':'./dataset/MSL',\n",
        "    'model_save_path':'checkpoints',\n",
        "    'anormly_ratio':1\n",
        "}\n",
        "method = ADMethod('transformer',settings, data_path)\n",
        "\n",
        "method.prepare_pipeline()\n",
        "method.train()\n",
        "scores, report = method.test()"
      ],
      "metadata": {
        "id": "UEinh9TJbwD6"
      },
      "execution_count": null,
      "outputs": []
    },
    {
      "cell_type": "code",
      "source": [
        "### DEEPANT\n",
        "from AnomalyDetectionMethodClass import ADMethod\n",
        "# data_path = './NAB/realKnownCause/cpu_utilization_asg_misconfiguration.csv'\n",
        "data_path = './dataset/MSL'\n",
        "\n",
        "\n",
        "LR_LIST = [0.001, 0.0001, 0.00001, 0.000001]\n",
        "SEQ_LIST = [100, 30, 100, 300]\n",
        "for lr in [0.0001]:#LR_LIST:\n",
        "  for seq in [100]: #SEQ_LIST:\n",
        "    # wandb.init(project=\"experimental-survey-AD\", entity=\"michiamoantonio\", group='DeepAnt')\n",
        "    # wandb.log({'lr': lr})\n",
        "    # wandb.log({'seq_len': seq})\n",
        "    settings = {\n",
        "      'SEQ_LEN': seq,\n",
        "      'out_dim': 1,\n",
        "      'EPOCHS': 1,\n",
        "      'LR': lr,\n",
        "      'CONFIDENCE': 0.50,\n",
        "      'TH_LIST': [0.1, 0.2, 0.3, 0.4, 0.5, 0.6, 0.7, 0.8, 0.9],\n",
        "      'TH_SEARCH': True,\n",
        "      'VERBOSE': True,\n",
        "      'DATASET': 'SWAT'\n",
        "    }\n",
        "    # wandb.config = settings\n",
        "    method = ADMethod('DeepAnt',settings, data_path)\n",
        "\n",
        "    method.prepare_pipeline()\n",
        "    l = method.train()\n",
        "    scores, report = method.test()\n",
        "\n",
        "    print(f\"lr: {lr}, seq_len: {seq}\")\n",
        "    for i,el in enumerate(report): \n",
        "      print(f\"#### th: {settings['TH_LIST'][i]}, f1-score: {el['macro avg']['f1-score']}\")\n",
        "      # wandb.log({'th': settings['TH_LIST'][i], 'f1-score': el['macro avg']['f1-score']})\n",
        "    # wandb.finish()\n",
        "\n"
      ],
      "metadata": {
        "id": "a8y-8dwBgXf1",
        "colab": {
          "base_uri": "https://localhost:8080/"
        },
        "outputId": "162a387d-a240-4cc9-c0bd-14a825c53010"
      },
      "execution_count": null,
      "outputs": [
        {
          "output_type": "stream",
          "name": "stdout",
          "text": [
            "LOAD TRAIN DATA\n"
          ]
        },
        {
          "output_type": "stream",
          "name": "stderr",
          "text": [
            "/content/Time-Series-Anomaly-Detection-An-experimental-survey/DeepAnt/DeepAntSolver.py:22: DtypeWarning: Columns (26) have mixed types.Specify dtype option on import or set low_memory=False.\n",
            "  self.prepare_data(data_path)\n"
          ]
        },
        {
          "output_type": "stream",
          "name": "stdout",
          "text": [
            "SCALER\n",
            "SCALED\n",
            "window\n",
            "WINDOWED\n"
          ]
        }
      ]
    },
    {
      "cell_type": "code",
      "source": [
        "!pip install torchinfo\n",
        "from torchinfo import summary\n",
        "summary(method.solver.model)"
      ],
      "metadata": {
        "id": "z1jw6nzI8RZZ"
      },
      "execution_count": null,
      "outputs": []
    }
  ]
}