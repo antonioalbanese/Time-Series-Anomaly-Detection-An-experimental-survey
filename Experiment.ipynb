{
  "nbformat": 4,
  "nbformat_minor": 0,
  "metadata": {
    "colab": {
      "provenance": [],
      "authorship_tag": "ABX9TyOuZWgedpHr3lK1i+0oOYNy",
      "include_colab_link": true
    },
    "kernelspec": {
      "name": "python3",
      "display_name": "Python 3"
    },
    "language_info": {
      "name": "python"
    },
    "accelerator": "GPU",
    "gpuClass": "standard"
  },
  "cells": [
    {
      "cell_type": "markdown",
      "metadata": {
        "id": "view-in-github",
        "colab_type": "text"
      },
      "source": [
        "<a href=\"https://colab.research.google.com/github/antonioalbanese/Time-Series-Anomaly-Detection-An-experimental-survey/blob/main/Experiment.ipynb\" target=\"_parent\"><img src=\"https://colab.research.google.com/assets/colab-badge.svg\" alt=\"Open In Colab\"/></a>"
      ]
    },
    {
      "cell_type": "code",
      "source": [
        "!pip install pytorch_lightning torchinfo --quiet"
      ],
      "metadata": {
        "colab": {
          "base_uri": "https://localhost:8080/"
        },
        "id": "DEh4gQRTg-i9",
        "outputId": "c9c64dc4-97b9-48df-fd4f-30f3d0a03ba5"
      },
      "execution_count": null,
      "outputs": [
        {
          "output_type": "stream",
          "name": "stdout",
          "text": [
            "\u001b[K     |████████████████████████████████| 796 kB 26.6 MB/s \n",
            "\u001b[K     |████████████████████████████████| 136 kB 61.3 MB/s \n",
            "\u001b[K     |████████████████████████████████| 529 kB 73.5 MB/s \n",
            "\u001b[K     |████████████████████████████████| 87 kB 6.8 MB/s \n",
            "\u001b[?25h  Building wheel for fire (setup.py) ... \u001b[?25l\u001b[?25hdone\n"
          ]
        }
      ]
    },
    {
      "cell_type": "code",
      "execution_count": 2,
      "metadata": {
        "colab": {
          "base_uri": "https://localhost:8080/"
        },
        "id": "-gxesA1FbjV5",
        "outputId": "5ce16af4-2855-4287-a7e1-9069adc34017"
      },
      "outputs": [
        {
          "output_type": "stream",
          "name": "stdout",
          "text": [
            "Cloning into 'Time-Series-Anomaly-Detection-An-experimental-survey'...\n",
            "remote: Enumerating objects: 522, done.\u001b[K\n",
            "remote: Counting objects: 100% (5/5), done.\u001b[K\n",
            "remote: Compressing objects: 100% (5/5), done.\u001b[K\n",
            "remote: Total 522 (delta 0), reused 0 (delta 0), pack-reused 517\u001b[K\n",
            "Receiving objects: 100% (522/522), 2.68 MiB | 19.05 MiB/s, done.\n",
            "Resolving deltas: 100% (273/273), done.\n",
            "/content/Time-Series-Anomaly-Detection-An-experimental-survey\n",
            "Downloading...\n",
            "From: https://drive.google.com/uc?id=1ZCLBU_pKTbsPlcj_LwxZE3IRy6mrlys3\n",
            "To: /content/Time-Series-Anomaly-Detection-An-experimental-survey/dataset/MSL.zip\n",
            "100% 767k/767k [00:00<00:00, 163MB/s]\n",
            "Downloading...\n",
            "From: https://drive.google.com/uc?id=18JNYBsaX7tu0Qfgo92nCBCklv471L1xB\n",
            "To: /content/Time-Series-Anomaly-Detection-An-experimental-survey/dataset/SMD.zip\n",
            "100% 195M/195M [00:02<00:00, 81.3MB/s]\n"
          ]
        }
      ],
      "source": [
        "!git clone https://github.com/antonioalbanese/Time-Series-Anomaly-Detection-An-experimental-survey/\n",
        "\n",
        "%cd Time-Series-Anomaly-Detection-An-experimental-survey\n",
        "\n",
        "%mkdir dataset\n",
        "!gdown https://drive.google.com/uc?id=1ZCLBU_pKTbsPlcj_LwxZE3IRy6mrlys3 -O=\"./dataset/MSL.zip\"\n",
        "!gdown https://drive.google.com/uc?id=18JNYBsaX7tu0Qfgo92nCBCklv471L1xB -O=\"./dataset/SMD.zip\"\n",
        "import zipfile\n",
        "with zipfile.ZipFile(\"./dataset/MSL.zip\", 'r') as zip_ref:\n",
        "    zip_ref.extractall(\"./dataset/\")\n",
        "with zipfile.ZipFile(\"./dataset/SMD.zip\", 'r') as zip_ref:\n",
        "    zip_ref.extractall(\"./dataset/\")"
      ]
    },
    {
      "cell_type": "code",
      "source": [
        "!mkdir input\n",
        "#normal period\n",
        "!python USAD/gdrivedl.py https://drive.google.com/open?id=1rVJ5ry5GG-ZZi5yI4x9lICB8VhErXwCw input/\n",
        "#anomalies\n",
        "!python USAD/gdrivedl.py https://drive.google.com/open?id=1iDYc0OEmidN712fquOBRFjln90SbpaE7 input/"
      ],
      "metadata": {
        "id": "bAm8xpOkP9Ph",
        "outputId": "76ffaf4b-5d6d-48f7-d83f-9fb0d41ee56f",
        "colab": {
          "base_uri": "https://localhost:8080/"
        }
      },
      "execution_count": 1,
      "outputs": [
        {
          "output_type": "stream",
          "name": "stdout",
          "text": [
            "python3: can't open file 'USAD/gdrivedl.py': [Errno 2] No such file or directory\n",
            "python3: can't open file 'USAD/gdrivedl.py': [Errno 2] No such file or directory\n"
          ]
        }
      ]
    },
    {
      "cell_type": "code",
      "source": [
        "### USAD\n",
        "from AnomalyDetectionMethodClass import ADMethod\n",
        "settings={\n",
        "    'EPOCHS':20,\n",
        "    'BATCH_SIZE': 7919,\n",
        "    'SEQ_LEN': 12,\n",
        "    'HIDDEN_SIZE': 100,\n",
        "    'ALPHA': 0.5,\n",
        "    'BETA': 0.5,\n",
        "    'CONFIDENCE': 0.82,\n",
        "    'DATASET': 'SWAT'}\n",
        "data_path = ''\n",
        "method = ADMethod('USAD',settings,'')\n",
        "\n",
        "method.prepare_pipeline()\n",
        "h = method.train()\n",
        "scores, report = method.test()"
      ],
      "metadata": {
        "id": "8HysJsSBIfX0"
      },
      "execution_count": null,
      "outputs": []
    },
    {
      "cell_type": "code",
      "source": [
        "###  TRANSFORMER\n",
        "from AnomalyDetectionMethodClass import ADMethod\n",
        "data_path = './dataset/MSL'\n",
        "settings = {\n",
        "    'lr':1e-4,\n",
        "    'num_epochs':3,\n",
        "    'k':3,\n",
        "    'win_size':100,\n",
        "    'input_c':55,\n",
        "    'output_c':55,\n",
        "    'batch_size':256,\n",
        "    'pretrained_model':None,\n",
        "    'dataset':'MSL',\n",
        "    'mode':'train', # choices=['train', 'test']\n",
        "    'data_path':'./dataset/MSL',\n",
        "    'model_save_path':'checkpoints',\n",
        "    'anormly_ratio':1\n",
        "}\n",
        "method = ADMethod('transformer',settings, data_path)\n",
        "\n",
        "method.prepare_pipeline()\n",
        "method.train()\n",
        "scores, report = method.test()"
      ],
      "metadata": {
        "id": "UEinh9TJbwD6"
      },
      "execution_count": null,
      "outputs": []
    },
    {
      "cell_type": "code",
      "source": [
        "### DEEPANT\n",
        "from AnomalyDetectionMethodClass import ADMethod\n",
        "data_path = './NAB/realKnownCause/ambient_temperature_system_failure.csv'\n",
        "settings = {\n",
        "  'SEQ_LEN': 10,\n",
        "  'out_dim': 1,\n",
        "  'EPOCHS': 50,\n",
        "  'LR': 0.0001,\n",
        "  'CONFIDENCE': 0.80\n",
        "}\n",
        "method = ADMethod('DeepAnt',settings, data_path)\n",
        "\n",
        "method.prepare_pipeline()\n",
        "l = method.train()\n",
        "scores, report = method.test()\n",
        "# method.results()\n",
        "\n",
        "# import matplotlib.pyplot as plt\n",
        "# import seaborn as sns\n",
        "# def plot_predictions(preds, threshold, bins = 80):\n",
        "#     sns.displot(preds, bins = bins, kde = True, height = 8, aspect = 2)\n",
        "#     plt.axvline(x = threshold, color = 'r', linestyle = '--', label = 'Chosen Threshold')\n",
        "#     plt.title('Loss Distribution')\n",
        "#     plt.legend()\n",
        "\n",
        "# def loss_plot(preds, threshold):\n",
        "#     fig = plt.figure(figsize=(15,8))\n",
        "#     plt.plot(preds, label = 'Loss')\n",
        "#     # preds.plot(figsize = (15,8), title = 'Chosen Threshold', label = 'Loss')\n",
        "#     plt.axhline(y = threshold, color = 'r', linestyle = '--', label = 'Chosen Threshold')\n",
        "#     plt.legend()\n",
        "#     plt.show()\n",
        "\n",
        "# def ts_plot(df, preds, threshold, alg = 'DeepAnT', range = None):\n",
        "#     idx = preds.loc[lambda x: x > threshold].index\n",
        "#     plt.figure(figsize = (15,8))\n",
        "#     if range is not None:\n",
        "#         min, max = range\n",
        "#         df = df[min:max]\n",
        "#     plt.plot(df, label = '_nolegend_')\n",
        "#     plt.scatter(idx, df.loc[idx], color = 'red', label = 'Detected Anomalies by DeepAnt')\n",
        "#     plt.title('Detected Anomalies in Time Series')\n",
        "#     plt.legend()\n",
        "#     plt.show()\n",
        "\n",
        "\n",
        "\n",
        "# import sklearn\n",
        "# import numpy as np\n",
        "# sc = sklearn.preprocessing.MinMaxScaler(feature_range=(0,1))\n",
        "# losses = sc.fit_transform(np.array(lp).reshape(-1, 1))\n",
        "# plot_predictions(losses, 0.80)\n",
        "# loss_plot(losses, 0.80)\n",
        "\n",
        "\n",
        "# import pandas as pd\n",
        "# df = pd.read_csv(data_path, index_col = 'timestamp', parse_dates=['timestamp'])\n",
        "# target_idx = method.solver.dataset.timestamp\n",
        "# preds_losses = pd.Series(losses.reshape((-1)), index = target_idx)\n",
        "# ts_plot(df, preds_losses, 0.80)"
      ],
      "metadata": {
        "id": "a8y-8dwBgXf1"
      },
      "execution_count": null,
      "outputs": []
    },
    {
      "cell_type": "code",
      "source": [
        "!pip install torchinfo\n",
        "from torchinfo import summary\n",
        "summary(method.solver.model)"
      ],
      "metadata": {
        "id": "z1jw6nzI8RZZ"
      },
      "execution_count": null,
      "outputs": []
    }
  ]
}