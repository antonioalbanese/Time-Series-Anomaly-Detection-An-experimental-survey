{
  "nbformat": 4,
  "nbformat_minor": 0,
  "metadata": {
    "colab": {
      "provenance": [],
      "include_colab_link": true
    },
    "kernelspec": {
      "name": "python3",
      "display_name": "Python 3"
    },
    "language_info": {
      "name": "python"
    },
    "accelerator": "GPU",
    "gpuClass": "standard"
  },
  "cells": [
    {
      "cell_type": "markdown",
      "metadata": {
        "id": "view-in-github",
        "colab_type": "text"
      },
      "source": [
        "<a href=\"https://colab.research.google.com/github/antonioalbanese/Time-Series-Anomaly-Detection-An-experimental-survey/blob/main/Experiment.ipynb\" target=\"_parent\"><img src=\"https://colab.research.google.com/assets/colab-badge.svg\" alt=\"Open In Colab\"/></a>"
      ]
    },
    {
      "cell_type": "code",
      "source": [
        "!pip install torchinfo --quiet\n",
        "\n",
        "!pip install wandb --quiet\n",
        "\n",
        "import os\n",
        "os.environ[\"WANDB_API_KEY\"] = \"571001027d1947e02fe01237fe2d0bf5bbf8071b\""
      ],
      "metadata": {
        "colab": {
          "base_uri": "https://localhost:8080/"
        },
        "id": "HfBsDcWthQQi",
        "outputId": "52e1cddd-865b-4a3e-8880-579f99229997"
      },
      "execution_count": 1,
      "outputs": [
        {
          "output_type": "stream",
          "name": "stdout",
          "text": [
            "\u001b[K     |████████████████████████████████| 1.9 MB 30.4 MB/s \n",
            "\u001b[K     |████████████████████████████████| 182 kB 45.5 MB/s \n",
            "\u001b[K     |████████████████████████████████| 168 kB 48.7 MB/s \n",
            "\u001b[K     |████████████████████████████████| 62 kB 1.6 MB/s \n",
            "\u001b[K     |████████████████████████████████| 168 kB 56.7 MB/s \n",
            "\u001b[K     |████████████████████████████████| 166 kB 71.2 MB/s \n",
            "\u001b[K     |████████████████████████████████| 166 kB 78.3 MB/s \n",
            "\u001b[K     |████████████████████████████████| 162 kB 69.9 MB/s \n",
            "\u001b[K     |████████████████████████████████| 162 kB 71.8 MB/s \n",
            "\u001b[K     |████████████████████████████████| 158 kB 68.8 MB/s \n",
            "\u001b[K     |████████████████████████████████| 157 kB 65.2 MB/s \n",
            "\u001b[K     |████████████████████████████████| 157 kB 72.6 MB/s \n",
            "\u001b[K     |████████████████████████████████| 157 kB 69.7 MB/s \n",
            "\u001b[K     |████████████████████████████████| 157 kB 71.9 MB/s \n",
            "\u001b[K     |████████████████████████████████| 157 kB 70.4 MB/s \n",
            "\u001b[K     |████████████████████████████████| 157 kB 74.6 MB/s \n",
            "\u001b[K     |████████████████████████████████| 157 kB 71.6 MB/s \n",
            "\u001b[K     |████████████████████████████████| 156 kB 71.8 MB/s \n",
            "\u001b[?25h  Building wheel for pathtools (setup.py) ... \u001b[?25l\u001b[?25hdone\n"
          ]
        }
      ]
    },
    {
      "cell_type": "code",
      "source": [
        "import zipfile\n",
        "import numpy as np\n",
        "\n",
        "\n",
        "!pip install torchinfo --quiet\n",
        "\n",
        "!git clone https://github.com/antonioalbanese/Time-Series-Anomaly-Detection-An-experimental-survey/\n",
        "\n",
        "%cd Time-Series-Anomaly-Detection-An-experimental-survey\n",
        "\n",
        "%mkdir data\n",
        "\n",
        "# %mkdir ./data/SMD\n",
        "# !python USAD/gdrivedl.py https://drive.google.com/file/d/18JNYBsaX7tu0Qfgo92nCBCklv471L1xB data/SMD\n",
        "# with zipfile.ZipFile(\"./data/SMD/SMD.zip\", 'r') as zip_ref:\n",
        "#     zip_ref.extractall(\"./data/\")\n",
        "\n",
        "# %mkdir ./data/MSL\n",
        "# !python USAD/gdrivedl.py https://drive.google.com/uc?id=1ZCLBU_pKTbsPlcj_LwxZE3IRy6mrlys3 data/MSL\n",
        "# with zipfile.ZipFile(\"./data/MSL/MSL.zip\", 'r') as zip_ref:\n",
        "#     zip_ref.extractall(\"./data/\")\n",
        "\n",
        "!mkdir data/SWAT\n",
        "#normal period\n",
        "!python USAD/gdrivedl.py https://drive.google.com/open?id=1rVJ5ry5GG-ZZi5yI4x9lICB8VhErXwCw data/SWAT\n",
        "#anomalies\n",
        "!python USAD/gdrivedl.py https://drive.google.com/open?id=1iDYc0OEmidN712fquOBRFjln90SbpaE7 data/SWAT"
      ],
      "metadata": {
        "colab": {
          "base_uri": "https://localhost:8080/"
        },
        "id": "O2QQtDc21dg8",
        "outputId": "9e305b72-ef4a-4a11-f24c-407efad7e5eb"
      },
      "execution_count": 2,
      "outputs": [
        {
          "output_type": "stream",
          "name": "stdout",
          "text": [
            "Cloning into 'Time-Series-Anomaly-Detection-An-experimental-survey'...\n",
            "remote: Enumerating objects: 1117, done.\u001b[K\n",
            "remote: Counting objects: 100% (600/600), done.\u001b[K\n",
            "remote: Compressing objects: 100% (234/234), done.\u001b[K\n",
            "remote: Total 1117 (delta 409), reused 533 (delta 366), pack-reused 517\u001b[K\n",
            "Receiving objects: 100% (1117/1117), 3.05 MiB | 23.63 MiB/s, done.\n",
            "Resolving deltas: 100% (682/682), done.\n",
            "/content/Time-Series-Anomaly-Detection-An-experimental-survey\n",
            "data/SWAT/SWaT_Dataset_Normal_v1.csv\n",
            "[==================================================] 163.77MB/163.77MB\n",
            "data/SWAT/SWaT_Dataset_Attack_v0.csv\n",
            "[==================================================] 127.27MB/127.27MB\n"
          ]
        }
      ]
    },
    {
      "cell_type": "code",
      "source": [
        "configurations = []\n",
        "seq_lens = [10, 20, 10, 300]\n",
        "for seq_len in seq_lens:\n",
        "  steps = [1, seq_len]\n",
        "  for step in steps:\n",
        "    epochs = [30,50,80]\n",
        "    lrs= [0.00001, 0.000001, 0.0000001]\n",
        "    for e, lr in zip(epochs, lrs):\n",
        "      conf = {\n",
        "          'DATASET': 'SWAT', #SWAT, MSL, SMD, NAB\n",
        "          'DATAPATH': None, #\"realKnownCause/machine_temperature_system_failure.csv\", #Only needed with NAB\n",
        "          'SEQ_LEN': seq_len,\n",
        "          'STEP': step,\n",
        "          'HIDDEN_SIZE': 100, #Needed for USAD method\n",
        "          'LR': lr,\n",
        "          'EPOCHS': e, \n",
        "          'VERBOSE': False,\n",
        "          'LOGGER': True\n",
        "      }\n",
        "      configurations.append(conf)"
      ],
      "metadata": {
        "id": "9-ZnX9WnCOzY"
      },
      "execution_count": 4,
      "outputs": []
    },
    {
      "cell_type": "code",
      "source": [
        "len(configurations)"
      ],
      "metadata": {
        "id": "V4p8hh0cWQN7",
        "outputId": "9d45dc58-9919-4331-9152-2535b9ef76b5",
        "colab": {
          "base_uri": "https://localhost:8080/"
        }
      },
      "execution_count": null,
      "outputs": [
        {
          "output_type": "execute_result",
          "data": {
            "text/plain": [
              "24"
            ]
          },
          "metadata": {},
          "execution_count": 3
        }
      ]
    },
    {
      "cell_type": "code",
      "source": [
        "curr_config = 6 #add one per each run \n",
        "\n",
        "### NEW USAD \n",
        "from AnomalyDetectionMethodClass import ADMethod\n",
        "\n",
        "# configuration = {\n",
        "#     'DATASET': 'SWAT', #SWAT, MSL, SMD, NAB\n",
        "#     'DATAPATH': None, #\"realKnownCause/machine_temperature_system_failure.csv\", #Only needed with NAB\n",
        "#     'SEQ_LEN': 100,\n",
        "#     'STEP': 100,\n",
        "#     'HIDDEN_SIZE': 100, #Needed for USAD method\n",
        "#     'LR': 0.0001,\n",
        "#     'EPOCHS': 30, \n",
        "#     'VERBOSE': True,\n",
        "#     'LOGGER': True\n",
        "# }\n",
        "configuration = configurations[curr_config]\n",
        "method = ADMethod(name = 'USAD', config = configuration)\n",
        "train_history = method.train()\n",
        "_, score = method.test()\n",
        "for th in np.linspace(0,1,10,endpoint=False):\n",
        "  rep = method.results(threshold = th, plot = False)\n",
        "\n",
        "method.close_run()"
      ],
      "metadata": {
        "colab": {
          "base_uri": "https://localhost:8080/",
          "height": 1000
        },
        "id": "yAzTRgG-5Ao1",
        "outputId": "7d585cfd-5e5f-4512-fbe1-b09d3abd3270"
      },
      "execution_count": 5,
      "outputs": [
        {
          "output_type": "stream",
          "name": "stderr",
          "text": [
            "ERROR:wandb.jupyter:Failed to detect the name of this notebook, you can set it manually with the WANDB_NOTEBOOK_NAME environment variable to enable code saving.\n",
            "\u001b[34m\u001b[1mwandb\u001b[0m: Currently logged in as: \u001b[33mmichiamoantonio\u001b[0m. Use \u001b[1m`wandb login --relogin`\u001b[0m to force relogin\n"
          ]
        },
        {
          "output_type": "display_data",
          "data": {
            "text/plain": [
              "<IPython.core.display.HTML object>"
            ],
            "text/html": [
              "Tracking run with wandb version 0.13.5"
            ]
          },
          "metadata": {}
        },
        {
          "output_type": "display_data",
          "data": {
            "text/plain": [
              "<IPython.core.display.HTML object>"
            ],
            "text/html": [
              "Run data is saved locally in <code>/content/Time-Series-Anomaly-Detection-An-experimental-survey/wandb/run-20221128_205602-TRAINING___USAD_SWAT-seqlen_20-step_1-epochs_30</code>"
            ]
          },
          "metadata": {}
        },
        {
          "output_type": "display_data",
          "data": {
            "text/plain": [
              "<IPython.core.display.HTML object>"
            ],
            "text/html": [
              "Syncing run <strong><a href=\"https://wandb.ai/michiamoantonio/experimental-survey-AD/runs/TRAINING___USAD_SWAT-seqlen_20-step_1-epochs_30\" target=\"_blank\">TRAINING___USAD_SWAT-seqlen_20-step_1-epochs_30</a></strong> to <a href=\"https://wandb.ai/michiamoantonio/experimental-survey-AD\" target=\"_blank\">Weights & Biases</a> (<a href=\"https://wandb.me/run\" target=\"_blank\">docs</a>)<br/>"
            ]
          },
          "metadata": {}
        },
        {
          "output_type": "stream",
          "name": "stderr",
          "text": [
            "/content/Time-Series-Anomaly-Detection-An-experimental-survey/datafactory.py:25: DtypeWarning: Columns (26) have mixed types.Specify dtype option on import or set low_memory=False.\n",
            "  self.load_data()\n",
            "/content/Time-Series-Anomaly-Detection-An-experimental-survey/datafactory.py:25: DtypeWarning: Columns (1,9,28,46) have mixed types.Specify dtype option on import or set low_memory=False.\n",
            "  self.load_data()\n",
            "/usr/local/lib/python3.7/dist-packages/torch/utils/data/dataloader.py:566: UserWarning: This DataLoader will create 4 worker processes in total. Our suggested max number of worker in current system is 2, which is smaller than what this DataLoader is going to create. Please be aware that excessive worker creation might get DataLoader running slow or even freeze, lower the worker number to avoid potential slowness/freeze if necessary.\n",
            "  cpuset_checked))\n"
          ]
        },
        {
          "output_type": "stream",
          "name": "stdout",
          "text": [
            "=====================================================================\n",
            "Training...\n",
            "=====================================================================\n",
            "Testing...\n",
            "Test finished in 1003.341 sec.\n",
            "=====================================================================\n"
          ]
        },
        {
          "output_type": "stream",
          "name": "stderr",
          "text": [
            "/usr/local/lib/python3.7/dist-packages/ipykernel_launcher.py:22: DtypeWarning: Columns (1,9,28,46) have mixed types.Specify dtype option on import or set low_memory=False.\n",
            "/usr/local/lib/python3.7/dist-packages/ipykernel_launcher.py:22: DtypeWarning:\n",
            "\n",
            "Columns (1,9,28,46) have mixed types.Specify dtype option on import or set low_memory=False.\n",
            "\n",
            "/usr/local/lib/python3.7/dist-packages/ipykernel_launcher.py:22: DtypeWarning:\n",
            "\n",
            "Columns (1,9,28,46) have mixed types.Specify dtype option on import or set low_memory=False.\n",
            "\n",
            "/usr/local/lib/python3.7/dist-packages/ipykernel_launcher.py:22: DtypeWarning:\n",
            "\n",
            "Columns (1,9,28,46) have mixed types.Specify dtype option on import or set low_memory=False.\n",
            "\n",
            "/usr/local/lib/python3.7/dist-packages/ipykernel_launcher.py:22: DtypeWarning:\n",
            "\n",
            "Columns (1,9,28,46) have mixed types.Specify dtype option on import or set low_memory=False.\n",
            "\n",
            "/usr/local/lib/python3.7/dist-packages/ipykernel_launcher.py:22: DtypeWarning:\n",
            "\n",
            "Columns (1,9,28,46) have mixed types.Specify dtype option on import or set low_memory=False.\n",
            "\n",
            "/usr/local/lib/python3.7/dist-packages/ipykernel_launcher.py:22: DtypeWarning:\n",
            "\n",
            "Columns (1,9,28,46) have mixed types.Specify dtype option on import or set low_memory=False.\n",
            "\n",
            "/usr/local/lib/python3.7/dist-packages/ipykernel_launcher.py:22: DtypeWarning:\n",
            "\n",
            "Columns (1,9,28,46) have mixed types.Specify dtype option on import or set low_memory=False.\n",
            "\n",
            "/usr/local/lib/python3.7/dist-packages/ipykernel_launcher.py:22: DtypeWarning:\n",
            "\n",
            "Columns (1,9,28,46) have mixed types.Specify dtype option on import or set low_memory=False.\n",
            "\n",
            "/usr/local/lib/python3.7/dist-packages/ipykernel_launcher.py:22: DtypeWarning:\n",
            "\n",
            "Columns (1,9,28,46) have mixed types.Specify dtype option on import or set low_memory=False.\n",
            "\n"
          ]
        },
        {
          "output_type": "display_data",
          "data": {
            "text/plain": [
              "<IPython.core.display.HTML object>"
            ],
            "text/html": [
              "Waiting for W&B process to finish... <strong style=\"color:green\">(success).</strong>"
            ]
          },
          "metadata": {}
        },
        {
          "output_type": "display_data",
          "data": {
            "text/plain": [
              "<IPython.core.display.HTML object>"
            ],
            "text/html": [
              "<style>\n",
              "    table.wandb td:nth-child(1) { padding: 0 10px; text-align: left ; width: auto;} td:nth-child(2) {text-align: left ; width: 100%}\n",
              "    .wandb-row { display: flex; flex-direction: row; flex-wrap: wrap; justify-content: flex-start; width: 100% }\n",
              "    .wandb-col { display: flex; flex-direction: column; flex-basis: 100%; flex: 1; padding: 10px; }\n",
              "    </style>\n",
              "<div class=\"wandb-row\"><div class=\"wandb-col\"><h3>Run history:</h3><br/><table class=\"wandb\"><tr><td>F1_Avg</td><td>▁▅▇███████</td></tr><tr><td>F1_True</td><td>▁▃▆███████</td></tr><tr><td>Precision_Avg</td><td>▁▂▄▆██████</td></tr><tr><td>Precision_True</td><td>▁▂▄▆██████</td></tr><tr><td>Recall_Avg</td><td>▁▆██▇▇▇▇▇▇</td></tr><tr><td>Recall_True</td><td>█▇▆▅▂▁▁▁▁▁</td></tr><tr><td>accuracy</td><td>▁▆▇███████</td></tr><tr><td>epoch</td><td>▁▁▁▂▂▂▂▃▃▃▃▄▄▄▄▅▅▅▅▆▆▆▆▇▇▇▇███</td></tr><tr><td>loss1</td><td>▁▁▁▁▄█▄▃▃▃▃▃▃▃▃▃▃▄▃▄▃▃▃▄▃▄▃▄▄▄</td></tr><tr><td>loss2</td><td>█▇▆▆▄▁▄▄▄▄▄▄▄▄▄▄▄▄▄▃▄▄▄▃▄▃▃▃▃▃</td></tr><tr><td>loss_sum</td><td>█▄▃▂▄▅▃▂▂▂▂▂▂▂▁▁▁▂▁▁▁▁▁▁▁▁▁▁▁▁</td></tr><tr><td>threshold</td><td>▁▂▃▃▄▅▆▆▇█</td></tr></table><br/></div><div class=\"wandb-col\"><h3>Run summary:</h3><br/><table class=\"wandb\"><tr><td>F1_Avg</td><td>0.88185</td></tr><tr><td>F1_True</td><td>0.78765</td></tr><tr><td>Precision_Avg</td><td>0.97661</td></tr><tr><td>Precision_True</td><td>1.0</td></tr><tr><td>Recall_Avg</td><td>0.82485</td></tr><tr><td>Recall_True</td><td>0.64969</td></tr><tr><td>accuracy</td><td>0.95695</td></tr><tr><td>epoch</td><td>29</td></tr><tr><td>init_time</td><td>30.45561</td></tr><tr><td>loss1</td><td>0.03759</td></tr><tr><td>loss2</td><td>-0.03591</td></tr><tr><td>loss_sum</td><td>0.00168</td></tr><tr><td>test_time</td><td>1003.34132</td></tr><tr><td>threshold</td><td>0.9</td></tr><tr><td>training_time</td><td>933.3033</td></tr></table><br/></div></div>"
            ]
          },
          "metadata": {}
        },
        {
          "output_type": "display_data",
          "data": {
            "text/plain": [
              "<IPython.core.display.HTML object>"
            ],
            "text/html": [
              "Synced <strong style=\"color:#cdcd00\">TRAINING___USAD_SWAT-seqlen_20-step_1-epochs_30</strong>: <a href=\"https://wandb.ai/michiamoantonio/experimental-survey-AD/runs/TRAINING___USAD_SWAT-seqlen_20-step_1-epochs_30\" target=\"_blank\">https://wandb.ai/michiamoantonio/experimental-survey-AD/runs/TRAINING___USAD_SWAT-seqlen_20-step_1-epochs_30</a><br/>Synced 5 W&B file(s), 10 media file(s), 20 artifact file(s) and 0 other file(s)"
            ]
          },
          "metadata": {}
        },
        {
          "output_type": "display_data",
          "data": {
            "text/plain": [
              "<IPython.core.display.HTML object>"
            ],
            "text/html": [
              "Find logs at: <code>./wandb/run-20221128_205602-TRAINING___USAD_SWAT-seqlen_20-step_1-epochs_30/logs</code>"
            ]
          },
          "metadata": {}
        }
      ]
    },
    {
      "cell_type": "code",
      "source": [
        "### NEW DEEPANT \n",
        "from AnomalyDetectionMethodClass import ADMethod\n",
        "\n",
        "configuration = {\n",
        "    'DATASET': 'SWAT', #SWAT, MSL, SMD, NAB\n",
        "    'DATAPATH': None, #\"realKnownCause/machine_temperature_system_failure.csv\", #Only needed with NAB\n",
        "    'SEQ_LEN': 100,\n",
        "    'STEP': 100,\n",
        "    'HIDDEN_SIZE': None, #Needed for USAD method\n",
        "    'LR': 0.000001,\n",
        "    'EPOCHS': 130, #50 for SWAT\n",
        "    'VERBOSE': True,\n",
        "    'LOGGER': True\n",
        "}\n",
        "method = ADMethod(name = 'DEEPANT', config = configuration)\n",
        "train_losses = method.train()\n",
        "predictions, score = method.test()\n",
        "for th in np.linspace(0,1,10,endpoint=False):\n",
        "  rep = method.results(threshold = th, plot = False)\n",
        "method.close_run()"
      ],
      "metadata": {
        "id": "w93QZYTNMKEc",
        "outputId": "10b62d8f-72e0-42a2-99ce-dbff3ee0b263",
        "colab": {
          "base_uri": "https://localhost:8080/",
          "height": 1000
        }
      },
      "execution_count": null,
      "outputs": [
        {
          "output_type": "stream",
          "name": "stdout",
          "text": [
            "=====================================================================\n",
            "Initializing...\n"
          ]
        },
        {
          "output_type": "display_data",
          "data": {
            "text/plain": [
              "<IPython.core.display.HTML object>"
            ],
            "text/html": [
              "Tracking run with wandb version 0.13.5"
            ]
          },
          "metadata": {}
        },
        {
          "output_type": "display_data",
          "data": {
            "text/plain": [
              "<IPython.core.display.HTML object>"
            ],
            "text/html": [
              "Run data is saved locally in <code>/content/Time-Series-Anomaly-Detection-An-experimental-survey/wandb/run-20221128_161422-TRAINING___DEEPANT_SWAT-seqlen_100-step_100-lr_0.00000</code>"
            ]
          },
          "metadata": {}
        },
        {
          "output_type": "display_data",
          "data": {
            "text/plain": [
              "<IPython.core.display.HTML object>"
            ],
            "text/html": [
              "Syncing run <strong><a href=\"https://wandb.ai/michiamoantonio/experimental-survey-AD/runs/TRAINING___DEEPANT_SWAT-seqlen_100-step_100-lr_0.00000\" target=\"_blank\">TRAINING___DEEPANT_SWAT-seqlen_100-step_100-lr_0.00000</a></strong> to <a href=\"https://wandb.ai/michiamoantonio/experimental-survey-AD\" target=\"_blank\">Weights & Biases</a> (<a href=\"https://wandb.me/run\" target=\"_blank\">docs</a>)<br/>"
            ]
          },
          "metadata": {}
        },
        {
          "output_type": "stream",
          "name": "stderr",
          "text": [
            "/content/Time-Series-Anomaly-Detection-An-experimental-survey/datafactory.py:25: DtypeWarning:\n",
            "\n",
            "Columns (26) have mixed types.Specify dtype option on import or set low_memory=False.\n",
            "\n",
            "/content/Time-Series-Anomaly-Detection-An-experimental-survey/datafactory.py:25: DtypeWarning:\n",
            "\n",
            "Columns (1,9,28,46) have mixed types.Specify dtype option on import or set low_memory=False.\n",
            "\n"
          ]
        },
        {
          "output_type": "stream",
          "name": "stdout",
          "text": [
            "Data preprocessing and method configuration finished in 26.244796991348267 sec.\n",
            "Model summary: \n",
            "=================================================================\n",
            "Layer (type:depth-idx)                   Param #\n",
            "=================================================================\n",
            "DeepAnt                                  --\n",
            "├─Sequential: 1-1                        --\n",
            "│    └─Conv1d: 2-1                       4,928\n",
            "│    └─ReLU: 2-2                         --\n",
            "│    └─MaxPool1d: 2-3                    --\n",
            "├─Sequential: 1-2                        --\n",
            "│    └─Conv1d: 2-4                       3,104\n",
            "│    └─ReLU: 2-5                         --\n",
            "│    └─MaxPool1d: 2-6                    --\n",
            "├─Flatten: 1-3                           --\n",
            "├─Sequential: 1-4                        --\n",
            "│    └─Linear: 2-7                       29,480\n",
            "│    └─ReLU: 2-8                         --\n",
            "│    └─Dropout: 2-9                      --\n",
            "├─Linear: 1-5                            2,091\n",
            "=================================================================\n",
            "Total params: 39,603\n",
            "Trainable params: 39,603\n",
            "Non-trainable params: 0\n",
            "=================================================================\n",
            "=====================================================================\n",
            "Training...\n"
          ]
        },
        {
          "output_type": "stream",
          "name": "stderr",
          "text": [
            "/usr/local/lib/python3.7/dist-packages/torch/utils/data/dataloader.py:566: UserWarning:\n",
            "\n",
            "This DataLoader will create 4 worker processes in total. Our suggested max number of worker in current system is 2, which is smaller than what this DataLoader is going to create. Please be aware that excessive worker creation might get DataLoader running slow or even freeze, lower the worker number to avoid potential slowness/freeze if necessary.\n",
            "\n"
          ]
        },
        {
          "output_type": "stream",
          "name": "stdout",
          "text": [
            "Epoch 1/130: train_loss:0.52825\n",
            "Epoch 2/130: train_loss:0.52816\n",
            "Epoch 3/130: train_loss:0.52785\n",
            "Epoch 4/130: train_loss:0.52743\n",
            "Epoch 5/130: train_loss:0.52684\n",
            "Epoch 6/130: train_loss:0.52612\n",
            "Epoch 7/130: train_loss:0.52518\n",
            "Epoch 8/130: train_loss:0.52411\n",
            "Epoch 9/130: train_loss:0.52295\n",
            "Epoch 10/130: train_loss:0.52168\n",
            "Epoch 11/130: train_loss:0.52040\n",
            "Epoch 12/130: train_loss:0.51902\n",
            "Epoch 13/130: train_loss:0.51761\n",
            "Epoch 14/130: train_loss:0.51616\n",
            "Epoch 15/130: train_loss:0.51467\n",
            "Epoch 16/130: train_loss:0.51312\n",
            "Epoch 17/130: train_loss:0.51160\n",
            "Epoch 18/130: train_loss:0.50998\n",
            "Epoch 19/130: train_loss:0.50834\n",
            "Epoch 20/130: train_loss:0.50675\n",
            "Epoch 21/130: train_loss:0.50503\n",
            "Epoch 22/130: train_loss:0.50329\n",
            "Epoch 23/130: train_loss:0.50156\n",
            "Epoch 24/130: train_loss:0.49976\n",
            "Epoch 25/130: train_loss:0.49805\n",
            "Epoch 26/130: train_loss:0.49631\n",
            "Epoch 27/130: train_loss:0.49457\n",
            "Epoch 28/130: train_loss:0.49277\n",
            "Epoch 29/130: train_loss:0.49103\n",
            "Epoch 30/130: train_loss:0.48931\n",
            "Epoch 31/130: train_loss:0.48755\n",
            "Epoch 32/130: train_loss:0.48567\n",
            "Epoch 33/130: train_loss:0.48383\n",
            "Epoch 34/130: train_loss:0.48190\n",
            "Epoch 35/130: train_loss:0.47976\n",
            "Epoch 36/130: train_loss:0.47774\n",
            "Epoch 37/130: train_loss:0.47571\n",
            "Epoch 38/130: train_loss:0.47349\n",
            "Epoch 39/130: train_loss:0.47133\n",
            "Epoch 40/130: train_loss:0.46906\n",
            "Epoch 41/130: train_loss:0.46676\n",
            "Epoch 42/130: train_loss:0.46433\n",
            "Epoch 43/130: train_loss:0.46197\n",
            "Epoch 44/130: train_loss:0.45924\n",
            "Epoch 45/130: train_loss:0.45643\n",
            "Epoch 46/130: train_loss:0.45354\n",
            "Epoch 47/130: train_loss:0.45053\n",
            "Epoch 48/130: train_loss:0.44735\n",
            "Epoch 49/130: train_loss:0.44411\n",
            "Epoch 50/130: train_loss:0.44091\n",
            "Epoch 51/130: train_loss:0.43703\n",
            "Epoch 52/130: train_loss:0.43351\n",
            "Epoch 53/130: train_loss:0.42935\n",
            "Epoch 54/130: train_loss:0.42527\n",
            "Epoch 55/130: train_loss:0.42074\n",
            "Epoch 56/130: train_loss:0.41643\n",
            "Epoch 57/130: train_loss:0.41141\n",
            "Epoch 58/130: train_loss:0.40646\n",
            "Epoch 59/130: train_loss:0.40161\n",
            "Epoch 60/130: train_loss:0.39584\n",
            "Epoch 61/130: train_loss:0.38940\n",
            "Epoch 62/130: train_loss:0.38370\n",
            "Epoch 63/130: train_loss:0.37736\n",
            "Epoch 64/130: train_loss:0.37100\n",
            "Epoch 65/130: train_loss:0.36471\n",
            "Epoch 66/130: train_loss:0.35866\n",
            "Epoch 67/130: train_loss:0.35369\n",
            "Epoch 68/130: train_loss:0.34716\n",
            "Epoch 69/130: train_loss:0.34391\n",
            "Epoch 70/130: train_loss:0.33867\n",
            "Epoch 71/130: train_loss:0.33491\n",
            "Epoch 72/130: train_loss:0.33145\n",
            "Epoch 73/130: train_loss:0.32962\n",
            "Epoch 74/130: train_loss:0.32639\n",
            "Epoch 75/130: train_loss:0.32203\n",
            "Epoch 76/130: train_loss:0.31712\n",
            "Epoch 77/130: train_loss:0.31032\n",
            "Epoch 78/130: train_loss:0.30236\n",
            "Epoch 79/130: train_loss:0.29214\n",
            "Epoch 80/130: train_loss:0.28126\n",
            "Epoch 81/130: train_loss:0.26915\n",
            "Epoch 82/130: train_loss:0.25810\n",
            "Epoch 83/130: train_loss:0.24832\n",
            "Epoch 84/130: train_loss:0.24113\n",
            "Epoch 85/130: train_loss:0.23669\n",
            "Epoch 86/130: train_loss:0.23620\n",
            "Epoch 87/130: train_loss:0.23614\n",
            "Epoch 88/130: train_loss:0.23797\n",
            "Epoch 89/130: train_loss:0.23948\n",
            "Epoch 90/130: train_loss:0.23821\n",
            "Epoch 91/130: train_loss:0.23519\n",
            "Epoch 92/130: train_loss:0.23140\n",
            "Epoch 93/130: train_loss:0.22467\n",
            "Epoch 94/130: train_loss:0.21615\n",
            "Epoch 95/130: train_loss:0.20498\n",
            "Epoch 96/130: train_loss:0.19643\n",
            "Epoch 97/130: train_loss:0.19035\n",
            "Epoch 98/130: train_loss:0.19232\n",
            "Epoch 99/130: train_loss:0.19916\n",
            "Epoch 100/130: train_loss:0.20884\n",
            "Epoch 101/130: train_loss:0.21719\n",
            "Epoch 102/130: train_loss:0.22329\n",
            "Epoch 103/130: train_loss:0.22246\n",
            "Epoch 104/130: train_loss:0.21550\n",
            "Epoch 105/130: train_loss:0.20292\n",
            "Epoch 106/130: train_loss:0.18934\n",
            "Epoch 107/130: train_loss:0.17720\n",
            "Epoch 108/130: train_loss:0.17148\n",
            "Epoch 109/130: train_loss:0.17530\n",
            "Epoch 110/130: train_loss:0.18240\n",
            "Epoch 111/130: train_loss:0.18975\n",
            "Epoch 112/130: train_loss:0.19411\n",
            "Epoch 113/130: train_loss:0.19715\n",
            "Epoch 114/130: train_loss:0.19586\n",
            "Epoch 115/130: train_loss:0.19339\n",
            "Epoch 116/130: train_loss:0.19020\n",
            "Epoch 117/130: train_loss:0.18470\n",
            "Epoch 118/130: train_loss:0.18017\n",
            "Epoch 119/130: train_loss:0.17479\n",
            "Epoch 120/130: train_loss:0.16852\n",
            "Epoch 121/130: train_loss:0.16499\n",
            "Epoch 122/130: train_loss:0.16220\n",
            "Epoch 123/130: train_loss:0.15966\n",
            "Epoch 124/130: train_loss:0.15956\n",
            "Epoch 125/130: train_loss:0.16114\n",
            "Epoch 126/130: train_loss:0.16399\n",
            "Epoch 127/130: train_loss:0.16812\n",
            "Epoch 128/130: train_loss:0.17393\n",
            "Epoch 129/130: train_loss:0.17854\n",
            "Epoch 130/130: train_loss:0.18356\n",
            "Training finished in 78.156 sec., avg time per epoch: 0.601 sec.\n",
            "=====================================================================\n",
            "=====================================================================\n",
            "Testing...\n",
            "Test finished in 10.900 sec.\n",
            "=====================================================================\n",
            "=====================================================================\n",
            "Computing results... \n"
          ]
        },
        {
          "output_type": "stream",
          "name": "stderr",
          "text": [
            "/usr/local/lib/python3.7/dist-packages/ipykernel_launcher.py:19: DtypeWarning:\n",
            "\n",
            "Columns (1,9,28,46) have mixed types.Specify dtype option on import or set low_memory=False.\n",
            "\n"
          ]
        },
        {
          "output_type": "stream",
          "name": "stdout",
          "text": [
            "              precision    recall  f1-score   support\n",
            "\n",
            "       False       1.00      0.00      0.00      3917\n",
            "        True       0.13      1.00      0.23       582\n",
            "\n",
            "    accuracy                           0.13      4499\n",
            "   macro avg       0.56      0.50      0.11      4499\n",
            "weighted avg       0.89      0.13      0.03      4499\n",
            "\n",
            "=====================================================================\n",
            "Computing results... \n"
          ]
        },
        {
          "output_type": "stream",
          "name": "stderr",
          "text": [
            "/usr/local/lib/python3.7/dist-packages/ipykernel_launcher.py:19: DtypeWarning:\n",
            "\n",
            "Columns (1,9,28,46) have mixed types.Specify dtype option on import or set low_memory=False.\n",
            "\n"
          ]
        },
        {
          "output_type": "stream",
          "name": "stdout",
          "text": [
            "              precision    recall  f1-score   support\n",
            "\n",
            "       False       0.99      0.44      0.61      3917\n",
            "        True       0.21      0.97      0.34       582\n",
            "\n",
            "    accuracy                           0.51      4499\n",
            "   macro avg       0.60      0.71      0.47      4499\n",
            "weighted avg       0.89      0.51      0.58      4499\n",
            "\n",
            "=====================================================================\n",
            "Computing results... \n"
          ]
        },
        {
          "output_type": "stream",
          "name": "stderr",
          "text": [
            "/usr/local/lib/python3.7/dist-packages/ipykernel_launcher.py:19: DtypeWarning:\n",
            "\n",
            "Columns (1,9,28,46) have mixed types.Specify dtype option on import or set low_memory=False.\n",
            "\n"
          ]
        },
        {
          "output_type": "stream",
          "name": "stdout",
          "text": [
            "              precision    recall  f1-score   support\n",
            "\n",
            "       False       0.98      0.66      0.79      3917\n",
            "        True       0.28      0.92      0.43       582\n",
            "\n",
            "    accuracy                           0.69      4499\n",
            "   macro avg       0.63      0.79      0.61      4499\n",
            "weighted avg       0.89      0.69      0.74      4499\n",
            "\n",
            "=====================================================================\n",
            "Computing results... \n"
          ]
        },
        {
          "output_type": "stream",
          "name": "stderr",
          "text": [
            "/usr/local/lib/python3.7/dist-packages/ipykernel_launcher.py:19: DtypeWarning:\n",
            "\n",
            "Columns (1,9,28,46) have mixed types.Specify dtype option on import or set low_memory=False.\n",
            "\n"
          ]
        },
        {
          "output_type": "stream",
          "name": "stdout",
          "text": [
            "              precision    recall  f1-score   support\n",
            "\n",
            "       False       0.97      0.86      0.91      3917\n",
            "        True       0.47      0.85      0.61       582\n",
            "\n",
            "    accuracy                           0.86      4499\n",
            "   macro avg       0.72      0.85      0.76      4499\n",
            "weighted avg       0.91      0.86      0.87      4499\n",
            "\n",
            "=====================================================================\n",
            "Computing results... \n"
          ]
        },
        {
          "output_type": "stream",
          "name": "stderr",
          "text": [
            "/usr/local/lib/python3.7/dist-packages/ipykernel_launcher.py:19: DtypeWarning:\n",
            "\n",
            "Columns (1,9,28,46) have mixed types.Specify dtype option on import or set low_memory=False.\n",
            "\n"
          ]
        },
        {
          "output_type": "stream",
          "name": "stdout",
          "text": [
            "              precision    recall  f1-score   support\n",
            "\n",
            "       False       0.96      0.98      0.97      3917\n",
            "        True       0.86      0.72      0.79       582\n",
            "\n",
            "    accuracy                           0.95      4499\n",
            "   macro avg       0.91      0.85      0.88      4499\n",
            "weighted avg       0.95      0.95      0.95      4499\n",
            "\n",
            "=====================================================================\n",
            "Computing results... \n"
          ]
        },
        {
          "output_type": "stream",
          "name": "stderr",
          "text": [
            "/usr/local/lib/python3.7/dist-packages/ipykernel_launcher.py:19: DtypeWarning:\n",
            "\n",
            "Columns (1,9,28,46) have mixed types.Specify dtype option on import or set low_memory=False.\n",
            "\n"
          ]
        },
        {
          "output_type": "stream",
          "name": "stdout",
          "text": [
            "              precision    recall  f1-score   support\n",
            "\n",
            "       False       0.95      1.00      0.97      3917\n",
            "        True       0.98      0.65      0.79       582\n",
            "\n",
            "    accuracy                           0.95      4499\n",
            "   macro avg       0.97      0.83      0.88      4499\n",
            "weighted avg       0.96      0.95      0.95      4499\n",
            "\n",
            "=====================================================================\n",
            "Computing results... \n"
          ]
        },
        {
          "output_type": "stream",
          "name": "stderr",
          "text": [
            "/usr/local/lib/python3.7/dist-packages/ipykernel_launcher.py:19: DtypeWarning:\n",
            "\n",
            "Columns (1,9,28,46) have mixed types.Specify dtype option on import or set low_memory=False.\n",
            "\n"
          ]
        },
        {
          "output_type": "stream",
          "name": "stdout",
          "text": [
            "              precision    recall  f1-score   support\n",
            "\n",
            "       False       0.95      1.00      0.97      3917\n",
            "        True       1.00      0.62      0.76       582\n",
            "\n",
            "    accuracy                           0.95      4499\n",
            "   macro avg       0.97      0.81      0.87      4499\n",
            "weighted avg       0.95      0.95      0.95      4499\n",
            "\n",
            "=====================================================================\n",
            "Computing results... \n"
          ]
        },
        {
          "output_type": "stream",
          "name": "stderr",
          "text": [
            "/usr/local/lib/python3.7/dist-packages/ipykernel_launcher.py:19: DtypeWarning:\n",
            "\n",
            "Columns (1,9,28,46) have mixed types.Specify dtype option on import or set low_memory=False.\n",
            "\n"
          ]
        },
        {
          "output_type": "stream",
          "name": "stdout",
          "text": [
            "              precision    recall  f1-score   support\n",
            "\n",
            "       False       0.95      1.00      0.97      3917\n",
            "        True       1.00      0.62      0.76       582\n",
            "\n",
            "    accuracy                           0.95      4499\n",
            "   macro avg       0.97      0.81      0.87      4499\n",
            "weighted avg       0.95      0.95      0.95      4499\n",
            "\n",
            "=====================================================================\n",
            "Computing results... \n"
          ]
        },
        {
          "output_type": "stream",
          "name": "stderr",
          "text": [
            "/usr/local/lib/python3.7/dist-packages/ipykernel_launcher.py:19: DtypeWarning:\n",
            "\n",
            "Columns (1,9,28,46) have mixed types.Specify dtype option on import or set low_memory=False.\n",
            "\n"
          ]
        },
        {
          "output_type": "stream",
          "name": "stdout",
          "text": [
            "              precision    recall  f1-score   support\n",
            "\n",
            "       False       0.95      1.00      0.97      3917\n",
            "        True       1.00      0.62      0.76       582\n",
            "\n",
            "    accuracy                           0.95      4499\n",
            "   macro avg       0.97      0.81      0.87      4499\n",
            "weighted avg       0.95      0.95      0.95      4499\n",
            "\n",
            "=====================================================================\n",
            "Computing results... \n"
          ]
        },
        {
          "output_type": "stream",
          "name": "stderr",
          "text": [
            "/usr/local/lib/python3.7/dist-packages/ipykernel_launcher.py:19: DtypeWarning:\n",
            "\n",
            "Columns (1,9,28,46) have mixed types.Specify dtype option on import or set low_memory=False.\n",
            "\n"
          ]
        },
        {
          "output_type": "stream",
          "name": "stdout",
          "text": [
            "              precision    recall  f1-score   support\n",
            "\n",
            "       False       0.95      1.00      0.97      3917\n",
            "        True       1.00      0.62      0.76       582\n",
            "\n",
            "    accuracy                           0.95      4499\n",
            "   macro avg       0.97      0.81      0.87      4499\n",
            "weighted avg       0.95      0.95      0.95      4499\n",
            "\n",
            "Run closed.\n",
            "Best accuracy is 0.95 with threshold 0.50\n",
            "Best Avg f1-score is 0.88 with threshold 0.50\n",
            "Best True f1-score is 0.79 with threshold 0.40\n"
          ]
        },
        {
          "output_type": "display_data",
          "data": {
            "text/plain": [
              "<IPython.core.display.HTML object>"
            ],
            "text/html": [
              "Waiting for W&B process to finish... <strong style=\"color:green\">(success).</strong>"
            ]
          },
          "metadata": {}
        },
        {
          "output_type": "display_data",
          "data": {
            "text/plain": [
              "<IPython.core.display.HTML object>"
            ],
            "text/html": [
              "<style>\n",
              "    table.wandb td:nth-child(1) { padding: 0 10px; text-align: left ; width: auto;} td:nth-child(2) {text-align: left ; width: 100%}\n",
              "    .wandb-row { display: flex; flex-direction: row; flex-wrap: wrap; justify-content: flex-start; width: 100% }\n",
              "    .wandb-col { display: flex; flex-direction: column; flex-basis: 100%; flex: 1; padding: 10px; }\n",
              "    </style>\n",
              "<div class=\"wandb-row\"><div class=\"wandb-col\"><h3>Run history:</h3><br/><table class=\"wandb\"><tr><td>F1_Avg</td><td>▁▄▆▇██████</td></tr><tr><td>F1_True</td><td>▁▂▄▆██████</td></tr><tr><td>Precision_Avg</td><td>▁▂▂▄▇█████</td></tr><tr><td>Precision_True</td><td>▁▂▂▄▇█████</td></tr><tr><td>Recall_Avg</td><td>▁▅▇██▇▇▇▇▇</td></tr><tr><td>Recall_True</td><td>█▇▆▅▃▂▁▁▁▁</td></tr><tr><td>accuracy</td><td>▁▄▆▇██████</td></tr><tr><td>epoch</td><td>▁▁▁▁▂▂▂▂▂▃▃▃▃▃▃▄▄▄▄▄▅▅▅▅▅▅▆▆▆▆▆▆▇▇▇▇▇███</td></tr><tr><td>loss</td><td>███████▇▇▇▇▇▇▇▇▆▆▆▅▅▅▄▄▄▃▃▂▂▂▂▂▂▂▁▂▂▁▁▁▁</td></tr><tr><td>threshold</td><td>▁▂▃▃▄▅▆▆▇█</td></tr></table><br/></div><div class=\"wandb-col\"><h3>Run summary:</h3><br/><table class=\"wandb\"><tr><td>F1_Avg</td><td>0.86839</td></tr><tr><td>F1_True</td><td>0.76433</td></tr><tr><td>Precision_Avg</td><td>0.97318</td></tr><tr><td>Precision_True</td><td>1.0</td></tr><tr><td>Recall_Avg</td><td>0.80928</td></tr><tr><td>Recall_True</td><td>0.61856</td></tr><tr><td>accuracy</td><td>0.95066</td></tr><tr><td>epoch</td><td>129</td></tr><tr><td>init_time</td><td>26.2448</td></tr><tr><td>loss</td><td>0.18356</td></tr><tr><td>test_time</td><td>10.89995</td></tr><tr><td>threshold</td><td>0.9</td></tr><tr><td>training_time</td><td>78.15583</td></tr></table><br/></div></div>"
            ]
          },
          "metadata": {}
        },
        {
          "output_type": "display_data",
          "data": {
            "text/plain": [
              "<IPython.core.display.HTML object>"
            ],
            "text/html": [
              "Synced <strong style=\"color:#cdcd00\">TRAINING___DEEPANT_SWAT-seqlen_100-step_100-lr_0.00000</strong>: <a href=\"https://wandb.ai/michiamoantonio/experimental-survey-AD/runs/TRAINING___DEEPANT_SWAT-seqlen_100-step_100-lr_0.00000\" target=\"_blank\">https://wandb.ai/michiamoantonio/experimental-survey-AD/runs/TRAINING___DEEPANT_SWAT-seqlen_100-step_100-lr_0.00000</a><br/>Synced 5 W&B file(s), 10 media file(s), 20 artifact file(s) and 0 other file(s)"
            ]
          },
          "metadata": {}
        },
        {
          "output_type": "display_data",
          "data": {
            "text/plain": [
              "<IPython.core.display.HTML object>"
            ],
            "text/html": [
              "Find logs at: <code>./wandb/run-20221128_161422-TRAINING___DEEPANT_SWAT-seqlen_100-step_100-lr_0.00000/logs</code>"
            ]
          },
          "metadata": {}
        }
      ]
    },
    {
      "cell_type": "code",
      "source": [
        "method.ground.shape, method.anomalies.shape"
      ],
      "metadata": {
        "id": "pWJ38qHeRsCI",
        "colab": {
          "base_uri": "https://localhost:8080/"
        },
        "outputId": "082df6b3-4513-4ba1-b9e0-77365dc86f6c"
      },
      "execution_count": null,
      "outputs": [
        {
          "output_type": "execute_result",
          "data": {
            "text/plain": [
              "((4499,), (2699,))"
            ]
          },
          "metadata": {},
          "execution_count": 4
        }
      ]
    },
    {
      "cell_type": "code",
      "source": [],
      "metadata": {
        "id": "CtDixTEHRr_e"
      },
      "execution_count": null,
      "outputs": []
    },
    {
      "cell_type": "code",
      "source": [],
      "metadata": {
        "id": "U9ldBdAGRr9J"
      },
      "execution_count": null,
      "outputs": []
    },
    {
      "cell_type": "code",
      "source": [],
      "metadata": {
        "id": "V0_ufISORr6u"
      },
      "execution_count": null,
      "outputs": []
    },
    {
      "cell_type": "code",
      "source": [],
      "metadata": {
        "id": "P41lU0eRRr4O"
      },
      "execution_count": null,
      "outputs": []
    },
    {
      "cell_type": "code",
      "source": [
        "### USAD\n",
        "from AnomalyDetectionMethodClass import ADMethod_back\n",
        "settings_={\n",
        "    'EPOCHS':20,\n",
        "    'BATCH_SIZE': 256,\n",
        "    'SEQ_LEN': 12,\n",
        "    'HIDDEN_SIZE': 100,\n",
        "    'ALPHA': 0.5,\n",
        "    'BETA': 0.5,\n",
        "    'CONFIDENCE': 0.82,\n",
        "    'DATASET': 'SWAT'}\n",
        "data_path = ''\n",
        "method_ = ADMethod_back('USAD',settings_,'')\n",
        "\n",
        "method_.prepare_pipeline()\n",
        "#h = method.train()\n",
        "#scores, report = method.test()"
      ],
      "metadata": {
        "id": "8HysJsSBIfX0",
        "colab": {
          "base_uri": "https://localhost:8080/"
        },
        "outputId": "890de6a9-5377-4002-e1d7-93f3b2da93d2"
      },
      "execution_count": null,
      "outputs": [
        {
          "output_type": "stream",
          "name": "stderr",
          "text": [
            "/content/Time-Series-Anomaly-Detection-An-experimental-survey/USAD/USADSolver.py:22: DtypeWarning: Columns (26) have mixed types.Specify dtype option on import or set low_memory=False.\n",
            "  self.prepare_data()\n",
            "/content/Time-Series-Anomaly-Detection-An-experimental-survey/USAD/USADSolver.py:22: DtypeWarning: Columns (1,9,28,46) have mixed types.Specify dtype option on import or set low_memory=False.\n",
            "  self.prepare_data()\n"
          ]
        },
        {
          "output_type": "stream",
          "name": "stdout",
          "text": [
            "(494988, 12, 51)\n"
          ]
        }
      ]
    },
    {
      "cell_type": "code",
      "source": [
        "for [el] in method_.solver.train_loader:\n",
        "  print(el.size())\n",
        "  break\n",
        "  "
      ],
      "metadata": {
        "colab": {
          "base_uri": "https://localhost:8080/"
        },
        "id": "aUupyW1h0kl2",
        "outputId": "a73ed80e-c9df-4bf7-f64b-0cd63ade522b"
      },
      "execution_count": null,
      "outputs": [
        {
          "output_type": "stream",
          "name": "stdout",
          "text": [
            "torch.Size([256, 612])\n"
          ]
        }
      ]
    },
    {
      "cell_type": "code",
      "source": [
        "for el in method.train_dl:\n",
        "  print(el.size())\n",
        "  break\n",
        "\n"
      ],
      "metadata": {
        "colab": {
          "base_uri": "https://localhost:8080/"
        },
        "id": "dvapzMfnBtCl",
        "outputId": "dc93836b-e16d-40ff-d303-6b0db73d0bfe"
      },
      "execution_count": null,
      "outputs": [
        {
          "output_type": "stream",
          "name": "stdout",
          "text": [
            "torch.Size([256, 612])\n"
          ]
        }
      ]
    },
    {
      "cell_type": "code",
      "source": [
        "for el in method.solver.train_loader:\n",
        "  print(el[0].shape)\n",
        "  print(len(el))\n",
        "  break"
      ],
      "metadata": {
        "colab": {
          "base_uri": "https://localhost:8080/"
        },
        "id": "HyC6JV0Z0rJy",
        "outputId": "8630b255-8b0e-4984-d8af-8835be170c13"
      },
      "execution_count": null,
      "outputs": [
        {
          "output_type": "stream",
          "name": "stdout",
          "text": [
            "torch.Size([7919, 612])\n",
            "1\n"
          ]
        }
      ]
    },
    {
      "cell_type": "code",
      "source": [
        "###  TRANSFORMER\n",
        "from AnomalyDetectionMethodClass import ADMethod\n",
        "data_path = './dataset/MSL'\n",
        "settings = {\n",
        "    'lr':1e-4,\n",
        "    'num_epochs':3,\n",
        "    'k':3,\n",
        "    'win_size':100,\n",
        "    'input_c':55,\n",
        "    'output_c':55,\n",
        "    'batch_size':256,\n",
        "    'pretrained_model':None,\n",
        "    'dataset':'MSL',\n",
        "    'mode':'train', # choices=['train', 'test']\n",
        "    'data_path':'./dataset/MSL',\n",
        "    'model_save_path':'checkpoints',\n",
        "    'anormly_ratio':1\n",
        "}\n",
        "method = ADMethod('transformer',settings, data_path)\n",
        "\n",
        "method.prepare_pipeline()\n",
        "method.train()\n",
        "scores, report = method.test()"
      ],
      "metadata": {
        "id": "UEinh9TJbwD6"
      },
      "execution_count": null,
      "outputs": []
    },
    {
      "cell_type": "code",
      "source": [
        "### DEEPANT\n",
        "from AnomalyDetectionMethodClass import ADMethod\n",
        "# data_path = './NAB/realKnownCause/cpu_utilization_asg_misconfiguration.csv'\n",
        "data_path = './dataset/MSL'\n",
        "\n",
        "\n",
        "LR_LIST = [0.001, 0.0001, 0.00001, 0.000001]\n",
        "SEQ_LIST = [100, 30, 100, 300]\n",
        "for lr in [0.0001]:#LR_LIST:\n",
        "  for seq in [100]: #SEQ_LIST:\n",
        "    # wandb.init(project=\"experimental-survey-AD\", entity=\"michiamoantonio\", group='DeepAnt')\n",
        "    # wandb.log({'lr': lr})\n",
        "    # wandb.log({'seq_len': seq})\n",
        "    settings = {\n",
        "      'SEQ_LEN': seq,\n",
        "      'out_dim': 1,\n",
        "      'EPOCHS': 1,\n",
        "      'LR': lr,\n",
        "      'CONFIDENCE': 0.50,\n",
        "      'TH_LIST': [0.1, 0.2, 0.3, 0.4, 0.5, 0.6, 0.7, 0.8, 0.9],\n",
        "      'TH_SEARCH': True,\n",
        "      'VERBOSE': True,\n",
        "      'DATASET': 'SWAT'\n",
        "    }\n",
        "    # wandb.config = settings\n",
        "    method = ADMethod('DeepAnt',settings, data_path)\n",
        "\n",
        "    method.prepare_pipeline()\n",
        "    l = method.train()\n",
        "    scores, report = method.test()\n",
        "\n",
        "    print(f\"lr: {lr}, seq_len: {seq}\")\n",
        "    for i,el in enumerate(report): \n",
        "      print(f\"#### th: {settings['TH_LIST'][i]}, f1-score: {el['macro avg']['f1-score']}\")\n",
        "      # wandb.log({'th': settings['TH_LIST'][i], 'f1-score': el['macro avg']['f1-score']})\n",
        "    # wandb.finish()\n",
        "\n"
      ],
      "metadata": {
        "id": "a8y-8dwBgXf1",
        "colab": {
          "base_uri": "https://localhost:8080/"
        },
        "outputId": "162a387d-a240-4cc9-c0bd-14a825c53010"
      },
      "execution_count": null,
      "outputs": [
        {
          "output_type": "stream",
          "name": "stdout",
          "text": [
            "LOAD TRAIN DATA\n"
          ]
        },
        {
          "output_type": "stream",
          "name": "stderr",
          "text": [
            "/content/Time-Series-Anomaly-Detection-An-experimental-survey/DeepAnt/DeepAntSolver.py:22: DtypeWarning: Columns (26) have mixed types.Specify dtype option on import or set low_memory=False.\n",
            "  self.prepare_data(data_path)\n"
          ]
        },
        {
          "output_type": "stream",
          "name": "stdout",
          "text": [
            "SCALER\n",
            "SCALED\n",
            "window\n",
            "WINDOWED\n"
          ]
        }
      ]
    },
    {
      "cell_type": "code",
      "source": [
        "!pip install torchinfo\n",
        "from torchinfo import summary\n",
        "summary(method.solver.model)"
      ],
      "metadata": {
        "id": "z1jw6nzI8RZZ"
      },
      "execution_count": null,
      "outputs": []
    }
  ]
}