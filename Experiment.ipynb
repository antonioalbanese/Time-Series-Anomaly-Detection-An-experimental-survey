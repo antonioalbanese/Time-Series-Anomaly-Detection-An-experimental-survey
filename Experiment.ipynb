{
  "nbformat": 4,
  "nbformat_minor": 0,
  "metadata": {
    "colab": {
      "provenance": [],
      "include_colab_link": true
    },
    "kernelspec": {
      "name": "python3",
      "display_name": "Python 3"
    },
    "language_info": {
      "name": "python"
    },
    "accelerator": "GPU",
    "gpuClass": "standard"
  },
  "cells": [
    {
      "cell_type": "markdown",
      "metadata": {
        "id": "view-in-github",
        "colab_type": "text"
      },
      "source": [
        "<a href=\"https://colab.research.google.com/github/antonioalbanese/Time-Series-Anomaly-Detection-An-experimental-survey/blob/main/Experiment.ipynb\" target=\"_parent\"><img src=\"https://colab.research.google.com/assets/colab-badge.svg\" alt=\"Open In Colab\"/></a>"
      ]
    },
    {
      "cell_type": "code",
      "source": [
        "!pip install torchinfo --quiet\n",
        "\n",
        "!pip install wandb --quiet\n",
        "\n",
        "import os\n",
        "os.environ[\"WANDB_API_KEY\"] = \"571001027d1947e02fe01237fe2d0bf5bbf8071b\""
      ],
      "metadata": {
        "colab": {
          "base_uri": "https://localhost:8080/"
        },
        "id": "HfBsDcWthQQi",
        "outputId": "57a0f225-d608-4113-d55a-a098138b86f9"
      },
      "execution_count": 1,
      "outputs": [
        {
          "output_type": "stream",
          "name": "stdout",
          "text": [
            "\u001b[?25l     \u001b[90m━━━━━━━━━━━━━━━━━━━━━━━━━━━━━━━━━━━━━━━━\u001b[0m \u001b[32m0.0/2.0 MB\u001b[0m \u001b[31m?\u001b[0m eta \u001b[36m-:--:--\u001b[0m\r\u001b[2K     \u001b[91m━━━━━━━━━━━━━━━━━━━━━━\u001b[0m\u001b[90m╺\u001b[0m\u001b[90m━━━━━━━━━━━━━━━━━\u001b[0m \u001b[32m1.1/2.0 MB\u001b[0m \u001b[31m32.7 MB/s\u001b[0m eta \u001b[36m0:00:01\u001b[0m\r\u001b[2K     \u001b[91m━━━━━━━━━━━━━━━━━━━━━━━━━━━━━━━━━━━━━━━\u001b[0m\u001b[91m╸\u001b[0m \u001b[32m1.9/2.0 MB\u001b[0m \u001b[31m42.8 MB/s\u001b[0m eta \u001b[36m0:00:01\u001b[0m\r\u001b[2K     \u001b[91m━━━━━━━━━━━━━━━━━━━━━━━━━━━━━━━━━━━━━━━\u001b[0m\u001b[91m╸\u001b[0m \u001b[32m1.9/2.0 MB\u001b[0m \u001b[31m42.8 MB/s\u001b[0m eta \u001b[36m0:00:01\u001b[0m\r\u001b[2K     \u001b[91m━━━━━━━━━━━━━━━━━━━━━━━━━━━━━━━━━━━━━━━\u001b[0m\u001b[91m╸\u001b[0m \u001b[32m1.9/2.0 MB\u001b[0m \u001b[31m42.8 MB/s\u001b[0m eta \u001b[36m0:00:01\u001b[0m\r\u001b[2K     \u001b[91m━━━━━━━━━━━━━━━━━━━━━━━━━━━━━━━━━━━━━━━\u001b[0m\u001b[91m╸\u001b[0m \u001b[32m1.9/2.0 MB\u001b[0m \u001b[31m42.8 MB/s\u001b[0m eta \u001b[36m0:00:01\u001b[0m\r\u001b[2K     \u001b[90m━━━━━━━━━━━━━━━━━━━━━━━━━━━━━━━━━━━━━━━━\u001b[0m \u001b[32m2.0/2.0 MB\u001b[0m \u001b[31m10.5 MB/s\u001b[0m eta \u001b[36m0:00:00\u001b[0m\n",
            "\u001b[?25h  Preparing metadata (setup.py) ... \u001b[?25l\u001b[?25hdone\n",
            "\u001b[2K     \u001b[90m━━━━━━━━━━━━━━━━━━━━━━━━━━━━━━━━━━━━━━\u001b[0m \u001b[32m184.0/184.0 KB\u001b[0m \u001b[31m10.1 MB/s\u001b[0m eta \u001b[36m0:00:00\u001b[0m\n",
            "\u001b[2K     \u001b[90m━━━━━━━━━━━━━━━━━━━━━━━━━━━━━━━━━━━━━━━\u001b[0m \u001b[32m178.9/178.9 KB\u001b[0m \u001b[31m9.8 MB/s\u001b[0m eta \u001b[36m0:00:00\u001b[0m\n",
            "\u001b[2K     \u001b[90m━━━━━━━━━━━━━━━━━━━━━━━━━━━━━━━━━━━━━━━━\u001b[0m \u001b[32m62.7/62.7 KB\u001b[0m \u001b[31m4.1 MB/s\u001b[0m eta \u001b[36m0:00:00\u001b[0m\n",
            "\u001b[2K     \u001b[90m━━━━━━━━━━━━━━━━━━━━━━━━━━━━━━━━━━━━━━\u001b[0m \u001b[32m140.6/140.6 KB\u001b[0m \u001b[31m10.4 MB/s\u001b[0m eta \u001b[36m0:00:00\u001b[0m\n",
            "\u001b[?25h  Building wheel for pathtools (setup.py) ... \u001b[?25l\u001b[?25hdone\n"
          ]
        }
      ]
    },
    {
      "cell_type": "code",
      "source": [
        "import zipfile\n",
        "import numpy as np\n",
        "\n",
        "\n",
        "!pip install torchinfo --quiet\n",
        "\n",
        "!git clone https://github.com/antonioalbanese/Time-Series-Anomaly-Detection-An-experimental-survey/\n",
        "\n",
        "%cd Time-Series-Anomaly-Detection-An-experimental-survey\n",
        "\n",
        "%mkdir data\n",
        "\n",
        "%mkdir ./data/SMD\n",
        "!python USAD/gdrivedl.py https://drive.google.com/file/d/18JNYBsaX7tu0Qfgo92nCBCklv471L1xB data/SMD\n",
        "with zipfile.ZipFile(\"./data/SMD/SMD.zip\", 'r') as zip_ref:\n",
        "    zip_ref.extractall(\"./data/\")\n",
        "\n",
        "%mkdir ./data/MSL\n",
        "!python USAD/gdrivedl.py https://drive.google.com/uc?id=1ZCLBU_pKTbsPlcj_LwxZE3IRy6mrlys3 data/MSL\n",
        "with zipfile.ZipFile(\"./data/MSL/MSL.zip\", 'r') as zip_ref:\n",
        "    zip_ref.extractall(\"./data/\")\n",
        "\n",
        "!mkdir data/SWAT\n",
        "#normal period\n",
        "!python USAD/gdrivedl.py https://drive.google.com/open?id=1rVJ5ry5GG-ZZi5yI4x9lICB8VhErXwCw data/SWAT\n",
        "#anomalies\n",
        "!python USAD/gdrivedl.py https://drive.google.com/open?id=1iDYc0OEmidN712fquOBRFjln90SbpaE7 data/SWAT"
      ],
      "metadata": {
        "colab": {
          "base_uri": "https://localhost:8080/"
        },
        "id": "O2QQtDc21dg8",
        "outputId": "3e558e92-bb91-4b6d-b8c1-f28d15468b4a"
      },
      "execution_count": 2,
      "outputs": [
        {
          "output_type": "stream",
          "name": "stdout",
          "text": [
            "Cloning into 'Time-Series-Anomaly-Detection-An-experimental-survey'...\n",
            "remote: Enumerating objects: 1327, done.\u001b[K\n",
            "remote: Counting objects: 100% (140/140), done.\u001b[K\n",
            "remote: Compressing objects: 100% (138/138), done.\u001b[K\n",
            "remote: Total 1327 (delta 87), reused 2 (delta 2), pack-reused 1187\u001b[K\n",
            "Receiving objects: 100% (1327/1327), 3.29 MiB | 1.60 MiB/s, done.\n",
            "Resolving deltas: 100% (823/823), done.\n",
            "/content/Time-Series-Anomaly-Detection-An-experimental-survey\n",
            "data/SMD/SMD.zip\n",
            "[==================================================] 185.82MB/185.82MB\n",
            "data/MSL/MSL.zip\n",
            "[==================================================] 0.73MB/0.73MB\n",
            "data/SWAT/SWaT_Dataset_Normal_v1.csv\n",
            "[==================================================] 163.77MB/163.77MB\n",
            "data/SWAT/SWaT_Dataset_Attack_v0.csv\n",
            "[==================================================] 127.27MB/127.27MB\n"
          ]
        }
      ]
    },
    {
      "cell_type": "code",
      "source": [
        "!wandb sweep ../prova.yaml -p new_prova -e ai4trucks-anomalydetection  --name finale_TRANSFORMER"
      ],
      "metadata": {
        "colab": {
          "base_uri": "https://localhost:8080/"
        },
        "id": "9IptczypojGE",
        "outputId": "1b8b962c-e479-48cc-d447-766957d5ac90"
      },
      "execution_count": 4,
      "outputs": [
        {
          "output_type": "stream",
          "name": "stdout",
          "text": [
            "\u001b[34m\u001b[1mwandb\u001b[0m: Creating sweep from: ../prova.yaml\n",
            "\u001b[34m\u001b[1mwandb\u001b[0m: Created sweep with ID: \u001b[33m4q0r64p2\u001b[0m\n",
            "\u001b[34m\u001b[1mwandb\u001b[0m: View sweep at: \u001b[34m\u001b[4mhttps://wandb.ai/ai4trucks-anomalydetection/new_prova/sweeps/4q0r64p2\u001b[0m\n",
            "\u001b[34m\u001b[1mwandb\u001b[0m: Run sweep agent with: \u001b[33mwandb agent ai4trucks-anomalydetection/new_prova/4q0r64p2\u001b[0m\n"
          ]
        }
      ]
    },
    {
      "cell_type": "code",
      "source": [
        "!wandb agent ai4trucks-anomalydetection/new_prova/4q0r64p2"
      ],
      "metadata": {
        "colab": {
          "base_uri": "https://localhost:8080/"
        },
        "id": "HE6o3zUerCGY",
        "outputId": "26904b9c-c18f-4b45-a286-b8944092f2e7"
      },
      "execution_count": 5,
      "outputs": [
        {
          "output_type": "stream",
          "name": "stdout",
          "text": [
            "\u001b[34m\u001b[1mwandb\u001b[0m: Starting wandb agent 🕵️\n",
            "2023-01-29 20:10:18,137 - wandb.wandb_agent - INFO - Running runs: []\n",
            "2023-01-29 20:10:18,415 - wandb.wandb_agent - INFO - Agent received command: run\n",
            "2023-01-29 20:10:18,415 - wandb.wandb_agent - INFO - Agent starting run with config:\n",
            "\tDATASET: NAB\n",
            "\tDOWNLOAD_DS: False\n",
            "\tEPOCHS: 30\n",
            "\tHIDDEN_SIZE: 100\n",
            "\tLOGGER: False\n",
            "\tLR: 0.0001\n",
            "\tMETHOD: TRANSFORMER\n",
            "\tNAB_PATH: realAdExchange/exchange-2_cpm_results.csv\n",
            "\tSEED: 1\n",
            "\tSEQ_LEN: 30\n",
            "\tSTEP: 30\n",
            "\tVERBOSE: False\n",
            "2023-01-29 20:10:18,417 - wandb.wandb_agent - INFO - About to run command: /usr/bin/env python main.py --DATASET=NAB --DOWNLOAD_DS=False --EPOCHS=30 --HIDDEN_SIZE=100 --LOGGER=False --LR=0.0001 --METHOD=TRANSFORMER --NAB_PATH=realAdExchange/exchange-2_cpm_results.csv --SEED=1 --SEQ_LEN=30 --STEP=30 --VERBOSE=False\n",
            "2023-01-29 20:10:23,426 - wandb.wandb_agent - INFO - Running runs: ['n6su7gl1']\n",
            "=====================================================================\n",
            "Initializing...\n",
            "Traceback (most recent call last):\n",
            "  File \"main.py\", line 67, in <module>\n",
            "    method = ADMethod(name = args.METHOD, config = configuration)\n",
            "  File \"/content/Time-Series-Anomaly-Detection-An-experimental-survey/AnomalyDetectionMethodClass.py\", line 97, in __init__\n",
            "    id=\"{}_{}-seqlen{}_step{}\".format(name, self.config['DATASET'], self.config['SEQ_LEN']),\n",
            "IndexError: Replacement index 3 out of range for positional args tuple\n",
            "2023-01-29 20:10:28,569 - wandb.wandb_agent - INFO - Cleaning up finished run: n6su7gl1\n",
            "2023-01-29 20:10:28,927 - wandb.wandb_agent - INFO - Agent received command: run\n",
            "2023-01-29 20:10:28,927 - wandb.wandb_agent - INFO - Agent starting run with config:\n",
            "\tDATASET: NAB\n",
            "\tDOWNLOAD_DS: False\n",
            "\tEPOCHS: 30\n",
            "\tHIDDEN_SIZE: 100\n",
            "\tLOGGER: False\n",
            "\tLR: 0.0001\n",
            "\tMETHOD: TRANSFORMER\n",
            "\tNAB_PATH: realAdExchange/exchange-2_cpm_results.csv\n",
            "\tSEED: 1\n",
            "\tSEQ_LEN: 30\n",
            "\tSTEP: 50\n",
            "\tVERBOSE: False\n",
            "2023-01-29 20:10:28,929 - wandb.wandb_agent - INFO - About to run command: /usr/bin/env python main.py --DATASET=NAB --DOWNLOAD_DS=False --EPOCHS=30 --HIDDEN_SIZE=100 --LOGGER=False --LR=0.0001 --METHOD=TRANSFORMER --NAB_PATH=realAdExchange/exchange-2_cpm_results.csv --SEED=1 --SEQ_LEN=30 --STEP=50 --VERBOSE=False\n",
            "=====================================================================\n",
            "Initializing...\n",
            "Traceback (most recent call last):\n",
            "  File \"main.py\", line 67, in <module>\n",
            "    method = ADMethod(name = args.METHOD, config = configuration)\n",
            "  File \"/content/Time-Series-Anomaly-Detection-An-experimental-survey/AnomalyDetectionMethodClass.py\", line 97, in __init__\n",
            "    id=\"{}_{}-seqlen{}_step{}\".format(name, self.config['DATASET'], self.config['SEQ_LEN']),\n",
            "IndexError: Replacement index 3 out of range for positional args tuple\n",
            "2023-01-29 20:10:33,940 - wandb.wandb_agent - INFO - Running runs: ['96glrzy3']\n",
            "2023-01-29 20:10:33,940 - wandb.wandb_agent - INFO - Cleaning up finished run: 96glrzy3\n",
            "2023-01-29 20:10:34,176 - wandb.wandb_agent - INFO - Agent received command: run\n",
            "2023-01-29 20:10:34,176 - wandb.wandb_agent - INFO - Agent starting run with config:\n",
            "\tDATASET: NAB\n",
            "\tDOWNLOAD_DS: False\n",
            "\tEPOCHS: 30\n",
            "\tHIDDEN_SIZE: 100\n",
            "\tLOGGER: False\n",
            "\tLR: 0.0001\n",
            "\tMETHOD: TRANSFORMER\n",
            "\tNAB_PATH: realAdExchange/exchange-2_cpm_results.csv\n",
            "\tSEED: 1\n",
            "\tSEQ_LEN: 30\n",
            "\tSTEP: 100\n",
            "\tVERBOSE: False\n",
            "2023-01-29 20:10:34,177 - wandb.wandb_agent - INFO - About to run command: /usr/bin/env python main.py --DATASET=NAB --DOWNLOAD_DS=False --EPOCHS=30 --HIDDEN_SIZE=100 --LOGGER=False --LR=0.0001 --METHOD=TRANSFORMER --NAB_PATH=realAdExchange/exchange-2_cpm_results.csv --SEED=1 --SEQ_LEN=30 --STEP=100 --VERBOSE=False\n",
            "=====================================================================\n",
            "Initializing...\n",
            "Traceback (most recent call last):\n",
            "  File \"main.py\", line 67, in <module>\n",
            "    method = ADMethod(name = args.METHOD, config = configuration)\n",
            "  File \"/content/Time-Series-Anomaly-Detection-An-experimental-survey/AnomalyDetectionMethodClass.py\", line 97, in __init__\n",
            "    id=\"{}_{}-seqlen{}_step{}\".format(name, self.config['DATASET'], self.config['SEQ_LEN']),\n",
            "IndexError: Replacement index 3 out of range for positional args tuple\n",
            "2023-01-29 20:10:39,187 - wandb.wandb_agent - INFO - Running runs: ['w3j1ayd0']\n",
            "2023-01-29 20:10:39,188 - wandb.wandb_agent - ERROR - Detected 3 failed runs in the first 60 seconds, shutting down.\n",
            "2023-01-29 20:10:39,188 - wandb.wandb_agent - INFO - To disable this check set WANDB_AGENT_DISABLE_FLAPPING=true\n",
            "\u001b[34m\u001b[1mwandb\u001b[0m: Terminating and syncing runs. Press ctrl-c to kill.\n"
          ]
        }
      ]
    },
    {
      "cell_type": "code",
      "source": [
        "!python main.py \"TRANSFORMER\" \"NAB\" \"realAdExchange/exchange-2_cpm_results.csv\" 100 100 0.001 30 True False 100 1 False"
      ],
      "metadata": {
        "colab": {
          "base_uri": "https://localhost:8080/"
        },
        "id": "Om8S3xQqd_EA",
        "outputId": "70f42ef3-1c34-4676-af0e-fab07b9664e8"
      },
      "execution_count": 3,
      "outputs": [
        {
          "output_type": "stream",
          "name": "stdout",
          "text": [
            "mkdir: cannot create directory ‘./data’: File exists\n",
            "=====================================================================\n",
            "Initializing...\n",
            "\u001b[34m\u001b[1mwandb\u001b[0m: Currently logged in as: \u001b[33mmichiamoantonio\u001b[0m. Use \u001b[1m`wandb login --relogin`\u001b[0m to force relogin\n",
            "\u001b[34m\u001b[1mwandb\u001b[0m: Tracking run with wandb version 0.13.9\n",
            "\u001b[34m\u001b[1mwandb\u001b[0m: Run data is saved locally in \u001b[35m\u001b[1m/content/Time-Series-Anomaly-Detection-An-experimental-survey/wandb/run-20230129_173946-TRAINING___TRANSFORMER_NAB-seqlen_100-step_100-epochs_30\u001b[0m\n",
            "\u001b[34m\u001b[1mwandb\u001b[0m: Run \u001b[1m`wandb offline`\u001b[0m to turn off syncing.\n",
            "\u001b[34m\u001b[1mwandb\u001b[0m: Syncing run \u001b[33mTRAINING___TRANSFORMER_NAB-seqlen_100-step_100-epochs_30\u001b[0m\n",
            "\u001b[34m\u001b[1mwandb\u001b[0m: ⭐️ View project at \u001b[34m\u001b[4mhttps://wandb.ai/michiamoantonio/experimental-survey-AD\u001b[0m\n",
            "\u001b[34m\u001b[1mwandb\u001b[0m: 🚀 View run at \u001b[34m\u001b[4mhttps://wandb.ai/michiamoantonio/experimental-survey-AD/runs/TRAINING___TRANSFORMER_NAB-seqlen_100-step_100-epochs_30\u001b[0m\n",
            "NAB DS\n",
            "NAB DS\n",
            "/usr/local/lib/python3.8/dist-packages/torch/utils/data/dataloader.py:554: UserWarning: This DataLoader will create 4 worker processes in total. Our suggested max number of worker in current system is 2, which is smaller than what this DataLoader is going to create. Please be aware that excessive worker creation might get DataLoader running slow or even freeze, lower the worker number to avoid potential slowness/freeze if necessary.\n",
            "  warnings.warn(_create_warning_msg(\n",
            "Data preprocessing and method configuration finished in 5.515750408172607 sec.\n",
            "Model summary: \n",
            "===========================================================================\n",
            "Layer (type:depth-idx)                             Param #\n",
            "===========================================================================\n",
            "AnomalyTransformer                                 --\n",
            "├─DataEmbedding: 1-1                               --\n",
            "│    └─TokenEmbedding: 2-1                         --\n",
            "│    │    └─Conv1d: 3-1                            1,536\n",
            "│    └─PositionalEmbedding: 2-2                    --\n",
            "│    └─Dropout: 2-3                                --\n",
            "├─Encoder: 1-2                                     --\n",
            "│    └─ModuleList: 2-4                             --\n",
            "│    │    └─EncoderLayer: 3-2                      1,583,112\n",
            "│    │    └─EncoderLayer: 3-3                      1,583,112\n",
            "│    │    └─EncoderLayer: 3-4                      1,583,112\n",
            "│    └─LayerNorm: 2-5                              1,024\n",
            "├─Linear: 1-3                                      513\n",
            "===========================================================================\n",
            "Total params: 4,752,409\n",
            "Trainable params: 4,752,409\n",
            "Non-trainable params: 0\n",
            "===========================================================================\n",
            "===========================================================================\n",
            "Layer (type:depth-idx)                             Param #\n",
            "===========================================================================\n",
            "AnomalyTransformer                                 --\n",
            "├─DataEmbedding: 1-1                               --\n",
            "│    └─TokenEmbedding: 2-1                         --\n",
            "│    │    └─Conv1d: 3-1                            1,536\n",
            "│    └─PositionalEmbedding: 2-2                    --\n",
            "│    └─Dropout: 2-3                                --\n",
            "├─Encoder: 1-2                                     --\n",
            "│    └─ModuleList: 2-4                             --\n",
            "│    │    └─EncoderLayer: 3-2                      1,583,112\n",
            "│    │    └─EncoderLayer: 3-3                      1,583,112\n",
            "│    │    └─EncoderLayer: 3-4                      1,583,112\n",
            "│    └─LayerNorm: 2-5                              1,024\n",
            "├─Linear: 1-3                                      513\n",
            "===========================================================================\n",
            "Total params: 4,752,409\n",
            "Trainable params: 4,752,409\n",
            "Non-trainable params: 0\n",
            "===========================================================================\n",
            "=====================================================================\n",
            "Training...\n",
            "Epoch 1/30: train_loss_1:-23.82493. train_loss_2:24.12065\n",
            "Epoch 2/30: train_loss_1:50.05092. train_loss_2:93.46364\n",
            "Epoch 3/30: train_loss_1:-21.12697. train_loss_2:22.47062\n",
            "Epoch 4/30: train_loss_1:-20.20968. train_loss_2:24.70789\n",
            "Epoch 5/30: train_loss_1:-23.34892. train_loss_2:24.31549\n",
            "Epoch 6/30: train_loss_1:-25.13416. train_loss_2:27.15019\n",
            "Epoch 7/30: train_loss_1:-29.47876. train_loss_2:29.52885\n",
            "Epoch 8/30: train_loss_1:-32.68182. train_loss_2:34.06719\n",
            "Epoch 9/30: train_loss_1:-35.99120. train_loss_2:37.44781\n",
            "Epoch 10/30: train_loss_1:-39.04556. train_loss_2:39.14306\n",
            "Epoch 11/30: train_loss_1:-40.13634. train_loss_2:41.35580\n",
            "Epoch 12/30: train_loss_1:-41.72694. train_loss_2:42.18116\n",
            "Epoch 13/30: train_loss_1:-42.84692. train_loss_2:42.96891\n",
            "Epoch 14/30: train_loss_1:-43.43115. train_loss_2:43.86425\n",
            "Epoch 15/30: train_loss_1:-44.12648. train_loss_2:44.28600\n",
            "Epoch 16/30: train_loss_1:-44.63010. train_loss_2:44.67274\n",
            "Epoch 17/30: train_loss_1:-45.01118. train_loss_2:45.21592\n",
            "Epoch 18/30: train_loss_1:-45.47025. train_loss_2:45.65683\n",
            "Epoch 19/30: train_loss_1:-45.94145. train_loss_2:45.97646\n",
            "Epoch 20/30: train_loss_1:-46.15535. train_loss_2:46.27207\n",
            "Epoch 21/30: train_loss_1:-46.35783. train_loss_2:46.48413\n",
            "Epoch 22/30: train_loss_1:-46.61090. train_loss_2:46.63240\n",
            "Epoch 23/30: train_loss_1:-46.72261. train_loss_2:46.76677\n",
            "Epoch 24/30: train_loss_1:-46.80539. train_loss_2:46.87317\n",
            "Epoch 25/30: train_loss_1:-46.92439. train_loss_2:46.96246\n",
            "Epoch 26/30: train_loss_1:-47.06003. train_loss_2:47.08363\n",
            "Epoch 27/30: train_loss_1:-47.19253. train_loss_2:47.23366\n",
            "Epoch 28/30: train_loss_1:-47.28814. train_loss_2:47.33062\n",
            "Epoch 29/30: train_loss_1:-47.35374. train_loss_2:47.38090\n",
            "Epoch 30/30: train_loss_1:-47.40388. train_loss_2:47.43401\n",
            "Updating learning rate to 1.862645149230957e-12\n",
            "Training finished in 14.447 sec., avg time per epoch: 0.482 sec.\n",
            "=====================================================================\n",
            "=====================================================================\n",
            "Testing...\n",
            "Test finished in 0.341 sec.\n",
            "=====================================================================\n",
            "=====================================================================\n",
            "Computing results... \n",
            "/usr/local/lib/python3.8/dist-packages/sklearn/metrics/_classification.py:1318: UndefinedMetricWarning: Precision and F-score are ill-defined and being set to 0.0 in labels with no predicted samples. Use `zero_division` parameter to control this behavior.\n",
            "  _warn_prf(average, modifier, msg_start, len(result))\n",
            "/usr/local/lib/python3.8/dist-packages/sklearn/metrics/_classification.py:1318: UndefinedMetricWarning: Precision and F-score are ill-defined and being set to 0.0 in labels with no predicted samples. Use `zero_division` parameter to control this behavior.\n",
            "  _warn_prf(average, modifier, msg_start, len(result))\n",
            "/usr/local/lib/python3.8/dist-packages/sklearn/metrics/_classification.py:1318: UndefinedMetricWarning: Precision and F-score are ill-defined and being set to 0.0 in labels with no predicted samples. Use `zero_division` parameter to control this behavior.\n",
            "  _warn_prf(average, modifier, msg_start, len(result))\n",
            "/usr/local/lib/python3.8/dist-packages/sklearn/metrics/_classification.py:1318: UndefinedMetricWarning: Precision and F-score are ill-defined and being set to 0.0 in labels with no predicted samples. Use `zero_division` parameter to control this behavior.\n",
            "  _warn_prf(average, modifier, msg_start, len(result))\n",
            "/usr/local/lib/python3.8/dist-packages/sklearn/metrics/_classification.py:1318: UndefinedMetricWarning: Precision and F-score are ill-defined and being set to 0.0 in labels with no predicted samples. Use `zero_division` parameter to control this behavior.\n",
            "  _warn_prf(average, modifier, msg_start, len(result))\n",
            "/usr/local/lib/python3.8/dist-packages/sklearn/metrics/_classification.py:1318: UndefinedMetricWarning: Precision and F-score are ill-defined and being set to 0.0 in labels with no predicted samples. Use `zero_division` parameter to control this behavior.\n",
            "  _warn_prf(average, modifier, msg_start, len(result))\n",
            "              precision    recall  f1-score   support\n",
            "\n",
            "       False       0.00      0.00      0.00        12\n",
            "        True       0.25      1.00      0.40         4\n",
            "\n",
            "    accuracy                           0.25        16\n",
            "   macro avg       0.12      0.50      0.20        16\n",
            "weighted avg       0.06      0.25      0.10        16\n",
            "\n",
            "=====================================================================\n",
            "Computing results... \n",
            "              precision    recall  f1-score   support\n",
            "\n",
            "       False       1.00      0.25      0.40        12\n",
            "        True       0.31      1.00      0.47         4\n",
            "\n",
            "    accuracy                           0.44        16\n",
            "   macro avg       0.65      0.62      0.44        16\n",
            "weighted avg       0.83      0.44      0.42        16\n",
            "\n",
            "=====================================================================\n",
            "Computing results... \n",
            "              precision    recall  f1-score   support\n",
            "\n",
            "       False       1.00      0.42      0.59        12\n",
            "        True       0.36      1.00      0.53         4\n",
            "\n",
            "    accuracy                           0.56        16\n",
            "   macro avg       0.68      0.71      0.56        16\n",
            "weighted avg       0.84      0.56      0.57        16\n",
            "\n",
            "=====================================================================\n",
            "Computing results... \n",
            "              precision    recall  f1-score   support\n",
            "\n",
            "       False       1.00      0.58      0.74        12\n",
            "        True       0.44      1.00      0.62         4\n",
            "\n",
            "    accuracy                           0.69        16\n",
            "   macro avg       0.72      0.79      0.68        16\n",
            "weighted avg       0.86      0.69      0.71        16\n",
            "\n",
            "=====================================================================\n",
            "Computing results... \n",
            "              precision    recall  f1-score   support\n",
            "\n",
            "       False       0.80      0.67      0.73        12\n",
            "        True       0.33      0.50      0.40         4\n",
            "\n",
            "    accuracy                           0.62        16\n",
            "   macro avg       0.57      0.58      0.56        16\n",
            "weighted avg       0.68      0.62      0.65        16\n",
            "\n",
            "=====================================================================\n",
            "Computing results... \n",
            "              precision    recall  f1-score   support\n",
            "\n",
            "       False       0.82      0.75      0.78        12\n",
            "        True       0.40      0.50      0.44         4\n",
            "\n",
            "    accuracy                           0.69        16\n",
            "   macro avg       0.61      0.62      0.61        16\n",
            "weighted avg       0.71      0.69      0.70        16\n",
            "\n",
            "=====================================================================\n",
            "Computing results... \n",
            "              precision    recall  f1-score   support\n",
            "\n",
            "       False       0.85      0.92      0.88        12\n",
            "        True       0.67      0.50      0.57         4\n",
            "\n",
            "    accuracy                           0.81        16\n",
            "   macro avg       0.76      0.71      0.73        16\n",
            "weighted avg       0.80      0.81      0.80        16\n",
            "\n",
            "=====================================================================\n",
            "Computing results... \n",
            "              precision    recall  f1-score   support\n",
            "\n",
            "       False       0.85      0.92      0.88        12\n",
            "        True       0.67      0.50      0.57         4\n",
            "\n",
            "    accuracy                           0.81        16\n",
            "   macro avg       0.76      0.71      0.73        16\n",
            "weighted avg       0.80      0.81      0.80        16\n",
            "\n",
            "=====================================================================\n",
            "Computing results... \n",
            "              precision    recall  f1-score   support\n",
            "\n",
            "       False       0.85      0.92      0.88        12\n",
            "        True       0.67      0.50      0.57         4\n",
            "\n",
            "    accuracy                           0.81        16\n",
            "   macro avg       0.76      0.71      0.73        16\n",
            "weighted avg       0.80      0.81      0.80        16\n",
            "\n",
            "=====================================================================\n",
            "Computing results... \n",
            "              precision    recall  f1-score   support\n",
            "\n",
            "       False       0.86      1.00      0.92        12\n",
            "        True       1.00      0.50      0.67         4\n",
            "\n",
            "    accuracy                           0.88        16\n",
            "   macro avg       0.93      0.75      0.79        16\n",
            "weighted avg       0.89      0.88      0.86        16\n",
            "\n",
            "Run closed.\n",
            "Best accuracy is 0.88 with threshold 0.90\n",
            "Best Avg f1-score is 0.79 with threshold 0.90\n",
            "Best True f1-score is 0.67 with threshold 0.90\n",
            "\u001b[34m\u001b[1mwandb\u001b[0m: Waiting for W&B process to finish... \u001b[32m(success).\u001b[0m\n",
            "\u001b[34m\u001b[1mwandb\u001b[0m: \u001b[32m\u001b[41mERROR\u001b[0m Control-C detected -- Run data was not synced\n",
            "Traceback (most recent call last):\n",
            "  File \"/usr/local/lib/python3.8/dist-packages/wandb/sdk/wandb_run.py\", line 2079, in _atexit_cleanup\n",
            "    self._on_finish()\n",
            "  File \"/usr/local/lib/python3.8/dist-packages/wandb/sdk/wandb_run.py\", line 2308, in _on_finish\n",
            "    _ = exit_handle.wait(timeout=-1, on_progress=self._on_progress_exit)\n",
            "  File \"/usr/local/lib/python3.8/dist-packages/wandb/sdk/lib/mailbox.py\", line 273, in wait\n",
            "    found, abandoned = self._slot._get_and_clear(timeout=wait_timeout)\n",
            "  File \"/usr/local/lib/python3.8/dist-packages/wandb/sdk/lib/mailbox.py\", line 120, in _get_and_clear\n",
            "    if self._wait(timeout=timeout):\n",
            "  File \"/usr/local/lib/python3.8/dist-packages/wandb/sdk/lib/mailbox.py\", line 116, in _wait\n",
            "    return self._event.wait(timeout=timeout)\n",
            "  File \"/usr/lib/python3.8/threading.py\", line 558, in wait\n",
            "    signaled = self._cond.wait(timeout)\n",
            "  File \"/usr/lib/python3.8/threading.py\", line 306, in wait\n",
            "    gotit = waiter.acquire(True, timeout)\n",
            "KeyboardInterrupt\n",
            "\n",
            "During handling of the above exception, another exception occurred:\n",
            "\n",
            "Traceback (most recent call last):\n",
            "  File \"main.py\", line 72, in <module>\n",
            "    method.close_run()\n",
            "  File \"/content/Time-Series-Anomaly-Detection-An-experimental-survey/AnomalyDetectionMethodClass.py\", line 533, in close_run\n",
            "    wandb.finish()\n",
            "  File \"/usr/local/lib/python3.8/dist-packages/wandb/sdk/wandb_run.py\", line 3671, in finish\n",
            "    wandb.run.finish(exit_code=exit_code, quiet=quiet)\n",
            "  File \"/usr/local/lib/python3.8/dist-packages/wandb/sdk/wandb_run.py\", line 370, in wrapper\n",
            "    return func(self, *args, **kwargs)\n",
            "  File \"/usr/local/lib/python3.8/dist-packages/wandb/sdk/wandb_run.py\", line 333, in wrapper\n",
            "    return func(self, *args, **kwargs)\n",
            "  File \"/usr/local/lib/python3.8/dist-packages/wandb/sdk/wandb_run.py\", line 1835, in finish\n",
            "    return self._finish(exit_code, quiet)\n",
            "  File \"/usr/local/lib/python3.8/dist-packages/wandb/sdk/wandb_run.py\", line 1850, in _finish\n",
            "    self._atexit_cleanup(exit_code=exit_code)\n",
            "  File \"/usr/local/lib/python3.8/dist-packages/wandb/sdk/wandb_run.py\", line 2083, in _atexit_cleanup\n",
            "    wandb.termerror(\"Control-C detected -- Run data was not synced\")\n",
            "  File \"/usr/local/lib/python3.8/dist-packages/wandb/errors/term.py\", line 61, in termerror\n",
            "    _log(\n",
            "  File \"/usr/local/lib/python3.8/dist-packages/wandb/errors/term.py\", line 95, in _log\n",
            "    click.echo(line, file=sys.stderr, nl=newline)\n",
            "  File \"/usr/local/lib/python3.8/dist-packages/click/utils.py\", line 272, in echo\n",
            "    file.write(message)\n",
            "KeyboardInterrupt\n",
            "\u001b[34m\u001b[1mwandb\u001b[0m: Waiting for W&B process to finish... \u001b[31m(failed 255).\u001b[0m Press Control-C to abort syncing.\n",
            "\u001b[34m\u001b[1mwandb\u001b[0m: \n",
            "\u001b[34m\u001b[1mwandb\u001b[0m: Run history:\n",
            "\u001b[34m\u001b[1mwandb\u001b[0m:         F1_Avg ▁▄▅▇▅▆▇▇▇█\n",
            "\u001b[34m\u001b[1mwandb\u001b[0m:        F1_True ▁▃▅▇▁▂▆▆▆█\n",
            "\u001b[34m\u001b[1mwandb\u001b[0m:  Precision_Avg ▁▆▆▆▅▅▇▇▇█\n",
            "\u001b[34m\u001b[1mwandb\u001b[0m: Precision_True ▁▂▂▃▂▂▅▅▅█\n",
            "\u001b[34m\u001b[1mwandb\u001b[0m:     Recall_Avg ▁▄▆█▃▄▆▆▆▇\n",
            "\u001b[34m\u001b[1mwandb\u001b[0m:    Recall_True ████▁▁▁▁▁▁\n",
            "\u001b[34m\u001b[1mwandb\u001b[0m:       accuracy ▁▃▅▆▅▆▇▇▇█\n",
            "\u001b[34m\u001b[1mwandb\u001b[0m:          epoch ▁▁▁▂▂▂▂▃▃▃▃▄▄▄▄▅▅▅▅▆▆▆▆▇▇▇▇███\n",
            "\u001b[34m\u001b[1mwandb\u001b[0m:          loss1 ▃█▃▃▃▃▂▂▂▂▂▁▁▁▁▁▁▁▁▁▁▁▁▁▁▁▁▁▁▁\n",
            "\u001b[34m\u001b[1mwandb\u001b[0m:          loss2 ▁█▁▁▁▁▂▂▂▃▃▃▃▃▃▃▃▃▃▃▃▃▃▃▃▃▃▃▃▃\n",
            "\u001b[34m\u001b[1mwandb\u001b[0m:       loss_sum ▁█▁▁▁▁▁▁▁▁▁▁▁▁▁▁▁▁▁▁▁▁▁▁▁▁▁▁▁▁\n",
            "\u001b[34m\u001b[1mwandb\u001b[0m:      threshold ▁▂▃▃▄▅▆▆▇█\n",
            "\u001b[34m\u001b[1mwandb\u001b[0m: \n",
            "\u001b[34m\u001b[1mwandb\u001b[0m: Run summary:\n",
            "\u001b[34m\u001b[1mwandb\u001b[0m:         F1_Avg 0.79487\n",
            "\u001b[34m\u001b[1mwandb\u001b[0m:        F1_True 0.66667\n",
            "\u001b[34m\u001b[1mwandb\u001b[0m:  Precision_Avg 0.92857\n",
            "\u001b[34m\u001b[1mwandb\u001b[0m: Precision_True 1.0\n",
            "\u001b[34m\u001b[1mwandb\u001b[0m:     Recall_Avg 0.75\n",
            "\u001b[34m\u001b[1mwandb\u001b[0m:    Recall_True 0.5\n",
            "\u001b[34m\u001b[1mwandb\u001b[0m:       accuracy 0.875\n",
            "\u001b[34m\u001b[1mwandb\u001b[0m:          epoch 29\n",
            "\u001b[34m\u001b[1mwandb\u001b[0m:      init_time 5.51575\n",
            "\u001b[34m\u001b[1mwandb\u001b[0m:          loss1 -47.40388\n",
            "\u001b[34m\u001b[1mwandb\u001b[0m:          loss2 47.43401\n",
            "\u001b[34m\u001b[1mwandb\u001b[0m:       loss_sum 0.03013\n",
            "\u001b[34m\u001b[1mwandb\u001b[0m:      test_time 0.3407\n",
            "\u001b[34m\u001b[1mwandb\u001b[0m:      threshold 0.9\n",
            "\u001b[34m\u001b[1mwandb\u001b[0m:  training_time 14.44677\n",
            "\u001b[34m\u001b[1mwandb\u001b[0m: \n",
            "\u001b[34m\u001b[1mwandb\u001b[0m: 🚀 View run \u001b[33mTRAINING___TRANSFORMER_NAB-seqlen_100-step_100-epochs_30\u001b[0m at: \u001b[34m\u001b[4mhttps://wandb.ai/michiamoantonio/experimental-survey-AD/runs/TRAINING___TRANSFORMER_NAB-seqlen_100-step_100-epochs_30\u001b[0m\n",
            "\u001b[34m\u001b[1mwandb\u001b[0m: Synced 5 W&B file(s), 10 media file(s), 22 artifact file(s) and 0 other file(s)\n",
            "\u001b[34m\u001b[1mwandb\u001b[0m: Find logs at: \u001b[35m\u001b[1m./wandb/run-20230129_173946-TRAINING___TRANSFORMER_NAB-seqlen_100-step_100-epochs_30/logs\u001b[0m\n",
            "^C\n"
          ]
        }
      ]
    },
    {
      "cell_type": "markdown",
      "source": [
        "## TANOGAN"
      ],
      "metadata": {
        "id": "ZLQ_zo6ehbY2"
      }
    },
    {
      "cell_type": "code",
      "source": [
        "### NEW TANOGAN \n",
        "from AnomalyDetectionMethodClass import ADMethod\n",
        "\n",
        "configuration = {\n",
        "    'DATASET': 'SMD', #SWAT, MSL, SMD, NAB\n",
        "    'DATAPATH': \"realKnownCause/machine_temperature_system_failure.csv\", #\"realKnownCause/machine_temperature_system_failure.csv\", #Only needed with NAB\n",
        "    'SEQ_LEN': 300,\n",
        "    'STEP': 300,\n",
        "    'HIDDEN_SIZE': 100, #Needed for USAD method\n",
        "    'LR': 0.0001,\n",
        "    'EPOCHS': 30,\n",
        "    'VERBOSE': True,\n",
        "    'LOGGER': False\n",
        "}\n",
        "# configuration = configurations[curr_config]\n",
        "method = ADMethod(name = 'TANOGAN', config = configuration)\n",
        "train_history = method.train()\n",
        "_, score = method.test()\n",
        "rep = method.results(0.6, True)"
      ],
      "metadata": {
        "id": "Kc78ah5zfO_3",
        "outputId": "8199430a-657c-4a5b-eeaf-a93abef3c74e",
        "colab": {
          "base_uri": "https://localhost:8080/",
          "height": 1000
        }
      },
      "execution_count": null,
      "outputs": [
        {
          "output_type": "stream",
          "name": "stdout",
          "text": [
            "=====================================================================\n",
            "Initializing...\n",
            "Data preprocessing and method configuration finished in 0.4700429439544678 sec.\n",
            "Model summary: \n",
            "Generator: \n",
            "=================================================================\n",
            "Layer (type:depth-idx)                   Param #\n",
            "=================================================================\n",
            "TanoLSTMGenerator                        --\n",
            "├─LSTM: 1-1                              9,216\n",
            "├─LSTM: 1-2                              25,088\n",
            "├─LSTM: 1-3                              99,328\n",
            "├─Sequential: 1-4                        --\n",
            "│    └─Linear: 2-1                       4,902\n",
            "│    └─Tanh: 2-2                         --\n",
            "=================================================================\n",
            "Total params: 138,534\n",
            "Trainable params: 138,534\n",
            "Non-trainable params: 0\n",
            "=================================================================\n",
            "Discriminator: \n",
            "=================================================================\n",
            "Layer (type:depth-idx)                   Param #\n",
            "=================================================================\n",
            "TanoLSTMDiscriminator                    --\n",
            "├─LSTM: 1-1                              56,000\n",
            "├─Sequential: 1-2                        --\n",
            "│    └─Linear: 2-1                       101\n",
            "│    └─Sigmoid: 2-2                      --\n",
            "=================================================================\n",
            "Total params: 56,101\n",
            "Trainable params: 56,101\n",
            "Non-trainable params: 0\n",
            "=================================================================\n",
            "=====================================================================\n",
            "Training...\n"
          ]
        },
        {
          "output_type": "stream",
          "name": "stderr",
          "text": [
            "/usr/local/lib/python3.8/dist-packages/torch/utils/data/dataloader.py:563: UserWarning:\n",
            "\n",
            "This DataLoader will create 4 worker processes in total. Our suggested max number of worker in current system is 2, which is smaller than what this DataLoader is going to create. Please be aware that excessive worker creation might get DataLoader running slow or even freeze, lower the worker number to avoid potential slowness/freeze if necessary.\n",
            "\n",
            "/content/Time-Series-Anomaly-Detection-An-experimental-survey/AnomalyDetectionMethodClass.py:610: UserWarning:\n",
            "\n",
            "nn.init.normal is now deprecated in favor of nn.init.normal_.\n",
            "\n",
            "/content/Time-Series-Anomaly-Detection-An-experimental-survey/AnomalyDetectionMethodClass.py:626: UserWarning:\n",
            "\n",
            "nn.init.normal is now deprecated in favor of nn.init.normal_.\n",
            "\n"
          ]
        },
        {
          "output_type": "stream",
          "name": "stdout",
          "text": [
            "Epoch 1/30: train_loss_D:1.36293. train_loss_G:0.67411\n",
            "Epoch 2/30: train_loss_D:1.33716. train_loss_G:0.65777\n",
            "Epoch 3/30: train_loss_D:1.30986. train_loss_G:0.63177\n",
            "Epoch 4/30: train_loss_D:1.28369. train_loss_G:0.56502\n",
            "Epoch 5/30: train_loss_D:1.48588. train_loss_G:0.37473\n",
            "Epoch 6/30: train_loss_D:1.88256. train_loss_G:0.27434\n",
            "Epoch 7/30: train_loss_D:1.76728. train_loss_G:0.33412\n",
            "Epoch 8/30: train_loss_D:1.54230. train_loss_G:0.45359\n",
            "Epoch 9/30: train_loss_D:1.30133. train_loss_G:0.63121\n",
            "Epoch 10/30: train_loss_D:1.09395. train_loss_G:0.82604\n",
            "Epoch 11/30: train_loss_D:0.86024. train_loss_G:0.98559\n",
            "Epoch 12/30: train_loss_D:0.74351. train_loss_G:1.02049\n",
            "Epoch 13/30: train_loss_D:1.45597. train_loss_G:0.53680\n",
            "Epoch 14/30: train_loss_D:1.60097. train_loss_G:0.47769\n",
            "Epoch 15/30: train_loss_D:1.51580. train_loss_G:0.48774\n",
            "Epoch 16/30: train_loss_D:1.44435. train_loss_G:0.47266\n",
            "Epoch 17/30: train_loss_D:1.26642. train_loss_G:0.44420\n",
            "Epoch 18/30: train_loss_D:1.14981. train_loss_G:0.47301\n",
            "Epoch 19/30: train_loss_D:1.07968. train_loss_G:0.49552\n",
            "Epoch 20/30: train_loss_D:1.09199. train_loss_G:0.50040\n",
            "Epoch 21/30: train_loss_D:1.30789. train_loss_G:0.47672\n",
            "Epoch 22/30: train_loss_D:1.61602. train_loss_G:0.42101\n",
            "Epoch 23/30: train_loss_D:1.65212. train_loss_G:0.44289\n",
            "Epoch 24/30: train_loss_D:1.54208. train_loss_G:0.51974\n",
            "Epoch 25/30: train_loss_D:1.43998. train_loss_G:0.60145\n",
            "Epoch 26/30: train_loss_D:1.35939. train_loss_G:0.67506\n",
            "Epoch 27/30: train_loss_D:1.30298. train_loss_G:0.73055\n",
            "Epoch 28/30: train_loss_D:1.27992. train_loss_G:0.75181\n",
            "Epoch 29/30: train_loss_D:1.30832. train_loss_G:0.71709\n",
            "Epoch 30/30: train_loss_D:1.43122. train_loss_G:0.58640\n",
            "Training finished in 59.441 sec., avg time per epoch: 1.981 sec.\n",
            "=====================================================================\n",
            "=====================================================================\n",
            "Testing...\n"
          ]
        },
        {
          "output_type": "stream",
          "name": "stderr",
          "text": [
            "/content/Time-Series-Anomaly-Detection-An-experimental-survey/AnomalyDetectionMethodClass.py:736: UserWarning:\n",
            "\n",
            "nn.init.normal is now deprecated in favor of nn.init.normal_.\n",
            "\n"
          ]
        },
        {
          "output_type": "stream",
          "name": "stdout",
          "text": [
            "Test finished in 1107.208 sec.\n",
            "=====================================================================\n",
            "=====================================================================\n",
            "Computing results... \n",
            "              precision    recall  f1-score   support\n",
            "\n",
            "       False       0.88      0.97      0.92      3076\n",
            "        True       0.34      0.11      0.16       466\n",
            "\n",
            "    accuracy                           0.86      3542\n",
            "   macro avg       0.61      0.54      0.54      3542\n",
            "weighted avg       0.81      0.86      0.82      3542\n",
            "\n"
          ]
        },
        {
          "output_type": "display_data",
          "data": {
            "text/html": [
              "<html>\n",
              "<head><meta charset=\"utf-8\" /></head>\n",
              "<body>\n",
              "    <div>            <script src=\"https://cdnjs.cloudflare.com/ajax/libs/mathjax/2.7.5/MathJax.js?config=TeX-AMS-MML_SVG\"></script><script type=\"text/javascript\">if (window.MathJax) {MathJax.Hub.Config({SVG: {font: \"STIX-Web\"}});}</script>                <script type=\"text/javascript\">window.PlotlyConfig = {MathJaxConfig: 'local'};</script>\n",
              "        <script src=\"https://cdn.plot.ly/plotly-2.8.3.min.js\"></script>                <div id=\"a52048c3-242e-497e-a6c6-876ca3b95e12\" class=\"plotly-graph-div\" style=\"height:525px; width:100%;\"></div>            <script type=\"text/javascript\">                                    window.PLOTLYENV=window.PLOTLYENV || {};                                    if (document.getElementById(\"a52048c3-242e-497e-a6c6-876ca3b95e12\")) {                    Plotly.newPlot(                        \"a52048c3-242e-497e-a6c6-876ca3b95e12\",                        [{\"line\":{\"color\":\"#515ad6\"},\"mode\":\"lines\",\"name\":\"Anomaly score\",\"x\":[0,1,2,3,4,5,6,7,8,9,10,11,12,13,14,15,16,17,18,19,20,21,22,23,24,25,26,27,28,29,30,31,32,33,34,35,36,37,38,39,40,41,42,43,44,45,46,47,48,49,50,51,52,53,54,55,56,57,58,59,60,61,62,63,64,65,66,67,68,69,70,71,72,73,74,75,76,77,78,79,80,81,82,83,84,85,86,87,88,89,90,91,92,93,94,95,96,97,98,99,100,101,102,103,104,105,106,107,108,109,110,111,112,113,114,115,116,117,118,119,120,121,122,123,124,125,126,127,128,129,130,131,132,133,134,135,136,137,138,139,140,141,142,143,144,145,146,147,148,149,150,151,152,153,154,155,156,157,158,159,160,161,162,163,164,165,166,167,168,169,170,171,172,173,174,175,176,177,178,179,180,181,182,183,184,185,186,187,188,189,190,191,192,193,194,195,196,197,198,199,200,201,202,203,204,205,206,207,208,209,210,211,212,213,214,215,216,217,218,219,220,221,222,223,224,225,226,227,228,229,230,231,232,233,234,235,236,237,238,239,240,241,242,243,244,245,246,247,248,249,250,251,252,253,254,255,256,257,258,259,260,261,262,263,264,265,266,267,268,269,270,271,272,273,274,275,276,277,278,279,280,281,282,283,284,285,286,287,288,289,290,291,292,293,294,295,296,297,298,299,300,301,302,303,304,305,306,307,308,309,310,311,312,313,314,315,316,317,318,319,320,321,322,323,324,325,326,327,328,329,330,331,332,333,334,335,336,337,338,339,340,341,342,343,344,345,346,347,348,349,350,351,352,353,354,355,356,357,358,359,360,361,362,363,364,365,366,367,368,369,370,371,372,373,374,375,376,377,378,379,380,381,382,383,384,385,386,387,388,389,390,391,392,393,394,395,396,397,398,399,400,401,402,403,404,405,406,407,408,409,410,411,412,413,414,415,416,417,418,419,420,421,422,423,424,425,426,427,428,429,430,431,432,433,434,435,436,437,438,439,440,441,442,443,444,445,446,447,448,449,450,451,452,453,454,455,456,457,458,459,460,461,462,463,464,465,466,467,468,469,470,471,472,473,474,475,476,477,478,479,480,481,482,483,484,485,486,487,488,489,490,491,492,493,494,495,496,497,498,499,500,501,502,503,504,505,506,507,508,509,510,511,512,513,514,515,516,517,518,519,520,521,522,523,524,525,526,527,528,529,530,531,532,533,534,535,536,537,538,539,540,541,542,543,544,545,546,547,548,549,550,551,552,553,554,555,556,557,558,559,560,561,562,563,564,565,566,567,568,569,570,571,572,573,574,575,576,577,578,579,580,581,582,583,584,585,586,587,588,589,590,591,592,593,594,595,596,597,598,599,600,601,602,603,604,605,606,607,608,609,610,611,612,613,614,615,616,617,618,619,620,621,622,623,624,625,626,627,628,629,630,631,632,633,634,635,636,637,638,639,640,641,642,643,644,645,646,647,648,649,650,651,652,653,654,655,656,657,658,659,660,661,662,663,664,665,666,667,668,669,670,671,672,673,674,675,676,677,678,679,680,681,682,683,684,685,686,687,688,689,690,691,692,693,694,695,696,697,698,699,700,701,702,703,704,705,706,707,708,709,710,711,712,713,714,715,716,717,718,719,720,721,722,723,724,725,726,727,728,729,730,731,732,733,734,735,736,737,738,739,740,741,742,743,744,745,746,747,748,749,750,751,752,753,754,755,756,757,758,759,760,761,762,763,764,765,766,767,768,769,770,771,772,773,774,775,776,777,778,779,780,781,782,783,784,785,786,787,788,789,790,791,792,793,794,795,796,797,798,799,800,801,802,803,804,805,806,807,808,809,810,811,812,813,814,815,816,817,818,819,820,821,822,823,824,825,826,827,828,829,830,831,832,833,834,835,836,837,838,839,840,841,842,843,844,845,846,847,848,849,850,851,852,853,854,855,856,857,858,859,860,861,862,863,864,865,866,867,868,869,870,871,872,873,874,875,876,877,878,879,880,881,882,883,884,885,886,887,888,889,890,891,892,893,894,895,896,897,898,899,900,901,902,903,904,905,906,907,908,909,910,911,912,913,914,915,916,917,918,919,920,921,922,923,924,925,926,927,928,929,930,931,932,933,934,935,936,937,938,939,940,941,942,943,944,945,946,947,948,949,950,951,952,953,954,955,956,957,958,959,960,961,962,963,964,965,966,967,968,969,970,971,972,973,974,975,976,977,978,979,980,981,982,983,984,985,986,987,988,989,990,991,992,993,994,995,996,997,998,999,1000,1001,1002,1003,1004,1005,1006,1007,1008,1009,1010,1011,1012,1013,1014,1015,1016,1017,1018,1019,1020,1021,1022,1023,1024,1025,1026,1027,1028,1029,1030,1031,1032,1033,1034,1035,1036,1037,1038,1039,1040,1041,1042,1043,1044,1045,1046,1047,1048,1049,1050,1051,1052,1053,1054,1055,1056,1057,1058,1059,1060,1061,1062,1063,1064,1065,1066,1067,1068,1069,1070,1071,1072,1073,1074,1075,1076,1077,1078,1079,1080,1081,1082,1083,1084,1085,1086,1087,1088,1089,1090,1091,1092,1093,1094,1095,1096,1097,1098,1099,1100,1101,1102,1103,1104,1105,1106,1107,1108,1109,1110,1111,1112,1113,1114,1115,1116,1117,1118,1119,1120,1121,1122,1123,1124,1125,1126,1127,1128,1129,1130,1131,1132,1133,1134,1135,1136,1137,1138,1139,1140,1141,1142,1143,1144,1145,1146,1147,1148,1149,1150,1151,1152,1153,1154,1155,1156,1157,1158,1159,1160,1161,1162,1163,1164,1165,1166,1167,1168,1169,1170,1171,1172,1173,1174,1175,1176,1177,1178,1179,1180,1181,1182,1183,1184,1185,1186,1187,1188,1189,1190,1191,1192,1193,1194,1195,1196,1197,1198,1199,1200,1201,1202,1203,1204,1205,1206,1207,1208,1209,1210,1211,1212,1213,1214,1215,1216,1217,1218,1219,1220,1221,1222,1223,1224,1225,1226,1227,1228,1229,1230,1231,1232,1233,1234,1235,1236,1237,1238,1239,1240,1241,1242,1243,1244,1245,1246,1247,1248,1249,1250,1251,1252,1253,1254,1255,1256,1257,1258,1259,1260,1261,1262,1263,1264,1265,1266,1267,1268,1269,1270,1271,1272,1273,1274,1275,1276,1277,1278,1279,1280,1281,1282,1283,1284,1285,1286,1287,1288,1289,1290,1291,1292,1293,1294,1295,1296,1297,1298,1299,1300,1301,1302,1303,1304,1305,1306,1307,1308,1309,1310,1311,1312,1313,1314,1315,1316,1317,1318,1319,1320,1321,1322,1323,1324,1325,1326,1327,1328,1329,1330,1331,1332,1333,1334,1335,1336,1337,1338,1339,1340,1341,1342,1343,1344,1345,1346,1347,1348,1349,1350,1351,1352,1353,1354,1355,1356,1357,1358,1359,1360,1361,1362,1363,1364,1365,1366,1367,1368,1369,1370,1371,1372,1373,1374,1375,1376,1377,1378,1379,1380,1381,1382,1383,1384,1385,1386,1387,1388,1389,1390,1391,1392,1393,1394,1395,1396,1397,1398,1399,1400,1401,1402,1403,1404,1405,1406,1407,1408,1409,1410,1411,1412,1413,1414,1415,1416,1417,1418,1419,1420,1421,1422,1423,1424,1425,1426,1427,1428,1429,1430,1431,1432,1433,1434,1435,1436,1437,1438,1439,1440,1441,1442,1443,1444,1445,1446,1447,1448,1449,1450,1451,1452,1453,1454,1455,1456,1457,1458,1459,1460,1461,1462,1463,1464,1465,1466,1467,1468,1469,1470,1471,1472,1473,1474,1475,1476,1477,1478,1479,1480,1481,1482,1483,1484,1485,1486,1487,1488,1489,1490,1491,1492,1493,1494,1495,1496,1497,1498,1499,1500,1501,1502,1503,1504,1505,1506,1507,1508,1509,1510,1511,1512,1513,1514,1515,1516,1517,1518,1519,1520,1521,1522,1523,1524,1525,1526,1527,1528,1529,1530,1531,1532,1533,1534,1535,1536,1537,1538,1539,1540,1541,1542,1543,1544,1545,1546,1547,1548,1549,1550,1551,1552,1553,1554,1555,1556,1557,1558,1559,1560,1561,1562,1563,1564,1565,1566,1567,1568,1569,1570,1571,1572,1573,1574,1575,1576,1577,1578,1579,1580,1581,1582,1583,1584,1585,1586,1587,1588,1589,1590,1591,1592,1593,1594,1595,1596,1597,1598,1599,1600,1601,1602,1603,1604,1605,1606,1607,1608,1609,1610,1611,1612,1613,1614,1615,1616,1617,1618,1619,1620,1621,1622,1623,1624,1625,1626,1627,1628,1629,1630,1631,1632,1633,1634,1635,1636,1637,1638,1639,1640,1641,1642,1643,1644,1645,1646,1647,1648,1649,1650,1651,1652,1653,1654,1655,1656,1657,1658,1659,1660,1661,1662,1663,1664,1665,1666,1667,1668,1669,1670,1671,1672,1673,1674,1675,1676,1677,1678,1679,1680,1681,1682,1683,1684,1685,1686,1687,1688,1689,1690,1691,1692,1693,1694,1695,1696,1697,1698,1699,1700,1701,1702,1703,1704,1705,1706,1707,1708,1709,1710,1711,1712,1713,1714,1715,1716,1717,1718,1719,1720,1721,1722,1723,1724,1725,1726,1727,1728,1729,1730,1731,1732,1733,1734,1735,1736,1737,1738,1739,1740,1741,1742,1743,1744,1745,1746,1747,1748,1749,1750,1751,1752,1753,1754,1755,1756,1757,1758,1759,1760,1761,1762,1763,1764,1765,1766,1767,1768,1769,1770,1771,1772,1773,1774,1775,1776,1777,1778,1779,1780,1781,1782,1783,1784,1785,1786,1787,1788,1789,1790,1791,1792,1793,1794,1795,1796,1797,1798,1799,1800,1801,1802,1803,1804,1805,1806,1807,1808,1809,1810,1811,1812,1813,1814,1815,1816,1817,1818,1819,1820,1821,1822,1823,1824,1825,1826,1827,1828,1829,1830,1831,1832,1833,1834,1835,1836,1837,1838,1839,1840,1841,1842,1843,1844,1845,1846,1847,1848,1849,1850,1851,1852,1853,1854,1855,1856,1857,1858,1859,1860,1861,1862,1863,1864,1865,1866,1867,1868,1869,1870,1871,1872,1873,1874,1875,1876,1877,1878,1879,1880,1881,1882,1883,1884,1885,1886,1887,1888,1889,1890,1891,1892,1893,1894,1895,1896,1897,1898,1899,1900,1901,1902,1903,1904,1905,1906,1907,1908,1909,1910,1911,1912,1913,1914,1915,1916,1917,1918,1919,1920,1921,1922,1923,1924,1925,1926,1927,1928,1929,1930,1931,1932,1933,1934,1935,1936,1937,1938,1939,1940,1941,1942,1943,1944,1945,1946,1947,1948,1949,1950,1951,1952,1953,1954,1955,1956,1957,1958,1959,1960,1961,1962,1963,1964,1965,1966,1967,1968,1969,1970,1971,1972,1973,1974,1975,1976,1977,1978,1979,1980,1981,1982,1983,1984,1985,1986,1987,1988,1989,1990,1991,1992,1993,1994,1995,1996,1997,1998,1999,2000,2001,2002,2003,2004,2005,2006,2007,2008,2009,2010,2011,2012,2013,2014,2015,2016,2017,2018,2019,2020,2021,2022,2023,2024,2025,2026,2027,2028,2029,2030,2031,2032,2033,2034,2035,2036,2037,2038,2039,2040,2041,2042,2043,2044,2045,2046,2047,2048,2049,2050,2051,2052,2053,2054,2055,2056,2057,2058,2059,2060,2061,2062,2063,2064,2065,2066,2067,2068,2069,2070,2071,2072,2073,2074,2075,2076,2077,2078,2079,2080,2081,2082,2083,2084,2085,2086,2087,2088,2089,2090,2091,2092,2093,2094,2095,2096,2097,2098,2099,2100,2101,2102,2103,2104,2105,2106,2107,2108,2109,2110,2111,2112,2113,2114,2115,2116,2117,2118,2119,2120,2121,2122,2123,2124,2125,2126,2127,2128,2129,2130,2131,2132,2133,2134,2135,2136,2137,2138,2139,2140,2141,2142,2143,2144,2145,2146,2147,2148,2149,2150,2151,2152,2153,2154,2155,2156,2157,2158,2159,2160,2161,2162,2163,2164,2165,2166,2167,2168,2169,2170,2171,2172,2173,2174,2175,2176,2177,2178,2179,2180,2181,2182,2183,2184,2185,2186,2187,2188,2189,2190,2191,2192,2193,2194,2195,2196,2197,2198,2199,2200,2201,2202,2203,2204,2205,2206,2207,2208,2209,2210,2211,2212,2213,2214,2215,2216,2217,2218,2219,2220,2221,2222,2223,2224,2225,2226,2227,2228,2229,2230,2231,2232,2233,2234,2235,2236,2237,2238,2239,2240,2241,2242,2243,2244,2245,2246,2247,2248,2249,2250,2251,2252,2253,2254,2255,2256,2257,2258,2259,2260,2261,2262,2263,2264,2265,2266,2267,2268,2269,2270,2271,2272,2273,2274,2275,2276,2277,2278,2279,2280,2281,2282,2283,2284,2285,2286,2287,2288,2289,2290,2291,2292,2293,2294,2295,2296,2297,2298,2299,2300,2301,2302,2303,2304,2305,2306,2307,2308,2309,2310,2311,2312,2313,2314,2315,2316,2317,2318,2319,2320,2321,2322,2323,2324,2325,2326,2327,2328,2329,2330,2331,2332,2333,2334,2335,2336,2337,2338,2339,2340,2341,2342,2343,2344,2345,2346,2347,2348,2349,2350,2351,2352,2353,2354,2355,2356,2357,2358,2359,2360,2361,2362,2363,2364,2365,2366,2367,2368,2369,2370,2371,2372,2373,2374,2375,2376,2377,2378,2379,2380,2381,2382,2383,2384,2385,2386,2387,2388,2389,2390,2391,2392,2393,2394,2395,2396,2397,2398,2399,2400,2401,2402,2403,2404,2405,2406,2407,2408,2409,2410,2411,2412,2413,2414,2415,2416,2417,2418,2419,2420,2421,2422,2423,2424,2425,2426,2427,2428,2429,2430,2431,2432,2433,2434,2435,2436,2437,2438,2439,2440,2441,2442,2443,2444,2445,2446,2447,2448,2449,2450,2451,2452,2453,2454,2455,2456,2457,2458,2459,2460,2461,2462,2463,2464,2465,2466,2467,2468,2469,2470,2471,2472,2473,2474,2475,2476,2477,2478,2479,2480,2481,2482,2483,2484,2485,2486,2487,2488,2489,2490,2491,2492,2493,2494,2495,2496,2497,2498,2499,2500,2501,2502,2503,2504,2505,2506,2507,2508,2509,2510,2511,2512,2513,2514,2515,2516,2517,2518,2519,2520,2521,2522,2523,2524,2525,2526,2527,2528,2529,2530,2531,2532,2533,2534,2535,2536,2537,2538,2539,2540,2541,2542,2543,2544,2545,2546,2547,2548,2549,2550,2551,2552,2553,2554,2555,2556,2557,2558,2559,2560,2561,2562,2563,2564,2565,2566,2567,2568,2569,2570,2571,2572,2573,2574,2575,2576,2577,2578,2579,2580,2581,2582,2583,2584,2585,2586,2587,2588,2589,2590,2591,2592,2593,2594,2595,2596,2597,2598,2599,2600,2601,2602,2603,2604,2605,2606,2607,2608,2609,2610,2611,2612,2613,2614,2615,2616,2617,2618,2619,2620,2621,2622,2623,2624,2625,2626,2627,2628,2629,2630,2631,2632,2633,2634,2635,2636,2637,2638,2639,2640,2641,2642,2643,2644,2645,2646,2647,2648,2649,2650,2651,2652,2653,2654,2655,2656,2657,2658,2659,2660,2661,2662,2663,2664,2665,2666,2667,2668,2669,2670,2671,2672,2673,2674,2675,2676,2677,2678,2679,2680,2681,2682,2683,2684,2685,2686,2687,2688,2689,2690,2691,2692,2693,2694,2695,2696,2697,2698,2699,2700,2701,2702,2703,2704,2705,2706,2707,2708,2709,2710,2711,2712,2713,2714,2715,2716,2717,2718,2719,2720,2721,2722,2723,2724,2725,2726,2727,2728,2729,2730,2731,2732,2733,2734,2735,2736,2737,2738,2739,2740,2741,2742,2743,2744,2745,2746,2747,2748,2749,2750,2751,2752,2753,2754,2755,2756,2757,2758,2759,2760,2761,2762,2763,2764,2765,2766,2767,2768,2769,2770,2771,2772,2773,2774,2775,2776,2777,2778,2779,2780,2781,2782,2783,2784,2785,2786,2787,2788,2789,2790,2791,2792,2793,2794,2795,2796,2797,2798,2799,2800,2801,2802,2803,2804,2805,2806,2807,2808,2809,2810,2811,2812,2813,2814,2815,2816,2817,2818,2819,2820,2821,2822,2823,2824,2825,2826,2827,2828,2829,2830,2831,2832,2833,2834,2835,2836,2837,2838,2839,2840,2841,2842,2843,2844,2845,2846,2847,2848,2849,2850,2851,2852,2853,2854,2855,2856,2857,2858,2859,2860,2861,2862,2863,2864,2865,2866,2867,2868,2869,2870,2871,2872,2873,2874,2875,2876,2877,2878,2879,2880,2881,2882,2883,2884,2885,2886,2887,2888,2889,2890,2891,2892,2893,2894,2895,2896,2897,2898,2899,2900,2901,2902,2903,2904,2905,2906,2907,2908,2909,2910,2911,2912,2913,2914,2915,2916,2917,2918,2919,2920,2921,2922,2923,2924,2925,2926,2927,2928,2929,2930,2931,2932,2933,2934,2935,2936,2937,2938,2939,2940,2941,2942,2943,2944,2945,2946,2947,2948,2949,2950,2951,2952,2953,2954,2955,2956,2957,2958,2959,2960,2961,2962,2963,2964,2965,2966,2967,2968,2969,2970,2971,2972,2973,2974,2975,2976,2977,2978,2979,2980,2981,2982,2983,2984,2985,2986,2987,2988,2989,2990,2991,2992,2993,2994,2995,2996,2997,2998,2999,3000,3001,3002,3003,3004,3005,3006,3007,3008,3009,3010,3011,3012,3013,3014,3015,3016,3017,3018,3019,3020,3021,3022,3023,3024,3025,3026,3027,3028,3029,3030,3031,3032,3033,3034,3035,3036,3037,3038,3039,3040,3041,3042,3043,3044,3045,3046,3047,3048,3049,3050,3051,3052,3053,3054,3055,3056,3057,3058,3059,3060,3061,3062,3063,3064,3065,3066,3067,3068,3069,3070,3071,3072,3073,3074,3075,3076,3077,3078,3079,3080,3081,3082,3083,3084,3085,3086,3087,3088,3089,3090,3091,3092,3093,3094,3095,3096,3097,3098,3099,3100,3101,3102,3103,3104,3105,3106,3107,3108,3109,3110,3111,3112,3113,3114,3115,3116,3117,3118,3119,3120,3121,3122,3123,3124,3125,3126,3127,3128,3129,3130,3131,3132,3133,3134,3135,3136,3137,3138,3139,3140,3141,3142,3143,3144,3145,3146,3147,3148,3149,3150,3151,3152,3153,3154,3155,3156,3157,3158,3159,3160,3161,3162,3163,3164,3165,3166,3167,3168,3169,3170,3171,3172,3173,3174,3175,3176,3177,3178,3179,3180,3181,3182,3183,3184,3185,3186,3187,3188,3189,3190,3191,3192,3193,3194,3195,3196,3197,3198,3199,3200,3201,3202,3203,3204,3205,3206,3207,3208,3209,3210,3211,3212,3213,3214,3215,3216,3217,3218,3219,3220,3221,3222,3223,3224,3225,3226,3227,3228,3229,3230,3231,3232,3233,3234,3235,3236,3237,3238,3239,3240,3241,3242,3243,3244,3245,3246,3247,3248,3249,3250,3251,3252,3253,3254,3255,3256,3257,3258,3259,3260,3261,3262,3263,3264,3265,3266,3267,3268,3269,3270,3271,3272,3273,3274,3275,3276,3277,3278,3279,3280,3281,3282,3283,3284,3285,3286,3287,3288,3289,3290,3291,3292,3293,3294,3295,3296,3297,3298,3299,3300,3301,3302,3303,3304,3305,3306,3307,3308,3309,3310,3311,3312,3313,3314,3315,3316,3317,3318,3319,3320,3321,3322,3323,3324,3325,3326,3327,3328,3329,3330,3331,3332,3333,3334,3335,3336,3337,3338,3339,3340,3341,3342,3343,3344,3345,3346,3347,3348,3349,3350,3351,3352,3353,3354,3355,3356,3357,3358,3359,3360,3361,3362,3363,3364,3365,3366,3367,3368,3369,3370,3371,3372,3373,3374,3375,3376,3377,3378,3379,3380,3381,3382,3383,3384,3385,3386,3387,3388,3389,3390,3391,3392,3393,3394,3395,3396,3397,3398,3399,3400,3401,3402,3403,3404,3405,3406,3407,3408,3409,3410,3411,3412,3413,3414,3415,3416,3417,3418,3419,3420,3421,3422,3423,3424,3425,3426,3427,3428,3429,3430,3431,3432,3433,3434,3435,3436,3437,3438,3439,3440,3441,3442,3443,3444,3445,3446,3447,3448,3449,3450,3451,3452,3453,3454,3455,3456,3457,3458,3459,3460,3461,3462,3463,3464,3465,3466,3467,3468,3469,3470,3471,3472,3473,3474,3475,3476,3477,3478,3479,3480,3481,3482,3483,3484,3485,3486,3487,3488,3489,3490,3491,3492,3493,3494,3495,3496,3497,3498,3499,3500,3501,3502,3503,3504,3505,3506,3507,3508,3509,3510,3511,3512,3513,3514,3515,3516,3517,3518,3519,3520,3521,3522,3523,3524,3525,3526,3527,3528,3529,3530,3531,3532,3533,3534,3535,3536,3537,3538,3539,3540,3541],\"y\":[0.06319399634007031,0.06590869422053322,0.06891120664773268,0.05579792864950553,0.0411935991813199,0.039910677267267075,0.04671362508398527,0.04793351580545249,0.048134241288684626,0.05228977171140761,0.061712301901084704,0.061763658266034444,0.06080458405239578,0.1611650078718169,0.13280925518527062,0.1004770433292986,0.058956012447169,0.05511853523320262,0.0641968511573435,0.06216888638261622,0.14935501835276468,0.14457696637630327,0.12323190476293697,0.05826537342483448,0.054055975690776886,0.04161829249765489,0.03975570680704901,0.10207630156569095,0.1431618656692186,0.1518211969243611,0.0818555644836034,0.07470511885607636,0.04707638172282555,0.04208228105185993,0.06508709968673906,0.18933799799926934,0.1887598364983312,0.1109128798823126,0.097500412964836,0.059500243980290385,0.039236906653980025,0.04385007315116493,0.1957609988518966,0.17451508742911434,0.11891490117269135,0.09257039507938639,0.06409825895484497,0.03281924961032581,0.04154511021412857,0.05116495357528397,0.05949103717687901,0.08232182791231099,0.08610033007785198,0.09180176649155783,0.04424304699094514,0.04723927132164221,0.05929773722740053,0.0752251422907175,0.09257859321202774,0.08880567092734207,0.08979491941976023,0.04383698189223503,0.046421625626607205,0.1220023994775343,0.18215523198494152,0.21177212358912448,0.12974074993641618,0.10831619648194094,0.05954767296756111,0.04913376963852481,0.08221063805572745,0.2134603380029997,0.20231559904838994,0.1086803695520753,0.10162023215008456,0.07748072328218378,0.06619897679149425,0.0790150188287714,0.24492756102098687,0.21297862259653874,0.14414662879587223,0.11231907424110885,0.09767452670860408,0.07733815732632884,0.08672931141673454,0.21598098479617675,0.1882399632912515,0.15769887172877609,0.11052623706119521,0.10226599605369366,0.08165799377916252,0.08687320795956269,0.1823525022342594,0.18865407629504152,0.1682833906455057,0.10850683525747298,0.1034057296405653,0.09083018046815503,0.08726867128464758,0.09586949963512945,0.10409864353740236,0.10506385561998197,0.10156078495789453,0.10408057330786305,0.08160777485146412,0.07905088029380733,0.08362333512182821,0.09404264664307824,0.09327571348058653,0.09937862232183695,0.10239115707349586,0.06627138647613293,0.052561554831225016,0.06384776522659888,0.2095253631016257,0.18929752240198763,0.14211971561407546,0.11386706195687238,0.08934576047198237,0.10307123724436554,0.07742876600698814,0.07135944375627104,0.06835117975957453,0.08188736980447905,0.05982621632764565,0.05753908754826623,0.06279943438035432,0.0524307924694872,0.05951309916733796,0.07401810675629786,0.0750424011927038,0.115480248434323,0.09563177524961006,0.14534638902409966,0.11188086044423964,0.07261858679344788,0.07129553265939678,0.07199791089260774,0.11094260347840759,0.10669798811172046,0.08409970671931613,0.12447072415715202,0.05421639726536906,0.06952915699138576,0.07256162908656258,0.09906067641848135,0.15997790968091516,0.08392046377737719,0.1314090484678538,0.039663767539416556,0.0660570546680457,0.10568978948547428,0.10135293439603169,0.1778300517231348,0.08085852561906795,0.13306811873479982,0.044544274712814774,0.08032210591914404,0.08018067740054038,0.08652852155026172,0.2058462901207115,0.1359915041592539,0.20660657034833715,0.11160725313260414,0.09878889329866394,0.1485963691672352,0.1791666048766399,0.18156449429099855,0.13606687547296195,0.12862494545398198,0.13333337768623246,0.09709123600949496,0.10080696451541302,0.12977191142488545,0.12819057319047092,0.12180143792241979,0.10530801832956524,0.11525237468462138,0.10726968982751453,0.11477338483534746,0.11914502833581533,0.13628032737676046,0.2008704528290071,0.12301038349297835,0.17652105459662323,0.09047892696830886,0.09813628331046689,0.10531153794672019,0.1134843679745142,0.21446355765863648,0.14785188429464632,0.18222665445989042,0.09109194126351297,0.09140836343017336,0.10816972460948723,0.1013214939135196,0.2055734768690439,0.12801622337482052,0.19538826281075725,0.1254701237405109,0.09287720268211139,0.0937016730006541,0.09710842633474562,0.1962267901368395,0.16335785812582063,0.15476818953704954,0.15965852588518534,0.11124745812283324,0.1301507424128053,0.15603207547295336,0.20861116400671245,0.3368525355740476,0.42350769895864615,0.3283889293704476,0.13490428583566347,0.11799417790939334,0.11830858273451375,0.1255160504521667,0.13055146370254242,0.11535744813334423,0.13269340827428086,0.11250951986691901,0.11431969759964469,0.13754090830631152,0.14221822197225312,0.1525414307763093,0.1256633163845883,0.1117407625126092,0.10485712103429015,0.11719393715041107,0.11998239676356612,0.14091819557727056,0.20964365657575976,0.16574561791031875,0.2023906269848146,0.13751768741752105,0.12909391297879644,0.12086831015475866,0.05351337519975166,0.2567361341087451,0.3249484606793416,0.3374473079510706,0.41150305744206206,0.4057277519902631,0.20342466475163726,0.07306107134527942,0.3180381645393979,0.34431824446990356,0.2950318007067435,0.3524074406681075,0.35607037491670157,0.12600308820652048,0.05421916574471655,0.2272223415339054,0.30764658073378315,0.3095033933938117,0.3399560223836492,0.3812376978381632,0.18326120729263815,0.05298575454271512,0.18416235805078193,0.3440220386408037,0.316450645513882,0.29573113146656416,0.3537242067056562,0.2534106109632598,0.05294686706536919,0.10041665184957918,0.34573218627865665,0.30249484842865304,0.27292688808735577,0.3593114701726289,0.30747635144553365,0.09577820419990338,0.09613179695749272,0.3288224002685898,0.30183028461877737,0.27578378708531004,0.4257748045501869,0.3580944552359102,0.08854689322213374,0.0531125036824531,0.27871910487036256,0.30187908711518163,0.28051217812215856,0.3733744009702812,0.3678270121903443,0.1379088799876436,0.0898464474733516,0.25121419816994073,0.3722067465180524,0.3432375503146978,0.35994435742811015,0.3954352754530719,0.21259107841005245,0.08965104433801227,0.19487899137730283,0.3205993298520171,0.3220437463946727,0.3348615053183669,0.39968268076018676,0.2740169392735343,0.050047217595630605,0.10120189131349258,0.368888863517123,0.3211709671845705,0.30775349983540423,0.3498673072140971,0.2964557433788758,0.05655483948753773,0.19576104177405704,0.31805674983486243,0.2998528177657913,0.33807998059574973,0.2052914782750451,0.08776163229714015,0.30029706212620033,0.28403681716985996,0.27061956443149593,0.34409500631352796,0.11888152919296016,0.10394485343659607,0.3282411912942613,0.2932057632357403,0.32946507377664813,0.31158318667725327,0.08003682377987267,0.2022977863518132,0.314233372550596,0.28177022664424445,0.3268968263075588,0.3521070284672859,0.17887846841370017,0.08715683759565765,0.19858188615725345,0.31824453428672617,0.32826973453094466,0.31731359554924676,0.3637265723605281,0.23806877147355446,0.08701051595076545,0.2697660143492646,0.32830025218700754,0.32091317668905195,0.3689741927720499,0.14118534310376193,0.06637324076282378,0.32265813419901035,0.3277308468067962,0.28866331099785725,0.3612627974299155,0.31224375872620935,0.06266985237802827,0.06602524934717005,0.33936197968335335,0.3339129255729524,0.27020021492413393,0.29838882871798145,0.39223302475233,0.10592169791825592,0.06937888650773436,0.31412602422737057,0.3260648231498613,0.2500272716676807,0.34293443401776946,0.3500777545666658,0.14132209310687918,0.06966097094605397,0.22488029385026095,0.33641421447177733,0.3033938960009359,0.38405047285519955,0.40667839199937805,0.2036144236228806,0.05556713619289491,0.18866828353014256,0.3740833462940374,0.23871809791647894,0.22776260276718738,0.25779691238151314,0.16724368715350682,0.15458753016381652,0.1775462074762377,0.1755839779902029,0.09507486021808279,0.05245624531061985,0.12922074796285524,0.14614933387918874,0.15020354654222615,0.17159642344230705,0.18952732764890842,0.10691719158501603,0.04969658646711064,0.09931155644617132,0.12749433282620085,0.13082947053562158,0.1479410336218511,0.18678897965805072,0.14534591688033496,0.0459287504584355,0.0849377404405535,0.12453437772106377,0.14669036771135843,0.18181279898906297,0.20343878614241742,0.1990885822610823,0.07399653837068379,0.07186309238670971,0.14810950310152313,0.17575558078758605,0.1648601766628909,0.21443055051726892,0.19826035625350233,0.06603284656956546,0.060226959078462955,0.1639365346926839,0.18328352681605967,0.1681503748703456,0.22403142228351605,0.22228642185139716,0.1377832468240767,0.08346089620569605,0.15810877836084433,0.18824425550729415,0.21565971242538814,0.2418167774441128,0.26235640471708543,0.2107052503695759,0.11086165228384418,0.17504195694834343,0.23803683738619755,0.22829470878998845,0.24202336180224313,0.2664405341259397,0.23202339978835515,0.12275933177664675,0.14755520632178185,0.24135583636329808,0.22811512247076612,0.24043262361469533,0.26580605875052266,0.23904701043182333,0.13162546200072164,0.1369827914542923,0.1980396934267523,0.20699385700186093,0.20042449158218104,0.25594074355389096,0.2475022468141402,0.13409636200996491,0.13244673461831266,0.19255926321707986,0.2087478710876692,0.19677022760999305,0.2470649987658806,0.26364145127807925,0.15543232412532096,0.12657472553907392,0.1867261845373475,0.20765198248767272,0.20722507868007575,0.24496511791135964,0.2714780934843367,0.19070051905983212,0.12466911038264097,0.17157028384660764,0.19762025807506947,0.19970696182633965,0.2179900852813967,0.25661196029863265,0.21006111750806297,0.11898222458131955,0.15764646377089594,0.18650281761449064,0.203314912787428,0.21330521731522015,0.2788063227003482,0.24046155315082243,0.1270873449010416,0.14323852464773942,0.22194785184995694,0.2443670834501442,0.2436047429588181,0.3313099969982387,0.3172540195905754,0.1644782982015808,0.1236925453886287,0.26064419681553197,0.3072651314940773,0.32164165159580194,0.35866441860420706,0.34919081104362293,0.3327538984749693,0.24012804796431245,0.27692839233739,0.33768376613285744,0.33626338600004035,0.3011928046921304,0.26427738600695083,0.4260373164833523,0.24077243835878795,0.25169376746838035,0.3938310167849899,0.4765444235668672,0.42498224685792085,0.6397489851967264,0.6205733383377712,0.2575111366373969,0.28245153009668633,0.39420504049094196,0.45766154876417775,0.4394077411446916,0.6721661185471013,0.513811503512417,0.23735519055647228,0.25641730830110077,0.38819177458174126,0.47188526597478586,0.41374960331875865,0.6263399305910037,0.5998767876462812,0.2608299210036953,0.23247618565868897,0.38119121313842186,0.45471189497754283,0.4099157530273483,0.617538913284295,0.7159140154953721,0.32425505317765957,0.22328904059678803,0.433788758201164,0.5611035690913831,0.5482340460422153,0.6249665073016927,0.7552131163598094,0.39811275982044547,0.22643240209342538,0.3666981164489802,0.5569899950804766,0.5752240155840064,0.5994497121500425,0.7140805524906153,0.4348020216423405,0.22796073145971382,0.2870201648524292,0.3932385622046298,0.45921009446802674,0.4567596254071462,0.6795970604930122,0.5051012236528489,0.22843618023075254,0.2506805040272039,0.38453283209406686,0.47392140742107414,0.42145146994127847,0.6395055307027901,0.594206856098328,0.26096130573675924,0.23285681937734667,0.3730379341547019,0.45919335482546064,0.40357464765681383,0.5932093450900279,0.655400379307424,0.2972597183658152,0.22454369826820028,0.3630955736801055,0.4445841107699062,0.420669041878873,0.5426959713710907,0.6882366904765191,0.34798817503064705,0.23570895401549366,0.39980895775616,0.4698965964379286,0.5919398792732686,0.662339433294853,0.25500156376160976,0.35480781956777085,0.5779730082706497,0.5545524455898844,0.7478156536990308,0.4489692103676677,0.22971654827626,0.478314705151477,0.6118714712216465,0.5894455866865932,0.678734067535487,0.28246754006252517,0.2872979570747063,0.4247603822106789,0.45562849771343994,0.4975601434432849,0.7095955301033822,0.44533924033828076,0.22545832658471784,0.2907967569818313,0.4017971980714129,0.48689905139235523,0.4548018598257958,0.688237892297011,0.5232326601929604,0.23210581033637304,0.3258619300975275,0.45270614242083607,0.4244229711075701,0.6801563362433629,0.32592300833181376,0.14544429447203136,0.35641752935022697,0.4603102323619055,0.3958457400732257,0.6466294933573343,0.6192976058855897,0.19925846817204843,0.14319345637929212,0.3484810931209792,0.45757257112561456,0.4025878242664598,0.6107603881768592,0.7614022343602754,0.28065467969477287,0.13035509481859345,0.3982228980840986,0.5430120501604677,0.5169703169868077,0.6063990674559738,0.7691459071670502,0.3710394783652675,0.13236033230937513,0.3070451983440545,0.5473706238630859,0.5670142939593262,0.5820474372712477,0.7349017491359824,0.41497408671139147,0.13391209717525612,0.215662416521495,0.3271586085639969,0.3971443500369142,0.3796800097141434,0.5983956297343009,0.3830900895156679,0.10847142447512151,0.08033333006409546,0.07021683438465084,0.05570506655542387,0.07568569707208841,0.0660331470246884,0.050582220864260424,0.058552608522405264,0.046423299590863804,0.05788128447226251,0.06069798686697783,0.06747655489657403,0.10168395009723694,0.10182799686762659,0.11067264455040829,0.14247627000073418,0.07016410451056751,0.05475745255861894,0.0678915907268132,0.09365744171433513,0.13060674744517106,0.07455976295979369,0.1351886451484857,0.05416092037301848,0.06834126474051613,0.10926104199939837,0.11372567636042916,0.16212367432493155,0.08538679208293024,0.1335242096114864,0.04199650111424855,0.06318871691433789,0.10324410624548122,0.10334684043646084,0.1645061976058577,0.08051366752112529,0.13123547125109106,0.04779221605333009,0.0812362835529771,0.07769647152156503,0.08385857002204292,0.1899229412015548,0.133574643149987,0.17368866415227222,0.14007808013125253,0.0989499587056625,0.14332042012983223,0.17845456915733307,0.18759492906436967,0.15760980824589213,0.12377036326548105,0.1537274559132004,0.11958354258780754,0.10616536702299426,0.13552884619202213,0.13867104879032796,0.1286620731227505,0.11661506743382591,0.12168417458013595,0.11543777695658144,0.13064267329344761,0.12923723007245883,0.1268100248225292,0.2120325752585894,0.13160966664568488,0.19453612915981996,0.09524347992531632,0.11713101326322659,0.12167172715361244,0.12422748427401789,0.21030594551113288,0.14949043776890866,0.19633714301129476,0.10025019971144719,0.10469013236915284,0.12860824873357632,0.11987161466750659,0.1935321369052955,0.13394746503544716,0.16765329333045212,0.14767444408344524,0.09989937543320535,0.10412778768433165,0.09362638753126692,0.16432888616113792,0.1627861778711068,0.13573015112442002,0.17189129868443362,0.11430999719138843,0.12197441422893654,0.16583511061480696,0.18648839576858747,0.2942552529803163,0.41958594408268346,0.37387727700183215,0.13585320895836137,0.12599094123511992,0.13405369738250147,0.13684960399049043,0.1324760075317232,0.1280927535868601,0.14564877564430082,0.12421641035662798,0.1336815193294477,0.1492391285196145,0.15831493349737039,0.16090283931593494,0.14233844694360634,0.12828654714118345,0.10991652777234398,0.12220748156004971,0.14226565095952384,0.15571277752154442,0.2063250868202635,0.16849358046511184,0.19037924668904357,0.15988936126395634,0.13833960386751845,0.15466024030357814,0.18872670059048233,0.15067697797172488,0.08029470011971204,0.029847834288354996,0.05010076299076208,0.1420998426537982,0.14019491425193212,0.15036750919505346,0.13353618489424526,0.0989910781353506,0.03439399929311496,0.043288737137113814,0.3191376586008703,0.21053463478188258,0.32295318112977867,0.1676229044408705,0.1266884263420424,0.03797948050322028,0.036350284059930765,0.2613054985412153,0.18354548076113955,0.28078928358986877,0.12891527094710345,0.08961878833445211,0.018199704236269126,0.0161984155842467,0.1844951335605647,0.17744997599256265,0.17646268045844385,0.2203721364185582,0.11778993280900626,0.03276488869414626,0.02073108156955264,0.1274022218699267,0.25214938620130234,0.15135484765133264,0.24692554466665653,0.12456309264638879,0.04963295436427914,0.019569972746788872,0.05181020241296799,0.27768433742681264,0.14956735428039206,0.24946550643202522,0.13008541488463696,0.0816515125329382,0.0209165267636732,0.02750310396968389,0.1645116487202318,0.137199290831481,0.16901585731317534,0.11034744480194073,0.10219427312362181,0.024980654445768996,0.0517934198482414,0.17924970217922462,0.2246593305683879,0.22007863468556524,0.1740228990155094,0.1857699646473772,0.09069602725574358,0.07344352925575529,0.2849552226364951,0.3040270837115402,0.2996886405021618,0.3349249013493161,0.2156723315405534,0.11300027038814961,0.07871469247227073,0.2600064593559225,0.4141030673098667,0.3051605292019095,0.42341640352342014,0.27873399886003036,0.19439328420992227,0.12765773749094264,0.21036912693127993,0.4029662689549358,0.14833621795289323,0.27190701463347366,0.11986554118180634,0.06414950801439359,0.01612001825822859,0.02039982979646507,0.2913262876750068,0.15112482779360972,0.2589728937328646,0.11848074351998242,0.08176800327633435,0.0175794575570333,0.021705028311778923,0.3014683220399049,0.36998779959050976,0.38323834265777923,0.1596047014960111,0.1256350306808676,0.03679802657641454,0.03219812302680122,0.16120561223557991,0.19759647919819343,0.1848129721585192,0.19096418989132904,0.1770046156559825,0.08349609237724534,0.03795696783007682,0.0947229199636698,0.17642645415504435,0.14980192388712013,0.17219166796309474,0.16158143867226996,0.08811466706664398,0.03657384413250955,0.08585183223006568,0.37993020298726654,0.2145648968794023,0.3283051882354565,0.17348761675283683,0.22043737810240574,0.3891969257345973,0.5982193054992709,0.3244678183268912,0.06853089484527816,0.05756728740766612,0.2822494525654007,0.44288688270234144,0.373024842895772,0.532094712811795,0.33352053118233793,0.0738218666388302,0.05745285692797039,0.11240116287292354,0.21537603986713275,0.1793304387629859,0.3855260938084848,0.3870102991938553,0.08984846481489164,0.06122848330876288,0.09206687521542903,0.17750006615377975,0.20233242453527697,0.3047642718168567,0.4424926426588287,0.18124184841107635,0.0866791997944372,0.12364567438944354,0.1912592368220973,0.2284278962537903,0.25141236978462755,0.45346075692328547,0.15678342789121044,0.058826838205366966,0.0672388090499744,0.17283627296837237,0.29484586190777806,0.2107442236912427,0.4033651445917745,0.20128190465885068,0.06434443900596828,0.05981424104488678,0.13933265097113426,0.2173317451847828,0.19457677644574337,0.46072142665878646,0.3562946432049273,0.08092048375764285,0.06069485354926671,0.18511467202415352,0.3638422046607157,0.34506002524638557,0.44594070857233026,0.42132240300487744,0.11645986090172547,0.06530879264533931,0.12917615183817263,0.4581906931579094,0.45668704403386584,0.4998122692008369,0.4735585005546724,0.12056794087609754,0.06304046377222652,0.07445696438557345,0.13122864662758335,0.18964343209286075,0.22008786295005686,0.42480163040684826,0.1498466058561236,0.06428662285587447,0.07112702025756432,0.15670767027805857,0.20301377090987918,0.17983134037515727,0.4057077502635046,0.2110288405370275,0.06891702260047042,0.06474352925360918,0.1170075047466008,0.19804115278020676,0.15666006960214615,0.40417967843017866,0.273498310809107,0.0802598044032857,0.06913465941491045,0.10600597558025235,0.19536392594579574,0.15630793619801128,0.317258612261741,0.3601327857123803,0.09134428064465736,0.06811120196063278,0.09878273396864282,0.1618407743655638,0.1792685020854912,0.3236388197204235,0.4794278484599648,0.14538137058484682,0.06474831507449666,0.10103943093628018,0.3198367747498888,0.35455749752816645,0.36273725948486935,0.49944021991426435,0.2084301183340356,0.07186444443476311,0.0752271381711773,0.2808756429766459,0.3607088440274576,0.32623402230626053,0.4670689703533849,0.21474993431299874,0.07389914798867722,0.06922273568810458,0.11873529339238878,0.20432143744941758,0.04123016886200284,0.04413572012879993,0.0432831357951782,0.25698808719044564,0.29999617778161414,0.32048923451052447,0.31577702512815653,0.2956137393577991,0.26756041621361437,0.17442301939500057,0.17341911298479698,0.1734863720101845,0.19565644046909889,0.16723501687710077,0.14497013336580536,0.2269048463132343,0.35042108892791324,0.23616770606612672,0.2429802684467803,0.21285225975624464,0.2688929346840394,0.303404583618882,0.31087793265929375,0.2930967838704187,0.16700319428864,0.14759619698498863,0.17617205451019943,0.1749671436227209,0.1368939855043709,0.12840205067488983,0.15539644119920484,0.2067338345540002,0.29564863507422545,0.3094069043771741,0.32423376378608826,0.2954231220433473,0.21922358232771896,0.27289525445512175,0.2828650851123907,0.26963647526909895,0.20849561755084564,0.15855598435032278,0.13297914109623668,0.10322492003977082,0.12772564034873654,0.14284668824521055,0.12839316578768165,0.19479494978718873,0.25110272931931443,0.27517128785603107,0.317937512073199,0.33589180885723247,0.31612709826859087,0.2910897007267388,0.3144524472574103,0.27913626534754277,0.2192396352157183,0.1474542534004599,0.18852136097500435,0.16165784011782822,0.15171243216984162,0.15535721034457547,0.14984308623896866,0.2515837579712086,0.2964347115202671,0.29490869995064173,0.3098598190139892,0.265945641616228,0.25722892343259596,0.23669946871164435,0.28143221463088974,0.29824297921685394,0.1140063229063745,0.14991051695299792,0.12615322992369063,0.12919117459432175,0.14236226874264277,0.15543635880840098,0.13513808284350384,0.2821430914518651,0.32726054869500865,0.25359341644451405,0.15792657378983596,0.1783681239262351,0.17963681714410665,0.18993221238820682,0.1745232855617557,0.19706467363051536,0.15129012103341025,0.1433424821202912,0.17587413179468261,0.21780230082953297,0.1643875178322798,0.111296303541398,0.11622921867267641,0.1084806098174527,0.11117543473763838,0.10916071144940262,0.12984899962501054,0.14082617046531723,0.2008964207360648,0.17932365706163864,0.179153213162587,0.17343756951378012,0.16574119692779485,0.19486023439319664,0.20516017938630196,0.1954686130950747,0.17573587951595052,0.2137242234452987,0.19374850751600295,0.19098565097154205,0.2071551584807418,0.2206992032810043,0.18174043222658473,0.13878298978471895,0.12119288753190002,0.1053231913132758,0.11170485812541284,0.1008701888577205,0.121814657947831,0.09861325581820077,0.08186758268852265,0.08650970018291496,0.09116714088857927,0.049243843518937264,0.046408427062276186,0.04476008733543671,0.05630548319654291,0.06119328713721359,0.06546324803963224,0.07476048844302588,0.07355688668144031,0.06620123020491661,0.08337148934552871,0.15894867919606023,0.15362276876392142,0.08829112006815523,0.07808169791138839,0.07295900244778644,0.06579310484250603,0.0657304599493643,0.18040336400715454,0.15642841870232702,0.10520337410244665,0.08760588923803445,0.07144022326219276,0.04651480963689206,0.0487021229322008,0.1699374819418423,0.1626089093485474,0.14334042185659077,0.1152701015368773,0.09269847480609752,0.05772755875469679,0.0606889302911279,0.16743061316216204,0.1823691989546651,0.18017076881980607,0.11769807938569463,0.10437248692092024,0.04522291699131023,0.04688509911488711,0.11387131125075453,0.17195572484723307,0.1900338520640956,0.11595868029551135,0.10544390988947391,0.05498118431983948,0.049464978489452,0.05671292180438667,0.07651759292438484,0.091664351194954,0.11096125315711267,0.12234642059334863,0.07747243930522155,0.05819259890183223,0.06722988124060583,0.09249255574145379,0.10790824280817204,0.12165610348721737,0.1143396349431626,0.08400289578647532,0.04808097488759597,0.0600125843482153,0.19176181239852533,0.18741384046953238,0.1787620635146249,0.1282524669458052,0.10374052249188812,0.06653746094861365,0.08172467335538433,0.181661970517326,0.19896226234294864,0.17458037203512225,0.11790560803135428,0.11961876022043708,0.10249951406749128,0.09642098501336285,0.16238914788716632,0.2195373003982726,0.2173181817820882,0.1387041417760164,0.12370194534176202,0.09465626184852824,0.0911970576343962,0.1225463090944525,0.21675152342014417,0.21167426106335316,0.14842133259701798,0.12705553958016588,0.10786358230024881,0.09565252811417604,0.1059552415866288,0.22066267652248175,0.19879344948599317,0.1452448781146922,0.11985326544392447,0.11274756616864154,0.09800940540424766,0.1021187945045127,0.11496795098855853,0.11995439005388811,0.11646438918965044,0.11607740299124966,0.11393754014429183,0.09890798083276589,0.09471536566343483,0.10884675730696666,0.0999122735424133,0.11070588776365822,0.12082701903642881,0.10701567648211349,0.07492973052158561,0.07947394256804616,0.14761263617243178,0.1943010874093272,0.200990849489002,0.13409606155484197,0.1243060318275975,0.33829124346936645,0.4819428295279655,0.5055234918671199,0.12688707010049385,0.05632698719891635,0.1303133744786594,0.4040056290696513,0.39911263154756904,0.4168315432038264,0.49484729121572024,0.13338951987206962,0.058962815609596514,0.07337193509216469,0.15611993713534542,0.22319152144830015,0.22555086676259625,0.4788808913696563,0.1888340059915473,0.06536823983752935,0.06530956524422696,0.13769019158027315,0.22606005235172985,0.18230095271958777,0.461107382725337,0.29215777576677926,0.10132969204616096,0.08667196741040542,0.18135065608775627,0.22296725316007435,0.17977841735135205,0.4051480023693892,0.31404271231398373,0.07722617340977742,0.06014851883028441,0.10751035438102305,0.2553791070847168,0.23785828119882538,0.30492990843394063,0.3450431568373382,0.09910437117779505,0.06482248456771281,0.0914318633130066,0.19576190021726556,0.21080899323132554,0.3242117447177897,0.4928158712070787,0.16827789660897122,0.0696930337998922,0.09403260285753853,0.32174947206279203,0.37006604668896637,0.3759142339691687,0.5028287527912549,0.24315603469372474,0.08037196000847882,0.07431785366363283,0.332284544650711,0.5059993269376024,0.4439802818170333,0.580744663857998,0.2543878627118389,0.0791438282322098,0.0723882879416822,0.11375121504588262,0.18493117978833237,0.1574395360354822,0.3838465496710156,0.29579933477948106,0.08268986397688369,0.0733973450111369,0.12726830472939757,0.18662557499330898,0.17399087908383162,0.30223534104671745,0.34918162570129185,0.10512111378199021,0.07028591760185651,0.09063142940430244,0.15688614062110987,0.18329507287721428,0.24757242454643671,0.4165027594549633,0.1252909237207324,0.07096741420402022,0.08064784219461693,0.14154125365801432,0.20201690373398548,0.19018283488293422,0.4316107590146677,0.17185232536276682,0.07345076163978706,0.07273812501023427,0.1430952933983979,0.188841131070178,0.18762081112710652,0.47091835846686936,0.3050146797007819,0.08216458257759032,0.07103518829533287,0.22492922511314659,0.3562809510357515,0.3257609342540452,0.45176674801775274,0.38236637896872516,0.10001852735054786,0.07285219065156631,0.16663736871532922,0.3557183273568876,0.3232031168699393,0.40163383632883165,0.3711442084367069,0.10254250061115791,0.07304091939095944,0.09420763942775576,0.16049726782206972,0.12455403607053886,0.02779403037305131,0.02996258668425386,0.1009350657032044,0.22375023921056533,0.19732847322849353,0.17878446888236724,0.1836459615386968,0.1679196253358954,0.17987168720595773,0.20677757223547436,0.21445887914315007,0.19241749132119282,0.18274699981073475,0.18614767965912596,0.176841339757722,0.18121970057629652,0.21980698033222915,0.20931706185707835,0.21138513739072365,0.20146659871516379,0.1865675013102526,0.1791059987861184,0.17044537986616312,0.2282886567653684,0.22763207647733194,0.2071430544315017,0.19994548027182693,0.18189774194454597,0.17107779497787975,0.16696276161351872,0.22841613558183363,0.22803052289256645,0.21432843869761545,0.20116026325620343,0.18984756988784676,0.18491765930779822,0.16959032750831685,0.21236371972627596,0.23864731927393648,0.22212490576171415,0.20050462725569637,0.1942721578732001,0.19900612879090399,0.18637362191160836,0.200729281843366,0.2463217157137836,0.23813912089449266,0.22330668160472308,0.20459656849774824,0.20011231870940274,0.1875710643431728,0.1869985685674109,0.2546987908419648,0.2558634836651241,0.22855241344118613,0.21419529415597402,0.19938629036579705,0.18858419901786802,0.17874098873385572,0.23477265000796102,0.23792905984136783,0.21196664682017505,0.20041861124620267,0.19190749021101114,0.18906333909470338,0.17807479388188382,0.21871250816352664,0.2234368215951347,0.3814044933535786,0.3798989556544764,0.1689910053822887,0.16995997315390557,0.16218522470298238,0.1829499787073893,0.19948823049680878,0.18773137861236391,0.05756441162291756,0.051091792752837845,0.05424045513628786,0.05155839955882888,0.052831621064625384,0.06621258311634928,0.06463145949273688,0.0608128894904382,0.055648344920420895,0.04765548751129309,0.04469229178304382,0.04737767382793581,0.04880193841627142,0.046956564511996396,0.04769553388697054,0.04726496023465718,0.04905822663617507,0.05341521221885745,0.04923950838073424,0.04649261887995179,0.04632138092093227,0.046284038641361686,0.04602315775029245,0.04801579758698912,0.05031163956493498,0.04831678923697638,0.04629303083397093,0.04520757231895792,0.04580874009788441,0.04605107861564958,0.04673032180439099,0.04676019562804748,0.047625871220599164,0.04898967994597472,0.19990101291362558,0.1742251053132763,0.37714219405679594,0.26626708567565827,0.050234272370767136,0.041904454541215025,0.05050976825746137,0.0646856272591945,0.0637191918950428,0.05953219952872754,0.05400785994893939,0.09384153486040223,0.09258219867350351,0.0806887470135029,0.10061040248174216,0.08432545582207665,0.05195206015317591,0.08350866857025016,0.08462365753163628,0.06716253637089745,0.07261710597891316,0.09399770714111219,0.09668551428806824,0.09662053013718333,0.10647897778814683,0.08250128546505206,0.07006001827153449,0.07533624630298016,0.11189180559514825,0.08994158444193581,0.11331521174027534,0.1372955223151561,0.10614285434985085,0.09831996869600998,0.08976459491341923,0.11736006737233992,0.085679263684073,0.10311188453028894,0.10959409650322385,0.10343274914055348,0.08957777621016508,0.07775780728881379,0.09447165363653606,0.10566646129128274,0.10740036634493147,0.1173037964200214,0.12508798774623828,0.10126172480512644,0.09893927108771641,0.09518806741620636,0.11414687152068945,0.09936817077577317,0.11795956118700976,0.11936584139012688,0.1108675111587423,0.10990637668140321,0.10625528894908673,0.10602775857666855,0.07496217967486765,0.104956249763794,0.10536473996456816,0.10382926405856882,0.10446605723064892,0.09006408428779164,0.10436064040464268,0.06560478386363697,0.09658690062448952,0.1437281377317188,0.10273992108803728,0.09890637125174992,0.08574371130795264,0.14438901023579784,0.1622552307466372,0.10480516375909446,0.1027529694248068,0.10340489265843703,0.09670407812245249,0.0846027329784286,0.16463964260262212,0.12293475464630779,0.10417199750957043,0.10419337274546256,0.10574155361094803,0.09735215982272463,0.08547285101458438,0.11403608942462992,0.13320516919304,0.19369665754620832,0.10013265737512059,0.09944517313157744,0.1332694236671977,0.16125016543810208,0.1418993961646088,0.1357482213539594,0.11099003246567832,0.12775538540591178,0.20238551924772388,0.3752728052037626,0.1254836442210451,0.12769323411761493,0.13286689964672274,0.12306729827770327,0.13403760157234176,0.09069510442929438,0.07953652307794726,0.08247059612034749,0.08497400966611343,0.10419315813466043,0.10108404852204303,0.13649219116062314,0.1330975204146916,0.09559548456296987,0.12660266786551125,0.12760644550923358,0.13625470284698613,0.1311955965640553,0.13599948768109318,0.12776886296428555,0.14544472369363562,0.13486247965140855,0.11964138019898155,0.17623098663646433,0.1548366933050894,0.13430474909883314,0.1329111523941219,0.13035878612439009,0.10939092445684742,0.09768530017087099,0.14520569018222326,0.14436317109522137,0.09843214576228329,0.10434784960083573,0.14116577059860771,0.12812503105150044,0.11804808814288839,0.1425358888815659,0.14729887517971776,0.14273663582587828,0.1571045285733573,0.1537017026169448,0.15073960140378642,0.1345865330820298,0.10490596645285491,0.10594024029155993,0.10076781950510447,0.12087680874252296,0.1395341275921739,0.12671864354298226,0.11819752164441147,0.11439154929619785,0.12260794531682426,0.10558750597717911,0.08612863724265293,0.07629862552297165,0.2893339697545134,0.856462973187578,0.45268575439463377,0.2627587999710791,0.4004014552586804,0.24932905688403098,0.30986514136188203,0.47823418317851785,0.5677067142513184,0.41902778430850374,0.30685840110188056,0.3241797677082724,0.2767915135677915,0.33559277016554456,0.6900971085980234,0.5801550850623864,0.6344084383078823,0.40150189360768207,0.3391778436151258,0.29288440502063084,0.24493515824338227,0.6991416662429892,0.6894688998580286,0.6643387475274959,0.4162792208434647,0.3308624047093165,0.32014632937088117,0.2601062963010734,0.6323300614557348,0.6779144259599923,0.6082126145782929,0.3472848954320671,0.25310921155274846,0.3017464147173049,0.21674693074897863,0.48561962763437716,0.6612921325804587,0.679641270318251,0.4448719896998834,0.27752749985261604,0.3527560973772479,0.25147091561144863,0.37534882034987704,0.6804003916475451,0.6962999616898258,0.5034403935773254,0.2809146592204731,0.3190484663515051,0.25290550297936665,0.2814680546348455,0.6625973096346923,0.6576657250903871,0.5677698098271445,0.3217675422923314,0.3009165147454683,0.29291612449718574,0.24869050390337347,0.57185102052909,0.5400221783095138,0.47456914574406284,0.3132607563953429,0.28968314152957886,0.3025259669949618,0.21648214394131063,0.5384466774889172,0.6024757244600752,0.6289543193825511,0.4250986946791566,0.2949790922937403,0.3365128925185966,0.24161594465547961,0.4703547905004761,0.6759922857717954,0.6832721417130068,0.5007574151734173,0.3124355349389928,0.36706823423833357,0.2260185037004375,0.3697397524254079,0.6880159847276086,0.7492555204926812,0.5323616886496446,0.33953920528375237,0.30840123815839293,0.256349620054109,0.3023405432619216,0.7153205737053223,0.6961779769098951,0.6257562750535309,0.37530521143488427,0.36696779638293675,0.32974278015460434,0.25212526394714296,0.6284079202803281,0.6758406847011708,0.6892742907826571,0.39801287995313417,0.3215354192487476,0.35206041500106333,0.2082699757534862,0.5966493845595298,0.6922644201665736,0.7067445543635666,0.42680725419707377,0.3085487616237771,0.39031470463641105,0.2545564609579921,0.46385234072890036,0.5982569053118041,0.5845160624059884,0.4218214589641506,0.2914088699116665,0.3734699886215499,0.2742491052392785,0.3972131113379166,0.6847720136869327,0.7392022062333837,0.5995413080403916,0.3704846665196011,0.41124144687426556,0.18715261620117976,0.19792453327032936,0.32114620109800474,0.44980619249597453,0.41643399815396087,0.6901216600737872,0.6210280557053242,0.19658836641626812,0.21562825048179587,0.3351943237503101,0.43587773682693687,0.42196159981794146,0.7194521750236078,0.5023944663720648,0.18521377929257712,0.19478473431300733,0.30233247389576146,0.4236921784041572,0.3856118952071764,0.6609345909841101,0.5969489812393032,0.20872761182794816,0.18240096135338038,0.2893772352922228,0.4169524549297464,0.39092462853606447,0.6584653649391234,0.7698940404232751,0.27251393398189727,0.17577940258662247,0.36185044472830785,0.5482860677006516,0.567299211260234,0.664923261508177,0.8245042485105528,0.3594965505283858,0.17634567464912262,0.3039646319681204,0.5469830367544392,0.6087452785891796,0.6175474977163802,0.7735140095892828,0.4058956205596891,0.17949530278118217,0.21298518968708394,0.3286862082535581,0.4375187797865039,0.4436845481316982,0.7432003196327444,0.49675878670813156,0.1845103709275159,0.19570730322920368,0.3116713487947683,0.433994698726888,0.3948587449942299,0.6701737577044474,0.5976813191404915,0.2027922067177602,0.18011883300569062,0.28237894872340596,0.41043017512005386,0.37831954891728103,0.6070447025931016,0.6641146080057513,0.23690781287835214,0.1620258976434811,0.2595605410312568,0.3955515086635055,0.3940227500756128,0.5425678058000587,0.7241027052614436,0.2910757081024399,0.17006058269794408,0.31128517811741563,0.4268059236101005,0.5815856806693849,0.7326303084062387,0.21401532153730782,0.2586691336035297,0.5251122215980148,0.5722333711341647,0.77518831722318,0.4812456019540057,0.16525510346097047,0.3757264924394653,0.6056626948717054,0.6080138849755206,0.7334551864853054,0.24492283958334002,0.18882761058964384,0.33679725183141884,0.4350551336223727,0.45614746955515073,0.7536637122127519,0.4578434528800631,0.16976914122865158,0.1899937627662577,0.3180922035393743,0.4453899314097438,0.41807306669414834,0.7158091995796119,0.561264956414585,0.17154577529300438,0.22202597018193224,0.3923399438539512,0.4759341992120908,0.6347102669399979,0.2729947480229893,0.08041614837263741,0.2011885489599242,0.35550157044673625,0.32325719879207604,0.6007052711868237,0.5614805973485651,0.11903396724571311,0.07427396575459724,0.18169012745456545,0.33473677352016895,0.32030406831044667,0.5754270374028213,0.731385394065243,0.19864244932561456,0.07829826167181772,0.24492060763099785,0.44722034694111046,0.4813426918808893,0.5670449403818704,0.7878256313844435,0.3015649827451843,0.08295025126310798,0.17945285276452086,0.44275657102328814,0.522744549384596,0.5148338235294434,0.7157236127917224,0.3436496030547874,0.09043205596912371,0.11187489426394046,0.24144794731957228,0.3761897942391036,0.36595487631904366,0.6778846379806567,0.48774015404806303,0.3747737492444896,0.26628300979717634,0.141981635023985,0.14552722008597438,0.10215738152673567,0.17704899716986297,0.30732887090230987,0.3477745514382068,0.21701918601256073,0.14811066199985465,0.139061382917242,0.1350837004662441,0.16319084799960307,0.3381690870007942,0.31006545908459016,0.3148583192063985,0.18085859644063265,0.10368463783901347,0.07602398807948593,0.08247293537809067,0.2855910285988853,0.38053772324593604,0.4104203459453163,0.2967957298116102,0.1910420077681814,0.14721745184138965,0.11502480139004276,0.3733889945048261,0.45529134414329375,0.5463865904131595,0.39809610602220025,0.3188354436693108,0.24814972760416634,0.245286776581592,0.45109274133258337,0.550395262663985,0.6486607416773341,0.533876411691078,0.4428202675093603,0.4032019545378349,0.3760220115139984,0.49533050889779606,0.5771226344282898,0.6075880112997739,0.4567675660068251,0.33436429501199216,0.3273490112676466,0.29062021813599925,0.3198816713296945,0.559321956056421,0.5880416886633797,0.5223901840281191,0.3944238576647937,0.3171178704977041,0.28979551174557416,0.28993865715059486,0.49398884800720033,0.5012462127363485,0.47500368969621565,0.3780395247426619,0.32732810817551916,0.2812788108295272,0.26515651769679605,0.49293940118478474,0.5606404389803867,0.6164909258153338,0.45252531135896135,0.3234223632653952,0.29266880700881115,0.2762629271621454,0.4547384637948465,0.6008663151327421,0.6555382452867122,0.4803898199194322,0.3486993952289057,0.35043572538461853,0.28326481919243807,0.42862380587062276,0.5969930193759002,0.6476092345912181,0.5134887288660135,0.40112795574605087,0.3249852449708266,0.2826788458583024,0.3640474584318728,0.61823665592418,0.6323644850283964,0.5065425497999538,0.3981483422914387,0.36688555752356056,0.3005257943191104,0.3592910392242661,0.5925042198385496,0.5649885396758609,1.0,0.9264796615381624,0.8259829169372285,0.6919995045924244,0.5674242005913944,0.6780766717264025,0.7306033523022815,0.7891702968262689,0.5936063750739684,0.5400837286875646,0.4539498120191793,0.41514440184396184,0.5873059169893573,0.5845262778801699,0.5091162483834174,0.2476489547584763,0.17792903022507714,0.17463548408910926,0.12941342554100757,0.2201580406823533,0.329336693594814,0.4083506822917352,0.3016456334846247,0.2003456864956389,0.1179693474395869,0.12113056455496149,0.13819637261817688,0.11005297732033817,0.07887369761556881,0.0877356000068418,0.11597580623752132,0.11932272607997899,0.11696642823907308,0.1293486130787643,0.11361568832433752,0.07354647805753703,0.08620495284389038,0.09710027112426464,0.10655756826388682,0.10681842769387581,0.1302510944238813,0.12600832471009246,0.09239512243728679,0.09265658277752178,0.10395285841951549,0.11461307056615641,0.11330081135545242,0.14391682354895144,0.14965195385859173,0.09682378802788058,0.08645261370954835,0.10983154189470049,0.12020473355457276,0.11909697697721847,0.12676564330864873,0.1354690556225487,0.10807694835972645,0.07614191671525636,0.09829511676512329,0.10808703506742653,0.11353550972866175,0.10912285410390685,0.129112712885063,0.13810610731480102,0.11106525355182487,0.10362613493435283,0.1133905615929032,0.11794784343721346,0.12043123379514073,0.13951408294325493,0.12990982032633416,0.06935444233737173,0.08174604859127646,0.10218483024832811,0.10597423464261732,0.10958332304095694,0.13249103028787226,0.1331826779809768,0.0833386324317226,0.08240026816048948,0.1044983990785299,0.11804169274098494,0.11773055000005686,0.1353031185503418,0.13881655491417208,0.10813688915676131,0.08685709068832273,0.10511991196149831,0.1160940138673345,0.11762187108985825,0.1275135190319113,0.1348505472908101,0.09513580968588767,0.07411665603663595,0.09866474094963176,0.1090433622627979,0.11101557115113178,0.12380199689771501,0.17579476872005498,0.1686688316461312,0.09139984338132881,0.1158117577403732,0.1237668436483261,0.13425744887804372,0.13816628418371826,0.17261015902724822,0.15004001311100315,0.07358532261272258,0.09033389298822944,0.11020509345688792,0.12193913221306638,0.12602463513105436,0.15659075031305816,0.14871071380261006,0.0911463665629331,0.08920102694702595,0.11595715655881625,0.12950098674827656,0.12804455200070172,0.14893888800743463,0.15551112921186308,0.16148147296063778,0.08532625037564937,0.11957809147343343,0.1446825119687908,0.1406276983955074,0.1633360107461638,0.17339250124533281,0.11797943414728704,0.07578555547831953,0.11649361918090054,0.13572869177096555,0.13938282697667229,0.14996880524685638,0.16905796395255326,0.11807751128386043,0.0807122039741757,0.0860324916032987,0.09987460934663953,0.11166227934227027,0.13727414707926397,0.14895884681203272,0.14590841179271766,0.09198768382944303,0.07361021746576965,0.07705077200119656,0.09200420886120705,0.05791347609258199,0.04546409661074388,0.08868699115376419,0.06137270176779422,0.04662342416385004,0.08484556510103866,0.09101899505186897,0.09167113289630133,0.09882911136298314,0.08405959596039805,0.05784662482771849,0.05532333832167527,0.07272913281762503,0.10528711523743775,0.08073840795311579,0.11902098329218422,0.12033319958072777,0.08708528635422755,0.08112938591243615,0.08789810330621459,0.10529767408890259,0.06921230560312105,0.10480653726822811,0.10390171666536793,0.0856783193965436,0.06870842090080007,0.059005501698140145,0.10317852118435031,0.0875729679409877,0.10031649298822512,0.11307493348621064,0.08899862749953716,0.08133753692942206,0.0691748774792296,0.10453052631560875,0.09378779631554887,0.11207422477695875,0.10504642922284899,0.11569973090166133,0.10342772724778362,0.09462673140215519,0.1070844592441961,0.08310530756764686,0.07732257658209421,0.10067506471642393,0.09964958992060621,0.09055627270139652,0.09156502931572827,0.08765361868042812,0.08477352025476362,0.06293955377306501,0.11406336645758067,0.12404575184677422,0.09460441187873367,0.08993514611787193,0.09146480607113358,0.16280205907046438,0.12718949964285545,0.09698581918348873,0.09234200626375963,0.09527049942530444,0.07528300136297175,0.0858853973595188,0.16959131471800667,0.1103359631240268,0.09444261679500784,0.10031029073604361,0.0965342995168875,0.07599894299887736,0.08736668403798034,0.10351606105394037,0.223991719285122,0.09860973620104588,0.08673313148901243,0.0653723174427698,0.16486408257948967,0.12926173862606208,0.14569431605651276,0.11995698684459391,0.10233048659973373,0.1049696629389271,0.44524747275929,0.11201891957324986,0.11761601221496013,0.11394058761768208,0.0980502243788128,0.11395694096080441,0.08473866746049771,0.05541077076246301,0.055203757182728436,0.053364521147394345,0.04648349792086129,0.04727639899041067,0.09208112537269045,0.12192539712173009,0.07759511083971907,0.07581094393621149,0.11663766595129019,0.0851116181124392,0.07847645302082626,0.12224353617480752,0.09439563849042162,0.11958008735389322,0.12279976445176802,0.09421139511679302,0.11228153881181632,0.16754637422883098,0.10597009265413623,0.10950683575107781,0.12344655848722733,0.10825406665472428,0.09092413707732752,0.1088207464777485,0.16423050856944152,0.10701222124819917,0.08439344452419142,0.13142647486498674,0.12830594795769598,0.10282112981556327,0.10982370860042276,0.1615803656182593,0.14206344466175694,0.15238944340624086,0.16040970661480067,0.15716899765831718,0.13760915454138886,0.10872262641901467,0.13089951950143677,0.10066506385304466,0.12319035611164456,0.14055713436376707,0.14050227984274263,0.1246203078862366,0.11226874800800937,0.12653978690048714,0.12655223432701065,0.08410747563035323,0.07764874207917136,0.06692388915892891,0.16877287496300378,0.19162008342479867,0.20225031444238203,0.1841560484931993,0.17738645119513216,0.18441134950341312,0.26682262719805194,0.28077129920465027,0.18863089832841148,0.204928142187039,0.1901587126287748,0.18094701609111016,0.18479837862397433,0.1996430078073049,0.20448256723965677,0.20526727017656485,0.22090965063357296,0.22913594021217756,0.18602659624456422,0.18703496655945215,0.20514713104953244,0.22664061749365186,0.22109176936026045,0.23782295626079478,0.2797571343981048,0.20410236274260332,0.19193036772251817,0.20746969207234353,0.1879196352079923,0.19785474183747667,0.21129590221919806,0.2005542881953092,0.19060398712103407,0.18938602789678602,0.1979976297095348,0.24173702807004135,0.231116669149356,0.21476946389599258,0.20988247547636998,0.20640582340402477,0.19597183250390907,0.20566678964581,0.19831589752909354,0.21829504723122342,0.23710315163045084,0.24340730102085853,0.23228814367386266,0.21679809396420638,0.22153365300184605,0.2234787136237105,0.23661886089436432,0.21768023020528146,0.2178559964522259,0.22322590209880136,0.2220361427339532,0.22108601779076334,0.20942217822796164,0.21133916775690745,0.2193612766183656,0.2405968867226456,0.2342548370645818,0.2128996028991945,0.2195587614784856,0.20937466339637004,0.3128832130722359,0.3492950689712977,0.2979110621502796,0.22050652570285198,0.2220947744050951,0.2398012386348289,0.19158080964800892,0.1809540982475805,0.17246293601698706,0.17750118212995084,0.17585237025934666,0.17088696305262577,0.17720308772579232,0.18536619588424982,0.18107110405690172,0.18032773516048392,0.15893391397287368,0.46068253918144053,0.42093713369289376,0.3881292799161611,0.37412764196359705,0.3744286550746645,0.33855590151055315,0.28385843267112953,0.1963883062265225,0.1860393012040503,0.19097947018044067,0.21254897177067453,0.21417550704001767,0.20489234510524376,0.2644443961331684,0.22662422122836914,0.2881837416994175,0.3000900485464657,0.3037249975464621,0.3152602423166275,0.41475299466303717,0.3937999840630019,0.37303930766383553,0.37100917532000677,0.37207806588109527,0.3695637286455009,0.3782672697258822,0.43365591411464566,0.4008366859654,0.32970990177971804,0.3560480983154405,0.4063299069788794,0.4323340832621666,0.4018135943366957,0.4003268994660205,0.40011576535888504,0.3979847230158947,0.3612129648016609,0.4375062035934991,0.5559411491683071,0.6815871893833239,0.6020718269304666,0.2291607921430642,0.17980455694705147,0.3358204722266045,0.5677835449184809,0.562485834345742,0.5923417165391768,0.5038730489544194,0.23767109765720765,0.17757492240156272,0.24091979013553036,0.3529543548362556,0.3431088696777407,0.4641978641203296,0.529456888520655,0.27045354151496814,0.1679166207846656,0.21050514725766992,0.33880497880750526,0.3768518685636746,0.42175454331604645,0.5698572003329816,0.3037331956791034,0.16318990371207368,0.16970046577196998,0.29984655113036907,0.3721007717039607,0.40821839619330236,0.5854294459798537,0.3726340795472537,0.18469553712759365,0.16751319539882167,0.2933089910315648,0.4045006074236839,0.40092394671754605,0.5834400896884296,0.4372562678533386,0.198432817494094,0.1636562100629417,0.254131445725454,0.4082047898684473,0.422430781953558,0.675055810075621,0.6514248429644474,0.2785548846845727,0.17700040928426072,0.2944458702947682,0.5803473763410949,0.6541995889473463,0.7339481904199584,0.8383884514321912,0.37816846291258155,0.18637422282185437,0.25974098579368776,0.5641391101210305,0.7047709934271794,0.6501782117370348,0.6691942740035262,0.3687918165123998,0.18999934264711307,0.21320422147173781,0.32781510300771244,0.39077483019617776,0.41200679191682155,0.5762512287273213,0.3698628531815097,0.19492607698729011,0.17159286090299172,0.2817941772097622,0.3798337998149497,0.35405689637111815,0.5427598395458046,0.42565247639297277,0.20116897645476992,0.16166951494546408,0.2542835618620036,0.3860735659647184,0.3741737403638945,0.5201745421069291,0.4956203193249924,0.22825547793535908,0.1583709039945659,0.22629642468919584,0.3548850794565377,0.34341018324393113,0.473976605319382,0.5193677771795622,0.2722570877739081,0.17736902479799918,0.2018156846459084,0.3471235081088653,0.38243286539522503,0.48859954154411234,0.6929516039549939,0.37699750345399996,0.2524573097801984,0.3022523382222462,0.5156429920977943,0.5602918251934068,0.5906508409513551,0.7281671763208227,0.5197217991587557,0.251281027973724,0.20295230637614917,0.3916003521076509,0.5791465859810173,0.572395015990329,0.6417273534150814,0.478100995714716,0.20317631713141246,0.1948413057204488,0.2841993204692328,0.41193489729810795,0.39321989106484456,0.5876284341027982,0.48935110857317154,0.16620342567342242,0.14988849788469935,0.037854662860701466,0.057810098069195986,0.1347197634679921,0.14647489846601994,0.11328342788047988,0.12192342270235049,0.11777911642457886,0.045134046658148214,0.07432972164099058,0.16886696033865758,0.1288715761877898,0.11799027199279458,0.13697639605238884,0.12089912826594448,0.03842430431279506,0.05644596742761718,0.151387425571096,0.23320745050586664,0.13146167103653608,0.14803945413570788,0.14577106087935446,0.06013040567858466,0.03963443024276539,0.12779813587769603,0.13595420480184375,0.1142942662195923,0.12493389719030892,0.12814872408405556,0.07653379603994567,0.03413249603071958,0.13128006737577366,0.21720130473924823,0.15681351632566906,0.15024664039129385,0.15938326607037342,0.11413676335190912,0.045278350961500374,0.09607717850835065,0.14376758319715024,0.13748150403628193,0.14826887308318484,0.1421443958563204,0.12904322190733333,0.0471738364880728,0.08018499107766322,0.13149532201031003,0.1256456324544928,0.13150519410720804,0.13663387721218936,0.11991640394191114,0.042813567360117794,0.053834497342978765,0.12585835468156406,0.11715384785257318,0.1126717012500886,0.14110941380196837,0.1358943713102099,0.06280522887201187,0.04229809367448181,0.23578170707741572,0.4016952150182408,0.14786012534944812,0.1409602163723276,0.14198691444971742,0.0789213841358021,0.032266090267835806,0.26427120521584946,0.3809054373943056,0.16934889035592063,0.1434439930296987,0.14905829745773977,0.10165291737524892,0.04326719021257994,0.26051508695697057,0.33843284367661186,0.17273167166341422,0.1391926388838247,0.08977481038760063,0.13908271523097368,0.4071871054447469,0.23474801268787646,0.2223929975757349,0.17099521274122012,0.09479786205577359,0.32207340560752706,0.6750412165410762,0.20935556303498046,0.22542553405415236,0.11948025040874236,0.14923281896203186,0.42437459783277,0.16332356331964024,0.1315257538220521,0.14104266984250594,0.11677639037378698,0.08179109539864352,0.13198025657880294,0.3371210136875121,0.3988106741489722,0.1417417001472037,0.1883167081140932,0.15638043172697078,0.08876193324586798,0.1916346340371831,0.21371606823481779,0.1264457873691542,0.14335681812187348,0.08579060376821804,0.05481065457646697,0.32906791502622645,0.2582115404512282,0.1230630919059815,0.13591458764777056,0.1266015948115006,0.04645564143874478,0.05022852080127002,0.2009141475883208,0.27305612671239843,0.12064786193881075,0.1305357971139869,0.1378708080313457,0.07881386412393501,0.05565566314877354,0.2287286518318953,0.22219216478710171,0.12149703396067865,0.13284432259033865,0.13713585187837138,0.10201970869716928,0.05048113917645722,0.154055681673978,0.25966733136639675,0.12452656588786623,0.1262783480213324,0.1500467089680296,0.11791078015168563,0.03622812759135838,0.11518187503612168,0.17427283475567,0.13313039878957791,0.07188811600623804,0.012044473281459495,0.01571079838072717,0.028558474050238286,0.04160245422045769,0.032284267802776184,0.04459026580771128,0.0339925054044902,0.023347316013998393,0.010110357810503706,0.017487089067796585,0.03681665479403942,0.02291077618138579,0.04734625480650398,0.02748239402727834,0.04898467951428512,0.045444695794231355,0.03928699681519718,0.06152162020339222,0.042499141073917196,0.05146427126101463,0.05288827831638768,0.04131775153035208,0.07463670093235733,0.035550558366873625,0.041336980658222916,0.04457764669254602,0.052878127225446964,0.03306918535048639,0.04912059253527404,0.06773400201480914,0.04237249923958028,0.039779635911486505,0.04338127731499222,0.03256673854053968,0.03538691763024951,0.031049418708400528,0.04946987161574054,0.03193971015995653,0.05744154693869816,0.04206891079888722,0.03614863575024943,0.029466900114574285,0.012786146752540445,0.010270114091609245,0.009621710475133938,0.012628279046493635,0.0140243652365096,0.02231542435519704,0.029207650265601265,0.012328553600238906,0.02052378899577531,0.012296919968004943,0.015578941503898519,0.042080006177357326,0.031019630729064857,0.04202952971669635,0.03340043712357402,0.05211889859075172,0.024006943775425088,0.027480011847374725,0.03596853436510197,0.03987423635306539,0.04623377679150284,0.04017353257771586,0.04923373535015693,0.0530637870303696,0.03092917227596706,0.03485288011022927,0.04600017293338435,0.04292939281002736,0.08272748525049703,0.05749629415432153,0.04704745218669845,0.04613222295993494,0.051870336359724795,0.05587113239411204,0.05078970658775969,0.0905012250306502,0.04528307239914722,0.07074130026289607,0.03573014468609595,0.04021138992321163,0.047232554003535515,0.04383994352130441,0.04179096834904869,0.03916977639507377,0.02523026826972638,0.02100762904917733,0.027304009528547918,0.0452167576612891,0.03774216387822496,0.0420542099589413,0.04739640935096176,0.019606349277749874,0.0,0.0017544003852521528,0.00950485489337416,0.011549044244742429,0.015195689533454765,0.012471398550136653,0.05980303836101561,0.04529652849644081,0.048571768330987,0.0541867380525147,0.05222113917688645,0.038300066119442006,0.0397332155949858,0.042690402220775386,0.03792572049728668,0.03652476264206242,0.03203482566746049,0.041927010136518866,0.009747193411139332,0.03184186909526546,0.0897082166556997,0.03860142260779295,0.004997577365960154,0.011638215033027394,0.09662005799341863,0.07867224245560941,0.07500291280511193,0.04437189931654398,0.041735985061542996,0.060197321326688785,0.11138208347900938,0.08559451387831188,0.0889904293668958,0.08737458171549875,0.07888833407227411,0.043178212574016855,0.09745274790568295,0.16752160814226516,0.11935468162841614,0.10287347339020278,0.07175216006308868,0.05824462056026855,0.06017148218611232,0.06012853856460612,0.12911554574765113,0.10883656329386546,0.11047007341427781,0.08835724165629147,0.07040109921935964,0.05167864599126229,0.04283642341054464,0.14509512269696587,0.11703684204325196,0.10174204524137351,0.09960040112475807,0.10268598939346199,0.07224366172212679,0.03263232360167059,0.12274010264877586,0.14178350633145861,0.15330694750750692,0.10037036029955979,0.06816830989507958,0.06545133714011406,0.06067270571448688,0.0726609724268685,0.14266830374648007,0.10963940084355353,0.12763833667443006,0.08342773883676693,0.06194455371114979,0.05173212700315308,0.06820588824653254,0.13077907991928142,0.09865626382294765,0.07453012520801958,0.07136770627215308,0.06613442186221355,0.06538465756389225,0.050423494715005096,0.128377284588324,0.0986528944333542,0.09246716728356183,0.061487110786409754,0.0766267654394284,0.07594541906482613,0.06009475882435086,0.1511026370366695,0.13059533015049776,0.14734458728057145,0.10054986077446129,0.07646700915832286,0.0480134368681657,0.031579829305864754,0.11768571780349193,0.15269444827822795,0.11871507705482817,0.10382613074085775,0.06785351877051529,0.05923419096888985,0.05097261937441508,0.10934523381707398,0.15142468200634576,0.11776304207549934,0.22648536803939104,0.1987464497203267,0.1011302756888218,0.048353294534418695,0.11242886912747854,0.24365187149096587,0.20885221485966485,0.2037771415330555,0.28015313425019506,0.23456301817644046,0.18730202824162265,0.17924176157954583,0.32352700749251384,0.1260240342208084,0.17762187924506875,0.14204580365382188,0.09369866844942429,0.03555832727791072,0.04200841201376679,0.14497468311481052,0.11968254255083008,0.1278256489825291,0.057683348929458006,0.053687810859722934,0.060591110687517075,0.04176495751983053,0.0753613986889898,0.13378878180835227,0.10961781099685922,0.08359689507100579,0.07873662569624842,0.03843321066108349,0.048835954228409056,0.11191597077146812,0.23928711699724634,0.16566535347032216,0.13899734305388642,0.08437758478591403,0.17680940567036504,0.3009899116397967,0.41907590005034134,0.2181976997713773,0.1078972761961832,0.11171887221079194,0.265921261829106,0.31782677289929995,0.27779211497164236,0.3908134172184007,0.22167516736477058,0.1097779106552482,0.1079616594368222,0.14139978221725022,0.19866197890860834,0.15923471247313906,0.350037579424507,0.2715913221435404,0.1131169542812677,0.10832287087788714,0.13303682847984924,0.19082113033062917,0.16231334735185401,0.3103503763854979,0.3270006120914688,0.12540604095499489,0.1092862373075684,0.12516919647376426,0.17785258585735844,0.18747766572208582,0.26581605961390187,0.36377176939545663,0.1453365169272017,0.1092561059509494,0.11804180004638601,0.16618745862974396,0.20646874729120931,0.22995326399100938,0.3988736409583171,0.18132078226409978,0.10838575184291124,0.1124456087700447,0.16625789389500298,0.22007266850526605,0.22841763785744854,0.48229298851272084,0.2949419646249718,0.11207280834566472,0.10685139191308299,0.2482500366930819,0.3506048816188574,0.3061480393468303,0.4660420576651929,0.35792620036704037,0.1283698590545703,0.10531962877396048,0.2048820437867415,0.36588637255100376,0.31311567949310304,0.39610383102386715,0.34699392610653923,0.12467142817930396,0.10611398919696438,0.12290985979326072,0.17163715657255132,0.18033451686183125,0.2601239802311689,0.3612930575530159,0.13710705110872554,0.09697935939834465,0.11070676766794693,0.15781566292729524,0.1976295721838819,0.21707026338346766,0.3895233916867974,0.17893465352169782,0.1074777550001795,0.10927926245649919,0.15291961793182277,0.2004445791532604,0.18283477562880593,0.3889605963192917,0.2199644188166717,0.10751237172256309,0.10718144186567866,0.14604537640663698,0.1988528966781832,0.16109706209186256,0.4748734638614832,0.058757583299519606,0.013328103411159281,0.0213351036721475,0.015067845878625946,0.029528300265063673,0.03367213439907055,0.10584360104736082,0.11946417605966284,0.04487108404229831,0.046480707980433605,0.052061704811984105,0.08982050102737413,0.0873015067373735,0.10847483678687539,0.13229101302028715,0.053832909223042985,0.04658419330922067,0.047153813300234076,0.08718767716792372,0.09367954662695452,0.09553633782590285,0.12317421737932441,0.054862783540304355,0.046306808847467656,0.04540969277240395,0.04256547727285556,0.056689421921553435,0.05082953835263501,0.11244548000356339,0.06930660558957699,0.13279092742276868,0.13168138957575673,0.12338681083991435,0.03372806197410563,0.01923964380015039,0.0580670730436664,0.11314798700325565,0.10430554981173587,0.11764348239763275,0.13185938777504333,0.05138653922848316,0.020542739129603388,0.0582103686762486,0.166484394135571,0.13394622029279482,0.19018438008070956,0.1368614075846076,0.0644917907827107,0.01723934235781774,0.02781802386072943,0.15212173789166392,0.10420981193290571,0.17343786996890312,0.13166782617306214,0.08930569263522473,0.027063495202600846,0.037675655990644846,0.16094593316500264,0.13180805287117384,0.2039387434670594,0.15083098268333336,0.12428723192133087,0.04183095034148551,0.03764455888541621,0.15378364102119804,0.15629106778896387,0.17111874271892616,0.17560307835159247,0.14690772553175566,0.0516547168868248,0.03454542867509783,0.12099566020474259,0.15483377459818046,0.13437788846019902,0.19754698994722228,0.15543859076074315,0.07328553278322716,0.03775104876543314,0.07512762314222962,0.15155271881089646,0.13056335314098041,0.14728780126232785,0.14423976988399664,0.08645782875204014,0.03434234247304227,0.06063016985350475,0.16644855413161527,0.15698344515879556,0.16424222631923782,0.13708730691492957,0.12167949606464953,0.040101230198478305,0.04763795380875904,0.19909081421342448,0.16245722243360197,0.22094630615857677,0.16202203464904277,0.142121690033455,0.04712735178833141,0.039501049629241586,0.1807818086956305,0.1668081559916643,0.18383400352352305,0.1970599521928685,0.16668089178600118,0.060385642305557846,0.03497123796760396,0.14754125661964337,0.1698069985741473,0.12490389460017118,0.1796923584196979,0.12052364520653788,0.059813339679517824,0.04430015492539194,0.12875135121643658,0.21568679630861695,0.11156201317551515,0.1656623489190923,0.12430809209129792,0.06686062189446099,0.030705354670425705,0.04421106998142779,0.2114508941404963,0.42168385051782475,0.3743165423916318,0.13990119790813701,0.11113897236235651,0.053494210455121455,0.052908795109071344,0.12973710155277998,0.12371211789378297,0.13676547655605545,0.1270696180487856,0.12281684747161756,0.05642721044351104,0.04793853769822229,0.13461374573173987,0.16177218475320307,0.15259589899788986,0.15659860506841608,0.16216779830584946,0.07290783923255864,0.05127090692829553,0.1476984804932838,0.19199706875982017,0.1494716378626421,0.21535805548191425,0.16062680690223538,0.11764206596633867,0.06177700705792691,0.07075499243207198,0.1452650944522528,0.14478479547708592,0.14159057122034377,0.13726054075440888,0.15238296216001654,0.06679140991077406,0.09303438363359137,0.14398142140039258,0.14422247225334497,0.13762924211246821,0.15567251653506484,0.1383725251645652,0.06100955882951012,0.08362666158926121,0.15155799823662888,0.14743420875154092,0.138035371594419,0.15093845977304007,0.16003250666897703,0.07158381934989796,0.06732622002968194,0.1507701190598493,0.14848962175425576,0.15334115646936644,0.21555824443814112,0.21041608377478596,0.10827939072937562,0.07022567634969859,0.18091104732067323,0.1798749492901501,0.17750504512438917,0.1902995402371325,0.21880539171868849,0.1283029863286266,0.0636128951647478,0.1437638918913536,0.18768051585225912,0.1799140943004586,0.1931566538458889,0.23149601520320093,0.16353508372621953,0.06971222000560265,0.1329583667705905,0.19539465821266075,0.1933197580555077,0.20767567552022784,0.24136145916631388,0.2137717382768903,0.10096766508404795,0.12885324842528786,0.2578820699477983,0.30953644345733977,0.2465977910496436,0.26015179379112496,0.2749711418219646,0.11573112846201292,0.11261004356663665,0.24351816896123887,0.24188146113987483,0.22691287275723396,0.2415920370121223,0.2695449223009103,0.13767087660808144,0.10087624088234057,0.23663465624940114,0.24569998822001307,0.23413542761427666,0.23204327274863237,0.2673900581588836,0.1476176151430412,0.10061293488920728,0.23785244378500744,0.24176621513913102,0.23399507214968365,0.2477310219292108,0.12444346858528152,0.14952941109057546,0.22163546436637652,0.21362309883533506,0.2340611722767397,0.23668221400315312,0.11031108973205991,0.20276679679878803,0.22450764365344247,0.21938664361517732,0.2740458688096614,0.14987781026675331,0.11057958930660475,0.238803040871962,0.2351256418553044,0.2380534482622824,0.3001315542755977,0.3127649625202622,0.13160739177118233,0.15285141461890586,0.3197896891399016,0.32699138382697723,0.3069323559842946,0.3279340403142529,0.36350930038445173,0.14462006022537097,0.1962765369207732,0.31233698565865464,0.30836921822671515,0.3273879845893134,0.2848062827398168,0.11712292243598629,0.28283877382804956,0.33218689673574187,0.3107102787006698,0.32593373887192023,0.37673048469398984,0.17161917218733283,0.11981497887682449,0.29699372973765525,0.32880669075787383,0.31138407077503716,0.2903804549478596,0.36703964807948986,0.20848175369302804,0.11931236037823609,0.2480512212459887,0.29453888261641137,0.27310445706503805,0.2855727008363834,0.3588266214484569,0.2514788562111274,0.12936449427812194,0.19807420284373475,0.33954813309312093,0.3080562727550492,0.3135165295493214,0.38916417612619225,0.34052383964392463,0.1312540565465555,0.17030442349132416,0.5139170061827442,0.48936166742463627,0.36617360764857454,0.3784286999712444,0.3938211876102523,0.16180750969123367,0.05269107245031049,0.29178744336662377,0.38150154035830175,0.38199149681956457,0.3990403077072513,0.44602698211478653,0.23068534435923513,0.05675283941358286,0.36850960330759885,0.39125658852479905,0.3379850367768874,0.4189831452616607,0.4183393986995917,0.12463490142078146,0.05419676037697416,0.3060024903008258,0.36899174793566414,0.35518759484322004,0.40902142689271226,0.4440275391156623,0.19040680271603708,0.05360602268303119,0.2639796349800757,0.3923889180389972,0.3667042543179211,0.35970832846792766,0.4216102819348546,0.26864149666826387,0.053041446045867885,0.15741618638021046,0.39592596159106186,0.35527678709258537,0.34094039921085895,0.4172690058628882,0.34534635897858745,0.0670315593983575,0.08196216166902134,0.40114293558003955,0.35703676735869283,0.3560026866697098,0.47598918249959654,0.39945909922652767,0.08698918363703376,0.06211098438820159,0.3482295692608828,0.3615680598348652,0.3438959762556326,0.4409395472059745,0.4337449346753691,0.12843132358830037,0.05490660706609932,0.31089960835030894,0.45037443897785434,0.4023131224397334,0.43472750877184096,0.4744779361531577,0.21696544746770738,0.05271060203330427,0.23872693988152668,0.37912257961669094,0.38041925808316035,0.4136695964117246,0.4784399520156001,0.29862357001335116,0.04987902711000139,0.1619297949262873,0.42632343560475194,0.37993080389751244,0.3835411155774242,0.4293856742181842,0.3345928555162606,0.05714057674979109,0.24586326411827356,0.3834726547315448,0.3618365379483298,0.41312924933412176,0.2419456726918721,0.11276035697244849,0.35903384963899354,0.34943310663922766,0.3383669152381975,0.4073472909474567,0.12128701582971421,0.17322660709528634,0.3911239590490828,0.34935211252250387,0.41501190113472675,0.3563352475686904,0.08648965553399598,0.28250106226981786,0.37797694423276074,0.33737373936810044,0.4156880539279175,0.42322269581341754,0.18465197113476126,0.09435011953928982,0.2772524117264459,0.36508158204301633,0.3896046862586442,0.3798493805591844,0.43374720954987167,0.24654310821726091,0.11146294882925192,0.36907059594436664,0.39552914621792357,0.3978907664067223,0.4328578194636846,0.12781560519698945,0.11450525009916626,0.40180007385616145,0.39011271294944627,0.36822090885657366,0.44664544752436464,0.3391184822672567,0.06377580622464465,0.10775436686304488,0.42107182343231053,0.40863868998819364,0.3284824567580159,0.3942337983384274,0.4332305984269844,0.10915169779571313,0.08807417000828202,0.3988445397335483,0.3816402647807986,0.317975197730053,0.415371331306134,0.421056757754001,0.14117761711488527,0.0756370448032456,0.297740103185303,0.41017234170237493,0.3651300411621373,0.48069422388117333,0.48911512253514944,0.20463936189169293,0.056718866523605665,0.28392573461867754,0.4678771946342063,0.28093848101950947,0.28934697516912244,0.3280156353412227,0.19059501638950507,0.07789412807032678,0.06151975308941368,0.13898008834539513,0.1415574353124949,0.14059756703888834,0.13819783197163135,0.1615389457334482,0.09333398031336484,0.07998645462461276,0.1489484167270492,0.1460081199713872,0.13827148639892237,0.14797923434463026,0.15343579983310576,0.0681457113776153,0.06214317600852107,0.14304099686545899,0.14364671439339063,0.14942296413271902,0.15046112242694257,0.1714389849578645,0.10328400239359722,0.07535908089232682,0.14681432691066873,0.14888918414566135,0.15364500244302207,0.1683434387479417,0.20346325177386024,0.13137316554173764,0.06641420996495043,0.14633668910944822,0.1802958439952874,0.17968682146100298,0.17876451007776914,0.21127967764255698,0.1705604112561048,0.08848633005377268,0.12462356997042898,0.19133520904605136,0.17521540539862487,0.1889521706992001,0.21476856253062362,0.20428469608009295,0.10099002752962985,0.11402896434599921,0.19007746097908837,0.18420562358849132,0.19135525369497028,0.21795948178101301,0.24120672477797814,0.1324414122704198,0.12185732257529444,0.22140698970642894,0.3144335185846624,0.24064611844065423,0.24203237545593262,0.2998072344314189,0.15149108258852476,0.10652222186477603,0.22034389363699788,0.22158005185726656,0.22167267787946585,0.2273281446593555,0.2759127252552297,0.1762094397119305,0.1050182079023689,0.19765562593526045,0.24231115488789948,0.23777454006383428,0.22145896844270482,0.25138107952967703,0.19895389252166554,0.09628299026759327,0.21177032085838657,0.23100107977132875,0.23203018148970242,0.24662663474144988,0.14017448330356932,0.13764014434121644,0.22963109025485182,0.21400034170331914,0.23066997822580262,0.24290524051035564,0.10992077706622613,0.19818747442509896,0.22536110789135297,0.2191018550807509,0.27203166058735073,0.16670754644762573,0.12582963975623904,0.22582724255357925,0.237919702810395,0.23244656936799504,0.28523910980555256,0.3169242915541829,0.13425744887804372,0.14926475304938877,0.3080645567320115,0.3233084049294642,0.29729306888446616,0.30839844821796525,0.35714819328715874,0.15081630330446769,0.1918349517598912,0.3118948444841064,0.3036366208181449,0.3147317417553023,0.3013712321130213,0.12778272682210315,0.26895126590005836,0.31817577298572364,0.3034423551200569,0.3181232791835227,0.3777355070803645,0.19082087279766666,0.13578818188531597,0.27949985896851137,0.31514628398069644,0.31770401552048155,0.28993990189324714,0.35959544318600734,0.2339524075222202,0.13306262469826527,0.22894218958001464,0.3162841504535896,0.28067116180437646,0.29524662611967556,0.33479557687995254,0.28333310834967584,0.14088450168133612,0.18602020084266072,0.33134523609194855,0.3234984642558305,0.3225218992618183,0.36411729278688587,0.3768021217797408,0.14428642627237973,0.16081987077983148,0.4263469569486654,0.5425617966975991,0.35955878766100346,0.3640986216471006,0.40566710297758113],\"type\":\"scatter\"},{\"line\":{\"color\":\"green\"},\"mode\":\"markers\",\"name\":\"True positives\",\"x\":[1630,1631,1632,1633,1634,1635,1636,1644,1645,1651,1652,1653,1654,1655,1658,1695,1840,1841,1943,1944,1945,1950,1970,1971,1972,1973,1974,1975,1976,1977,1978,1979,1980,1981,1982,1983,1984,1985,1986,2472,2473,2474,2475,2485,2486,2579,2580,2581,2582],\"y\":[0.6,0.6,0.6,0.6,0.6,0.6,0.6,0.6,0.6,0.6,0.6,0.6,0.6,0.6,0.6,0.6,0.6,0.6,0.6,0.6,0.6,0.6,0.6,0.6,0.6,0.6,0.6,0.6,0.6,0.6,0.6,0.6,0.6,0.6,0.6,0.6,0.6,0.6,0.6,0.6,0.6,0.6,0.6,0.6,0.6,0.6,0.6,0.6,0.6],\"type\":\"scatter\"},{\"line\":{\"color\":\"red\"},\"mode\":\"markers\",\"name\":\"False negatives\",\"x\":[53,58,59,63,70,72,106,110,121,129,136,143,148,156,157,165,172,179,186,193,201,208,211,212,213,215,222,229,230,233,242,243,277,278,306,320,327,340,376,381,396,397,398,399,400,426,440,441,458,459,484,496,605,638,639,655,667,668,669,672,674,678,679,682,689,696,703,710,718,725,732,733,734,735,736,737,739,746,754,758,764,765,766,771,772,774,776,779,784,796,798,802,804,805,806,825,839,846,847,854,855,859,875,881,885,904,907,936,937,946,949,960,961,964,965,967,968,971,972,994,1011,1012,1013,1014,1015,1020,1028,1052,1053,1056,1066,1091,1092,1180,1189,1194,1195,1196,1197,1198,1199,1202,1203,1204,1205,1206,1209,1210,1211,1212,1213,1220,1221,1223,1227,1232,1233,1237,1263,1291,1292,1301,1304,1316,1320,1321,1323,1327,1336,1349,1350,1351,1355,1364,1368,1371,1386,1393,1400,1407,1414,1419,1420,1426,1427,1461,1462,1463,1464,1547,1548,1550,1551,1552,1555,1556,1557,1558,1561,1562,1567,1568,1569,1575,1576,1594,1601,1608,1619,1620,1677,1684,1691,1692,1706,1712,1713,1787,1791,1808,1857,1878,1880,1881,1888,1892,1895,1900,1901,1902,1903,1906,1907,1909,1916,1917,1924,1931,1935,1938,1952,1953,1954,1956,1960,1961,1962,1967,1988,1989,2000,2024,2026,2035,2036,2050,2057,2071,2093,2097,2190,2194,2195,2196,2197,2199,2200,2221,2222,2232,2233,2255,2264,2265,2303,2325,2330,2331,2332,2337,2338,2339,2350,2352,2355,2380,2385,2387,2394,2399,2401,2403,2409,2416,2418,2425,2430,2437,2445,2448,2449,2452,2457,2459,2466,2481,2488,2492,2574,2575,2576,2577,2585,2586,2587,2591,2592,2593,2594,2595,2599,2600,2601,2618,2625,2632,2660,2664,2666,2667,2714,2715,2717,2730,2731,2738,2748,2749,2752,2753,2788,2795,2802,2804,2816,2836,2837,2838,2842,2845,2846,2848,2849,2856,2857,2860,2870,2871,2872,2962,2963,2998,3003,3010,3015,3017,3018,3019,3025,3032,3039,3040,3046,3053,3061,3068,3075,3076,3082,3083,3084,3085,3086,3087,3089,3090,3091,3097,3104,3117,3138,3164,3250,3251,3260,3261,3295,3296,3308,3333,3334,3338,3339,3345,3351,3352,3358,3359,3377,3385,3394,3404,3425,3426,3452,3537,3538],\"y\":[0.6,0.6,0.6,0.6,0.6,0.6,0.6,0.6,0.6,0.6,0.6,0.6,0.6,0.6,0.6,0.6,0.6,0.6,0.6,0.6,0.6,0.6,0.6,0.6,0.6,0.6,0.6,0.6,0.6,0.6,0.6,0.6,0.6,0.6,0.6,0.6,0.6,0.6,0.6,0.6,0.6,0.6,0.6,0.6,0.6,0.6,0.6,0.6,0.6,0.6,0.6,0.6,0.6,0.6,0.6,0.6,0.6,0.6,0.6,0.6,0.6,0.6,0.6,0.6,0.6,0.6,0.6,0.6,0.6,0.6,0.6,0.6,0.6,0.6,0.6,0.6,0.6,0.6,0.6,0.6,0.6,0.6,0.6,0.6,0.6,0.6,0.6,0.6,0.6,0.6,0.6,0.6,0.6,0.6,0.6,0.6,0.6,0.6,0.6,0.6,0.6,0.6,0.6,0.6,0.6,0.6,0.6,0.6,0.6,0.6,0.6,0.6,0.6,0.6,0.6,0.6,0.6,0.6,0.6,0.6,0.6,0.6,0.6,0.6,0.6,0.6,0.6,0.6,0.6,0.6,0.6,0.6,0.6,0.6,0.6,0.6,0.6,0.6,0.6,0.6,0.6,0.6,0.6,0.6,0.6,0.6,0.6,0.6,0.6,0.6,0.6,0.6,0.6,0.6,0.6,0.6,0.6,0.6,0.6,0.6,0.6,0.6,0.6,0.6,0.6,0.6,0.6,0.6,0.6,0.6,0.6,0.6,0.6,0.6,0.6,0.6,0.6,0.6,0.6,0.6,0.6,0.6,0.6,0.6,0.6,0.6,0.6,0.6,0.6,0.6,0.6,0.6,0.6,0.6,0.6,0.6,0.6,0.6,0.6,0.6,0.6,0.6,0.6,0.6,0.6,0.6,0.6,0.6,0.6,0.6,0.6,0.6,0.6,0.6,0.6,0.6,0.6,0.6,0.6,0.6,0.6,0.6,0.6,0.6,0.6,0.6,0.6,0.6,0.6,0.6,0.6,0.6,0.6,0.6,0.6,0.6,0.6,0.6,0.6,0.6,0.6,0.6,0.6,0.6,0.6,0.6,0.6,0.6,0.6,0.6,0.6,0.6,0.6,0.6,0.6,0.6,0.6,0.6,0.6,0.6,0.6,0.6,0.6,0.6,0.6,0.6,0.6,0.6,0.6,0.6,0.6,0.6,0.6,0.6,0.6,0.6,0.6,0.6,0.6,0.6,0.6,0.6,0.6,0.6,0.6,0.6,0.6,0.6,0.6,0.6,0.6,0.6,0.6,0.6,0.6,0.6,0.6,0.6,0.6,0.6,0.6,0.6,0.6,0.6,0.6,0.6,0.6,0.6,0.6,0.6,0.6,0.6,0.6,0.6,0.6,0.6,0.6,0.6,0.6,0.6,0.6,0.6,0.6,0.6,0.6,0.6,0.6,0.6,0.6,0.6,0.6,0.6,0.6,0.6,0.6,0.6,0.6,0.6,0.6,0.6,0.6,0.6,0.6,0.6,0.6,0.6,0.6,0.6,0.6,0.6,0.6,0.6,0.6,0.6,0.6,0.6,0.6,0.6,0.6,0.6,0.6,0.6,0.6,0.6,0.6,0.6,0.6,0.6,0.6,0.6,0.6,0.6,0.6,0.6,0.6,0.6,0.6,0.6,0.6,0.6,0.6,0.6,0.6,0.6,0.6,0.6,0.6,0.6,0.6,0.6,0.6,0.6,0.6,0.6,0.6,0.6,0.6,0.6,0.6,0.6,0.6,0.6,0.6,0.6,0.6,0.6,0.6,0.6,0.6,0.6,0.6,0.6,0.6,0.6,0.6,0.6,0.6],\"type\":\"scatter\"},{\"line\":{\"color\":\"#000000\"},\"marker\":{\"line\":{\"width\":2},\"size\":10,\"symbol\":34},\"mode\":\"markers\",\"name\":\"False positives\",\"x\":[505,506,512,519,526,527,533,534,541,548,555,563,570,576,581,585,587,593,600,606,612,613,619,620,626,627,634,1616,1629,1637,1638,1643,1659,1665,1666,1680,1681,1687,1688,1694,1701,1702,1703,1708,1709,1710,1716,1717,1730,1731,1740,1741,1747,1754,1761,1762,1768,1769,1774,1775,1776,1783,1790,1797,1798,1805,1811,1816,1820,1821,1822,1828,1835,1847,1855,1862,1869,1876,1914,1921,1949,1957,1963,1964,2378,2379,2421,2422,2427,2428,2429,2434,2435,2436,2479],\"y\":[0.6397489851967264,0.6205733383377712,0.6721661185471013,0.6263399305910037,0.617538913284295,0.7159140154953721,0.6249665073016927,0.7552131163598094,0.7140805524906153,0.6795970604930122,0.6395055307027901,0.655400379307424,0.6882366904765191,0.662339433294853,0.7478156536990308,0.6118714712216465,0.678734067535487,0.7095955301033822,0.688237892297011,0.6801563362433629,0.6466294933573343,0.6192976058855897,0.6107603881768592,0.7614022343602754,0.6063990674559738,0.7691459071670502,0.7349017491359824,0.856462973187578,0.6900971085980234,0.6894688998580286,0.6643387475274959,0.6323300614557348,0.6962999616898258,0.6625973096346923,0.6576657250903871,0.6024757244600752,0.6289543193825511,0.6759922857717954,0.6832721417130068,0.6880159847276086,0.7153205737053223,0.6961779769098951,0.6257562750535309,0.6284079202803281,0.6758406847011708,0.6892742907826571,0.6922644201665736,0.7067445543635666,0.6847720136869327,0.7392022062333837,0.6901216600737872,0.6210280557053242,0.7194521750236078,0.6609345909841101,0.6584653649391234,0.7698940404232751,0.664923261508177,0.8245042485105528,0.6087452785891796,0.6175474977163802,0.7735140095892828,0.7432003196327444,0.6701737577044474,0.6070447025931016,0.6641146080057513,0.7241027052614436,0.7326303084062387,0.77518831722318,0.6056626948717054,0.6080138849755206,0.7334551864853054,0.7536637122127519,0.7158091995796119,0.6007052711868237,0.731385394065243,0.7878256313844435,0.7157236127917224,0.6778846379806567,0.6486607416773341,0.6075880112997739,0.6008663151327421,0.6476092345912181,0.61823665592418,0.6323644850283964,0.6815871893833239,0.6020718269304666,0.675055810075621,0.6514248429644474,0.6541995889473463,0.7339481904199584,0.8383884514321912,0.7047709934271794,0.6501782117370348,0.6691942740035262,0.7281671763208227],\"type\":\"scatter\"}],                        {\"template\":{\"data\":{\"bar\":[{\"error_x\":{\"color\":\"#2a3f5f\"},\"error_y\":{\"color\":\"#2a3f5f\"},\"marker\":{\"line\":{\"color\":\"#E5ECF6\",\"width\":0.5},\"pattern\":{\"fillmode\":\"overlay\",\"size\":10,\"solidity\":0.2}},\"type\":\"bar\"}],\"barpolar\":[{\"marker\":{\"line\":{\"color\":\"#E5ECF6\",\"width\":0.5},\"pattern\":{\"fillmode\":\"overlay\",\"size\":10,\"solidity\":0.2}},\"type\":\"barpolar\"}],\"carpet\":[{\"aaxis\":{\"endlinecolor\":\"#2a3f5f\",\"gridcolor\":\"white\",\"linecolor\":\"white\",\"minorgridcolor\":\"white\",\"startlinecolor\":\"#2a3f5f\"},\"baxis\":{\"endlinecolor\":\"#2a3f5f\",\"gridcolor\":\"white\",\"linecolor\":\"white\",\"minorgridcolor\":\"white\",\"startlinecolor\":\"#2a3f5f\"},\"type\":\"carpet\"}],\"choropleth\":[{\"colorbar\":{\"outlinewidth\":0,\"ticks\":\"\"},\"type\":\"choropleth\"}],\"contour\":[{\"colorbar\":{\"outlinewidth\":0,\"ticks\":\"\"},\"colorscale\":[[0.0,\"#0d0887\"],[0.1111111111111111,\"#46039f\"],[0.2222222222222222,\"#7201a8\"],[0.3333333333333333,\"#9c179e\"],[0.4444444444444444,\"#bd3786\"],[0.5555555555555556,\"#d8576b\"],[0.6666666666666666,\"#ed7953\"],[0.7777777777777778,\"#fb9f3a\"],[0.8888888888888888,\"#fdca26\"],[1.0,\"#f0f921\"]],\"type\":\"contour\"}],\"contourcarpet\":[{\"colorbar\":{\"outlinewidth\":0,\"ticks\":\"\"},\"type\":\"contourcarpet\"}],\"heatmap\":[{\"colorbar\":{\"outlinewidth\":0,\"ticks\":\"\"},\"colorscale\":[[0.0,\"#0d0887\"],[0.1111111111111111,\"#46039f\"],[0.2222222222222222,\"#7201a8\"],[0.3333333333333333,\"#9c179e\"],[0.4444444444444444,\"#bd3786\"],[0.5555555555555556,\"#d8576b\"],[0.6666666666666666,\"#ed7953\"],[0.7777777777777778,\"#fb9f3a\"],[0.8888888888888888,\"#fdca26\"],[1.0,\"#f0f921\"]],\"type\":\"heatmap\"}],\"heatmapgl\":[{\"colorbar\":{\"outlinewidth\":0,\"ticks\":\"\"},\"colorscale\":[[0.0,\"#0d0887\"],[0.1111111111111111,\"#46039f\"],[0.2222222222222222,\"#7201a8\"],[0.3333333333333333,\"#9c179e\"],[0.4444444444444444,\"#bd3786\"],[0.5555555555555556,\"#d8576b\"],[0.6666666666666666,\"#ed7953\"],[0.7777777777777778,\"#fb9f3a\"],[0.8888888888888888,\"#fdca26\"],[1.0,\"#f0f921\"]],\"type\":\"heatmapgl\"}],\"histogram\":[{\"marker\":{\"pattern\":{\"fillmode\":\"overlay\",\"size\":10,\"solidity\":0.2}},\"type\":\"histogram\"}],\"histogram2d\":[{\"colorbar\":{\"outlinewidth\":0,\"ticks\":\"\"},\"colorscale\":[[0.0,\"#0d0887\"],[0.1111111111111111,\"#46039f\"],[0.2222222222222222,\"#7201a8\"],[0.3333333333333333,\"#9c179e\"],[0.4444444444444444,\"#bd3786\"],[0.5555555555555556,\"#d8576b\"],[0.6666666666666666,\"#ed7953\"],[0.7777777777777778,\"#fb9f3a\"],[0.8888888888888888,\"#fdca26\"],[1.0,\"#f0f921\"]],\"type\":\"histogram2d\"}],\"histogram2dcontour\":[{\"colorbar\":{\"outlinewidth\":0,\"ticks\":\"\"},\"colorscale\":[[0.0,\"#0d0887\"],[0.1111111111111111,\"#46039f\"],[0.2222222222222222,\"#7201a8\"],[0.3333333333333333,\"#9c179e\"],[0.4444444444444444,\"#bd3786\"],[0.5555555555555556,\"#d8576b\"],[0.6666666666666666,\"#ed7953\"],[0.7777777777777778,\"#fb9f3a\"],[0.8888888888888888,\"#fdca26\"],[1.0,\"#f0f921\"]],\"type\":\"histogram2dcontour\"}],\"mesh3d\":[{\"colorbar\":{\"outlinewidth\":0,\"ticks\":\"\"},\"type\":\"mesh3d\"}],\"parcoords\":[{\"line\":{\"colorbar\":{\"outlinewidth\":0,\"ticks\":\"\"}},\"type\":\"parcoords\"}],\"pie\":[{\"automargin\":true,\"type\":\"pie\"}],\"scatter\":[{\"marker\":{\"colorbar\":{\"outlinewidth\":0,\"ticks\":\"\"}},\"type\":\"scatter\"}],\"scatter3d\":[{\"line\":{\"colorbar\":{\"outlinewidth\":0,\"ticks\":\"\"}},\"marker\":{\"colorbar\":{\"outlinewidth\":0,\"ticks\":\"\"}},\"type\":\"scatter3d\"}],\"scattercarpet\":[{\"marker\":{\"colorbar\":{\"outlinewidth\":0,\"ticks\":\"\"}},\"type\":\"scattercarpet\"}],\"scattergeo\":[{\"marker\":{\"colorbar\":{\"outlinewidth\":0,\"ticks\":\"\"}},\"type\":\"scattergeo\"}],\"scattergl\":[{\"marker\":{\"colorbar\":{\"outlinewidth\":0,\"ticks\":\"\"}},\"type\":\"scattergl\"}],\"scattermapbox\":[{\"marker\":{\"colorbar\":{\"outlinewidth\":0,\"ticks\":\"\"}},\"type\":\"scattermapbox\"}],\"scatterpolar\":[{\"marker\":{\"colorbar\":{\"outlinewidth\":0,\"ticks\":\"\"}},\"type\":\"scatterpolar\"}],\"scatterpolargl\":[{\"marker\":{\"colorbar\":{\"outlinewidth\":0,\"ticks\":\"\"}},\"type\":\"scatterpolargl\"}],\"scatterternary\":[{\"marker\":{\"colorbar\":{\"outlinewidth\":0,\"ticks\":\"\"}},\"type\":\"scatterternary\"}],\"surface\":[{\"colorbar\":{\"outlinewidth\":0,\"ticks\":\"\"},\"colorscale\":[[0.0,\"#0d0887\"],[0.1111111111111111,\"#46039f\"],[0.2222222222222222,\"#7201a8\"],[0.3333333333333333,\"#9c179e\"],[0.4444444444444444,\"#bd3786\"],[0.5555555555555556,\"#d8576b\"],[0.6666666666666666,\"#ed7953\"],[0.7777777777777778,\"#fb9f3a\"],[0.8888888888888888,\"#fdca26\"],[1.0,\"#f0f921\"]],\"type\":\"surface\"}],\"table\":[{\"cells\":{\"fill\":{\"color\":\"#EBF0F8\"},\"line\":{\"color\":\"white\"}},\"header\":{\"fill\":{\"color\":\"#C8D4E3\"},\"line\":{\"color\":\"white\"}},\"type\":\"table\"}]},\"layout\":{\"annotationdefaults\":{\"arrowcolor\":\"#2a3f5f\",\"arrowhead\":0,\"arrowwidth\":1},\"autotypenumbers\":\"strict\",\"coloraxis\":{\"colorbar\":{\"outlinewidth\":0,\"ticks\":\"\"}},\"colorscale\":{\"diverging\":[[0,\"#8e0152\"],[0.1,\"#c51b7d\"],[0.2,\"#de77ae\"],[0.3,\"#f1b6da\"],[0.4,\"#fde0ef\"],[0.5,\"#f7f7f7\"],[0.6,\"#e6f5d0\"],[0.7,\"#b8e186\"],[0.8,\"#7fbc41\"],[0.9,\"#4d9221\"],[1,\"#276419\"]],\"sequential\":[[0.0,\"#0d0887\"],[0.1111111111111111,\"#46039f\"],[0.2222222222222222,\"#7201a8\"],[0.3333333333333333,\"#9c179e\"],[0.4444444444444444,\"#bd3786\"],[0.5555555555555556,\"#d8576b\"],[0.6666666666666666,\"#ed7953\"],[0.7777777777777778,\"#fb9f3a\"],[0.8888888888888888,\"#fdca26\"],[1.0,\"#f0f921\"]],\"sequentialminus\":[[0.0,\"#0d0887\"],[0.1111111111111111,\"#46039f\"],[0.2222222222222222,\"#7201a8\"],[0.3333333333333333,\"#9c179e\"],[0.4444444444444444,\"#bd3786\"],[0.5555555555555556,\"#d8576b\"],[0.6666666666666666,\"#ed7953\"],[0.7777777777777778,\"#fb9f3a\"],[0.8888888888888888,\"#fdca26\"],[1.0,\"#f0f921\"]]},\"colorway\":[\"#636efa\",\"#EF553B\",\"#00cc96\",\"#ab63fa\",\"#FFA15A\",\"#19d3f3\",\"#FF6692\",\"#B6E880\",\"#FF97FF\",\"#FECB52\"],\"font\":{\"color\":\"#2a3f5f\"},\"geo\":{\"bgcolor\":\"white\",\"lakecolor\":\"white\",\"landcolor\":\"#E5ECF6\",\"showlakes\":true,\"showland\":true,\"subunitcolor\":\"white\"},\"hoverlabel\":{\"align\":\"left\"},\"hovermode\":\"closest\",\"mapbox\":{\"style\":\"light\"},\"paper_bgcolor\":\"white\",\"plot_bgcolor\":\"#E5ECF6\",\"polar\":{\"angularaxis\":{\"gridcolor\":\"white\",\"linecolor\":\"white\",\"ticks\":\"\"},\"bgcolor\":\"#E5ECF6\",\"radialaxis\":{\"gridcolor\":\"white\",\"linecolor\":\"white\",\"ticks\":\"\"}},\"scene\":{\"xaxis\":{\"backgroundcolor\":\"#E5ECF6\",\"gridcolor\":\"white\",\"gridwidth\":2,\"linecolor\":\"white\",\"showbackground\":true,\"ticks\":\"\",\"zerolinecolor\":\"white\"},\"yaxis\":{\"backgroundcolor\":\"#E5ECF6\",\"gridcolor\":\"white\",\"gridwidth\":2,\"linecolor\":\"white\",\"showbackground\":true,\"ticks\":\"\",\"zerolinecolor\":\"white\"},\"zaxis\":{\"backgroundcolor\":\"#E5ECF6\",\"gridcolor\":\"white\",\"gridwidth\":2,\"linecolor\":\"white\",\"showbackground\":true,\"ticks\":\"\",\"zerolinecolor\":\"white\"}},\"shapedefaults\":{\"line\":{\"color\":\"#2a3f5f\"}},\"ternary\":{\"aaxis\":{\"gridcolor\":\"white\",\"linecolor\":\"white\",\"ticks\":\"\"},\"baxis\":{\"gridcolor\":\"white\",\"linecolor\":\"white\",\"ticks\":\"\"},\"bgcolor\":\"#E5ECF6\",\"caxis\":{\"gridcolor\":\"white\",\"linecolor\":\"white\",\"ticks\":\"\"}},\"title\":{\"x\":0.05},\"xaxis\":{\"automargin\":true,\"gridcolor\":\"white\",\"linecolor\":\"white\",\"ticks\":\"\",\"title\":{\"standoff\":15},\"zerolinecolor\":\"white\",\"zerolinewidth\":2},\"yaxis\":{\"automargin\":true,\"gridcolor\":\"white\",\"linecolor\":\"white\",\"ticks\":\"\",\"title\":{\"standoff\":15},\"zerolinecolor\":\"white\",\"zerolinewidth\":2}}},\"shapes\":[{\"line\":{\"color\":\"#aaaaaa\",\"dash\":\"dash\"},\"name\":\"threshold\",\"type\":\"line\",\"x0\":0,\"x1\":1,\"xref\":\"x domain\",\"y0\":0.6,\"y1\":0.6,\"yref\":\"y\"}],\"plot_bgcolor\":\"white\",\"xaxis\":{\"showgrid\":false,\"gridwidth\":1,\"gridcolor\":\"LightGrey\",\"showline\":true,\"linewidth\":2,\"linecolor\":\"DarkGrey\"},\"yaxis\":{\"showgrid\":true,\"gridwidth\":1,\"gridcolor\":\"LightGrey\",\"showline\":true,\"linewidth\":2,\"linecolor\":\"DarkGrey\"}},                        {\"responsive\": true}                    ).then(function(){\n",
              "                            \n",
              "var gd = document.getElementById('a52048c3-242e-497e-a6c6-876ca3b95e12');\n",
              "var x = new MutationObserver(function (mutations, observer) {{\n",
              "        var display = window.getComputedStyle(gd).display;\n",
              "        if (!display || display === 'none') {{\n",
              "            console.log([gd, 'removed!']);\n",
              "            Plotly.purge(gd);\n",
              "            observer.disconnect();\n",
              "        }}\n",
              "}});\n",
              "\n",
              "// Listen for the removal of the full notebook cells\n",
              "var notebookContainer = gd.closest('#notebook-container');\n",
              "if (notebookContainer) {{\n",
              "    x.observe(notebookContainer, {childList: true});\n",
              "}}\n",
              "\n",
              "// Listen for the clearing of the current output cell\n",
              "var outputEl = gd.closest('.output');\n",
              "if (outputEl) {{\n",
              "    x.observe(outputEl, {childList: true});\n",
              "}}\n",
              "\n",
              "                        })                };                            </script>        </div>\n",
              "</body>\n",
              "</html>"
            ]
          },
          "metadata": {}
        }
      ]
    },
    {
      "cell_type": "code",
      "source": [
        "rep = method.results(0.42, True)"
      ],
      "metadata": {
        "id": "FFeVyCxRINbR",
        "outputId": "96373a09-26ea-48d4-a64d-ac5234941c9f",
        "colab": {
          "base_uri": "https://localhost:8080/",
          "height": 802
        }
      },
      "execution_count": null,
      "outputs": [
        {
          "output_type": "stream",
          "name": "stdout",
          "text": [
            "=====================================================================\n",
            "Computing results... \n"
          ]
        },
        {
          "output_type": "stream",
          "name": "stderr",
          "text": [
            "<ipython-input-8-342a09e8d8f1>:1: DtypeWarning:\n",
            "\n",
            "Columns (1,9,28,46) have mixed types.Specify dtype option on import or set low_memory=False.\n",
            "\n"
          ]
        },
        {
          "output_type": "stream",
          "name": "stdout",
          "text": [
            "              precision    recall  f1-score   support\n",
            "\n",
            "       False       0.96      1.00      0.98      3917\n",
            "        True       0.98      0.69      0.81       582\n",
            "\n",
            "    accuracy                           0.96      4499\n",
            "   macro avg       0.97      0.84      0.89      4499\n",
            "weighted avg       0.96      0.96      0.95      4499\n",
            "\n"
          ]
        },
        {
          "output_type": "display_data",
          "data": {
            "text/html": [
              "<html>\n",
              "<head><meta charset=\"utf-8\" /></head>\n",
              "<body>\n",
              "    <div>            <script src=\"https://cdnjs.cloudflare.com/ajax/libs/mathjax/2.7.5/MathJax.js?config=TeX-AMS-MML_SVG\"></script><script type=\"text/javascript\">if (window.MathJax) {MathJax.Hub.Config({SVG: {font: \"STIX-Web\"}});}</script>                <script type=\"text/javascript\">window.PlotlyConfig = {MathJaxConfig: 'local'};</script>\n",
              "        <script src=\"https://cdn.plot.ly/plotly-2.8.3.min.js\"></script>                <div id=\"eea83207-ce3f-4914-ae6c-19375e2b84b7\" class=\"plotly-graph-div\" style=\"height:525px; width:100%;\"></div>            <script type=\"text/javascript\">                                    window.PLOTLYENV=window.PLOTLYENV || {};                                    if (document.getElementById(\"eea83207-ce3f-4914-ae6c-19375e2b84b7\")) {                    Plotly.newPlot(                        \"eea83207-ce3f-4914-ae6c-19375e2b84b7\",                        [{\"line\":{\"color\":\"#515ad6\"},\"mode\":\"lines\",\"name\":\"Anomaly score\",\"x\":[0,1,2,3,4,5,6,7,8,9,10,11,12,13,14,15,16,17,18,19,20,21,22,23,24,25,26,27,28,29,30,31,32,33,34,35,36,37,38,39,40,41,42,43,44,45,46,47,48,49,50,51,52,53,54,55,56,57,58,59,60,61,62,63,64,65,66,67,68,69,70,71,72,73,74,75,76,77,78,79,80,81,82,83,84,85,86,87,88,89,90,91,92,93,94,95,96,97,98,99,100,101,102,103,104,105,106,107,108,109,110,111,112,113,114,115,116,117,118,119,120,121,122,123,124,125,126,127,128,129,130,131,132,133,134,135,136,137,138,139,140,141,142,143,144,145,146,147,148,149,150,151,152,153,154,155,156,157,158,159,160,161,162,163,164,165,166,167,168,169,170,171,172,173,174,175,176,177,178,179,180,181,182,183,184,185,186,187,188,189,190,191,192,193,194,195,196,197,198,199,200,201,202,203,204,205,206,207,208,209,210,211,212,213,214,215,216,217,218,219,220,221,222,223,224,225,226,227,228,229,230,231,232,233,234,235,236,237,238,239,240,241,242,243,244,245,246,247,248,249,250,251,252,253,254,255,256,257,258,259,260,261,262,263,264,265,266,267,268,269,270,271,272,273,274,275,276,277,278,279,280,281,282,283,284,285,286,287,288,289,290,291,292,293,294,295,296,297,298,299,300,301,302,303,304,305,306,307,308,309,310,311,312,313,314,315,316,317,318,319,320,321,322,323,324,325,326,327,328,329,330,331,332,333,334,335,336,337,338,339,340,341,342,343,344,345,346,347,348,349,350,351,352,353,354,355,356,357,358,359,360,361,362,363,364,365,366,367,368,369,370,371,372,373,374,375,376,377,378,379,380,381,382,383,384,385,386,387,388,389,390,391,392,393,394,395,396,397,398,399,400,401,402,403,404,405,406,407,408,409,410,411,412,413,414,415,416,417,418,419,420,421,422,423,424,425,426,427,428,429,430,431,432,433,434,435,436,437,438,439,440,441,442,443,444,445,446,447,448,449,450,451,452,453,454,455,456,457,458,459,460,461,462,463,464,465,466,467,468,469,470,471,472,473,474,475,476,477,478,479,480,481,482,483,484,485,486,487,488,489,490,491,492,493,494,495,496,497,498,499,500,501,502,503,504,505,506,507,508,509,510,511,512,513,514,515,516,517,518,519,520,521,522,523,524,525,526,527,528,529,530,531,532,533,534,535,536,537,538,539,540,541,542,543,544,545,546,547,548,549,550,551,552,553,554,555,556,557,558,559,560,561,562,563,564,565,566,567,568,569,570,571,572,573,574,575,576,577,578,579,580,581,582,583,584,585,586,587,588,589,590,591,592,593,594,595,596,597,598,599,600,601,602,603,604,605,606,607,608,609,610,611,612,613,614,615,616,617,618,619,620,621,622,623,624,625,626,627,628,629,630,631,632,633,634,635,636,637,638,639,640,641,642,643,644,645,646,647,648,649,650,651,652,653,654,655,656,657,658,659,660,661,662,663,664,665,666,667,668,669,670,671,672,673,674,675,676,677,678,679,680,681,682,683,684,685,686,687,688,689,690,691,692,693,694,695,696,697,698,699,700,701,702,703,704,705,706,707,708,709,710,711,712,713,714,715,716,717,718,719,720,721,722,723,724,725,726,727,728,729,730,731,732,733,734,735,736,737,738,739,740,741,742,743,744,745,746,747,748,749,750,751,752,753,754,755,756,757,758,759,760,761,762,763,764,765,766,767,768,769,770,771,772,773,774,775,776,777,778,779,780,781,782,783,784,785,786,787,788,789,790,791,792,793,794,795,796,797,798,799,800,801,802,803,804,805,806,807,808,809,810,811,812,813,814,815,816,817,818,819,820,821,822,823,824,825,826,827,828,829,830,831,832,833,834,835,836,837,838,839,840,841,842,843,844,845,846,847,848,849,850,851,852,853,854,855,856,857,858,859,860,861,862,863,864,865,866,867,868,869,870,871,872,873,874,875,876,877,878,879,880,881,882,883,884,885,886,887,888,889,890,891,892,893,894,895,896,897,898,899,900,901,902,903,904,905,906,907,908,909,910,911,912,913,914,915,916,917,918,919,920,921,922,923,924,925,926,927,928,929,930,931,932,933,934,935,936,937,938,939,940,941,942,943,944,945,946,947,948,949,950,951,952,953,954,955,956,957,958,959,960,961,962,963,964,965,966,967,968,969,970,971,972,973,974,975,976,977,978,979,980,981,982,983,984,985,986,987,988,989,990,991,992,993,994,995,996,997,998,999,1000,1001,1002,1003,1004,1005,1006,1007,1008,1009,1010,1011,1012,1013,1014,1015,1016,1017,1018,1019,1020,1021,1022,1023,1024,1025,1026,1027,1028,1029,1030,1031,1032,1033,1034,1035,1036,1037,1038,1039,1040,1041,1042,1043,1044,1045,1046,1047,1048,1049,1050,1051,1052,1053,1054,1055,1056,1057,1058,1059,1060,1061,1062,1063,1064,1065,1066,1067,1068,1069,1070,1071,1072,1073,1074,1075,1076,1077,1078,1079,1080,1081,1082,1083,1084,1085,1086,1087,1088,1089,1090,1091,1092,1093,1094,1095,1096,1097,1098,1099,1100,1101,1102,1103,1104,1105,1106,1107,1108,1109,1110,1111,1112,1113,1114,1115,1116,1117,1118,1119,1120,1121,1122,1123,1124,1125,1126,1127,1128,1129,1130,1131,1132,1133,1134,1135,1136,1137,1138,1139,1140,1141,1142,1143,1144,1145,1146,1147,1148,1149,1150,1151,1152,1153,1154,1155,1156,1157,1158,1159,1160,1161,1162,1163,1164,1165,1166,1167,1168,1169,1170,1171,1172,1173,1174,1175,1176,1177,1178,1179,1180,1181,1182,1183,1184,1185,1186,1187,1188,1189,1190,1191,1192,1193,1194,1195,1196,1197,1198,1199,1200,1201,1202,1203,1204,1205,1206,1207,1208,1209,1210,1211,1212,1213,1214,1215,1216,1217,1218,1219,1220,1221,1222,1223,1224,1225,1226,1227,1228,1229,1230,1231,1232,1233,1234,1235,1236,1237,1238,1239,1240,1241,1242,1243,1244,1245,1246,1247,1248,1249,1250,1251,1252,1253,1254,1255,1256,1257,1258,1259,1260,1261,1262,1263,1264,1265,1266,1267,1268,1269,1270,1271,1272,1273,1274,1275,1276,1277,1278,1279,1280,1281,1282,1283,1284,1285,1286,1287,1288,1289,1290,1291,1292,1293,1294,1295,1296,1297,1298,1299,1300,1301,1302,1303,1304,1305,1306,1307,1308,1309,1310,1311,1312,1313,1314,1315,1316,1317,1318,1319,1320,1321,1322,1323,1324,1325,1326,1327,1328,1329,1330,1331,1332,1333,1334,1335,1336,1337,1338,1339,1340,1341,1342,1343,1344,1345,1346,1347,1348,1349,1350,1351,1352,1353,1354,1355,1356,1357,1358,1359,1360,1361,1362,1363,1364,1365,1366,1367,1368,1369,1370,1371,1372,1373,1374,1375,1376,1377,1378,1379,1380,1381,1382,1383,1384,1385,1386,1387,1388,1389,1390,1391,1392,1393,1394,1395,1396,1397,1398,1399,1400,1401,1402,1403,1404,1405,1406,1407,1408,1409,1410,1411,1412,1413,1414,1415,1416,1417,1418,1419,1420,1421,1422,1423,1424,1425,1426,1427,1428,1429,1430,1431,1432,1433,1434,1435,1436,1437,1438,1439,1440,1441,1442,1443,1444,1445,1446,1447,1448,1449,1450,1451,1452,1453,1454,1455,1456,1457,1458,1459,1460,1461,1462,1463,1464,1465,1466,1467,1468,1469,1470,1471,1472,1473,1474,1475,1476,1477,1478,1479,1480,1481,1482,1483,1484,1485,1486,1487,1488,1489,1490,1491,1492,1493,1494,1495,1496,1497,1498,1499,1500,1501,1502,1503,1504,1505,1506,1507,1508,1509,1510,1511,1512,1513,1514,1515,1516,1517,1518,1519,1520,1521,1522,1523,1524,1525,1526,1527,1528,1529,1530,1531,1532,1533,1534,1535,1536,1537,1538,1539,1540,1541,1542,1543,1544,1545,1546,1547,1548,1549,1550,1551,1552,1553,1554,1555,1556,1557,1558,1559,1560,1561,1562,1563,1564,1565,1566,1567,1568,1569,1570,1571,1572,1573,1574,1575,1576,1577,1578,1579,1580,1581,1582,1583,1584,1585,1586,1587,1588,1589,1590,1591,1592,1593,1594,1595,1596,1597,1598,1599,1600,1601,1602,1603,1604,1605,1606,1607,1608,1609,1610,1611,1612,1613,1614,1615,1616,1617,1618,1619,1620,1621,1622,1623,1624,1625,1626,1627,1628,1629,1630,1631,1632,1633,1634,1635,1636,1637,1638,1639,1640,1641,1642,1643,1644,1645,1646,1647,1648,1649,1650,1651,1652,1653,1654,1655,1656,1657,1658,1659,1660,1661,1662,1663,1664,1665,1666,1667,1668,1669,1670,1671,1672,1673,1674,1675,1676,1677,1678,1679,1680,1681,1682,1683,1684,1685,1686,1687,1688,1689,1690,1691,1692,1693,1694,1695,1696,1697,1698,1699,1700,1701,1702,1703,1704,1705,1706,1707,1708,1709,1710,1711,1712,1713,1714,1715,1716,1717,1718,1719,1720,1721,1722,1723,1724,1725,1726,1727,1728,1729,1730,1731,1732,1733,1734,1735,1736,1737,1738,1739,1740,1741,1742,1743,1744,1745,1746,1747,1748,1749,1750,1751,1752,1753,1754,1755,1756,1757,1758,1759,1760,1761,1762,1763,1764,1765,1766,1767,1768,1769,1770,1771,1772,1773,1774,1775,1776,1777,1778,1779,1780,1781,1782,1783,1784,1785,1786,1787,1788,1789,1790,1791,1792,1793,1794,1795,1796,1797,1798,1799,1800,1801,1802,1803,1804,1805,1806,1807,1808,1809,1810,1811,1812,1813,1814,1815,1816,1817,1818,1819,1820,1821,1822,1823,1824,1825,1826,1827,1828,1829,1830,1831,1832,1833,1834,1835,1836,1837,1838,1839,1840,1841,1842,1843,1844,1845,1846,1847,1848,1849,1850,1851,1852,1853,1854,1855,1856,1857,1858,1859,1860,1861,1862,1863,1864,1865,1866,1867,1868,1869,1870,1871,1872,1873,1874,1875,1876,1877,1878,1879,1880,1881,1882,1883,1884,1885,1886,1887,1888,1889,1890,1891,1892,1893,1894,1895,1896,1897,1898,1899,1900,1901,1902,1903,1904,1905,1906,1907,1908,1909,1910,1911,1912,1913,1914,1915,1916,1917,1918,1919,1920,1921,1922,1923,1924,1925,1926,1927,1928,1929,1930,1931,1932,1933,1934,1935,1936,1937,1938,1939,1940,1941,1942,1943,1944,1945,1946,1947,1948,1949,1950,1951,1952,1953,1954,1955,1956,1957,1958,1959,1960,1961,1962,1963,1964,1965,1966,1967,1968,1969,1970,1971,1972,1973,1974,1975,1976,1977,1978,1979,1980,1981,1982,1983,1984,1985,1986,1987,1988,1989,1990,1991,1992,1993,1994,1995,1996,1997,1998,1999,2000,2001,2002,2003,2004,2005,2006,2007,2008,2009,2010,2011,2012,2013,2014,2015,2016,2017,2018,2019,2020,2021,2022,2023,2024,2025,2026,2027,2028,2029,2030,2031,2032,2033,2034,2035,2036,2037,2038,2039,2040,2041,2042,2043,2044,2045,2046,2047,2048,2049,2050,2051,2052,2053,2054,2055,2056,2057,2058,2059,2060,2061,2062,2063,2064,2065,2066,2067,2068,2069,2070,2071,2072,2073,2074,2075,2076,2077,2078,2079,2080,2081,2082,2083,2084,2085,2086,2087,2088,2089,2090,2091,2092,2093,2094,2095,2096,2097,2098,2099,2100,2101,2102,2103,2104,2105,2106,2107,2108,2109,2110,2111,2112,2113,2114,2115,2116,2117,2118,2119,2120,2121,2122,2123,2124,2125,2126,2127,2128,2129,2130,2131,2132,2133,2134,2135,2136,2137,2138,2139,2140,2141,2142,2143,2144,2145,2146,2147,2148,2149,2150,2151,2152,2153,2154,2155,2156,2157,2158,2159,2160,2161,2162,2163,2164,2165,2166,2167,2168,2169,2170,2171,2172,2173,2174,2175,2176,2177,2178,2179,2180,2181,2182,2183,2184,2185,2186,2187,2188,2189,2190,2191,2192,2193,2194,2195,2196,2197,2198,2199,2200,2201,2202,2203,2204,2205,2206,2207,2208,2209,2210,2211,2212,2213,2214,2215,2216,2217,2218,2219,2220,2221,2222,2223,2224,2225,2226,2227,2228,2229,2230,2231,2232,2233,2234,2235,2236,2237,2238,2239,2240,2241,2242,2243,2244,2245,2246,2247,2248,2249,2250,2251,2252,2253,2254,2255,2256,2257,2258,2259,2260,2261,2262,2263,2264,2265,2266,2267,2268,2269,2270,2271,2272,2273,2274,2275,2276,2277,2278,2279,2280,2281,2282,2283,2284,2285,2286,2287,2288,2289,2290,2291,2292,2293,2294,2295,2296,2297,2298,2299,2300,2301,2302,2303,2304,2305,2306,2307,2308,2309,2310,2311,2312,2313,2314,2315,2316,2317,2318,2319,2320,2321,2322,2323,2324,2325,2326,2327,2328,2329,2330,2331,2332,2333,2334,2335,2336,2337,2338,2339,2340,2341,2342,2343,2344,2345,2346,2347,2348,2349,2350,2351,2352,2353,2354,2355,2356,2357,2358,2359,2360,2361,2362,2363,2364,2365,2366,2367,2368,2369,2370,2371,2372,2373,2374,2375,2376,2377,2378,2379,2380,2381,2382,2383,2384,2385,2386,2387,2388,2389,2390,2391,2392,2393,2394,2395,2396,2397,2398,2399,2400,2401,2402,2403,2404,2405,2406,2407,2408,2409,2410,2411,2412,2413,2414,2415,2416,2417,2418,2419,2420,2421,2422,2423,2424,2425,2426,2427,2428,2429,2430,2431,2432,2433,2434,2435,2436,2437,2438,2439,2440,2441,2442,2443,2444,2445,2446,2447,2448,2449,2450,2451,2452,2453,2454,2455,2456,2457,2458,2459,2460,2461,2462,2463,2464,2465,2466,2467,2468,2469,2470,2471,2472,2473,2474,2475,2476,2477,2478,2479,2480,2481,2482,2483,2484,2485,2486,2487,2488,2489,2490,2491,2492,2493,2494,2495,2496,2497,2498,2499,2500,2501,2502,2503,2504,2505,2506,2507,2508,2509,2510,2511,2512,2513,2514,2515,2516,2517,2518,2519,2520,2521,2522,2523,2524,2525,2526,2527,2528,2529,2530,2531,2532,2533,2534,2535,2536,2537,2538,2539,2540,2541,2542,2543,2544,2545,2546,2547,2548,2549,2550,2551,2552,2553,2554,2555,2556,2557,2558,2559,2560,2561,2562,2563,2564,2565,2566,2567,2568,2569,2570,2571,2572,2573,2574,2575,2576,2577,2578,2579,2580,2581,2582,2583,2584,2585,2586,2587,2588,2589,2590,2591,2592,2593,2594,2595,2596,2597,2598,2599,2600,2601,2602,2603,2604,2605,2606,2607,2608,2609,2610,2611,2612,2613,2614,2615,2616,2617,2618,2619,2620,2621,2622,2623,2624,2625,2626,2627,2628,2629,2630,2631,2632,2633,2634,2635,2636,2637,2638,2639,2640,2641,2642,2643,2644,2645,2646,2647,2648,2649,2650,2651,2652,2653,2654,2655,2656,2657,2658,2659,2660,2661,2662,2663,2664,2665,2666,2667,2668,2669,2670,2671,2672,2673,2674,2675,2676,2677,2678,2679,2680,2681,2682,2683,2684,2685,2686,2687,2688,2689,2690,2691,2692,2693,2694,2695,2696,2697,2698,2699,2700,2701,2702,2703,2704,2705,2706,2707,2708,2709,2710,2711,2712,2713,2714,2715,2716,2717,2718,2719,2720,2721,2722,2723,2724,2725,2726,2727,2728,2729,2730,2731,2732,2733,2734,2735,2736,2737,2738,2739,2740,2741,2742,2743,2744,2745,2746,2747,2748,2749,2750,2751,2752,2753,2754,2755,2756,2757,2758,2759,2760,2761,2762,2763,2764,2765,2766,2767,2768,2769,2770,2771,2772,2773,2774,2775,2776,2777,2778,2779,2780,2781,2782,2783,2784,2785,2786,2787,2788,2789,2790,2791,2792,2793,2794,2795,2796,2797,2798,2799,2800,2801,2802,2803,2804,2805,2806,2807,2808,2809,2810,2811,2812,2813,2814,2815,2816,2817,2818,2819,2820,2821,2822,2823,2824,2825,2826,2827,2828,2829,2830,2831,2832,2833,2834,2835,2836,2837,2838,2839,2840,2841,2842,2843,2844,2845,2846,2847,2848,2849,2850,2851,2852,2853,2854,2855,2856,2857,2858,2859,2860,2861,2862,2863,2864,2865,2866,2867,2868,2869,2870,2871,2872,2873,2874,2875,2876,2877,2878,2879,2880,2881,2882,2883,2884,2885,2886,2887,2888,2889,2890,2891,2892,2893,2894,2895,2896,2897,2898,2899,2900,2901,2902,2903,2904,2905,2906,2907,2908,2909,2910,2911,2912,2913,2914,2915,2916,2917,2918,2919,2920,2921,2922,2923,2924,2925,2926,2927,2928,2929,2930,2931,2932,2933,2934,2935,2936,2937,2938,2939,2940,2941,2942,2943,2944,2945,2946,2947,2948,2949,2950,2951,2952,2953,2954,2955,2956,2957,2958,2959,2960,2961,2962,2963,2964,2965,2966,2967,2968,2969,2970,2971,2972,2973,2974,2975,2976,2977,2978,2979,2980,2981,2982,2983,2984,2985,2986,2987,2988,2989,2990,2991,2992,2993,2994,2995,2996,2997,2998,2999,3000,3001,3002,3003,3004,3005,3006,3007,3008,3009,3010,3011,3012,3013,3014,3015,3016,3017,3018,3019,3020,3021,3022,3023,3024,3025,3026,3027,3028,3029,3030,3031,3032,3033,3034,3035,3036,3037,3038,3039,3040,3041,3042,3043,3044,3045,3046,3047,3048,3049,3050,3051,3052,3053,3054,3055,3056,3057,3058,3059,3060,3061,3062,3063,3064,3065,3066,3067,3068,3069,3070,3071,3072,3073,3074,3075,3076,3077,3078,3079,3080,3081,3082,3083,3084,3085,3086,3087,3088,3089,3090,3091,3092,3093,3094,3095,3096,3097,3098,3099,3100,3101,3102,3103,3104,3105,3106,3107,3108,3109,3110,3111,3112,3113,3114,3115,3116,3117,3118,3119,3120,3121,3122,3123,3124,3125,3126,3127,3128,3129,3130,3131,3132,3133,3134,3135,3136,3137,3138,3139,3140,3141,3142,3143,3144,3145,3146,3147,3148,3149,3150,3151,3152,3153,3154,3155,3156,3157,3158,3159,3160,3161,3162,3163,3164,3165,3166,3167,3168,3169,3170,3171,3172,3173,3174,3175,3176,3177,3178,3179,3180,3181,3182,3183,3184,3185,3186,3187,3188,3189,3190,3191,3192,3193,3194,3195,3196,3197,3198,3199,3200,3201,3202,3203,3204,3205,3206,3207,3208,3209,3210,3211,3212,3213,3214,3215,3216,3217,3218,3219,3220,3221,3222,3223,3224,3225,3226,3227,3228,3229,3230,3231,3232,3233,3234,3235,3236,3237,3238,3239,3240,3241,3242,3243,3244,3245,3246,3247,3248,3249,3250,3251,3252,3253,3254,3255,3256,3257,3258,3259,3260,3261,3262,3263,3264,3265,3266,3267,3268,3269,3270,3271,3272,3273,3274,3275,3276,3277,3278,3279,3280,3281,3282,3283,3284,3285,3286,3287,3288,3289,3290,3291,3292,3293,3294,3295,3296,3297,3298,3299,3300,3301,3302,3303,3304,3305,3306,3307,3308,3309,3310,3311,3312,3313,3314,3315,3316,3317,3318,3319,3320,3321,3322,3323,3324,3325,3326,3327,3328,3329,3330,3331,3332,3333,3334,3335,3336,3337,3338,3339,3340,3341,3342,3343,3344,3345,3346,3347,3348,3349,3350,3351,3352,3353,3354,3355,3356,3357,3358,3359,3360,3361,3362,3363,3364,3365,3366,3367,3368,3369,3370,3371,3372,3373,3374,3375,3376,3377,3378,3379,3380,3381,3382,3383,3384,3385,3386,3387,3388,3389,3390,3391,3392,3393,3394,3395,3396,3397,3398,3399,3400,3401,3402,3403,3404,3405,3406,3407,3408,3409,3410,3411,3412,3413,3414,3415,3416,3417,3418,3419,3420,3421,3422,3423,3424,3425,3426,3427,3428,3429,3430,3431,3432,3433,3434,3435,3436,3437,3438,3439,3440,3441,3442,3443,3444,3445,3446,3447,3448,3449,3450,3451,3452,3453,3454,3455,3456,3457,3458,3459,3460,3461,3462,3463,3464,3465,3466,3467,3468,3469,3470,3471,3472,3473,3474,3475,3476,3477,3478,3479,3480,3481,3482,3483,3484,3485,3486,3487,3488,3489,3490,3491,3492,3493,3494,3495,3496,3497,3498,3499,3500,3501,3502,3503,3504,3505,3506,3507,3508,3509,3510,3511,3512,3513,3514,3515,3516,3517,3518,3519,3520,3521,3522,3523,3524,3525,3526,3527,3528,3529,3530,3531,3532,3533,3534,3535,3536,3537,3538,3539,3540,3541,3542,3543,3544,3545,3546,3547,3548,3549,3550,3551,3552,3553,3554,3555,3556,3557,3558,3559,3560,3561,3562,3563,3564,3565,3566,3567,3568,3569,3570,3571,3572,3573,3574,3575,3576,3577,3578,3579,3580,3581,3582,3583,3584,3585,3586,3587,3588,3589,3590,3591,3592,3593,3594,3595,3596,3597,3598,3599,3600,3601,3602,3603,3604,3605,3606,3607,3608,3609,3610,3611,3612,3613,3614,3615,3616,3617,3618,3619,3620,3621,3622,3623,3624,3625,3626,3627,3628,3629,3630,3631,3632,3633,3634,3635,3636,3637,3638,3639,3640,3641,3642,3643,3644,3645,3646,3647,3648,3649,3650,3651,3652,3653,3654,3655,3656,3657,3658,3659,3660,3661,3662,3663,3664,3665,3666,3667,3668,3669,3670,3671,3672,3673,3674,3675,3676,3677,3678,3679,3680,3681,3682,3683,3684,3685,3686,3687,3688,3689,3690,3691,3692,3693,3694,3695,3696,3697,3698,3699,3700,3701,3702,3703,3704,3705,3706,3707,3708,3709,3710,3711,3712,3713,3714,3715,3716,3717,3718,3719,3720,3721,3722,3723,3724,3725,3726,3727,3728,3729,3730,3731,3732,3733,3734,3735,3736,3737,3738,3739,3740,3741,3742,3743,3744,3745,3746,3747,3748,3749,3750,3751,3752,3753,3754,3755,3756,3757,3758,3759,3760,3761,3762,3763,3764,3765,3766,3767,3768,3769,3770,3771,3772,3773,3774,3775,3776,3777,3778,3779,3780,3781,3782,3783,3784,3785,3786,3787,3788,3789,3790,3791,3792,3793,3794,3795,3796,3797,3798,3799,3800,3801,3802,3803,3804,3805,3806,3807,3808,3809,3810,3811,3812,3813,3814,3815,3816,3817,3818,3819,3820,3821,3822,3823,3824,3825,3826,3827,3828,3829,3830,3831,3832,3833,3834,3835,3836,3837,3838,3839,3840,3841,3842,3843,3844,3845,3846,3847,3848,3849,3850,3851,3852,3853,3854,3855,3856,3857,3858,3859,3860,3861,3862,3863,3864,3865,3866,3867,3868,3869,3870,3871,3872,3873,3874,3875,3876,3877,3878,3879,3880,3881,3882,3883,3884,3885,3886,3887,3888,3889,3890,3891,3892,3893,3894,3895,3896,3897,3898,3899,3900,3901,3902,3903,3904,3905,3906,3907,3908,3909,3910,3911,3912,3913,3914,3915,3916,3917,3918,3919,3920,3921,3922,3923,3924,3925,3926,3927,3928,3929,3930,3931,3932,3933,3934,3935,3936,3937,3938,3939,3940,3941,3942,3943,3944,3945,3946,3947,3948,3949,3950,3951,3952,3953,3954,3955,3956,3957,3958,3959,3960,3961,3962,3963,3964,3965,3966,3967,3968,3969,3970,3971,3972,3973,3974,3975,3976,3977,3978,3979,3980,3981,3982,3983,3984,3985,3986,3987,3988,3989,3990,3991,3992,3993,3994,3995,3996,3997,3998,3999,4000,4001,4002,4003,4004,4005,4006,4007,4008,4009,4010,4011,4012,4013,4014,4015,4016,4017,4018,4019,4020,4021,4022,4023,4024,4025,4026,4027,4028,4029,4030,4031,4032,4033,4034,4035,4036,4037,4038,4039,4040,4041,4042,4043,4044,4045,4046,4047,4048,4049,4050,4051,4052,4053,4054,4055,4056,4057,4058,4059,4060,4061,4062,4063,4064,4065,4066,4067,4068,4069,4070,4071,4072,4073,4074,4075,4076,4077,4078,4079,4080,4081,4082,4083,4084,4085,4086,4087,4088,4089,4090,4091,4092,4093,4094,4095,4096,4097,4098,4099,4100,4101,4102,4103,4104,4105,4106,4107,4108,4109,4110,4111,4112,4113,4114,4115,4116,4117,4118,4119,4120,4121,4122,4123,4124,4125,4126,4127,4128,4129,4130,4131,4132,4133,4134,4135,4136,4137,4138,4139,4140,4141,4142,4143,4144,4145,4146,4147,4148,4149,4150,4151,4152,4153,4154,4155,4156,4157,4158,4159,4160,4161,4162,4163,4164,4165,4166,4167,4168,4169,4170,4171,4172,4173,4174,4175,4176,4177,4178,4179,4180,4181,4182,4183,4184,4185,4186,4187,4188,4189,4190,4191,4192,4193,4194,4195,4196,4197,4198,4199,4200,4201,4202,4203,4204,4205,4206,4207,4208,4209,4210,4211,4212,4213,4214,4215,4216,4217,4218,4219,4220,4221,4222,4223,4224,4225,4226,4227,4228,4229,4230,4231,4232,4233,4234,4235,4236,4237,4238,4239,4240,4241,4242,4243,4244,4245,4246,4247,4248,4249,4250,4251,4252,4253,4254,4255,4256,4257,4258,4259,4260,4261,4262,4263,4264,4265,4266,4267,4268,4269,4270,4271,4272,4273,4274,4275,4276,4277,4278,4279,4280,4281,4282,4283,4284,4285,4286,4287,4288,4289,4290,4291,4292,4293,4294,4295,4296,4297,4298,4299,4300,4301,4302,4303,4304,4305,4306,4307,4308,4309,4310,4311,4312,4313,4314,4315,4316,4317,4318,4319,4320,4321,4322,4323,4324,4325,4326,4327,4328,4329,4330,4331,4332,4333,4334,4335,4336,4337,4338,4339,4340,4341,4342,4343,4344,4345,4346,4347,4348,4349,4350,4351,4352,4353,4354,4355,4356,4357,4358,4359,4360,4361,4362,4363,4364,4365,4366,4367,4368,4369,4370,4371,4372,4373,4374,4375,4376,4377,4378,4379,4380,4381,4382,4383,4384,4385,4386,4387,4388,4389,4390,4391,4392,4393,4394,4395,4396,4397,4398,4399,4400,4401,4402,4403,4404,4405,4406,4407,4408,4409,4410,4411,4412,4413,4414,4415,4416,4417,4418,4419,4420,4421,4422,4423,4424,4425,4426,4427,4428,4429,4430,4431,4432,4433,4434,4435,4436,4437,4438,4439,4440,4441,4442,4443,4444,4445,4446,4447,4448,4449,4450,4451,4452,4453,4454,4455,4456,4457,4458,4459,4460,4461,4462,4463,4464,4465,4466,4467,4468,4469,4470,4471,4472,4473,4474,4475,4476,4477,4478,4479,4480,4481,4482,4483,4484,4485,4486,4487,4488,4489,4490,4491,4492,4493,4494,4495,4496,4497,4498],\"y\":[0.0487888817164388,0.046924044708377854,0.0453631223790143,0.04458942017500456,0.043695169919476085,0.043030883361172334,0.042531038340164695,0.28218088282840714,0.37531777054807547,0.3748581612223636,0.3756857760773824,0.3764216281016275,0.3828913052570879,0.3054307533346725,0.25125633175459927,0.25331996172360816,0.25800177450548656,0.2630032463685694,0.1331004752105973,0.06420662763009055,0.06371028136519552,0.062318253535453394,0.06293037682080427,0.062019268922187454,0.059679396254645134,0.05925747807432913,0.06311581089477669,0.05870467460852491,0.05581056716585975,0.052618111247403565,0.08967725406169791,0.21545435562533988,0.17070431073788916,0.10238966632840052,0.09606645982656659,0.05184918007445671,0.05263703633728589,0.05193585380542998,0.05147354089544942,0.050047320676424034,0.04904158732839603,0.047391923821265,0.047511835735308816,0.04726660473868338,0.044733664347468505,0.04468674920868465,0.08646428270967199,0.23948540295094634,0.2407843956749649,0.255882641541781,0.3761275735537932,0.38642886575574953,0.38598134304206355,0.3770661943982052,0.3819994405170908,0.38387763641212747,0.286078497137938,0.2525608906815242,0.046828783121491524,0.06145056201950738,0.06454712021360232,0.06917661068815928,0.07925382346453502,0.08299701540200144,0.06950835638138919,0.06863573480001195,0.06836664864807274,0.06931671996703526,0.06769011644337453,0.06720983264972413,0.06693072733255301,0.06464556248786368,0.06200877265384941,0.051631302989257666,0.12873561792565424,0.16432353379456477,0.09122131874797335,0.23043793771228116,0.22508436375676721,0.22168420895271246,0.2189873041273076,0.09093903274342718,0.05023323185350259,0.04807338609139489,0.04668008598670248,0.046090863650452674,0.045240983983807714,0.04460468747440549,0.043785978544037096,0.04230536857089651,0.041960741093796994,0.04101162398104696,0.0400408781941457,0.1667499211587118,0.17315996042588777,0.1730204872844865,0.17267458753243714,0.28682707191168366,0.3842483455257033,0.29008950295239355,0.2488841751101989,0.2515435478245769,0.2539015504101576,0.2567407909956012,0.11211525411545153,0.05615058264626516,0.05517299838150724,0.058725667145201,0.06571284213660133,0.49264585320268983,0.06252674759289545,0.06811076234874047,0.0670891255638364,0.0740211156292776,0.15928818761093644,0.10753395105462848,0.0958126409740283,0.1556243538234805,0.08983422098366245,0.3308212264444257,0.3227196976311353,0.2883965820969605,0.35654758014099674,0.26848993209073413,0.286269338380448,0.29867672272787193,0.2244541105533775,0.07420146060344956,0.07212494885057108,0.07280402560516941,0.07389245682495194,0.07483219090994542,0.075476121069048,0.0776024105793478,0.07438085137140904,0.07350091420906879,0.07279193899314396,0.07145748160489207,0.0706532448020809,0.07084472218206606,0.06944887752747353,0.20787811733205852,0.11400283303824499,0.06661011404513628,0.06634198209940956,0.06358146352650129,0.06091334392184167,0.05944259407956398,0.05837149760597615,0.05785018294518607,0.05748042803782272,0.05646229000903147,0.0558954915187766,0.06780827897936192,0.08541656428829181,0.3465548146144315,0.4084035986933101,0.3649652692793788,0.3451107825461053,0.33344911035378955,0.4631413200075256,0.2456589581117785,0.24246920577759146,0.25593671322715883,0.2570776257886316,0.2595537909101999,0.1441732431354008,0.05219778341077519,0.05081354826510198,0.05230354126599934,0.05520623656457779,0.05814073873690773,0.06291844924314738,0.08035370515886808,0.06420090239281517,0.06305251521601085,0.06286771727951357,0.06245152433647272,0.06169627011923917,0.13606916977221029,0.16254775603300864,0.06504664716587238,0.053421234809633455,0.051721634510712544,0.051484673301262385,0.0515974286687122,0.04993249786218046,0.04794345501211916,0.04723447979619433,0.047599304638126005,0.04667213426826455,0.046193281783933005,0.04528726298511643,0.04404870332122601,0.04385022842901565,0.05194269228328663,0.248081051547969,0.3770499728925918,0.3764760178557427,0.3769563016493931,0.37660308631638073,0.38212078374045344,0.28686985215687977,0.25143635866003367,0.2547736948884287,0.2568727895216707,0.2572640140688165,0.09865235866257827,0.0558226537778852,0.05422181382196323,0.05923076030037766,0.06318562698266161,0.06681017928103428,0.07851860757776508,0.07225042696752149,0.07089513607696252,0.06953221153670297,0.06877488987267544,0.06815067997529867,0.06685295952623016,0.180879011582314,0.1376232536237174,0.06497412749371856,0.05482312277023871,0.05674250856678387,0.05593795369523513,0.0563702091095204,0.055600005661623486,0.054262049517259214,0.05395622642613662,0.053369866708524505,0.053169324369520155,0.0505169491673676,0.05070524585997749,0.04900421425173773,0.048877145791099696,0.04835471788972834,0.04698543197471872,0.04539683766519098,0.118995717045415,0.34940009850588805,0.24757770777084875,0.2363909122036454,0.236401726540721,0.23858002028960468,0.1696826739529853,0.042983809188019695,0.040775298909071944,0.09827656044920219,0.1719792892722254,0.17297341311133407,0.17280006564938732,0.234879131494228,0.395015449393753,0.3766886468067727,0.27300809850716035,0.254605595560651,0.255196726309326,0.26009371259213454,0.24630702316446906,0.06222251484546071,0.05634921657284431,0.05759222919906004,0.060776415330340505,0.06375194836981035,0.06672875368423004,0.09129479262633966,0.07046303969704582,0.07201903196097814,0.07000502071502179,0.06956258710113583,0.06870300633799675,0.0676829598967803,0.2030045091014574,0.11297356260364078,0.06506064219032304,0.05614787906199625,0.0568404737379391,0.055971668981411815,0.055955447475798614,0.05451793581659148,0.05378780902962155,0.05312399957442393,0.05255099874378755,0.05123594354852434,0.05027299044569222,0.05010823083965854,0.048899410602725846,0.04787872802403448,0.04727773714449657,0.046276297724424875,0.0456595624423799,0.20634423084538378,0.3207799554353892,0.24213650587814883,0.23287227679486588,0.23507887866138866,0.24066766444829635,0.11738946992095523,0.04022726647433039,0.04066143030104086,0.16821144700760127,0.1707515439454106,0.16965023094175868,0.17308887206305257,0.346008213489009,0.3910402263122681,0.30485393567918573,0.2524193500933294,0.2524921878342208,0.2548062969340241,0.2675853446012364,0.1183082114692724,0.05753990689173838,0.05625570436401439,0.058981871513270834,0.06230902954206541,0.06461534595779961,0.07288354278954867,0.07091581054490104,0.07129749302992128,0.07058263354235228,0.06904620250577742,0.0680304499925175,0.06832275516229536,0.1786017984560626,0.13954152617968107,0.06651723797378128,0.05887881724231536,0.05787292485991857,0.05739677595985593,0.05679165018673027,0.05663452423039694,0.05568604325512183,0.05522866041057273,0.05611432281018813,0.05573868363118084,0.05547802630078591,0.054335046292519174,0.05408599847104356,0.054152633871553446,0.05252921103526753,0.05250169808947236,0.05371433515125523,0.12958215787055516,0.3606998084749098,0.2583799582343942,0.2438093884031185,0.24688002399510567,0.2486904712490512,0.1726567756831361,0.04967581639100449,0.0474092585674597,0.10354298357063652,0.1905950573072397,0.1913515837994233,0.20160373438143342,0.2412683372590967,0.4023323026315895,0.3910290939064551,0.2920898372426366,0.2662683809935482,0.26743124029790954,0.2920774325618736,0.27880776386704165,0.07419160047258644,0.06798560230052764,0.06917931427242818,0.07160729198026261,0.07461304154979631,0.07757219404928373,0.08537966831473986,0.0859248381308435,0.08423112210356676,0.08351355903172886,0.08230139907305234,0.08334816328822003,0.08145931209047652,0.21660226569903807,0.12878364630501937,0.07984718069437258,0.07006624894699365,0.07327508540543182,0.07199644908061442,0.07203636670717262,0.0714783151071996,0.0705777034769206,0.06916277469807719,0.0692736216531018,0.06981910953794324,0.06915180132663279,0.06859756655150995,0.0679549086673572,0.067931371580781,0.07113177921767488,0.06613316997322971,0.067431049456667,0.23778993754561295,0.3427413294859738,0.2671341640970688,0.25839999656485757,0.2727984912091368,0.2749731271675391,0.16641722125926917,0.06291256497150344,0.06408353502867148,0.19686689570796445,0.19759066112018409,0.20059227579613004,0.20535217445306886,0.3850994974672981,0.4166605040848772,0.3201465215446244,0.2926264192028276,0.2951103770084649,0.2895589642982155,0.29895694128562433,0.11508490288327722,0.08100129310845228,0.0797996294181138,0.08196027035206543,0.08404171217037537,0.08603886577324338,0.09149613013718771,0.09649044545367658,0.09455960918258088,0.09404894982449763,0.09289022541372383,0.09076489010963673,0.09181690245897345,0.20290877041146493,0.16473511474091151,0.0912588508590002,0.08235292620853008,0.08501691091960195,0.08034241371868633,0.08085259597366323,0.07931600590271959,0.07865871685664128,0.07761481526011105,0.07731964747169551,0.0768832571638225,0.07642062618510415,0.07509873251198451,0.07468238053457488,0.0733752770577496,0.0730360567491879,0.07260650491917153,0.07233232966743208,0.14663318675135573,0.4104863127865701,0.4050187111886563,0.4059533561738493,0.4064046957123857,0.4089072605391679,0.3961896001382963,0.28388541319275973,0.2797238018310899,0.28164430086821635,0.2850352316788829,0.2550074754105034,0.08888605807712491,0.08388665366083603,0.08368118125640023,0.08678282855029518,0.09004732703779883,0.09025518495776597,0.09581947945188496,0.09685829194861473,0.09554371385645788,0.09502080885198017,0.09462783492677818,0.09812309228335026,0.09137256043266251,0.22817678705727418,0.13989903544064997,0.09032118422080071,0.0836339480488788,0.0839613998141524,0.08362249757432827,0.08292704027974773,0.08185801125295389,0.08144547610039465,0.08045834977351118,0.07948076550875327,0.0786674637469229,0.07809048705706734,0.0774188849178008,0.07643700672508635,0.0763156635017237,0.07580691255606564,0.07449360673885863,0.07396052353478066,0.26612334164924056,0.4077444012348064,0.40749551244769955,0.40687257482527284,0.40847071119692613,0.4152498692339903,0.36762098420327516,0.2829423393860224,0.28580686643609865,0.28897546719924105,0.2900235036893588,0.19449935106025817,0.08964131229435868,0.08680986439298399,0.08737777612382036,0.08971240065719366,0.09297006066684066,0.09506263489096356,0.10268833287292889,0.10171758708602763,0.09940999839534315,0.09926002898560404,0.0976989476218717,0.09692826707086843,0.20474132344266782,0.1713768670833684,0.09710018322349634,0.08859073125434058,0.08749800610660174,0.08690989701093321,0.08658292234876597,0.08479473990644637,0.0835458430085867,0.08261740036377518,0.08142241611692458,0.08479585314702764,0.07723504118751601,0.07679785570779907,0.08363331191140388,0.07935560546054043,0.07718542246446347,0.0753543007425792,0.07484046069712069,0.14579173590625505,0.4176993165816072,0.4086330852874285,0.40794844232992356,0.4096723748872646,0.4170614297285171,0.4154373707547565,0.28814498972558455,0.28391801523835514,0.2862230593791393,0.28950568778468155,0.2681998534021188,0.0923857683960223,0.08659294151399766,0.0878957510628664,0.08888939779886895,0.0919875463366513,0.09311573614862323,0.10075845080804569,0.10045835295419847,0.09938741551497943,0.09876972602672196,0.09927338787257978,0.09723122754335312,0.09597056210220534,0.2363691244951256,0.14722034164081155,0.09426794015027795,0.08559452374693244,0.08592070323725598,0.08552884255263526,0.08528233928105977,0.08417259745586358,0.0831274235843833,0.08227340902415081,0.08121551240316993,0.08018083480002769,0.0842106066699968,0.08156681932375731,0.08293038000149178,0.0822007303176282,0.0819370513342268,0.08050176615618221,0.07636432801856374,0.24902094466733105,0.4086790462199996,0.40842411412687984,0.41969678825321255,0.418328774613153,0.4337511325234986,0.3849786313470418,0.2877087584520803,0.2818510455476022,0.29066997839836173,0.2929155436852302,0.21626161408115752,0.09132596336261622,0.08611536130461617,0.08704332684632132,0.09007929294591932,0.09279416865499379,0.09585414894427413,0.10316527694483524,0.10140635682636745,0.09994260449631498,0.09941810914814986,0.1003354193871484,0.09767604667277041,0.09882332060899346,0.24918761268578993,0.12066541888300941,0.09206451897113022,0.0860113528274482,0.08586742672372183,0.08489493155876415,0.08414762905996853,0.0831312404092337,0.0835157855128914,0.08185991966537887,0.08038058196718834,0.07989345969568129,0.07910655763906482,0.07904517037272418,0.0770985896991212,0.07793161172267782,0.0788993358565726,0.0739447791322736,0.09087048893049232,0.3721440806851328,0.4094222138252075,0.4091749153817883,0.40768905727447846,0.408786712487649,0.42497307150551,0.30526376724747606,0.28168962566331257,0.2852117598282047,0.28908106602009664,0.29229308316590985,0.10829461244039984,0.08715608221377114,0.08579427091409286,0.08787094170134013,0.08933946506245527,0.09251124651297271,0.09813406565479466,0.10074381964611989,0.0998907592920999,0.09961610693725409,0.09840855897527168,0.10012915181086868,0.0971113156293093,0.22711730009260567,0.14550308852695837,0.0927467764131038,0.08484658511066168,0.08561472111176482,0.0852010727186241,0.08478297136315827,0.08381715564168846,0.08272490759705597,0.0822097952766474,0.08147998655841504,0.07982237133284631,0.07890013102841631,0.07681534948836255,0.07644400423731179,0.07628131207807187,0.07562116041335587,0.07528607499838191,0.07329846345763946,0.27399379352472475,0.4067785855133368,0.4063393325868261,0.40768842113700354,0.40802287041450236,0.4146054619717814,0.3721490107505643,0.2801404718772369,0.28391229000107976,0.28631991130971324,0.29382474317142204,0.2111422977508246,0.08718963846557926,0.08353327929345489,0.08436677842011764,0.09520783326964,0.09503750746069972,0.10101815393222813,0.10696762966747975,0.10687570780233746,0.10617929630154443,0.10575531067443444,0.10399829896839186,0.10332860524155008,0.10311947504663288,0.25378116139300744,0.1236803924459311,0.08832816551152045,0.08775882247136546,0.09073721812947277,0.08597397975078991,0.08508672700748687,0.08449750467123707,0.083235566955139,0.08279726823484101,0.08358894132252037,0.08201052521259311,0.08601548772103595,0.0789820337283269,0.07653322251818517,0.07795944273721056,0.07750635382061777,0.07636178346866362,0.12356334315052497,0.4112509500315604,0.40763546269220696,0.4084563981037379,0.40729815079607046,0.41378341331966917,0.4313311065341019,0.2882510656495465,0.28388429995217845,0.28620811014847614,0.2965299177840024,0.29596550480927886,0.08872654660526025,0.08565750135696071,0.08638508359403052,0.08995572324139389,0.09247498667689569,0.093847294244912,0.1020479014699387,0.10541275064412892,0.10289301010552099,0.10076004115173331,0.0988748477444712,0.09789519603291952,0.09776128909442483,0.23099296765924793,0.14979940199896657,0.09562911531248108,0.08665925884576997,0.0865506383719079,0.08694615684701001,0.08703139926866466,0.0860223261988926,0.08454092105390809,0.08715337862950223,0.08341511675746727,0.08147998655841504,0.0809675778222756,0.07946120428139603,0.07824379618855049,0.07767842900761446,0.07831981461681692,0.07713580374141071,0.29998430330780357,0.4125679136392486,0.41214297380592635,0.4225256916046871,0.4178220911142887,0.4354857203835465,0.3717196179549167,0.28421986247025854,0.2876872888122979,0.2899971039841449,0.2924727920026069,0.17080307108088832,0.0908841658862054,0.08733674525668067,0.08992407540201097,0.0902394405552589,0.09259998769073996,0.096037197502715,0.09770371865293437,0.09775126992919314,0.09614359149541452,0.09469749198029431,0.09250424900074727,0.09036841742832191,0.11601461780303879,0.23453688953266005,0.09392760660113497,0.07932920575532654,0.07489119266075472,0.0748576364089466,0.0739118590179404,0.07229368431582373,0.07169825963919241,0.06929206963987777,0.0688698333908242,0.06762634366150233,0.06608275607833325,0.06438410998562483,0.06285213191137529,0.06250988994980711,0.06014043688967585,0.05986562550046126,0.18002038502538742,0.39304708101163044,0.392134382769326,0.39204580062592753,0.3919386114613843,0.396681493440866,0.381067817184904,0.2699815154353191,0.26682118445935243,0.26868824794857593,0.2698507891841999,0.23910594694708887,0.07558156085553502,0.06915927594196458,0.07056816141479527,0.07212447174746495,0.07466933971633671,0.07624409803578236,0.08129168986580515,0.08157270359540125,0.07882872459684398,0.07768463134799597,0.07803832378411468,0.07672708541370166,0.10435914795110457,0.2246843923193398,0.08306142432134855,0.06853204439158134,0.06495599757568016,0.06401292376894285,0.06380649715829434,0.061605938597784515,0.06183510712316531,0.06054406611758467,0.05954199056003784,0.05875445236594645,0.05832521860466744,0.058523057359402886,0.057574894452865344,0.05513117234252385,0.05486638011854095,0.05693319077492509,0.07847328278266885,0.3576002286278086,0.3897386890383494,0.3891058912850598,0.383967490830476,0.38384217174789437,0.4000212151847924,0.2878835372233459,0.2609489994273173,0.2628213110507098,0.26661284943627894,0.269211471021791,0.09115388817561976,0.0648173196061228,0.0653184369020805,0.06794202688348783,0.07034805784843345,0.07342600902138363,0.08011229098709283,0.07873457625053892,0.07849952345351396,0.07730692472219469,0.07525315488404893,0.07600141158905704,0.07443889891600586,0.17496881733614567,0.1536335615953628,0.0746966936277631,0.06534356433234434,0.06347825022117703,0.06425274759703048,0.06299240022462005,0.06102864383919138,0.060104336087967614,0.06154423326270608,0.06116509532758618,0.05793876508858453,0.05638213668717729,0.054469430334119995,0.05940728844969967,0.057975979130874045,0.05466885943254307,0.052551634881262466,0.15597120778174256,0.38672546485348414,0.3866575571780242,0.38595860112733105,0.38686716447604774,0.39028306368260934,0.3842230590610707,0.2678192841576801,0.26273575056031784,0.2666696247059255,0.2696414999549137,0.24336170665506351,0.07197179875345672,0.06689637590890118,0.0676175967712207,0.07017327907716808,0.07280943277370722,0.07554673232877684,0.08606765099398861,0.08053039234255865,0.07915713056833007,0.07838819939538322,0.07795133198440385,0.07687816806402203,0.07572262434062371,0.22790817800844132,0.10083605957999975,0.07218681322001808,0.06374717733874746,0.06567085706324916,0.06395312684628962,0.0633448203857887,0.06154375615959995,0.060934972595992676,0.05953292560101864,0.05858539883195624,0.058338895560380744,0.0575553332255081,0.056915856028730394,0.05480928678015684,0.054923155388187705,0.05366519353130883,0.05215643447489793,0.07873616659422655,0.38236633280581644,0.38529113388165204,0.3845923368653277,0.3849832433437357,0.3866055529394401,0.4003213130386394,0.280643338551251,0.261066366791461,0.2639930762797218,0.2660438244648613,0.2191975475628063,0.07401713977005864,0.0761919347628297,0.06434753208081045,0.06658323723681603,0.07045381570365783,0.07334506052768552,0.08316288824861662,0.07683475168135101,0.07521196498254046,0.0748331451161579,0.07342123799032074,0.07266328018881829,0.07136301518984967,0.2005197561239762,0.12468819324075309,0.06801565979622293,0.06034018405683628,0.06211977864324281,0.061680525716732104,0.0615278527227241,0.06076814554316523,0.0600644184614092,0.05957968170543371,0.05785209135761127,0.056244571958201206,0.05522881944494151,0.05427429516365345,0.05458425314836357,0.05394604822653615,0.2508566783859094,0.24882962632171468,0.29640284932336436,0.3866055529394401,0.38727635990686315,0.4004075096665065,0.396019274329356,0.3993418203614565,0.3996756335014804,0.2778338373927651,0.27185843905540574,0.11506740910271374,0.06871270743449087,0.06824912224956026,0.07000406650880908,0.07213464994706542,0.07531295180670194,0.07984304580078505,0.08230760141343385,0.08172664886435932,0.0804290874496596,0.08009702368769211,0.07864631217587803,0.07725651082729845,0.0761664892638283,0.07547198617546047,0.07353001749855159,0.17269621620658815,0.15546484235161584,0.0731898429837774,0.06373620396730306,0.06160323501351561,0.06122282480344543,0.06124795223370927,0.059382638122541964,0.05850317806330807,0.05822025592128699,0.05750762291488054,0.05646069966534406,0.05496720790833387,0.054299581628286075,0.05315564741380685,0.05217265598051135,0.05235665874516471,0.06714526469600823,0.37319593400010076,0.3864428607802004,0.3849266271084577,0.38442678208745007,0.3881244901954517,0.39825179879798656,0.3223087528222637,0.2603497579258356,0.2645474700892134,0.26696447442560367,0.27243796029516143,0.08096741878790681,0.06564143570502878,0.0654348500600117,0.06797001693238913,0.06970826258291862,0.07385874153877525,0.09459268833128265,0.13479641771903683,0.13375840039415077,0.08992534767696103,0.07568588740144033,0.07417633317318573,0.07255402357748131,0.16351548016690343,0.23814760584095063,0.23645754760415527,0.3393810923084777,0.44123385860794984,0.41970792065902573,0.2771635075284484,0.2602653106760249,0.26457752758490893,0.31492971714624285,0.24294010654348508,0.06690830348655807,0.06274716922799461,0.06451245072121292,0.06663762699093145,0.06930431528627223,0.07298771030108542,0.08095501410714356,0.07896613029145105,0.07895070395768156,0.0769694537916894,0.07645863539923758,0.07455181331782423,0.07368078208013462,0.1735699510285469,0.15632601345844255,0.07383568155530518,0.06385707008755959,0.06514874723061514,0.06415573663208773,0.06291717696819732,0.06083812066541894,0.06069324035548007,0.06021915890221119,0.05901638197129144,0.05809748138860549,0.05585525582348083,0.055326784616096525,0.052207961610375664,0.054219428306431894,0.053309433648396354,0.052392123409397806,0.05197434012266955,0.14338347846014665,0.37040933379071617,0.2550122464415663,0.24070949048727974,0.24052453351641367,0.2437739237388854,0.18959775278075575,0.04847001780707827,0.04449479472559337,0.047386834721464766,0.050653082587024834,0.0644898678408492,0.06747510197681317,0.05602860328542736,0.07819958463403576,0.19547359560327227,0.1942517345481014,0.19394495725076655,0.30282274872140347,0.39327958925875506,0.39312357654300323,0.2871806053134336,0.2557387154380546,0.2564472135508733,0.27113626398687396,0.26498370136271787,0.09686258587657126,0.061760360969848715,0.06063217115787678,0.0663580445706542,0.06747716942360693,0.07337177830163699,0.07720546079492685,0.07779818188728949,0.07665917773824193,0.07497198212008405,0.07429147405616687,0.0733472870088483,0.07222832119026412,0.13245161498606306,0.199774043968868,0.07827926085278358,0.06415366918529397,0.06161993362223517,0.06073188570708821,0.0609893623501081,0.059531812360437364,0.05890060495083538,0.057594296645853804,0.05753640813562577,0.05585875457959344,0.05602415032310226,0.054988041410641175,0.05321417206151002,0.052492156027346804,0.051620965755288406,0.051116826806324234,0.05074595865837961,0.23277876458603597,0.3842954196988557,0.38296271168866025,0.38372925734607577,0.38329111766014634,0.3895648644732965,0.3461847416383308,0.2574993849345788,0.25988998956575515,0.26306479266927907,0.2670187051453503,0.19917877832660547,0.06822463095677134,0.06351498716036019,0.06636440594540449,0.06844791521050819,0.07269556416567635,0.07554927687867696,0.09225488311053409,0.07854723376414152,0.07811481931548747,0.07690090997875454,0.07552764820452573,0.07333885818730401,0.0974915668050107,0.224083878542908,0.08195056925557131,0.03995038763832204,0.029874447136896354,0.03062508935743602,0.031849494962506775,0.06124508961507158,0.06248317217585564,0.061328264589932235,0.060362448868462426,0.05974587262078623,0.04552183867903503,0.04477946624567086,0.04461836443011857,0.044052361111707405,0.043122328123208264,0.04293800728981734,0.04306141795997398,0.055033525240106185,0.3623559923911597,0.30932280144129676,0.2502025700272059,0.243093415674968,0.24518026466181575,0.2577477966185795,0.07164975415672115,0.050564659477995155,0.1028165145741482,0.17887994956702102,0.17855965434834165,0.17815125408936994,0.22170520148938877,0.4025347533830188,0.3944441979411728,0.2810714590719485,0.2638854100120722,0.2639083109611735,0.2682227543512201,0.2794585325040009,0.11533379167038404,0.12617277907311264,0.125412912859185,0.12713255148856972,0.12873720826934187,0.09365518072745171,0.07548057403137332,0.0735535545851278,0.06851757226402433,0.06228008528695117,0.06266940142167177,0.05935464807364044,0.05752177697369998,0.20789163525340304,0.08904207079287696,0.0586448776858719,0.06494597841044825,0.0614014203995612,0.05920642804195775,0.0584465618280301,0.0584575351994745,0.056596833085001075,0.055795617935196384,0.05405148801302295,0.053472284842004836,0.051801787832566726,0.05072051315937842,0.049147345183620184,0.047630952477508925,0.04596856622087753,0.04442943160003354,0.043073822640737,0.26350038780530816,0.38478063355793757,0.38570844006527416,0.3902865624387222,0.4014100623271595,0.3967315892670249,0.35184827357855486,0.2609823966447564,0.26381861557719377,0.265244199658744,0.26777236901889623,0.17459619981014485,0.06494566034171068,0.062008613619480624,0.06409593970943472,0.06576436927207907,0.06969410852409896,0.07427334413812825,0.07882618004694386,0.07937119082867872,0.07854961927967286,0.07954262987820027,0.07907602304026318,0.07808794250716722,0.10062215835401966,0.2293635015169493,0.0875974025870756,0.07462783174609089,0.07107564008550327,0.07045906383782685,0.07092901039750799,0.07038097796276666,0.06992216380889849,0.06979366403894183,0.06965800772239095,0.069921209602686,0.06856448740280818,0.06748718858883884,0.06859390876102833,0.06759231030658808,0.0675337856588849,0.06733499269793697,0.0663332352091277,0.12806449288949384,0.38427951626197987,0.40714913559254384,0.40918875137187016,0.40728161122171946,0.40630052820084894,0.42184661485008856,0.3289455750992891,0.2783204825611658,0.2816576597551921,0.28511904279121847,0.29106215715172,0.1878245195690995,0.13999111634016126,0.13554833221452656,0.1176614186915319,0.07936514752266599,0.07940967714591829,0.080847506873863,0.08489063763080784,0.08312138027837057,0.08016302295072686,0.07733634608041506,0.0763018275116416,0.07348310235976796,0.12921319813503573,0.19118205316232695,0.07785591136314873,0.07183582436816827,0.0692799830278521,0.06739526672369633,0.0654830374737454,0.0637850275185119,0.06282477799994868,0.061516561282542126,0.06223762311049286,0.059530858154224875,0.05932252313115138,0.05867588938777968,0.057555492259876884,0.05736624136105428,0.057458958398040494,0.05635223822585078,0.05585430161726812,0.1632409868464264,0.39317510367848096,0.39062435143796503,0.39166539041585735,0.39895663912032364,0.4015465138155543,0.4088509623726273,0.2870750064925782,0.26822339048869503,0.271614162264993,0.27555169420108205,0.23921870231453846,0.39158905391885335,0.3621977531942451,0.34165130792250387,0.33530806309020633,0.21057565829493852,0.021579055428089466,0.08070167235771164,0.1035084731126159,0.1535077654096748,0.15124661475466805,0.1494143797922025,0.14751757687602107,0.0871608532448338,0.17988186609019885,0.16653665607020662,0.08212184927072408,0.07762213084107383,0.07348723725335549,0.06948704577597553,0.06727074281295864,0.0643981050100757,0.06233622441912301,0.06144849457271362,0.06253708482686493,0.05966508316145691,0.05996597618714783,0.1194523047181204,0.33348346177744137,0.4073011724490767,0.4007187399261667,0.3969488302147488,0.403797168202223,0.38697721625922865,0.28531115630867876,0.2700864781186998,0.272469131031438,0.2713457122505287,0.24398782496486526,0.07365835823413969,0.06739510768932755,0.0675102485723087,0.0697248021572694,0.07262511194031629,0.07707091771895724,0.09073292420151624,0.08793153379583707,0.08699434426074393,0.0869981610855941,0.08685550725681779,0.08377453443086136,0.0858631327957653,0.2103391741885947,0.14501008198380738,0.08166335318559348,0.07356055209735324,0.07444192056901233,0.07572755440605516,0.07364849810327656,0.07408806909852483,0.07442410871971128,0.07299772946631733,0.07237526894699675,0.07209823107661983,0.07173913147196331,0.0710225226063379,0.06886697077218651,0.06950310824722017,0.07669432433373746,0.12730255922877243,0.21975782564394208,0.4037062005432932,0.40126184229547657,0.4011362051441576,0.40529543099029586,0.4160558554148579,0.4167416116129441,0.2852744193694956,0.2821985356433394,0.2856964965841804,0.2885611826686254,0.278908114553728,0.14269883550264173,0.10749689604670776,0.07635208237216928,0.07771627918737889,0.07841157744759064,0.07973760601429825,0.0847234925092426,0.08625833320213006,0.08463618264079442,0.08315000646474702,0.0816323414836857,0.0796587249673939,0.09952370796900545,0.22982835897683018,0.08767739687456122,0.07371417929757373,0.06962810926106422,0.06870634605974058,0.06853299859779405,0.10243944408582184,0.1558380960150918,0.32128425341872213,0.3166854565773354,0.31651481269965775,0.31936693506897074,0.3413998745854969,0.43905636003090986,0.31968230022221866,0.28009896390699107,0.29084428006652097,0.28680337579073867,0.2868661943663984,0.1053519995152632,0.0775343438695193,0.07699076439710306,0.07998235990781732,0.08356890299205677,0.08752186126191552,0.09325838997739955,0.09936212905034703,0.09924078582698437,0.09901479798897861,0.09961419852482889,0.1078521788265141,0.15801320907660044,0.282966353575705,0.21735608860695277,0.139656826097031,0.08583514274686377,0.08469470728849737,0.08234497449009215,0.07980487755228305,0.07754388593164485,0.07627351939400273,0.07559269326134799,0.07410047377928786,0.07247561963368332,0.0714318770715221,0.0694881590165568,0.0685205939170308,0.06761998228675203,0.0673392866258935,0.06638364910402417,0.06588189567059155,0.24434803781010306,0.35277671622336637,0.3015856203668319,0.27681856198261157,0.2714767565703857,0.27139930683280045,0.17215311383727827,0.06411025280262295,0.06168784129769489,0.06322045550941957,0.06559642897867013,0.06712220471253816,0.07180004163519782,0.08044658123022308,0.07945372966606445,0.07865171934441584,0.07906918456240652,0.0783055015236287,0.07874602672508946,0.13135491397910504,0.20370966749253205,0.08571236821418249,0.07093409949730822,0.07133025410988547,0.07148197289768099,0.07240739388948603,0.07227793991331666,0.07267711617890038,0.07265469233290545,0.07154590471392175,0.07243442973217507,0.09932920893601405,0.12793774249759338,0.12818186025363754,0.12740418219040905,0.18221617255483458,0.39835644341262944,0.39991704767325564,0.3991543188406903,0.39984055214188285,0.40317359444232137,0.4084861375306956,0.28097492521011214,0.2772613136652349,0.2792700767770222,0.28014540194266835,0.28468646930819563,0.06750007037270822,0.06695919448456089,0.06511010187900701,0.06584706714383337,0.06700897224198221,0.06970333251748695,0.07527685100499393,0.07654674043952969,0.07501762498391762,0.07411860369732648,0.07249661217035941,0.07117583173782105,0.08953730381719072,0.22187202854221622,0.08166446642617498,0.06850405434268003,0.06488570438468888,0.06264141137277024,0.06193386746616425,0.060528321715077604,0.06055376721407879,0.06097934318487641,0.06117272897728654,0.06082682922523697,0.06029708574290282,0.06079597655769797,0.0608802647731399,0.05951177402997376,0.06031919152016019,0.059614510232191664,0.05993894034445879,0.202371552313799,0.39444928704097326,0.39444308470059153,0.39428198288503924,0.3940389783695766,0.39860835385274274,0.37571297095444,0.2733888267859679,0.2720424418200593,0.2753891610762109,0.28031175189238966,0.24756196336834146,0.1416923069827698,0.13655342942507964,0.13684589362922628,0.13887803479322103,0.14039140584632603,0.1404125574173709,0.10398589428762861,0.08418627441157689,0.07954247084383148,0.07701159789941037,0.07243156711353738,0.06969856148642428,0.06748448500456994,0.21429292763029717,0.10160976178400927,0.06632401121573972,0.07150328350309465,0.06858293538958415,0.06831671185628263,0.06648145524081062,0.06439826404444426,0.06357064918942568,0.06053118433371507,0.06046009597088009,0.0590349889924362,0.05699616838495358,0.055143417988918086,0.0544476426256002,0.05250328843315999,0.05125916256636298,0.0493738101247323,0.2903719479913085,0.38570939427148665,0.38651808403662313,0.38533550447053555,0.3934592980954521,0.40307260761815966,0.33958592857543857,0.2600114918234866,0.2602734214288316,0.26202725244749914,0.26759218307909305,0.16622192705443384,0.06851089282053646,0.06607750794416423,0.06900946556659404,0.07027092617958575,0.07392760342044769,0.07974364932031097,0.0839752358042345,0.08524528427313904,0.08426086153052448,0.0864270686673827,0.12453981417470139,0.14229854599647673,0.19419066535049834,0.26884092094258394,0.14926790913857602,0.09301395415261804,0.0709835591859922,0.06942883919700993,0.06321011827545031,0.06041397600394016,0.05628719316902853,0.054005049977345454,0.052026185326884855,0.05192535753709193,0.0510762730422909,0.04986077336187056,0.04786425589647747,0.045857401197115344,0.04473159690067452,0.04239729043603879,0.04198809500522338,0.3003596244180733,0.37358986213151546,0.3734521383681706,0.37539331187323555,0.37499111395464557,0.3875780481043978,0.3214164109791604,0.25018873403712405,0.25173852396067464,0.25242078140264823,0.2556708077625949,0.15673234627062027,0.052026503395622425,0.05397006241621871,0.05594670058551676,0.05839535276128993,0.06166509938296261,0.06468961500800985,0.07349789255606232,0.07162303638276968,0.0708024190399763,0.0670374393939901,0.06265810998149002,0.06255044371384044,0.07960083645716587,0.25754359648909375,0.131504406285738,0.07597612512442442,0.053484212419661725,0.05576508333639474,0.05514580350444964,0.04510659994220689,0.045401131593147515,0.043451370232169495,0.042835907225074576,0.04135291173640243,0.040701029858861704,0.043517846598310594,0.04003912881608929,0.04044975555622354,0.03859827743513833,0.037750147146549784,0.07826844651570797,0.38095188113007916,0.3731674668480931,0.3715968434222352,0.37407269047506597,0.3730445332810428,0.3887809840696863,0.2686922238077949,0.24996242813038094,0.25309508712618367,0.25669689750982405,0.25987011026966034,0.12961571412236328,0.1172550858793544,0.11739153736774899,0.11909272801035753,0.12044658759159788,0.12228359358512608,0.08424495809364863,0.06231554995118449,0.05881536252918074,0.05562720053868131,0.05227793673262937,0.04887809999731241,0.04520949517879358,0.13330435727134549,0.1301930088809562,0.04333893293345725,0.04750102139823342,0.04549050890838968,0.04303151949864725,0.04216462315454539,0.038191944622960605,0.034866535972222445,0.030995321367905504,0.030206192830126266,0.0293728527378323,0.029185192182697328,0.028350102712346947,0.026809695816553125,0.025324155777981083,0.02328613034234217,0.0577789355479823,0.2420977014921717,0.3600247075795304,0.35905475696447287,0.35786979188285395,0.35885294235051846,0.36366325490235374,0.3592323983543759,0.3532730624882612,0.35307792731779464,0.3514551406189841,0.3525597933443798,0.3540168662309444,0.2711031848381722,0.2483838529860849,0.2528838894844727,0.2563988671027708,0.26019899334425256,0.08789781850966039,0.0588503500903077,0.060396323189008116,0.06244150517124103,0.09949730826379155,0.12930845972192206,0.13969388110495173,0.13524378139835425,0.13285794779824078,0.08882149012340901,0.0686670645706573,0.06540463352994741,0.060959463888781595,0.14647669693249732,0.14771112170279999,0.06091254874999774,0.0554506723893593,0.053042414943250904,0.05070556392871506,0.04851438839596178,0.0465361598829761,0.04671889037267962,0.0475383944748915,0.04364523312768598,0.040571893951429905,0.04104358988916745,0.04017939712933427,0.03942175739656917,0.039389314385342544,0.039839540683297425,0.03916014585996175,0.03803974873205873,0.22993045904157294,0.3688228069279824,0.24313889950443301,0.23095352713579587,0.2289794335163977,0.24026101356738105,0.08002832084038847,0.03667332543568658,0.03667348447005536,0.046909254512083276,0.046362176283554435,0.03800237565540043,0.03933571980307082,0.05597882552800604,0.10511837802755708,0.11459141923701988,0.11372054703369883,0.11230720859854304,0.11216248732297296,0.12401595496401141,0.2138589228379555,0.06208924404444116,0.04278024519600909,0.03611161604523194,0.031360623312943536,0.030565769537889143,0.02900118941804397,0.0281050307500903,0.025540283485123716,0.024899852082133522,0.023230945416383042,0.022686888840860453,0.022094644851604173,0.020207861100654645,0.01899315659207801,0.018391847643802528,0.016659963368023556,0.014888956637529871,0.24290082505440158,0.35092873685839376,0.3494371535138088,0.3491760190803075,0.3505763166972251,0.3577501980375477,0.2979211504419008,0.2253245056535922,0.22736189495175618,0.23104369962288174,0.23417604054994712,0.13835035875768087,0.03600299557136988,0.03578925337975858,0.0509388673476836,0.036964517364883154,0.03097416979686063,0.031053527946871107,0.03914153883881699,0.05072735163723485,0.050795577381432366,0.07767890611072059,0.10997608282128235,0.10971717486894383,0.1975814371267961,0.19147865226006133,0.11225790794422785,0.042678940303110036,0.03672055864320778,0.03401299851509609,0.032060374535480385,0.02962571738415809,0.027926276119605964,0.02572969341831488,0.02486518258974435,0.023417333696567733,0.022846082243987764,0.022111820563430085,0.020577297939280426,0.01917700032236258,0.0169287314512252,0.016281143501641004,0.014410581256304678,0.07496768819212751,0.3457709342108213,0.21878485337587827,0.21498472713439631,0.21544704004437687,0.21325570547725503,0.16407082818260776,0.021262895102997836,0.047770107550172636,0.14215557409896284,0.14331429850973665,0.14573130284612668,0.1495517854868098,0.34969303981314104,0.3634628715977182,0.24435646663164734,0.2330631180373759,0.2368147387963866,0.2400176909831806,0.24384071817376385,0.06881289908680865,0.05516122983821914,0.05566950368077084,0.05583251390874833,0.05798154533378064,0.11528035612248133,0.11470942273863871,0.11436161457416394,0.1130678699843144,0.11075773674373002,0.1084733670708844,0.05393714230188573,0.0433721711165278,0.1856546546417599,0.07716283958409975,0.03707027522010753,0.0308808166223995,0.029858066596914146,0.028633183888737035,0.028107416265621632,0.02863620554174351,0.026336568569496954,0.025437865351643163,0.024038362906569466,0.022509565519694963,0.021966622184753648,0.02081998438600574,0.020178757811171844,0.019190995346813455,0.018149161197077213,0.017717859989004436,0.01833189168678051,0.23359413379466032,0.28252201154939405,0.21611132660268084,0.22011406262996092,0.21390186211752038,0.22291704337932772,0.097943542481022,0.027334668267824602,0.009323230834092255,0.010160864854342755,0.14292975340607894,0.14853762331723752,0.15161875517756274,0.1621433316332559,0.35405296703265243,0.37072676639075786,0.28314017814075787,0.23251079167467803,0.23369575675629695,0.23693306036674278,0.24995336317136152,0.13722534963308375,0.11382057965164782,0.10010338824312992,0.09503066898284329,0.09548041817769204,0.0962883127709846,0.06364778085827338,0.053509657918663134,0.049556540614435596,0.045100874704931515,0.0421507871644633,0.03957077260009578,0.03765806624703849,0.11982826196586527,0.11847090362851231,0.03858285110136861,0.03402762967702189,0.03151902154422692,0.028907359140476485,0.027759608101147082,0.026996243131106823,0.025159555206315964,0.02464205737037628,0.02286532540260744,0.022930847562535828,0.022902221376159382,0.02258081291689873,0.02309783364973228,0.02237740795925669,0.023669244136681034,0.023362148770608604,0.023245576578308835,0.08482368416156039,0.3589227584384034,0.2299590852279496,0.2156789121540268,0.21559907690090996,0.2194930334199594,0.19256072210509334,0.027149711296958756,0.013286685372289053,0.01460603449550879,0.13271338555703927,0.21471357353566312,0.21598823400126177,0.22539797953195873,0.28515403035234543,0.3796998035448442,0.3572718226563225,0.2481664530039922,0.24224703476443588,0.23979917776050663,0.24427376875989304,0.23370020971862204,0.029028543329470358,0.03975763798338705,0.0623462435843547,0.08798449224063365,0.09079574277717573,0.09454243347075497,0.1008220645555491,0.09962453575879837,0.09876972602672196,0.09883095425869382,0.0990939971046203,0.09992367940643287,0.11436718077707053,0.2592921793735923,0.12074255055185712,0.10032651346249777,0.09711863121027231,0.21512054248531598,0.2337806811092138,0.23174058822678112,0.23250220381876519,0.23358490980127233,0.13972441570375338,0.08832291737735143,0.09334092881478528,0.09326904528010638,0.09198309337432597,0.0911317823983624,0.07490884547568699,0.025734782518115118,0.022424800201146677,0.01900969616642878,0.16129695072272376,0.05658156578560036,0.014679508373875105,0.007811132055937531,0.006092765701503078,0.004826693091817269,0.003926558564644855,0.0023077477250530443,0.0021048198705173604,0.0,0.09203032658184718,0.18557640973233092,0.3398702820267785,0.35117539916433804,0.34765199272449565,0.35122994795282225,0.30406862396625667,0.2213974699858412,0.2246759634977955,0.22859520648147758,0.23296356252253325,0.14930687255892194,0.03651222362013429,0.03617363944904772,0.040450073624961114,0.028770748617713116,0.028154013335667916,0.031597584522393474,0.07931536976524467,0.10976711166073394,0.10993171223239884,0.10854270605566296,0.1076939396295995,0.10591991124609956,0.09238433708670346,0.2100581604589986,0.05948378398107246,0.03891730037886765,0.030688862139307993,0.029594228579143955,0.026683422527759015,0.025686754138750212,0.02484514425928075,0.02372299775332154,0.022331765095422895,0.021254784350191125,0.021266075790372874,0.019911421037289045,0.018164428496477925,0.01784206583100456,0.01757329774780292,0.0191795448722627,0.01876716875407225,0.01992287151183958,0.3124371714846923,0.25970439645741394,0.2168692844041833,0.2152967525659002,0.2142218392674622,0.22701106513427516,0.0431776720835364,0.030431862599394455,0.014252819162496433,0.123168301778529,0.14873641627818546,0.15028922785474252,0.15609923044859308,0.3216536902573479,0.37459209672343086,0.3058828880450526,0.23712231126556538,0.24032367310867175,0.24349481842171428,0.25499427555789644,0.17161303312097465,0.11216741738840441,0.11322706338744148,0.11920166655295716,0.11007372992370001,0.10770761658531258,0.10511805995881973,0.11020795493093227,0.07678242937402957,0.05568238546464044,0.05051663109863003,0.04810423875893388,0.044912578012321624,0.08517546818525412,0.17686466604611462,0.04963319518017717,0.04174047849306661,0.04217782300715234,0.04065952188861588,0.03895196987125682,0.04179391404096955,0.0377854527764141,0.037978202431349306,0.036678096466749244,0.036600328660426396,0.03394365953031753,0.034462906744313626,0.03509300091333434,0.03502652454719346,0.03500648621672986,0.035776212561520415,0.03550792158142513,0.04777456051249773,0.3934391007306197,0.2507905200885059,0.23195703400266132,0.2296755269484534,0.2337631873286503,0.2318326691262922,0.04463108717961939,0.04018559946971578,0.0446263161485565,0.17834559408799278,0.24337315712961405,0.2659649434179572,0.2472617064801257,0.3430524007112654,0.40168884957559303,0.36117118634390954,0.27683764610686246,0.26057574576384135,0.2580496438504829,0.27078718354744935,0.20046934222907975,0.059896796236737826,0.055252197497148936,0.05536765644886743,0.0575915930615849,0.060937835214630365,0.06454759731670845,0.07200360562720842,0.06946684841114337,0.070014085674041,0.08451706589859431,0.12631447869567647,0.12597509935274598,0.12509214053739948,0.2675591039303913,0.16621318016415199,0.10281556036793549,0.05361652901446878,0.050151329153591995,0.04635199808395396,0.04329265393214854,0.04196519405612231,0.039831747999228284,0.038732502442370365,0.037328228966233556,0.03676636054141014,0.035693196621028545,0.035311514136008304,0.03429417127906098,0.032578985612001565,0.030932820860983368,0.03131577562095367,0.031063865180840367,0.2900265253423653,0.36709267203025986,0.3660745340014686,0.3663838558487036,0.36605767635838005,0.37930030921052316,0.3308584404867152,0.24593313336351796,0.24629986661787484,0.24990135893277765,0.2545838078521312,0.14125893832790304,0.05525108425656766,0.05302778378132511,0.056068520911985775,0.10866675286329452,0.12089395127091529,0.12635582763155373,0.13359189141006067,0.13058709604673946,0.12868822568376426,0.11204209830582279,0.06488045625051986,0.06214999517330688,0.06934868587515575,0.2084940574422598,0.07232596829268179,0.05261015952896564,0.04720871622845535,0.04605174119573796,0.045517385716709935,0.04428105253398207,0.04318928159245572,0.04225765826026895,0.0409030035071849,0.04047504202085617,0.04100224095329019,0.04075287506307701,0.0375007812563366,0.04143226988641291,0.04287868747027046,0.04510071567056273,0.04061817295273862,0.042342423578817234,0.3150316581766168,0.3780849685644716,0.3760211795610937,0.37690493354828414,0.3787622959410135,0.39029117443541606,0.3097544207181069,0.2519980680504883,0.25781554525967043,0.25960086508335234,0.26302392083650816,0.17939840160917342,0.12289078680504573,0.12402661026671802,0.11259728728715834,0.12907817795595977,0.139718690466478,0.1276875814355365,0.13801018424290645,0.12882117841604623,0.09451396631874709,0.062368667430349634,0.05794910232255379,0.052396576371723125,0.08902425894357613,0.18288491207546365,0.05523708923211679,0.047981623260621165,0.04938207991190757,0.046595002599416846,0.04474543289075661,0.0427754741649462,0.04095914263935674,0.039006995762847385,0.03715138274817442,0.03605818049732901,0.03451459291416015,0.03278413994770002,0.03256006052211946,0.032018389462128205,0.0321731299029302,0.032336776268382605,0.031123980172230947,0.07236143295691488,0.37635197104811136,0.36799026200753215,0.36804512886475393,0.3680891813848999,0.37057950056528766,0.38047557319564773,0.25141838777636405,0.2451335085574009,0.24894540334217097,0.2536041561405793,0.26043818103486527,0.1173959903300743,0.11522040016545931,0.11518891136044518,0.11928961255888049,0.12253820760950829,0.12645554218076516,0.13698170898014594,0.08817724189556886,0.08351562647852262,0.07973188077702287,0.07714280125363615,0.07574886501146882,0.06424845366907395,0.04755048108691717,0.04636169918044808,0.044860573773737755,0.04344278237625665,0.04267369216894101,0.04262057468977565,0.04165444089956827,0.04089043979205309,0.04083589100356888,0.03987198369452427,0.040193710222522494,0.1491417948841507,0.17434413033566276,0.35763076322661025,0.37363184720486764,0.37398506253788,0.3736746274500635,0.36249180774207934,0.35926309198754636,0.3524769364382567,0.355852281880785,0.3599068631122804,0.3635016759836951,0.3666518287600615,0.36983919557871725,0.37167731481282695,0.37639650067136365,0.378641588855126,0.3826002723622599,0.38555640320874107,0.38921880568687817,0.39531491111012507,0.39766432583979294,0.6500940131670916,0.9851092939844137,1.0,0.9918642787974266,0.9889587208802109,0.9836765533562692,0.9806917963234119,0.9810192480886855,0.9746356085267234,0.971688065536155,0.9693666408553887,0.9654709349582831,0.9643549907927054,0.9606976774143683,0.9526072810068911,0.9515667191321051,0.947646203873473,0.946112317386798,0.9461601867317944,0.9439758496768977,0.9435022453267354,0.9431078400922144,0.9390839524938897,0.9385265370313913,0.9357712665926523,0.9366386400398605,0.937888968247039,0.9354667157764798,0.9348689055843171,0.9322810983358805,0.934524596175955,0.9343017890253247,0.93447529552164,0.9328321524236283,0.9336115798649129,0.932840263176435,0.9313965491768461,0.9315920024160502,0.931464297817937,0.9296263376181964,0.9287424245966371,0.9297448182229213,0.929639060367697,0.9310407892939336,0.926233975498211,0.928216020836047,0.9300341017396931,0.9274876434271335,0.9280029147819109,0.9286862854644653,0.9272435256710891,0.926050449836664,0.9273737748191024,0.9275719316425755,0.928282974305294,0.926688177655385,0.9266442841696079,0.9287772531233953,0.9287429016997435,0.9292654886354836,0.9287058466918228,0.9294927487484395,0.9275899025262451,0.9285892744995228,0.9290414092099031,0.9292910931688536,0.9297648565533851,0.9315042154444955,0.9292689873915965,0.9293819017934148,0.9272813758508538,0.9312739336785336,0.9303120938162825,0.9318739703518588,0.9305530308849517,0.9295057895666776,0.928667678443321,0.9302039504455268,0.9324983392836041,0.9325427098724881,0.9346523007740681,0.9333715970024565,0.9353107030607277,0.9342380162434525,0.9336026739402628,0.932501838039717,0.9365128438541723,0.9338855960822836,0.9337206774418814,0.9351847478406712,0.9316226960492204,0.9342194092223077,0.9327553388235179,0.93452268776353,0.933725448472944,0.9326182511976482,0.9341750386334242,0.9333130723547534,0.9334617694895426,0.9348999172862249,0.9355961697526491,0.9349555793152904,0.9363089617934244,0.9337621854121272,0.9345963206762651,0.9348343951262965,0.9386114613843084,0.9342962228224181,0.9394691337350225,0.938998710072235,0.938612892693627,0.9373927810165128,0.9381863625166171,0.940144870767877,0.9369032732294742,0.9389115592381554,0.9402188217493497,0.9404233399475728,0.9395632820813273,0.9377385217341936,0.9398178961057098,0.9408155187009308,0.9413867701535112,0.942628987607883,0.9426693823375478,0.944112142130924,0.9447463711935322,0.9419856935862554,0.9418078931619833,0.9429623236448008,0.9448637385576761,0.9441013277938484,0.9442081988896538,0.9443095037825531,0.9438546654879039,0.9458895102361677,0.9461945381554462,0.9468244732900981,0.9481710172903757,0.9477312872607588,0.9479012950009613,0.9467953700006153,0.946545527007296,0.945868994802598,0.9502190618912465,0.9494326369377362,0.9482985628541201,0.9484814523781919,0.9480789363908646,0.9500557335945317,0.9495298069370475,0.9496396996858594,0.9501635588965498,0.9518706338108025,0.9513677671367882,0.9515579722418233,0.9536454573661461,0.9520081985397781,0.950758347435706,0.9520745158715505,0.9529197835415015,0.9534331464838535,0.9535362007548089,0.9526942728066019,0.9558784589378826,0.9533952963040893,0.9567113219270702,0.9577329587119743,0.9554514516577663,0.9530975839657732,0.9545144211570418,0.9577442501521563,0.9579123494799338,0.9555988765176053,0.9584147390508417,0.9567367674260718,0.9577347080900305,0.9577684233762076,0.9583465133066444,0.9588229802754444,0.9581693490198475,0.9581555130297654,0.9587062490487757,0.9609036269219104,0.959445281760396,0.959340001008278,0.9603881965327647,0.9602161213457681,0.9616539510737128,0.9593527237577786,0.9613414485391023,0.9607065833390189,0.9623952102664957,0.9616510884550751,0.9619149264728453,0.9638077535298075,0.962225043491924,0.9625214835552898,0.9634332275913815,0.9632419092457654,0.9630103552048532,0.9642148815138292,0.9653413219477449,0.9629389487732807,0.9663864958192252,0.9661201132515549,0.9636029172628469,0.966564137209128,0.9657008986555078,0.9656840410124192,0.9647837474508778,0.9657280935325652,0.9681121777546222,0.9666248883379938,0.9668869769777078,0.9687320937240425,0.9675386998208797,0.965884265282686,0.9686096372600987,0.9667926695970341,0.9648387733424681,0.9648702621474823,0.9638953814669935,0.9649154279082097,0.9652182293463261,0.9677319265789213,0.9676659273158865,0.9670221561911525,0.9665243786169384,0.9680234365768552,0.9656675014380682,0.9671484294799466,0.9664248231020958,0.9697580244369033,0.9679719094413777,0.9675022809504341,0.9665552312844778,0.9678796695074978,0.9683133562311017,0.9679261075431751,0.9687777365878762,0.968523758700969,0.969733056041008,0.968254036411555,0.9695744987753558,0.9723121163991628,0.9722044501315135,0.9733355025621231,0.9730349276051697,0.9717811006418788,0.9720333291507295,0.9729251938907266,0.9714348828210917,0.9727951037770821,0.9714445839175858,0.9720365098381047,0.9690732224450294,0.9721271594282967,0.9720431892815924,0.9727710895873996,0.973088840256179,0.9736494364060522,0.9755341527102082,0.9747553614063982,0.9770223963330493,0.9761589987450598,0.9794866338769608,0.9770505454163194,0.974935229277464,0.9766820627839063,0.9788684672855967,0.9758258217425109,0.9778974034299579,0.9772973667566323,0.9788601974984212,0.975915199057753,0.9758689200564445,0.9805647278627738,0.9785925426558006,0.9798234686699909,0.9808268165024878,0.9807274200220135,0.9801496481603142,0.9817337895075169,0.9806564906935473,0.9815346784778312,0.982054084726196,0.9810413538659426,0.981176055976281,0.9801323134141198,0.984102765464542,0.9812032508533388,0.9809775810840704,0.9810548717872871,0.9812558912293978,0.9800955764749366,0.9795553367242644,0.9828352615455374,0.9828139509401237,0.9844688625814237,0.9832007225249444,0.9839003147131122,0.9827846886162721,0.9838203204256271,0.9833346294634389,0.9847745266381773,0.9843165076561533,0.9846896022852603,0.984502895936338,0.9855992788745582,0.9835779520476393,0.9864935291300867,0.9838817076919675,0.9856991524581384,0.9871085150340755,0.986681666788328,0.9847683242977956,0.986141268003287,0.9852605356691031,0.9858631168923284,0.9073610488889146,0.283428348416948,0.3299716648465183,0.35011400378724455,0.35383524898182217,0.26746861337456784,0.20195472323328323,0.19692001318712982,0.19668861818058647,0.19651861044038377,0.19458634285996923,0.1929177542629561,0.16238283739260617,0.1283577522654844,0.1199125501813072,0.11472802975978325,0.11294859420774572,0.1132688894264251,0.22549308208447627,0.18479650518793966,0.11486734386681574,0.1277329062306325,0.123413850843892,0.11836069281096262,0.11185777747243186,0.10704030837400236,0.09980360845802028,0.09647692753233206,0.09653863286741027,0.09168681234532916,0.09510668741110972,0.09782299442950326,0.10051846794558927,0.15831760085840396,0.15838503143075755,0.1596713014052753,0.15900033540348368,0.34266181230159476,0.40349039090488814,0.30557674688519265,0.2849503073259658,0.28703922375960755,0.29541254230910585,0.10357431334128187,0.07514183082591797,0.07287559107111075,0.0759090126208084,0.07834112522223058,0.08236294537376176,0.08792771697098689,0.09340199801238835,0.0909997838722929,0.09112685233293072,0.09101282469053107,0.10543581062759899,0.1489997771928493,0.18246585651378533,0.2923818243436771,0.15555406063248922,0.09243952201266259,0.07350202744965006,0.07189959715004046,0.06913796533655092,0.06829349283844377,0.06657623972459059,0.06468754756121586,0.06477501646403305,0.06348715614582745,0.06285976556107564,0.06241383319107707,0.061720284308921736,0.06178342095331879,0.06156506676501361,0.06220279458373468,0.10768248915504874,0.17955886728725057,0.41598158636464766,0.2822871177867379,0.25447057538157525,0.27170290344276005,0.29051412471697846,0.19173358435318089,0.061996367973086386,0.058842716440607346,0.11788295356721235,0.12040428444950813,0.12445648016547217,0.12702138646480754,0.13243634768666213,0.08309609381373795,0.06445678869214744,0.06368674427861931,0.06146280766590184,0.05851144785048357,0.056261270566920984,0.19179035962282764,0.10358671802204511,0.0551742706564573,0.05495528033067698,0.052012031268065195,0.04942549629457882,0.045196136291817846,0.04433560132246628,0.0466963074923159,0.043254008580540404,0.04262391441151947,0.04270581711143007,0.043419404324049005,0.04481524897864153,0.06887015145956177,0.1047134765246982,0.1047708879318201,0.10515654627605908,0.10443389410442094,0.30235009857745343,0.31446231513646183,0.23995980247295257,0.23425030960015736,0.2346964010045247,0.2458337368830441,0.10494344022192292,0.03897900571394586,0.039841131026985055,0.030264558443460654,0.02543738824853703,0.026203933905952548,0.030412142337668424,0.04565033844899191,0.04474463771891268,0.04431285940773377,0.04360945039471531,0.04387869558102331,0.06493214242036638,0.1761707990952217,0.2152229606187963,0.1109624139763219,0.048006750690885,0.03686432571256537,0.03681772864251909,0.03508393595431514,0.03968114245201426,0.03143982242858523,0.030178361815593524,0.0300058095254907,0.029588662376237362,0.02973735951102663,0.03200423540330877,0.0746596386198426,0.08949325129704455,0.09007722549912534,0.08894458272482808,0.08883357673543468,0.25161384101556794,0.3574772950607583,0.3577486076938601,0.3572902706430985,0.3648921134697498,0.3702189696513123,0.3333813617126984,0.23940493156035458,0.24388429359080366,0.24066050790170213,0.24434342581340918,0.1618158798679823,0.08766880901864815,0.08469216273859725,0.08283718586139921,0.08011229098709283,0.07848711877275094,0.07740663927140634,0.07451157762252847,0.07458711894768877,0.07409299916395629,0.07080925751783296,0.08645330933822781,0.23019843195293088,0.17551223777419311,0.2687878034634186,0.12999707853864595,0.07976814061309967,0.05748917492810457,0.055997114480413224,0.05640360632695973,0.05549774656251194,0.05470718671541386,0.05413959305331506,0.05152618127150843,0.050553368037813184,0.05306022679255196,0.0819715617922474,0.10780828534073672,0.10818392451974401,0.14578410225655447,0.24437348330910447,0.24975520634788873,0.24809122974756947,0.4078379134436365,0.2741318353568072,0.18387728653651614,0.03565916326611429,0.03312288315315537,0.031440299531691585,0.031148948568126,0.031704773686936694,0.0595187715421992,0.16504300527882787,0.1636831023915748,0.16329410432559177,0.2461037772411958,0.3561722590307268,0.35616017241870135,0.2449178579533644,0.2306519979726298,0.24050783490769412,0.23997904563157246,0.24439765653315582,0.12160753848353423,0.0980372137242207,0.09123769928795533,0.09259617086588956,0.0938482484511245,0.09799475154776216,0.10038535617893851,0.11224041416366459,0.05730549023218856,0.0433320944556006,0.03908714908470157,0.03750555228739927,0.03699664230737243,0.18852331658542387,0.055884518147332196,0.03529433842418239,0.03857951137962479,0.034400565271760275,0.032675201405100385,0.031804965339254476,0.02908484149601076,0.027375699134964293,0.023777705576174313,0.02212549751914339,0.02137962632966639,0.020073158990316253,0.0197479337062052,0.020082860086810594,0.02080742067087371,0.02098140427029538,0.02148427094430949,0.03752686289281293,0.33977438430241724,0.27156931457300315,0.21986262929295397,0.20887303634301113,0.2172765714225735,0.23164596277736993,0.09128143373936393,0.07209027935818191,0.07977068516299979,0.21600493260998133,0.21108345503438408,0.21731998780524453,0.22066511671770872,0.3711636338017372,0.3750984621535576,0.27964158106244175,0.2405033819453688,0.2390000300574957,0.23960277031509003,0.24651551722191134,0.07538769796001854,0.032812448065338895,0.023258935465284347,0.019078399013732428,0.04450974395625673,0.020256366583125907,0.03337415745579353,0.04510659994220689,0.04379901936227526,0.04311660288593311,0.04201831153528768,0.040752716028708225,0.04212120677187414,0.17706775293501908,0.09181308563412327,0.04068353607829844,0.0374761309291789,0.03639278880919683,0.03644590628836197,0.038479319727307004,0.038664435732541635,0.07452604975008548,0.09867462347420441,0.09952323086589909,0.0993412955480395,0.09932157528631347,0.09859272077429382,0.09681742011584382,0.09544399930724623,0.0927577497845482,0.09160156992367452,0.08998959756193958,0.2518360120287235,0.3535122501788739,0.35214121488580785,0.3527226445379885,0.3554747342893525,0.3657682338072399,0.3355704697986577,0.2371184944407152,0.23415091311968328,0.23451716927093402,0.2381132544172988,0.16668710258305208,0.03924491117850981,0.03893654353748732,0.040702938271286904,0.04470376588614178,0.049696649893311795,0.05144936767139807,0.07033740254572685,0.05374391554384417,0.05195700537647485,0.050151011084854424,0.04695330703222944,0.04518102802678592,0.04468547693373459,0.1951275368168539,0.06433099250645946,0.04285562748680061,0.04630222032653264,0.040627715014864174,0.03961768773887964,0.0385702873862368,0.0385857137200063,0.032365561489127836,0.038500630332720664,0.0405529688615478,0.0420189476727626,0.07157484896903576,0.1019351461024891,0.10322046187079437,0.1030393217247787,0.10366289548468033,0.10266638613004009,0.2421277589878672,0.3710292497601364,0.3726983154602559,0.3711811275823007,0.3714642087586906,0.37973049717801466,0.34488288629567454,0.2522619060682585,0.24668981889007058,0.25451860376094015,0.2609528162521675,0.22170520148938877,0.10917200505283997,0.11034345221311437,0.08556462528560593,0.02866244621258862,0.028542852367282157,0.029233538630800027,0.03544414879955293,0.04825055037819159,0.04625928104696775,0.04503439833879064,0.044521830568282184,0.04334990630490165,0.10759645156155062,0.17660448581882582,0.04973354586686374,0.03892906892215575,0.03722040366421542,0.035577260566203694,0.037303896707813644,0.03719050520288891,0.03810097696403081,0.03859923164135082,0.038381195521782985,0.07825683700678865,0.09806154598264083,0.09973204299207894,0.09980535783607669,0.09856997885956131,0.09813183917363189,0.09729086543163756,0.09559651326688567,0.14059974086939953,0.36212714193451645,0.3586679853796524,0.3310849054278271,0.2513231261894777,0.24971687906501794,0.25948254351299616,0.2349039408557545,0.17551064743050548,0.02207094873065918,0.01599488163787588,0.0113364469082049,0.013954470686705633,0.013857618756131673,0.01686941163167832,0.022571906992248092,0.03622453044705032,0.036689069838193644,0.12330650264498,0.16858438260233988,0.16583865422572597,0.21445084875847442,0.3616517882062975,0.3609178445944774,0.3258746214385644,0.23120448336969646,0.2293852892254693,0.24414574609304251,0.23561450641536696,0.17928803175725494,0.060829373775137086,0.042160329226588855,0.1082305215897903,0.09651525481520284,0.0948585937958466,0.09904771810331159,0.1074719276508127,0.11948252124818448,0.11660447627676374,0.07036905038510977,0.05266995645161887,0.04837539235766708,0.07291614483514408,0.19518144946786298,0.05215627544052914,0.04272792288868743,0.04248300996079957,0.04073999327920763,0.038525916797353066,0.03592316031825327,0.033536054443189744,0.03239736836287954,0.032812448065338895,0.0319348964185302,0.031977994732463655,0.03237987458231606,0.03322561935537327,0.033547663952109064,0.032824375642995784,0.032322940278300516,0.06145724146299525,0.2430280525494084,0.36341850100883444,0.3636716837238978,0.36266467810091974,0.36254079032765696,0.37082584480249436,0.34450549773861083,0.24330938434774207,0.24565037025586567,0.25221499092947486,0.2593174658382249,0.22689830976682535,0.12506399145412916,0.10275814896081381,0.10158876924733318,0.10306413108630497,0.10494312215318535,0.1057184147008825,0.10918281938991559,0.12145963652058889,0.11671866295353217,0.06237248425519981,0.051457796492942354,0.04640145777263771,0.04220629015916,0.1921101777384009,0.06519757078182398,0.0412304552724585,0.04398636184867266,0.04167750088303834,0.04046931678358079,0.03846230304984988,0.037034651521505646,0.0345840909333075,0.0331115917129734,0.029379532181320167,0.02671713781393592,0.024950902114505125,0.02437980969629372,0.0238696274413166,0.0230720700819933,0.024943427499173332,0.0255849721427448,0.15315470911103124,0.35903217408410915,0.35684576958241876,0.35418385231814065,0.3540952701747422,0.3644795783171906,0.35169448734396536,0.23543670599109512,0.23252955773019157,0.2380623634192962,0.24240209327397544,0.2366482298122965,0.10361963813637809,0.09765759868599444,0.09769847051876535,0.10149827869150974,0.10491052010758994,0.10296266715903712,0.1075738686811869,0.1218268468780519,0.12131316586696239,0.11040293106703003,0.05471004933405155,0.05077410774164992,0.04517307630834799,0.17140851492275133,0.09153891038238382,0.0394142827812376,0.046846276902055006,0.04297999236316952,0.042307276983321485,0.041087642409313396,0.03964472358156845,0.03743653137135805,0.034912655939162374,0.03230878621948108,0.02972066090230685,0.026380780124011904,0.024433881381671574,0.024142371383737427,0.023738424087091037,0.023721884512740044,0.023864697375885147,0.12890133173790064,0.35423124456003063,0.3526343804633276,0.35490125635560976,0.35086782669515926,0.3593260695975746,0.3429153130853957,0.23189596480505803,0.22904734119185766,0.23491348291787983,0.24015287019662535,0.22249464809590536,0.10380666255403792,0.09487020330476592,0.09552319842288792,0.09588150285570074,0.09795324357751634,0.09940300088311793,0.1056765886618991,0.12044292980111648,0.11561575960619264,0.06036610665894404,0.04840020171919335,0.0448128634631102,0.0667772591667013,0.19031960978054996,0.04735423267586936,0.04133907574632034,0.044096095563116,0.04191207657695695,0.03962452621673607,0.03857092352371172,0.036193677779511324,0.033731507682393636,0.030789371860363346,0.027667368167267226,0.025208696826262367,0.024225069255491727,0.02404043035336323,0.024406368435876402,0.024037090631619407,0.02620075321857729,0.026688988730665608,0.1105823218349895,0.35532158419223814,0.35424730703127527,0.3558902910949182,0.3546617505962597,0.3606924928939468,0.3705709127093748,0.23797060058852249,0.2319643495836241,0.2384651974753611,0.24206382717162622,0.24798865257972036,0.11557027577672785,0.09851288552117698,0.09710050129223369,0.09967176896631957,0.10069515512927985,0.10150273165383505,0.10672303480832945,0.1213767796144658,0.1184510243324175,0.11440487192246618,0.07869895255193704,0.048269952571180275,0.04432701346655321,0.1944384408970239,0.06843105756741985,0.03995658997870377,0.04458146845656663,0.04260657966532477,0.04128929798889902,0.040632327011558056,0.039469785775934296,0.038176836357928456,0.035399301107563064,0.032989135249029466,0.030654987818762525,0.02697032052899928,0.02479409422690937,0.02213329020321253,0.02183557786489687,0.021028319409079232,0.021314263204106787,0.030659440781087843,0.325916447477548,0.3520354570305835,0.35003830342771547,0.34932089939024635,0.356007022321587,0.3680743911886053,0.30223813838184754,0.22721192554201686,0.2309586162355961,0.23770469512395853,0.24166465090604272,0.12184497679609052,0.09400394309813898,0.09134950044919266,0.09292394069990073,0.09545274619752808,0.09694846443570082,0.10075415688008915,0.11646357182604383,0.11007452509554394,0.051180122485090074,0.04766434969494826,0.04412806147123649,0.04059797558790623,0.06195104317799016,0.19148485460044284,0.04584976754741499,0.03866109601079781,0.041231568513039774,0.03784016059926687,0.036962927021195524,0.034201613276443554,0.03141978409812163,0.028185184071944702,0.02730031684417278,0.026872832460950402,0.025596740686032904,0.025048390182554003,0.02595250056894538,0.02637998495216798,0.02784898541638925,0.02690479836907067,0.029993404844727678,0.23135079498895417,0.35942673835299876,0.3568173024304109,0.3605059455793933,0.3602438569396793,0.37545597141452647,0.36849503709397147,0.2614971908964274,0.24110882578723203,0.24639926309834892,0.25036065018975195,0.16824786587804708,0.1019060428130063,0.09762992670583048,0.09985020552806656,0.1019041344005811,0.10341639221310484,0.10638731325588036,0.11090118574435004,0.12028023764187656,0.11558331659496601,0.11178207711290278,0.05835527610036273,0.04493611509889783,0.04083509583172518,0.19088640827080505,0.06855478630631384,0.0390112896908037,0.043842117676208936,0.040197049944266317,0.038096683036074275,0.0374252399311763,0.035964827322867876,0.03454258296306145,0.03193712289969275,0.03054016500451895,0.027535687709935308,0.025271038298815718,0.021767670189436927,0.019379928176898265,0.020065525340615897,0.020507958954501637,0.01934001055034007,0.038173496636184634,0.34997659809263726,0.27282791256735694,0.21621581218295516,0.20914387187300654,0.21590919391998886,0.19606822510805988,0.011021876926800678,0.00798813730836545,0.07522548290388498,0.20800009669289632,0.210169166448392,0.21373185437731768,0.2610493501140039,0.37288756635907827,0.35802071549880576,0.24516833708415886,0.23635019940524327,0.2395867078438454,0.24835999783077112,0.2434701680945568,0.09596149714318614,0.0878957510628664,0.08365271410439235,0.051028403697294555,0.028358690568260014,0.03163002753362032,0.03326728635998788,0.04877106986713797,0.04733435337977454,0.04623478975417905,0.04433798683799761,0.042834953018861865,0.04286135272407576,0.17215215963106578,0.09938677937750451,0.04317194684626102,0.03627287689515302,0.035857638158324656,0.03655754841523051,0.03713611544877349,0.037119257805685146,0.037671107065276654,0.05771659407542895,0.09803180655568289,0.09760766189420433,0.09796835184254826,0.09861037358922609,0.09686910628569034,0.09589979180810793,0.09447388965782011,0.0916855400703791,0.12935108093274938,0.30508485358262294,0.35677865707880274,0.35503595846594815,0.354655548255878,0.36287921546437474,0.37604551181951384,0.3448768429896616,0.24292738379398426,0.23933447933499452,0.24257734914834717,0.2466786864842574,0.03179351486470394,0.045827343701420054,0.04658880025903511,0.0549823161733658,0.04273635171023171,0.032295745401242915,0.0325522678380501,0.04620902618644007,0.04294230121777387,0.0413996678408175,0.03944211379577034,0.03848790758321985,0.03830708550594153,0.03884382650050111,0.19213435096245224,0.07013033979760341,0.03784699907712352,0.034327886565237664,0.03268172181421947,0.03304018528140107,0.03437162101664626,0.03557741960057248,0.03621944134725008,0.08461821175712458,0.10270534955038602,0.10412584453213602,0.10293054221654785,0.10084735102018172,0.10261644933824998,0.10099811560176453,0.09781408850485263,0.1555752122035341,0.2509077284182808,0.3573313015102382,0.35785436554908445,0.3578376669403649,0.3652733188516637,0.37206185991648466,0.37104451705953734,0.2658291280670375,0.24623991066085305,0.24435058236000318,0.1967993061012423,0.026928176421278316,0.020523067219533786,0.018615768035014302,0.019377701695735716,0.01986450589850519,0.023690236673357123,0.031129705409506325,0.04481270442874141,0.04319452972662474,0.04275241418147635,0.04169642597292067,0.04202912587236307,0.043305376681649355,0.0410502693326551,0.17062988265331036,0.12178883766391868,0.04171089810047768,0.031933783177948705,0.03534427521597272,0.036478508333957604,0.0635876658668828,0.09513181484137356,0.09542555132047026,0.0967185007384761,0.0972105530754146,0.0961191002026256,0.09426205587863379,0.2017204656081022,0.2091387827732063,0.20361965403981497,0.19734065909249576,0.19542063715847569,0.19895708441655624,0.18227660561496295,0.14799324867297736,0.14355173682229294,0.14537904171932703,0.1484506315175267,0.1499593905739376,0.27113467364318633,0.22831705537051916,0.23019763678108718,0.23428291164575277,0.23581838847611514,0.15160507822184943,0.04267146568777824,0.054218156031481834,0.05368904868662261,0.09115500141620103,0.11079733630155086,0.10967153200511004,0.10897321209189204,0.1075073923150458,0.10298779458930096,0.04694265172952261,0.04144467456717593,0.03867159227913586,0.1343293337779934,0.12270614790291723,0.03726270680630517,0.032790501322450316,0.028393678129386757,0.026346587734728644,0.024916073587746945,0.02392004133621306,0.023799970387800462,0.024390783067737898,0.022709630755592958,0.022224416896511112,0.02314140906677209,0.02302133811835949,0.02342719382743086,0.0242152091246286,0.05557821795310369,0.08366575492263051,0.08435485084246075,0.24176166187098524,0.3492324762812167,0.22807961705796287,0.21444814517420552,0.21745198633131402,0.23360192647872946,0.11674999272417752,0.06633196293417765,0.06491194505553399,0.15825430517963812,0.19872091837895,0.1941054229288437,0.207421052556247,0.3079873898468324,0.36544412176371033,0.3209378765635662,0.23308458767715834,0.22822163474926405,0.22543328516182304,0.2359015634509758,0.1591102281522958,0.017258886800767703,0.014621460829278288,0.01608600833117446,0.018644076152653177,0.021589710730796297,0.024620269661856264,0.029826418757531226,0.04237963762110675,0.040097176360686104,0.037712774069891486,0.03566791015639592,0.03288592194370543,0.09097561064824156,0.14278694054293384,0.033620024589894104,0.03599949681525727,0.03291725171435078,0.02771523751226357,0.024605479465561908,0.023852451729490687,0.024558564326778054,0.026897482788107885,0.027814156889631292,0.02879317246370805,0.07540821339358827,0.08877839180947555,0.09064974922665558,0.09113703053253142,0.09087446478971128,0.08939162833540792,0.1463769823832859,0.24731577816550354,0.38247829300142233,0.2325293986958228,0.22007366790029637,0.21707539294609424,0.1401889550948967,0.006627280214899889,0.0015499489579193781,0.0020750804435596404,0.004792977805640586,0.1348622579477028,0.14512156507630714,0.15159855781273035,0.16034846974744865,0.3557538396065236,0.35817370656155134,0.27925608175257155,0.22399513736514076,0.2255247299238592,0.23142554114227076,0.23927356917176024,0.11551572698824364,0.08264236875967024,0.07991715581662628,0.08164077030522998,0.0833430741884198,0.085518505318666,0.08601644192724844,0.04933071181079862,0.04413140119298031,0.04401864582553072,0.042730626472956335,0.033810229694929195,0.032505988836741606,0.12246982283094221,0.09601381945050758,0.007913550189417862,0.008509451969155535,0.012598702693040309,0.04483003917493611,0.04443706524973412,0.04530523386878604,0.04523605391837626,0.04476515315248264,0.04493770544258546,0.04694424207321024,0.06466687309327734,0.10631399841188283,0.11321497677541603,0.11125217459619985,0.10640544317391876,0.1076074249329948,0.1291807551238091,0.2974019032279047,0.3699350933030787,0.246329447010464,0.2310041000650609,0.22696574033917893,0.17544671561426473,0.030268375268310832,0.028839928568122897,0.02570997315658885,0.033308794330233926,0.15555851359481454,0.15442618888925463,0.15326555606605585,0.16574164326078344,0.35263597080701525,0.34977478347868285,0.2576576241314934,0.23483030794301918,0.22497653845474885,0.22800487090464627,0.23154290850641446,0.08715608221377114,0.07758507583315333,0.07941937824241263,0.08183606451006531,0.08445933642273507,0.08578250237080476,0.0897820577107098,0.06607369111931405,0.047085146523930144,0.04183335456442161,0.03943082235558837,0.03767794554313331,0.035578850909891324,0.1599478621725463,0.09472929885404602,0.03396449303262483,0.031801943686248,0.028945527388978487,0.02561980066950298,0.027438040607517644,0.026340862497453488,0.027003081608963475,0.027449968185174534,0.027920868951068156,0.02781606530205627,0.027146530609583497,0.027638901015259565,0.08715910386677761,0.08712141272138174,0.08869378552529605,0.08827441189488017,0.21960658395925292,0.319601192694152,0.3124845637265825,0.22107431214852413,0.215242362811785,0.2311486623062624,0.026708231889285283,0.006602152784636051,0.004435468544671695,0.006744329510306235,0.0607865935299412,0.15021177811715702,0.15292935741050062,0.16647733625065975,0.252642634347066,0.3627189088206664,0.34806786759879893,0.23752880311211166,0.22980164120287871,0.2325585019853056,0.2482675988625227,0.22607610208034457,0.0899383884951992,0.08652392059795644,0.08610645537996575,0.08840990917706226,0.08959789591168765,0.09019188927900013,0.09574584653914964,0.10918170614933431,0.06499432485855094,0.0434722037344768,0.11855391956900418,0.039933211926496126,0.03247990720026506,0.18779525724524793,0.2364753594534561,0.20008575133163453,0.20759424098382473,0.20430556927226995,0.16572876147691407,0.032655481143374354,0.03264498487503631,0.02977489162205349,0.02825070623187309,0.026913227190614952,0.024858185077518913,0.022673370919515934,0.0195270349679999,0.017035284478293278,0.01640725775606633,0.016590465348875982,0.019646946882043714,0.01945467433021486,0.14701232468647563,0.08328645795314182,0.02060974095050705,0.013887040114352045,0.017316139173520595,0.026027564790999325,0.03640121763074089,0.08075049590892047,0.08205028380478274,0.11688342255956585,0.21812692819232482,0.21744642012840742,0.30566676033790996,0.3639444276663186,0.3570892512009878,0.36345301146685505,0.2442340101677034,0.2336696751198204,0.23627131835833914,0.23733239566669506,0.24270934767441665,0.09495178793593895,0.08197999061379146,0.0789930070997713,0.07738675997531153,0.021195941633750603,0.02082030245474309,0.024864387417900424,0.040342884460417894,0.037142158754786436,0.035257601484999235,0.033778581855546275,0.03256133279706952,0.03250264911499756,0.12429855903729492,0.1261050304320217,0.03500107904819205,0.03843876596327345,0.03451379774231622,0.03121669720921716,0.028210788605314674,0.025389518903540687,0.026614719680455368,0.028415306803537987,0.02833340410362739,0.02904667324750876,0.0626646303906091,0.08939942101947707,0.09084679280954733,0.09173150100295024,0.09115277493503848,0.09052188559417385,0.17997585540213512,0.28605607329194305,0.36233881667933376,0.23368907731280908,0.21997538466040356,0.2247896730714578,0.10208320709980323,0.005935639745169752,0.0009744035773826543,0.0034456386335195432,0.073908201227459,0.1434265767740801,0.14598623493924645,0.1517763582370022,0.26522781911876203,0.3609216614193276,0.33199649042955026,0.23161463300672436,0.2260904151735328,0.22886524683962928,0.2434172096497602,0.190277465672829,0.03458727162068276,0.08079041353547867,0.08131252336811245,0.08368563421872532,0.08693740995672838,0.0886160177189732,0.08729873604254745,0.0491408247745011,0.04584642782567094,0.043495899855421793,0.04094212596189939,0.04017510320137774,0.08916579953177095,0.15296927503705904,0.04404902138996358,0.03587513193888814,0.033334239829235335,0.02981496828298069,0.02867469185898286,0.028380319242411245,0.028595969846447522,0.028675327996458,0.028107893368727987,0.02768390774161822,0.026682786390284097,0.034906930701886996,0.061158733952835886,0.08992598381443617,0.0902575704732973,0.0912135260639042,0.13612705828243832,0.24557323858701774,0.385762511750652,0.2406372888838635,0.22169231970551917,0.21969977809934527,0.16047394786439906,0.013748839247901046,0.00780015868449313,0.008070835180119973,0.010852346289704329,0.11144969528219772,0.19839505695736404,0.15803308837269503,0.17083742250453993,0.31854822613860256,0.3641957019689568,0.3124692964271816,0.2320689941982672,0.23331534654622677,0.23652784079514633,0.248588530218677,0.19115613056021918,0.09046399708394581,0.08810011022672093,0.08855256300583858,0.08943138692759756,0.0909679769985412,0.09407232787670505,0.09856345845044223,0.051304169292721635,0.0479776474014022,0.04140746052488664,0.03780008393833989,0.03489086823064236,0.12434197541996594,0.12744155526706713,0.03779563097601457,0.038921753341192744,0.03669240955993769,0.0334326821034967,0.031021562038750616,0.02896302116954197,0.02628376915906916,0.025382044288209116,0.025729216315208747,0.024102612791547795,0.025296483797817126,0.025988760405022404,0.026393820942250068,0.026209341074490355,0.0331961979971529,0.08678632730640778,0.08850644303889865,0.24732929608684806,0.35980794373491265,0.24898850165610442,0.2566405993432834,0.25482538105827524,0.2591054730246698,0.24281542359837838,0.19658699521894984,0.08552613896836636,0.08214045629186884,0.14526040208023305,0.21045463314031343,0.21074518893203487,0.2109431867211391,0.21411305975923156,0.23454436414799162,0.35682016504904857,0.24953573891900205,0.2409499504528425,0.2355605937643579,0.22977237887902713,0.206951583099672,0.037510641387199506,0.03555054279225223,0.03536097382469228,0.03491456435158735,0.034858743288153304,0.03503272688757497,0.03391805499694733,0.03298897621466068,0.031107122529142606,0.02910869665132454,0.026382847570805668,0.03069967647638361,0.02567085070187436,0.16333942912068777,0.02036657740067538,0.014151832338334724,0.02032268391489822,0.018061374225522453,0.021383443154516568,0.03058215007787113,0.029641779855402728,0.03049404503757902,0.030449674448695507,0.031931238628048586,0.032286998510961284,0.060793113939060284,0.09276395212492972,0.0938127837868914,0.09545195102568416,0.09586448617824339,0.09566171735807649,0.23579675980196413,0.38100388536866325,0.2662958939393434,0.22840357006712364,0.2203314626120536,0.21959195279732713,0.0326387825346548,0.010836919955934832,0.008529808368356706,0.011649585580290056,0.09862500475115166,0.15155593660190303,0.15714472238881072,0.1693372513040421,0.3123629024344823,0.3700500751516911,0.3333856556406549,0.2415073659153406,0.2345702867500994,0.23857636249912328,0.25082709799332026,0.2054609539612997,0.09501206196169854,0.08965244470017164,0.0900902663173635,0.09223802546744575,0.09407185077359892,0.0943347345851564,0.10046535046642391,0.11236223449013338,0.05610589398864407,0.047579266307662405,0.042552030876840785,0.040163652726827204,0.08545536867426873,0.15705709445162475,0.0435768483491199,0.04017621644195901,0.03849236054554517,0.03649806956131485,0.03376124710935158,0.03092311976448925,0.02855748352920795,0.026807946438496932,0.02575291243615374,0.02664573138236337,0.026427377194057966,0.025600557510883082,0.026890167207144877,0.02779411855916769,0.027485591883776417,0.02759643883880103,0.08719250108421672,0.20942631691192148,0.3870384444912005,0.23954647214854963,0.22369138172081238,0.21909958239165106,0.23383284438216667,0.11115691300931352,0.07485811351205296,0.07344509314563452,0.07589756214625787,0.15700604441925337,0.21499538243710314,0.22086645422855677,0.23467890722396123,0.31717241981447364,0.3739787011631297,0.3370426509502542,0.243601053380045,0.23662421562261393,0.23293445923305045,0.24279840692092125,0.1951676134777811,0.022796463520935006,0.017169827554262884,0.018349226432975208,0.022161121217745272,0.025567160293443747,0.02823814251674106,0.03429146769479208,0.047576721757762286,0.0453430840485507,0.0421307488339997,0.03986514521666762,0.038624677140352004,0.03660462258838293,0.18349973894508365,0.07395018630081118,0.03619383681388011,0.03962786593848011,0.03139497473659536,0.031820709741761544,0.03175073461950784,0.032569284515507446,0.034283675010722936,0.034794811471912324,0.06605524313253808,0.09522850773757874,0.0959462298437852,0.09621627020193713,0.09642158357200414,0.09642094743452923,0.0954005829245752,0.09443317685941799,0.17281262936451935,0.3519597566710544,0.29176540713036947,0.2266677099321257,0.21361575928812404,0.22055681431258423,0.1033402147504694,0.006231443671060211,0.0014411694496885286,0.004382828168612685,0.13143013723552777,0.143391112109847,0.14825040724725969,0.16658563865578424,0.33212212758086945,0.36116116717867786,0.28688527849064926,0.2268305611257344,0.22702140236824442,0.22989865216782124,0.2399968574808733,0.13014466243285372,0.024905100216302545,0.02099857998212129,0.02261373303123171,0.02520328965772456,0.07199629004624564,0.09316296935614465,0.10217958192727061,0.11393253984725393,0.113447962125647,0.11260460286812113,0.10947560166279979,0.10287503922185115,0.16799945419404638,0.10878173471190689,0.044724599388449304,0.034803558362194176,0.034206225273137436,0.03240706945937388,0.030509948474454873,0.03042327474348161,0.0270264596611709,0.02528073939531006,0.025852786019733953,0.02513808556653374,0.0249701452731248,0.024266736260106336,0.02534705672708215,0.02488363057652032,0.025200586073455655,0.024918300068909494,0.02548096366557684,0.30890470008583093,0.3202834501361256,0.22502408973100763,0.2146383502792406,0.21920327280008145,0.2318388714666737,0.027160366599665586,0.07136428746479972,0.07080353228055758,0.07496752915775873,0.15505023975226262,0.21485527315822694,0.22137059317752095,0.23459414190541295,0.31711135061687057,0.37307856663595707,0.34870559541752,0.24466006324160716,0.23746884715508987,0.2350694956336319,0.24523274600350597,0.2217112447954015,0.02681891980994111,0.018914911682648805,0.01624870049041438,0.01786941974243117,0.019349552612465626,0.021681950664676153,0.028476216966772494,0.043397139512422855,0.042714723036080704,0.04254328398655893,0.042955023967274464,0.04349923957716584,0.0886007504195725,0.16516657498335308,0.04998800085687716,0.0378772156071876,0.037978202431349306,0.03893065926584338,0.039357984614697195,0.04025621072944441,0.07016516832436137,0.10049668023706926,0.10166446960686226,0.10234784028941712,0.10208670585591584,0.10094515715696795,0.10048411652193745,0.09820324560520444,0.09756106482415805,0.09584174426351111,0.09310301339912264,0.23192522712890962,0.38420127135255067,0.2392110686648381,0.22007016914418354,0.21138641550686876,0.22576996092048462,0.02397204557479715,0.010667707387575831,0.005177204840560945,0.011937755856480381,0.09013638628430343,0.15398566368779387,0.15995485968477152,0.1745567592866928,0.30323051284290004,0.37565174272246793,0.3425757747080964,0.24121251619566264,0.2356978404245964,0.2332078393129462,0.24209642921722163,0.19974080578579767,0.02181394919074564,0.018274003176552478,0.019001426379253283,0.019915396896507787,0.020839227544625416,0.025554119475205583,0.033182839110177165,0.05061157461677879,0.049823241250843475,0.04668787867077162,0.09353065681671402,0.1082977931277751,0.1110905956775412,0.2559724959601295,0.15174789108499454,0.10048379845319988,0.04226767742550064,0.04218148079763373,0.041281664339198665,0.04120882659830727,0.03973505510302333,0.03861640735317673,0.03688977121156678,0.036622275403315196,0.035927295211841015,0.03617904661758553,0.03529640587097638,0.0889334503190149,0.09432439735118714,0.0947814621269989,0.09474122643170291,0.17412307256308845,0.35173106524877995,0.29690062689757823,0.22860347626865285,0.21531297407151362,0.22612349432223455,0.10805113082183082,0.012424241990512286,0.007514214889465576,0.009074183012616643,0.054091882742687725,0.15066184538074334,0.15380675002294075,0.1710914003914472,0.2385245172949082,0.36803415549330953,0.3650867715371102,0.24157145676595015,0.23289326933154197,0.23518415941350668,0.243777422494998,0.2486605727877247,0.09943830651298224,0.09085267708119127,0.08912763128326895,0.0908051258049325,0.09147768215041174,0.09391170316425912,0.08883453094164717,0.05542745337152066,0.05096399477794744,0.0483114605414261,0.046011187431704625,0.0439688680681094,0.05519446802128969,0.18693726682579648,0.0587302791418951,0.041922095742188636,0.040774026634121885,0.03709524361600258,0.0347887681658996,0.034093151836950275,0.032806563793694954,0.03259600228945869,0.032391006988129245,0.03388243129834545,0.03557948704736624,0.036593808251307314,0.06769647781812482,0.09340820035277009,0.09443460816873683,0.09582106979557237,0.09554180544403268,0.19803484411212624,0.3786398394770696,0.27265599641472926,0.22741596663713404,0.22073381956501237,0.23289470064086082,0.07146925014818017,0.01575696622221323,0.011791921340329026,0.01400440747849574,0.08239284383508827,0.15542619700000748,0.160288990893533,0.17379673403839635,0.27708144579416905,0.3689392200859136,0.3556512624386743,0.243095483121762,0.2370610830335933,0.23952611574934846,0.2554632679113651,0.22939403611575093,0.09847662568510018,0.09297451362916598,0.09139927820661398,0.0932143374572536,0.09502923767352445,0.10146615374902046,0.10770586720725639,0.1211965936746624,0.08523272055800701,0.05486653915290973,0.04627057248714972,0.041890447902805716,0.04165285055588086,0.16118133273663648,0.11081816980385817,0.04368705916666937,0.046831009602654294,0.040711685161568534,0.03765552169713837,0.03535493051867955,0.03198880906953927,0.02924626138030062,0.02639906907641909,0.025950751190889187,0.02642133388804524,0.027004990021388453,0.02675626026865041,0.02775563224192812,0.027693131735006205,0.029277432116577184,0.05774108536821787,0.23120193881979634,0.30037361944252416,0.36827318414955346,0.365381780291157,0.3683875298606907,0.38332753653059215,0.3730120902698162,0.349571219486672,0.2496989081813481,0.24633342286968296,0.2548856550840346,0.15592524684917142,0.10819648823487604,0.10531621678229253,0.10684103830994807,0.10587601776032218,0.10078803120063484,0.10685105747517998,0.12483482292874837,0.1199397450583648,0.11645212135149308,0.10315812039824124,0.049750880613058435,0.04602168370004267,0.041953743581571556,0.03902401244030451,0.178891081972834,0.07831074965779772,0.03958031466222134,0.047427865588604456,0.043649049952536156,0.042286602515382965,0.04007284410226619,0.037725655853760864,0.03540470827610087,0.03341041729187055,0.030012807037716138,0.02752185171985322,0.025236050737688753,0.0230003455816834,0.023141727135509438,0.022570475682929247,0.09212606527183986,0.21977245680586788,0.221550302014218,0.3452459617595498,0.31956604609865624,0.4265664368461004,0.34430797705261296,0.21038895194601603,0.3043914637348364,0.25721360017392003,0.15378035031772685,0.15339707748901898,0.24715563055616396,0.3269829319544417,0.27411640902303747,0.15277636634775504,0.2048551920506989,0.24258037080135342,0.2486440332133737,0.2542644668396643,0.12810011658809572,0.1743083476026921,0.17470338897468785,0.1733116792136833,0.1655264697598533,0.2687785794700306,0.4832378570500493,0.43091332324737364,0.25207392744438617,0.07863358942637744,0.11415582410099057,0.11834335806476792,0.08445838221652235,0.16800549750005933,0.11546467695587226,0.04707926225228598,0.04177403474487473,0.041810294580951535,0.0413705645513347,0.040492853870157,0.04057618787938644,0.03999523533031191,0.037838729289948025,0.035600161515304984,0.03404067049526005,0.03179049321169747,0.02869822894555929,0.026299036458470093,0.06546379431512572,0.34924997006178016,0.35303896389744893,0.35194273999359726,0.35278594021675436,0.35695216357511805,0.3678243891609172,0.23719085507850024,0.23040597180416067,0.23124487809936123,0.23424219884735065,0.23733446311348905,0.041788029769325385,0.028207925986676985,0.025329721980887454,0.028427711484301232,0.07014242640962887,0.09484380359955202,0.10149096311054695,0.12213489645033704,0.12130919000774343,0.11954852051121923,0.11725381360440412,0.11469829033282553,0.10571380270418862,0.19767924326358255,0.06870475571605295,0.050446815010745105,0.047151781924439806,0.04884406664239793,0.0505479608692756,0.05266279990502465,0.05589151565955763,0.05766061397762612,0.06081474261321129,0.06419470005243366,0.06513856903101467,0.06820379745446403,0.07105273913640198,0.07239403500251029,0.07346703988852332,0.07275011295416034,0.06916945414156506,0.19620658500887966,0.3723124980816479,0.27217125965875355,0.2268405802909661,0.218559819744085,0.23655408146599144,0.05811783778780644,0.07109933620644826,0.07646690518641286,0.13985132513002263,0.2172557379202662,0.22098843358939457,0.22719347755524089,0.2945734769795365,0.38558757394501764,0.3709226967330683,0.2578707301856298,0.2494616289031606,0.2406143879347622,0.24576535210447803,0.23895661367482468,0.034369553569852496,0.027960468508889003,0.025378068428990153,0.02549002862459604,0.025685481863800153,0.030094073600151594,0.037672061271489365,0.05441345023631716,0.05325901975349989,0.051938398355330095,0.053539397345620854,0.05230958457201229,0.07088177718998678,0.2558349312311534,0.15244366644831242,0.08980241410991097,0.04310340303332616,0.04553376625669192,0.04481127311942257,0.0443472108313856,0.04385134166959692,0.04391686382952531,0.04402453009717466,0.10302675800964667,0.10195788801722161,0.10178279117721845],\"type\":\"scatter\"},{\"line\":{\"color\":\"green\"},\"mode\":\"markers\",\"name\":\"True positives\",\"x\":[153,154,155,156,157,158,159,160,161,1030,1031,1032,1033,1034,1035,1036,1037,1038,1429,1430,1431,1432,1433,1434,1435,1436,2278,2279,2280,2281,2282,2283,2284,2285,2286,2287,2288,2289,2290,2291,2292,2293,2294,2295,2296,2297,2298,2299,2300,2301,2302,2303,2304,2305,2306,2307,2308,2309,2310,2311,2312,2313,2314,2315,2316,2317,2318,2319,2320,2321,2322,2323,2324,2325,2326,2327,2328,2329,2330,2331,2332,2333,2334,2335,2336,2337,2338,2339,2340,2341,2342,2343,2344,2345,2346,2347,2348,2349,2350,2351,2352,2353,2354,2355,2356,2357,2358,2359,2360,2361,2362,2363,2364,2365,2366,2367,2368,2369,2370,2371,2372,2373,2374,2375,2376,2377,2378,2379,2380,2381,2382,2383,2384,2385,2386,2387,2388,2389,2390,2391,2392,2393,2394,2395,2396,2397,2398,2399,2400,2401,2402,2403,2404,2405,2406,2407,2408,2409,2410,2411,2412,2413,2414,2415,2416,2417,2418,2419,2420,2421,2422,2423,2424,2425,2426,2427,2428,2429,2430,2431,2432,2433,2434,2435,2436,2437,2438,2439,2440,2441,2442,2443,2444,2445,2446,2447,2448,2449,2450,2451,2452,2453,2454,2455,2456,2457,2458,2459,2460,2461,2462,2463,2464,2465,2466,2467,2468,2469,2470,2471,2472,2473,2474,2475,2476,2477,2478,2479,2480,2481,2482,2483,2484,2485,2486,2487,2488,2489,2490,2491,2492,2493,2494,2495,2496,2497,2498,2499,2500,2501,2502,2503,2504,2505,2506,2507,2508,2509,2510,2511,2512,2513,2514,2515,2516,2517,2518,2519,2520,2521,2522,2523,2524,2525,2526,2527,2528,2529,2530,2531,2532,2533,2534,2535,2536,2537,2538,2539,2540,2541,2542,2543,2544,2545,2546,2547,2548,2549,2550,2551,2552,2553,2554,2555,2556,2557,2558,2559,2560,2561,2562,2563,2564,2565,2566,2567,2568,2569,2570,2571,2572,2573,2574,2575,2576,2577,2578,2579,2580,2581,2582,2583,2584,2585,2586,2587,2588,2589,2590,2591,2592,2593,2594,2595,2596,2597,2598,2599,2600,2601,2602,2603,2604,2605,2606,2607,2608,2609,2610,2611,2612,2613,2614,2615,2616,2617,2618,2619,2620,2621,2622,2623,2624,2625,2626,2627,2628,2629,2630,2631,2632,2633,2634,2635,2636,2637,4365,4366,4367,4368,4369,4370,4381,4382,4383,4384,4385,4386,4387,4388,4389],\"y\":[0.42,0.42,0.42,0.42,0.42,0.42,0.42,0.42,0.42,0.42,0.42,0.42,0.42,0.42,0.42,0.42,0.42,0.42,0.42,0.42,0.42,0.42,0.42,0.42,0.42,0.42,0.42,0.42,0.42,0.42,0.42,0.42,0.42,0.42,0.42,0.42,0.42,0.42,0.42,0.42,0.42,0.42,0.42,0.42,0.42,0.42,0.42,0.42,0.42,0.42,0.42,0.42,0.42,0.42,0.42,0.42,0.42,0.42,0.42,0.42,0.42,0.42,0.42,0.42,0.42,0.42,0.42,0.42,0.42,0.42,0.42,0.42,0.42,0.42,0.42,0.42,0.42,0.42,0.42,0.42,0.42,0.42,0.42,0.42,0.42,0.42,0.42,0.42,0.42,0.42,0.42,0.42,0.42,0.42,0.42,0.42,0.42,0.42,0.42,0.42,0.42,0.42,0.42,0.42,0.42,0.42,0.42,0.42,0.42,0.42,0.42,0.42,0.42,0.42,0.42,0.42,0.42,0.42,0.42,0.42,0.42,0.42,0.42,0.42,0.42,0.42,0.42,0.42,0.42,0.42,0.42,0.42,0.42,0.42,0.42,0.42,0.42,0.42,0.42,0.42,0.42,0.42,0.42,0.42,0.42,0.42,0.42,0.42,0.42,0.42,0.42,0.42,0.42,0.42,0.42,0.42,0.42,0.42,0.42,0.42,0.42,0.42,0.42,0.42,0.42,0.42,0.42,0.42,0.42,0.42,0.42,0.42,0.42,0.42,0.42,0.42,0.42,0.42,0.42,0.42,0.42,0.42,0.42,0.42,0.42,0.42,0.42,0.42,0.42,0.42,0.42,0.42,0.42,0.42,0.42,0.42,0.42,0.42,0.42,0.42,0.42,0.42,0.42,0.42,0.42,0.42,0.42,0.42,0.42,0.42,0.42,0.42,0.42,0.42,0.42,0.42,0.42,0.42,0.42,0.42,0.42,0.42,0.42,0.42,0.42,0.42,0.42,0.42,0.42,0.42,0.42,0.42,0.42,0.42,0.42,0.42,0.42,0.42,0.42,0.42,0.42,0.42,0.42,0.42,0.42,0.42,0.42,0.42,0.42,0.42,0.42,0.42,0.42,0.42,0.42,0.42,0.42,0.42,0.42,0.42,0.42,0.42,0.42,0.42,0.42,0.42,0.42,0.42,0.42,0.42,0.42,0.42,0.42,0.42,0.42,0.42,0.42,0.42,0.42,0.42,0.42,0.42,0.42,0.42,0.42,0.42,0.42,0.42,0.42,0.42,0.42,0.42,0.42,0.42,0.42,0.42,0.42,0.42,0.42,0.42,0.42,0.42,0.42,0.42,0.42,0.42,0.42,0.42,0.42,0.42,0.42,0.42,0.42,0.42,0.42,0.42,0.42,0.42,0.42,0.42,0.42,0.42,0.42,0.42,0.42,0.42,0.42,0.42,0.42,0.42,0.42,0.42,0.42,0.42,0.42,0.42,0.42,0.42,0.42,0.42,0.42,0.42,0.42,0.42,0.42,0.42,0.42,0.42,0.42,0.42,0.42,0.42,0.42,0.42,0.42,0.42,0.42,0.42,0.42,0.42,0.42,0.42,0.42,0.42,0.42,0.42,0.42,0.42,0.42,0.42,0.42,0.42,0.42,0.42,0.42,0.42,0.42,0.42,0.42,0.42,0.42,0.42,0.42,0.42,0.42,0.42,0.42,0.42,0.42,0.42,0.42,0.42,0.42,0.42,0.42,0.42,0.42,0.42,0.42,0.42,0.42],\"type\":\"scatter\"},{\"line\":{\"color\":\"red\"},\"mode\":\"markers\",\"name\":\"False negatives\",\"x\":[17,18,19,20,21,22,23,24,25,26,30,31,32,33,34,35,49,50,51,52,53,64,65,66,67,68,72,73,74,77,78,79,80,81,114,115,116,117,118,119,120,121,122,123,738,739,740,741,742,743,744,745,906,907,908,909,921,922,923,924,925,934,935,936,937,1158,1159,1160,1161,1162,1163,1164,1165,1170,1171,1172,1173,1174,1175,1176,1177,1329,1330,1331,1332,1333,1722,1723,1724,1725,1729,1730,1731,1732,1733,1734,1735,1982,1983,1984,1985,1986,1987,1988,1989,1990,1991,1992,1993,1994,1995,1996,1997,2791,2792,2800,2801,2802,2803,2804,2805,2806,2807,2808,2809,2810,2811,2812,3026,3027,3028,3029,3030,3476,3477,3478,3479,3480,3481,3482,3611,3612,3613,3614,3615,3616,3714,3715,3718,3719,3720,3721,3722,3723,3896,3897,3898,3899,3900,3901,3902,4374,4375,4376,4435,4436,4437,4438,4439,4440,4441,4442,4443,4444,4445,4446,4447,4448,4449,4450,4451],\"y\":[0.42,0.42,0.42,0.42,0.42,0.42,0.42,0.42,0.42,0.42,0.42,0.42,0.42,0.42,0.42,0.42,0.42,0.42,0.42,0.42,0.42,0.42,0.42,0.42,0.42,0.42,0.42,0.42,0.42,0.42,0.42,0.42,0.42,0.42,0.42,0.42,0.42,0.42,0.42,0.42,0.42,0.42,0.42,0.42,0.42,0.42,0.42,0.42,0.42,0.42,0.42,0.42,0.42,0.42,0.42,0.42,0.42,0.42,0.42,0.42,0.42,0.42,0.42,0.42,0.42,0.42,0.42,0.42,0.42,0.42,0.42,0.42,0.42,0.42,0.42,0.42,0.42,0.42,0.42,0.42,0.42,0.42,0.42,0.42,0.42,0.42,0.42,0.42,0.42,0.42,0.42,0.42,0.42,0.42,0.42,0.42,0.42,0.42,0.42,0.42,0.42,0.42,0.42,0.42,0.42,0.42,0.42,0.42,0.42,0.42,0.42,0.42,0.42,0.42,0.42,0.42,0.42,0.42,0.42,0.42,0.42,0.42,0.42,0.42,0.42,0.42,0.42,0.42,0.42,0.42,0.42,0.42,0.42,0.42,0.42,0.42,0.42,0.42,0.42,0.42,0.42,0.42,0.42,0.42,0.42,0.42,0.42,0.42,0.42,0.42,0.42,0.42,0.42,0.42,0.42,0.42,0.42,0.42,0.42,0.42,0.42,0.42,0.42,0.42,0.42,0.42,0.42,0.42,0.42,0.42,0.42,0.42,0.42,0.42,0.42,0.42,0.42,0.42,0.42,0.42,0.42],\"type\":\"scatter\"},{\"line\":{\"color\":\"#000000\"},\"marker\":{\"line\":{\"width\":2},\"size\":10,\"symbol\":34},\"mode\":\"markers\",\"name\":\"False positives\",\"x\":[109,585,629,716,756,758,1279],\"y\":[0.49264585320268983,0.4337511325234986,0.42497307150551,0.4313311065341019,0.4225256916046871,0.4354857203835465,0.42184661485008856],\"type\":\"scatter\"}],                        {\"template\":{\"data\":{\"bar\":[{\"error_x\":{\"color\":\"#2a3f5f\"},\"error_y\":{\"color\":\"#2a3f5f\"},\"marker\":{\"line\":{\"color\":\"#E5ECF6\",\"width\":0.5},\"pattern\":{\"fillmode\":\"overlay\",\"size\":10,\"solidity\":0.2}},\"type\":\"bar\"}],\"barpolar\":[{\"marker\":{\"line\":{\"color\":\"#E5ECF6\",\"width\":0.5},\"pattern\":{\"fillmode\":\"overlay\",\"size\":10,\"solidity\":0.2}},\"type\":\"barpolar\"}],\"carpet\":[{\"aaxis\":{\"endlinecolor\":\"#2a3f5f\",\"gridcolor\":\"white\",\"linecolor\":\"white\",\"minorgridcolor\":\"white\",\"startlinecolor\":\"#2a3f5f\"},\"baxis\":{\"endlinecolor\":\"#2a3f5f\",\"gridcolor\":\"white\",\"linecolor\":\"white\",\"minorgridcolor\":\"white\",\"startlinecolor\":\"#2a3f5f\"},\"type\":\"carpet\"}],\"choropleth\":[{\"colorbar\":{\"outlinewidth\":0,\"ticks\":\"\"},\"type\":\"choropleth\"}],\"contour\":[{\"colorbar\":{\"outlinewidth\":0,\"ticks\":\"\"},\"colorscale\":[[0.0,\"#0d0887\"],[0.1111111111111111,\"#46039f\"],[0.2222222222222222,\"#7201a8\"],[0.3333333333333333,\"#9c179e\"],[0.4444444444444444,\"#bd3786\"],[0.5555555555555556,\"#d8576b\"],[0.6666666666666666,\"#ed7953\"],[0.7777777777777778,\"#fb9f3a\"],[0.8888888888888888,\"#fdca26\"],[1.0,\"#f0f921\"]],\"type\":\"contour\"}],\"contourcarpet\":[{\"colorbar\":{\"outlinewidth\":0,\"ticks\":\"\"},\"type\":\"contourcarpet\"}],\"heatmap\":[{\"colorbar\":{\"outlinewidth\":0,\"ticks\":\"\"},\"colorscale\":[[0.0,\"#0d0887\"],[0.1111111111111111,\"#46039f\"],[0.2222222222222222,\"#7201a8\"],[0.3333333333333333,\"#9c179e\"],[0.4444444444444444,\"#bd3786\"],[0.5555555555555556,\"#d8576b\"],[0.6666666666666666,\"#ed7953\"],[0.7777777777777778,\"#fb9f3a\"],[0.8888888888888888,\"#fdca26\"],[1.0,\"#f0f921\"]],\"type\":\"heatmap\"}],\"heatmapgl\":[{\"colorbar\":{\"outlinewidth\":0,\"ticks\":\"\"},\"colorscale\":[[0.0,\"#0d0887\"],[0.1111111111111111,\"#46039f\"],[0.2222222222222222,\"#7201a8\"],[0.3333333333333333,\"#9c179e\"],[0.4444444444444444,\"#bd3786\"],[0.5555555555555556,\"#d8576b\"],[0.6666666666666666,\"#ed7953\"],[0.7777777777777778,\"#fb9f3a\"],[0.8888888888888888,\"#fdca26\"],[1.0,\"#f0f921\"]],\"type\":\"heatmapgl\"}],\"histogram\":[{\"marker\":{\"pattern\":{\"fillmode\":\"overlay\",\"size\":10,\"solidity\":0.2}},\"type\":\"histogram\"}],\"histogram2d\":[{\"colorbar\":{\"outlinewidth\":0,\"ticks\":\"\"},\"colorscale\":[[0.0,\"#0d0887\"],[0.1111111111111111,\"#46039f\"],[0.2222222222222222,\"#7201a8\"],[0.3333333333333333,\"#9c179e\"],[0.4444444444444444,\"#bd3786\"],[0.5555555555555556,\"#d8576b\"],[0.6666666666666666,\"#ed7953\"],[0.7777777777777778,\"#fb9f3a\"],[0.8888888888888888,\"#fdca26\"],[1.0,\"#f0f921\"]],\"type\":\"histogram2d\"}],\"histogram2dcontour\":[{\"colorbar\":{\"outlinewidth\":0,\"ticks\":\"\"},\"colorscale\":[[0.0,\"#0d0887\"],[0.1111111111111111,\"#46039f\"],[0.2222222222222222,\"#7201a8\"],[0.3333333333333333,\"#9c179e\"],[0.4444444444444444,\"#bd3786\"],[0.5555555555555556,\"#d8576b\"],[0.6666666666666666,\"#ed7953\"],[0.7777777777777778,\"#fb9f3a\"],[0.8888888888888888,\"#fdca26\"],[1.0,\"#f0f921\"]],\"type\":\"histogram2dcontour\"}],\"mesh3d\":[{\"colorbar\":{\"outlinewidth\":0,\"ticks\":\"\"},\"type\":\"mesh3d\"}],\"parcoords\":[{\"line\":{\"colorbar\":{\"outlinewidth\":0,\"ticks\":\"\"}},\"type\":\"parcoords\"}],\"pie\":[{\"automargin\":true,\"type\":\"pie\"}],\"scatter\":[{\"marker\":{\"colorbar\":{\"outlinewidth\":0,\"ticks\":\"\"}},\"type\":\"scatter\"}],\"scatter3d\":[{\"line\":{\"colorbar\":{\"outlinewidth\":0,\"ticks\":\"\"}},\"marker\":{\"colorbar\":{\"outlinewidth\":0,\"ticks\":\"\"}},\"type\":\"scatter3d\"}],\"scattercarpet\":[{\"marker\":{\"colorbar\":{\"outlinewidth\":0,\"ticks\":\"\"}},\"type\":\"scattercarpet\"}],\"scattergeo\":[{\"marker\":{\"colorbar\":{\"outlinewidth\":0,\"ticks\":\"\"}},\"type\":\"scattergeo\"}],\"scattergl\":[{\"marker\":{\"colorbar\":{\"outlinewidth\":0,\"ticks\":\"\"}},\"type\":\"scattergl\"}],\"scattermapbox\":[{\"marker\":{\"colorbar\":{\"outlinewidth\":0,\"ticks\":\"\"}},\"type\":\"scattermapbox\"}],\"scatterpolar\":[{\"marker\":{\"colorbar\":{\"outlinewidth\":0,\"ticks\":\"\"}},\"type\":\"scatterpolar\"}],\"scatterpolargl\":[{\"marker\":{\"colorbar\":{\"outlinewidth\":0,\"ticks\":\"\"}},\"type\":\"scatterpolargl\"}],\"scatterternary\":[{\"marker\":{\"colorbar\":{\"outlinewidth\":0,\"ticks\":\"\"}},\"type\":\"scatterternary\"}],\"surface\":[{\"colorbar\":{\"outlinewidth\":0,\"ticks\":\"\"},\"colorscale\":[[0.0,\"#0d0887\"],[0.1111111111111111,\"#46039f\"],[0.2222222222222222,\"#7201a8\"],[0.3333333333333333,\"#9c179e\"],[0.4444444444444444,\"#bd3786\"],[0.5555555555555556,\"#d8576b\"],[0.6666666666666666,\"#ed7953\"],[0.7777777777777778,\"#fb9f3a\"],[0.8888888888888888,\"#fdca26\"],[1.0,\"#f0f921\"]],\"type\":\"surface\"}],\"table\":[{\"cells\":{\"fill\":{\"color\":\"#EBF0F8\"},\"line\":{\"color\":\"white\"}},\"header\":{\"fill\":{\"color\":\"#C8D4E3\"},\"line\":{\"color\":\"white\"}},\"type\":\"table\"}]},\"layout\":{\"annotationdefaults\":{\"arrowcolor\":\"#2a3f5f\",\"arrowhead\":0,\"arrowwidth\":1},\"autotypenumbers\":\"strict\",\"coloraxis\":{\"colorbar\":{\"outlinewidth\":0,\"ticks\":\"\"}},\"colorscale\":{\"diverging\":[[0,\"#8e0152\"],[0.1,\"#c51b7d\"],[0.2,\"#de77ae\"],[0.3,\"#f1b6da\"],[0.4,\"#fde0ef\"],[0.5,\"#f7f7f7\"],[0.6,\"#e6f5d0\"],[0.7,\"#b8e186\"],[0.8,\"#7fbc41\"],[0.9,\"#4d9221\"],[1,\"#276419\"]],\"sequential\":[[0.0,\"#0d0887\"],[0.1111111111111111,\"#46039f\"],[0.2222222222222222,\"#7201a8\"],[0.3333333333333333,\"#9c179e\"],[0.4444444444444444,\"#bd3786\"],[0.5555555555555556,\"#d8576b\"],[0.6666666666666666,\"#ed7953\"],[0.7777777777777778,\"#fb9f3a\"],[0.8888888888888888,\"#fdca26\"],[1.0,\"#f0f921\"]],\"sequentialminus\":[[0.0,\"#0d0887\"],[0.1111111111111111,\"#46039f\"],[0.2222222222222222,\"#7201a8\"],[0.3333333333333333,\"#9c179e\"],[0.4444444444444444,\"#bd3786\"],[0.5555555555555556,\"#d8576b\"],[0.6666666666666666,\"#ed7953\"],[0.7777777777777778,\"#fb9f3a\"],[0.8888888888888888,\"#fdca26\"],[1.0,\"#f0f921\"]]},\"colorway\":[\"#636efa\",\"#EF553B\",\"#00cc96\",\"#ab63fa\",\"#FFA15A\",\"#19d3f3\",\"#FF6692\",\"#B6E880\",\"#FF97FF\",\"#FECB52\"],\"font\":{\"color\":\"#2a3f5f\"},\"geo\":{\"bgcolor\":\"white\",\"lakecolor\":\"white\",\"landcolor\":\"#E5ECF6\",\"showlakes\":true,\"showland\":true,\"subunitcolor\":\"white\"},\"hoverlabel\":{\"align\":\"left\"},\"hovermode\":\"closest\",\"mapbox\":{\"style\":\"light\"},\"paper_bgcolor\":\"white\",\"plot_bgcolor\":\"#E5ECF6\",\"polar\":{\"angularaxis\":{\"gridcolor\":\"white\",\"linecolor\":\"white\",\"ticks\":\"\"},\"bgcolor\":\"#E5ECF6\",\"radialaxis\":{\"gridcolor\":\"white\",\"linecolor\":\"white\",\"ticks\":\"\"}},\"scene\":{\"xaxis\":{\"backgroundcolor\":\"#E5ECF6\",\"gridcolor\":\"white\",\"gridwidth\":2,\"linecolor\":\"white\",\"showbackground\":true,\"ticks\":\"\",\"zerolinecolor\":\"white\"},\"yaxis\":{\"backgroundcolor\":\"#E5ECF6\",\"gridcolor\":\"white\",\"gridwidth\":2,\"linecolor\":\"white\",\"showbackground\":true,\"ticks\":\"\",\"zerolinecolor\":\"white\"},\"zaxis\":{\"backgroundcolor\":\"#E5ECF6\",\"gridcolor\":\"white\",\"gridwidth\":2,\"linecolor\":\"white\",\"showbackground\":true,\"ticks\":\"\",\"zerolinecolor\":\"white\"}},\"shapedefaults\":{\"line\":{\"color\":\"#2a3f5f\"}},\"ternary\":{\"aaxis\":{\"gridcolor\":\"white\",\"linecolor\":\"white\",\"ticks\":\"\"},\"baxis\":{\"gridcolor\":\"white\",\"linecolor\":\"white\",\"ticks\":\"\"},\"bgcolor\":\"#E5ECF6\",\"caxis\":{\"gridcolor\":\"white\",\"linecolor\":\"white\",\"ticks\":\"\"}},\"title\":{\"x\":0.05},\"xaxis\":{\"automargin\":true,\"gridcolor\":\"white\",\"linecolor\":\"white\",\"ticks\":\"\",\"title\":{\"standoff\":15},\"zerolinecolor\":\"white\",\"zerolinewidth\":2},\"yaxis\":{\"automargin\":true,\"gridcolor\":\"white\",\"linecolor\":\"white\",\"ticks\":\"\",\"title\":{\"standoff\":15},\"zerolinecolor\":\"white\",\"zerolinewidth\":2}}},\"shapes\":[{\"line\":{\"color\":\"#aaaaaa\",\"dash\":\"dash\"},\"name\":\"threshold\",\"type\":\"line\",\"x0\":0,\"x1\":1,\"xref\":\"x domain\",\"y0\":0.42,\"y1\":0.42,\"yref\":\"y\"}],\"plot_bgcolor\":\"white\",\"xaxis\":{\"showgrid\":false,\"gridwidth\":1,\"gridcolor\":\"LightGrey\",\"showline\":true,\"linewidth\":2,\"linecolor\":\"DarkGrey\"},\"yaxis\":{\"showgrid\":true,\"gridwidth\":1,\"gridcolor\":\"LightGrey\",\"showline\":true,\"linewidth\":2,\"linecolor\":\"DarkGrey\"}},                        {\"responsive\": true}                    ).then(function(){\n",
              "                            \n",
              "var gd = document.getElementById('eea83207-ce3f-4914-ae6c-19375e2b84b7');\n",
              "var x = new MutationObserver(function (mutations, observer) {{\n",
              "        var display = window.getComputedStyle(gd).display;\n",
              "        if (!display || display === 'none') {{\n",
              "            console.log([gd, 'removed!']);\n",
              "            Plotly.purge(gd);\n",
              "            observer.disconnect();\n",
              "        }}\n",
              "}});\n",
              "\n",
              "// Listen for the removal of the full notebook cells\n",
              "var notebookContainer = gd.closest('#notebook-container');\n",
              "if (notebookContainer) {{\n",
              "    x.observe(notebookContainer, {childList: true});\n",
              "}}\n",
              "\n",
              "// Listen for the clearing of the current output cell\n",
              "var outputEl = gd.closest('.output');\n",
              "if (outputEl) {{\n",
              "    x.observe(outputEl, {childList: true});\n",
              "}}\n",
              "\n",
              "                        })                };                            </script>        </div>\n",
              "</body>\n",
              "</html>"
            ]
          },
          "metadata": {}
        }
      ]
    },
    {
      "cell_type": "markdown",
      "source": [
        "## TRANSFORMER"
      ],
      "metadata": {
        "id": "NjSwNCethewU"
      }
    },
    {
      "cell_type": "code",
      "source": [
        "### NEW TRANSFORMER \n",
        "from AnomalyDetectionMethodClass import ADMethod\n",
        "\n",
        "configuration = {\n",
        "    'DATASET': 'NAB', #SWAT, MSL, SMD, NAB\n",
        "    'DATAPATH': \"realAdExchange/exchange-2_cpm_results.csv\", #\"realKnownCause/machine_temperature_system_failure.csv\", #Only needed with NAB\n",
        "    'SEQ_LEN': 100,\n",
        "    'STEP': 100,\n",
        "    'HIDDEN_SIZE': 100, #Needed for USAD method\n",
        "    'LR': 0.001,\n",
        "    'EPOCHS': 20,\n",
        "    'K': 3, \n",
        "    'VERBOSE': True,\n",
        "    'LOGGER': False\n",
        "}\n",
        "# configuration = configurations[curr_config]\n",
        "method = ADMethod(name = 'TRANSFORMER', config = configuration)\n",
        "train_history = method.train()\n",
        "_, score = method.test()\n",
        "rep = method.results(0.6, True)"
      ],
      "metadata": {
        "id": "PYv_oHLP29gM",
        "colab": {
          "base_uri": "https://localhost:8080/",
          "height": 1000
        },
        "outputId": "d2526de1-4c35-4434-d371-b94415376cb6"
      },
      "execution_count": 3,
      "outputs": [
        {
          "output_type": "stream",
          "name": "stdout",
          "text": [
            "=====================================================================\n",
            "Initializing...\n",
            "NAB DS\n",
            "NAB DS\n"
          ]
        },
        {
          "output_type": "stream",
          "name": "stderr",
          "text": [
            "/usr/local/lib/python3.8/dist-packages/torch/utils/data/dataloader.py:554: UserWarning: This DataLoader will create 4 worker processes in total. Our suggested max number of worker in current system is 2, which is smaller than what this DataLoader is going to create. Please be aware that excessive worker creation might get DataLoader running slow or even freeze, lower the worker number to avoid potential slowness/freeze if necessary.\n",
            "  warnings.warn(_create_warning_msg(\n"
          ]
        },
        {
          "output_type": "stream",
          "name": "stdout",
          "text": [
            "Data preprocessing and method configuration finished in 5.2544639110565186 sec.\n",
            "Model summary: \n",
            "===========================================================================\n",
            "Layer (type:depth-idx)                             Param #\n",
            "===========================================================================\n",
            "AnomalyTransformer                                 --\n",
            "├─DataEmbedding: 1-1                               --\n",
            "│    └─TokenEmbedding: 2-1                         --\n",
            "│    │    └─Conv1d: 3-1                            1,536\n",
            "│    └─PositionalEmbedding: 2-2                    --\n",
            "│    └─Dropout: 2-3                                --\n",
            "├─Encoder: 1-2                                     --\n",
            "│    └─ModuleList: 2-4                             --\n",
            "│    │    └─EncoderLayer: 3-2                      1,583,112\n",
            "│    │    └─EncoderLayer: 3-3                      1,583,112\n",
            "│    │    └─EncoderLayer: 3-4                      1,583,112\n",
            "│    └─LayerNorm: 2-5                              1,024\n",
            "├─Linear: 1-3                                      513\n",
            "===========================================================================\n",
            "Total params: 4,752,409\n",
            "Trainable params: 4,752,409\n",
            "Non-trainable params: 0\n",
            "===========================================================================\n",
            "=====================================================================\n",
            "Training...\n",
            "Epoch 1/20: train_loss_1:-24.13642. train_loss_2:24.49222\n",
            "Epoch 2/20: train_loss_1:48.03388. train_loss_2:90.99762\n",
            "Epoch 3/20: train_loss_1:-21.23635. train_loss_2:22.03944\n",
            "Epoch 4/20: train_loss_1:-19.57160. train_loss_2:25.43209\n",
            "Epoch 5/20: train_loss_1:-23.84795. train_loss_2:24.49390\n",
            "Epoch 6/20: train_loss_1:-25.19646. train_loss_2:28.23301\n",
            "Epoch 7/20: train_loss_1:-29.92835. train_loss_2:30.19405\n",
            "Epoch 8/20: train_loss_1:-33.21229. train_loss_2:34.21753\n",
            "Epoch 9/20: train_loss_1:-35.89141. train_loss_2:37.89448\n",
            "Epoch 10/20: train_loss_1:-38.97205. train_loss_2:39.55221\n",
            "Epoch 11/20: train_loss_1:-40.72588. train_loss_2:41.05823\n",
            "Epoch 12/20: train_loss_1:-41.42754. train_loss_2:42.71663\n",
            "Epoch 13/20: train_loss_1:-42.91918. train_loss_2:43.14201\n",
            "Epoch 14/20: train_loss_1:-43.63914. train_loss_2:43.76659\n",
            "Epoch 15/20: train_loss_1:-44.01882. train_loss_2:44.32654\n",
            "Epoch 16/20: train_loss_1:-44.44960. train_loss_2:44.59827\n",
            "Epoch 17/20: train_loss_1:-44.81762. train_loss_2:44.85185\n",
            "Epoch 18/20: train_loss_1:-45.11917. train_loss_2:45.22564\n",
            "Epoch 19/20: train_loss_1:-45.42397. train_loss_2:45.56660\n",
            "Epoch 20/20: train_loss_1:-45.73426. train_loss_2:45.79778\n",
            "Updating learning rate to 1.9073486328125e-09\n",
            "Training finished in 11.964 sec., avg time per epoch: 0.598 sec.\n",
            "=====================================================================\n",
            "=====================================================================\n",
            "Testing...\n",
            "Test finished in 0.355 sec.\n",
            "=====================================================================\n",
            "=====================================================================\n",
            "Computing results... \n",
            "              precision    recall  f1-score   support\n",
            "\n",
            "       False       1.00      0.75      0.86        12\n",
            "        True       0.57      1.00      0.73         4\n",
            "\n",
            "    accuracy                           0.81        16\n",
            "   macro avg       0.79      0.88      0.79        16\n",
            "weighted avg       0.89      0.81      0.82        16\n",
            "\n"
          ]
        },
        {
          "output_type": "display_data",
          "data": {
            "text/html": [
              "<html>\n",
              "<head><meta charset=\"utf-8\" /></head>\n",
              "<body>\n",
              "    <div>            <script src=\"https://cdnjs.cloudflare.com/ajax/libs/mathjax/2.7.5/MathJax.js?config=TeX-AMS-MML_SVG\"></script><script type=\"text/javascript\">if (window.MathJax) {MathJax.Hub.Config({SVG: {font: \"STIX-Web\"}});}</script>                <script type=\"text/javascript\">window.PlotlyConfig = {MathJaxConfig: 'local'};</script>\n",
              "        <script src=\"https://cdn.plot.ly/plotly-2.8.3.min.js\"></script>                <div id=\"b7b84d57-7858-4a1d-a480-d9880d9cdb74\" class=\"plotly-graph-div\" style=\"height:525px; width:100%;\"></div>            <script type=\"text/javascript\">                                    window.PLOTLYENV=window.PLOTLYENV || {};                                    if (document.getElementById(\"b7b84d57-7858-4a1d-a480-d9880d9cdb74\")) {                    Plotly.newPlot(                        \"b7b84d57-7858-4a1d-a480-d9880d9cdb74\",                        [{\"line\":{\"color\":\"#515ad6\"},\"mode\":\"lines\",\"name\":\"Anomaly score\",\"x\":[0,1,2,3,4,5,6,7,8,9,10,11,12,13,14,15],\"y\":[0.20856954157352448,0.4008689522743225,0.07906076312065125,0.9999999403953552,0.1584865003824234,0.11587263643741608,0.774139940738678,0.0,0.08881837129592896,0.7050068974494934,0.2826852798461914,0.7972195744514465,0.20367474853992462,0.4234008193016052,0.8306992650032043,0.25068873167037964],\"type\":\"scatter\"},{\"line\":{\"color\":\"green\"},\"mode\":\"markers\",\"name\":\"True positives\",\"x\":[5,6,9,10],\"y\":[0.6,0.6,0.6,0.6],\"type\":\"scatter\"},{\"line\":{\"color\":\"red\"},\"mode\":\"markers\",\"name\":\"False negatives\",\"x\":[],\"y\":[],\"type\":\"scatter\"},{\"line\":{\"color\":\"#000000\"},\"marker\":{\"line\":{\"width\":2},\"size\":10,\"symbol\":34},\"mode\":\"markers\",\"name\":\"False positives\",\"x\":[3,11,14],\"y\":[0.9999999403953552,0.7972195744514465,0.8306992650032043],\"type\":\"scatter\"}],                        {\"template\":{\"data\":{\"bar\":[{\"error_x\":{\"color\":\"#2a3f5f\"},\"error_y\":{\"color\":\"#2a3f5f\"},\"marker\":{\"line\":{\"color\":\"#E5ECF6\",\"width\":0.5},\"pattern\":{\"fillmode\":\"overlay\",\"size\":10,\"solidity\":0.2}},\"type\":\"bar\"}],\"barpolar\":[{\"marker\":{\"line\":{\"color\":\"#E5ECF6\",\"width\":0.5},\"pattern\":{\"fillmode\":\"overlay\",\"size\":10,\"solidity\":0.2}},\"type\":\"barpolar\"}],\"carpet\":[{\"aaxis\":{\"endlinecolor\":\"#2a3f5f\",\"gridcolor\":\"white\",\"linecolor\":\"white\",\"minorgridcolor\":\"white\",\"startlinecolor\":\"#2a3f5f\"},\"baxis\":{\"endlinecolor\":\"#2a3f5f\",\"gridcolor\":\"white\",\"linecolor\":\"white\",\"minorgridcolor\":\"white\",\"startlinecolor\":\"#2a3f5f\"},\"type\":\"carpet\"}],\"choropleth\":[{\"colorbar\":{\"outlinewidth\":0,\"ticks\":\"\"},\"type\":\"choropleth\"}],\"contour\":[{\"colorbar\":{\"outlinewidth\":0,\"ticks\":\"\"},\"colorscale\":[[0.0,\"#0d0887\"],[0.1111111111111111,\"#46039f\"],[0.2222222222222222,\"#7201a8\"],[0.3333333333333333,\"#9c179e\"],[0.4444444444444444,\"#bd3786\"],[0.5555555555555556,\"#d8576b\"],[0.6666666666666666,\"#ed7953\"],[0.7777777777777778,\"#fb9f3a\"],[0.8888888888888888,\"#fdca26\"],[1.0,\"#f0f921\"]],\"type\":\"contour\"}],\"contourcarpet\":[{\"colorbar\":{\"outlinewidth\":0,\"ticks\":\"\"},\"type\":\"contourcarpet\"}],\"heatmap\":[{\"colorbar\":{\"outlinewidth\":0,\"ticks\":\"\"},\"colorscale\":[[0.0,\"#0d0887\"],[0.1111111111111111,\"#46039f\"],[0.2222222222222222,\"#7201a8\"],[0.3333333333333333,\"#9c179e\"],[0.4444444444444444,\"#bd3786\"],[0.5555555555555556,\"#d8576b\"],[0.6666666666666666,\"#ed7953\"],[0.7777777777777778,\"#fb9f3a\"],[0.8888888888888888,\"#fdca26\"],[1.0,\"#f0f921\"]],\"type\":\"heatmap\"}],\"heatmapgl\":[{\"colorbar\":{\"outlinewidth\":0,\"ticks\":\"\"},\"colorscale\":[[0.0,\"#0d0887\"],[0.1111111111111111,\"#46039f\"],[0.2222222222222222,\"#7201a8\"],[0.3333333333333333,\"#9c179e\"],[0.4444444444444444,\"#bd3786\"],[0.5555555555555556,\"#d8576b\"],[0.6666666666666666,\"#ed7953\"],[0.7777777777777778,\"#fb9f3a\"],[0.8888888888888888,\"#fdca26\"],[1.0,\"#f0f921\"]],\"type\":\"heatmapgl\"}],\"histogram\":[{\"marker\":{\"pattern\":{\"fillmode\":\"overlay\",\"size\":10,\"solidity\":0.2}},\"type\":\"histogram\"}],\"histogram2d\":[{\"colorbar\":{\"outlinewidth\":0,\"ticks\":\"\"},\"colorscale\":[[0.0,\"#0d0887\"],[0.1111111111111111,\"#46039f\"],[0.2222222222222222,\"#7201a8\"],[0.3333333333333333,\"#9c179e\"],[0.4444444444444444,\"#bd3786\"],[0.5555555555555556,\"#d8576b\"],[0.6666666666666666,\"#ed7953\"],[0.7777777777777778,\"#fb9f3a\"],[0.8888888888888888,\"#fdca26\"],[1.0,\"#f0f921\"]],\"type\":\"histogram2d\"}],\"histogram2dcontour\":[{\"colorbar\":{\"outlinewidth\":0,\"ticks\":\"\"},\"colorscale\":[[0.0,\"#0d0887\"],[0.1111111111111111,\"#46039f\"],[0.2222222222222222,\"#7201a8\"],[0.3333333333333333,\"#9c179e\"],[0.4444444444444444,\"#bd3786\"],[0.5555555555555556,\"#d8576b\"],[0.6666666666666666,\"#ed7953\"],[0.7777777777777778,\"#fb9f3a\"],[0.8888888888888888,\"#fdca26\"],[1.0,\"#f0f921\"]],\"type\":\"histogram2dcontour\"}],\"mesh3d\":[{\"colorbar\":{\"outlinewidth\":0,\"ticks\":\"\"},\"type\":\"mesh3d\"}],\"parcoords\":[{\"line\":{\"colorbar\":{\"outlinewidth\":0,\"ticks\":\"\"}},\"type\":\"parcoords\"}],\"pie\":[{\"automargin\":true,\"type\":\"pie\"}],\"scatter\":[{\"marker\":{\"colorbar\":{\"outlinewidth\":0,\"ticks\":\"\"}},\"type\":\"scatter\"}],\"scatter3d\":[{\"line\":{\"colorbar\":{\"outlinewidth\":0,\"ticks\":\"\"}},\"marker\":{\"colorbar\":{\"outlinewidth\":0,\"ticks\":\"\"}},\"type\":\"scatter3d\"}],\"scattercarpet\":[{\"marker\":{\"colorbar\":{\"outlinewidth\":0,\"ticks\":\"\"}},\"type\":\"scattercarpet\"}],\"scattergeo\":[{\"marker\":{\"colorbar\":{\"outlinewidth\":0,\"ticks\":\"\"}},\"type\":\"scattergeo\"}],\"scattergl\":[{\"marker\":{\"colorbar\":{\"outlinewidth\":0,\"ticks\":\"\"}},\"type\":\"scattergl\"}],\"scattermapbox\":[{\"marker\":{\"colorbar\":{\"outlinewidth\":0,\"ticks\":\"\"}},\"type\":\"scattermapbox\"}],\"scatterpolar\":[{\"marker\":{\"colorbar\":{\"outlinewidth\":0,\"ticks\":\"\"}},\"type\":\"scatterpolar\"}],\"scatterpolargl\":[{\"marker\":{\"colorbar\":{\"outlinewidth\":0,\"ticks\":\"\"}},\"type\":\"scatterpolargl\"}],\"scatterternary\":[{\"marker\":{\"colorbar\":{\"outlinewidth\":0,\"ticks\":\"\"}},\"type\":\"scatterternary\"}],\"surface\":[{\"colorbar\":{\"outlinewidth\":0,\"ticks\":\"\"},\"colorscale\":[[0.0,\"#0d0887\"],[0.1111111111111111,\"#46039f\"],[0.2222222222222222,\"#7201a8\"],[0.3333333333333333,\"#9c179e\"],[0.4444444444444444,\"#bd3786\"],[0.5555555555555556,\"#d8576b\"],[0.6666666666666666,\"#ed7953\"],[0.7777777777777778,\"#fb9f3a\"],[0.8888888888888888,\"#fdca26\"],[1.0,\"#f0f921\"]],\"type\":\"surface\"}],\"table\":[{\"cells\":{\"fill\":{\"color\":\"#EBF0F8\"},\"line\":{\"color\":\"white\"}},\"header\":{\"fill\":{\"color\":\"#C8D4E3\"},\"line\":{\"color\":\"white\"}},\"type\":\"table\"}]},\"layout\":{\"annotationdefaults\":{\"arrowcolor\":\"#2a3f5f\",\"arrowhead\":0,\"arrowwidth\":1},\"autotypenumbers\":\"strict\",\"coloraxis\":{\"colorbar\":{\"outlinewidth\":0,\"ticks\":\"\"}},\"colorscale\":{\"diverging\":[[0,\"#8e0152\"],[0.1,\"#c51b7d\"],[0.2,\"#de77ae\"],[0.3,\"#f1b6da\"],[0.4,\"#fde0ef\"],[0.5,\"#f7f7f7\"],[0.6,\"#e6f5d0\"],[0.7,\"#b8e186\"],[0.8,\"#7fbc41\"],[0.9,\"#4d9221\"],[1,\"#276419\"]],\"sequential\":[[0.0,\"#0d0887\"],[0.1111111111111111,\"#46039f\"],[0.2222222222222222,\"#7201a8\"],[0.3333333333333333,\"#9c179e\"],[0.4444444444444444,\"#bd3786\"],[0.5555555555555556,\"#d8576b\"],[0.6666666666666666,\"#ed7953\"],[0.7777777777777778,\"#fb9f3a\"],[0.8888888888888888,\"#fdca26\"],[1.0,\"#f0f921\"]],\"sequentialminus\":[[0.0,\"#0d0887\"],[0.1111111111111111,\"#46039f\"],[0.2222222222222222,\"#7201a8\"],[0.3333333333333333,\"#9c179e\"],[0.4444444444444444,\"#bd3786\"],[0.5555555555555556,\"#d8576b\"],[0.6666666666666666,\"#ed7953\"],[0.7777777777777778,\"#fb9f3a\"],[0.8888888888888888,\"#fdca26\"],[1.0,\"#f0f921\"]]},\"colorway\":[\"#636efa\",\"#EF553B\",\"#00cc96\",\"#ab63fa\",\"#FFA15A\",\"#19d3f3\",\"#FF6692\",\"#B6E880\",\"#FF97FF\",\"#FECB52\"],\"font\":{\"color\":\"#2a3f5f\"},\"geo\":{\"bgcolor\":\"white\",\"lakecolor\":\"white\",\"landcolor\":\"#E5ECF6\",\"showlakes\":true,\"showland\":true,\"subunitcolor\":\"white\"},\"hoverlabel\":{\"align\":\"left\"},\"hovermode\":\"closest\",\"mapbox\":{\"style\":\"light\"},\"paper_bgcolor\":\"white\",\"plot_bgcolor\":\"#E5ECF6\",\"polar\":{\"angularaxis\":{\"gridcolor\":\"white\",\"linecolor\":\"white\",\"ticks\":\"\"},\"bgcolor\":\"#E5ECF6\",\"radialaxis\":{\"gridcolor\":\"white\",\"linecolor\":\"white\",\"ticks\":\"\"}},\"scene\":{\"xaxis\":{\"backgroundcolor\":\"#E5ECF6\",\"gridcolor\":\"white\",\"gridwidth\":2,\"linecolor\":\"white\",\"showbackground\":true,\"ticks\":\"\",\"zerolinecolor\":\"white\"},\"yaxis\":{\"backgroundcolor\":\"#E5ECF6\",\"gridcolor\":\"white\",\"gridwidth\":2,\"linecolor\":\"white\",\"showbackground\":true,\"ticks\":\"\",\"zerolinecolor\":\"white\"},\"zaxis\":{\"backgroundcolor\":\"#E5ECF6\",\"gridcolor\":\"white\",\"gridwidth\":2,\"linecolor\":\"white\",\"showbackground\":true,\"ticks\":\"\",\"zerolinecolor\":\"white\"}},\"shapedefaults\":{\"line\":{\"color\":\"#2a3f5f\"}},\"ternary\":{\"aaxis\":{\"gridcolor\":\"white\",\"linecolor\":\"white\",\"ticks\":\"\"},\"baxis\":{\"gridcolor\":\"white\",\"linecolor\":\"white\",\"ticks\":\"\"},\"bgcolor\":\"#E5ECF6\",\"caxis\":{\"gridcolor\":\"white\",\"linecolor\":\"white\",\"ticks\":\"\"}},\"title\":{\"x\":0.05},\"xaxis\":{\"automargin\":true,\"gridcolor\":\"white\",\"linecolor\":\"white\",\"ticks\":\"\",\"title\":{\"standoff\":15},\"zerolinecolor\":\"white\",\"zerolinewidth\":2},\"yaxis\":{\"automargin\":true,\"gridcolor\":\"white\",\"linecolor\":\"white\",\"ticks\":\"\",\"title\":{\"standoff\":15},\"zerolinecolor\":\"white\",\"zerolinewidth\":2}}},\"shapes\":[{\"line\":{\"color\":\"#aaaaaa\",\"dash\":\"dash\"},\"name\":\"threshold\",\"type\":\"line\",\"x0\":0,\"x1\":1,\"xref\":\"x domain\",\"y0\":0.6,\"y1\":0.6,\"yref\":\"y\"}],\"plot_bgcolor\":\"white\",\"xaxis\":{\"showgrid\":false,\"gridwidth\":1,\"gridcolor\":\"LightGrey\",\"showline\":true,\"linewidth\":2,\"linecolor\":\"DarkGrey\"},\"yaxis\":{\"showgrid\":true,\"gridwidth\":1,\"gridcolor\":\"LightGrey\",\"showline\":true,\"linewidth\":2,\"linecolor\":\"DarkGrey\"}},                        {\"responsive\": true}                    ).then(function(){\n",
              "                            \n",
              "var gd = document.getElementById('b7b84d57-7858-4a1d-a480-d9880d9cdb74');\n",
              "var x = new MutationObserver(function (mutations, observer) {{\n",
              "        var display = window.getComputedStyle(gd).display;\n",
              "        if (!display || display === 'none') {{\n",
              "            console.log([gd, 'removed!']);\n",
              "            Plotly.purge(gd);\n",
              "            observer.disconnect();\n",
              "        }}\n",
              "}});\n",
              "\n",
              "// Listen for the removal of the full notebook cells\n",
              "var notebookContainer = gd.closest('#notebook-container');\n",
              "if (notebookContainer) {{\n",
              "    x.observe(notebookContainer, {childList: true});\n",
              "}}\n",
              "\n",
              "// Listen for the clearing of the current output cell\n",
              "var outputEl = gd.closest('.output');\n",
              "if (outputEl) {{\n",
              "    x.observe(outputEl, {childList: true});\n",
              "}}\n",
              "\n",
              "                        })                };                            </script>        </div>\n",
              "</body>\n",
              "</html>"
            ]
          },
          "metadata": {}
        }
      ]
    },
    {
      "cell_type": "code",
      "source": [
        "rep = method.results(0.9, True)"
      ],
      "metadata": {
        "id": "EwqAxrF5cPEb",
        "outputId": "cb50dfd0-04b4-4f97-c246-913692c14c46",
        "colab": {
          "base_uri": "https://localhost:8080/",
          "height": 744
        }
      },
      "execution_count": 39,
      "outputs": [
        {
          "output_type": "stream",
          "name": "stdout",
          "text": [
            "=====================================================================\n",
            "Computing results... \n",
            "              precision    recall  f1-score   support\n",
            "\n",
            "       False       0.93      0.93      0.93        27\n",
            "        True       0.60      0.60      0.60         5\n",
            "\n",
            "    accuracy                           0.88        32\n",
            "   macro avg       0.76      0.76      0.76        32\n",
            "weighted avg       0.88      0.88      0.88        32\n",
            "\n"
          ]
        },
        {
          "output_type": "display_data",
          "data": {
            "text/html": [
              "<html>\n",
              "<head><meta charset=\"utf-8\" /></head>\n",
              "<body>\n",
              "    <div>            <script src=\"https://cdnjs.cloudflare.com/ajax/libs/mathjax/2.7.5/MathJax.js?config=TeX-AMS-MML_SVG\"></script><script type=\"text/javascript\">if (window.MathJax) {MathJax.Hub.Config({SVG: {font: \"STIX-Web\"}});}</script>                <script type=\"text/javascript\">window.PlotlyConfig = {MathJaxConfig: 'local'};</script>\n",
              "        <script src=\"https://cdn.plot.ly/plotly-2.8.3.min.js\"></script>                <div id=\"6372e3e3-20a8-45a9-a0e0-22d9a4406e17\" class=\"plotly-graph-div\" style=\"height:525px; width:100%;\"></div>            <script type=\"text/javascript\">                                    window.PLOTLYENV=window.PLOTLYENV || {};                                    if (document.getElementById(\"6372e3e3-20a8-45a9-a0e0-22d9a4406e17\")) {                    Plotly.newPlot(                        \"6372e3e3-20a8-45a9-a0e0-22d9a4406e17\",                        [{\"line\":{\"color\":\"#515ad6\"},\"mode\":\"lines\",\"name\":\"Anomaly score\",\"x\":[0,1,2,3,4,5,6,7,8,9,10,11,12,13,14,15,16,17,18,19,20,21,22,23,24,25,26,27,28,29,30,31],\"y\":[0.9999999403953552,0.4511879086494446,0.3029647469520569,0.0,0.11182719469070435,0.15986758470535278,0.39969170093536377,0.4827747941017151,0.23209387063980103,0.19006407260894775,0.43004274368286133,0.0976749062538147,0.014508724212646484,0.17114049196243286,0.04669320583343506,0.08892011642456055,0.21764081716537476,0.5867618918418884,0.25977951288223267,0.6258537173271179,0.9651722311973572,0.968226969242096,0.6234237551689148,0.6809846758842468,0.415583074092865,0.5708522200584412,0.5417472720146179,0.6667060256004333,0.4448566436767578,0.7247801423072815,0.8290614485740662,0.39394694566726685],\"type\":\"scatter\"},{\"line\":{\"color\":\"green\"},\"mode\":\"markers\",\"name\":\"True positives\",\"x\":[18,19,20],\"y\":[0.9,0.9,0.9],\"type\":\"scatter\"},{\"line\":{\"color\":\"red\"},\"mode\":\"markers\",\"name\":\"False negatives\",\"x\":[11,12],\"y\":[0.9,0.9],\"type\":\"scatter\"},{\"line\":{\"color\":\"#000000\"},\"marker\":{\"line\":{\"width\":2},\"size\":10,\"symbol\":34},\"mode\":\"markers\",\"name\":\"False positives\",\"x\":[0,21],\"y\":[0.9999999403953552,0.968226969242096],\"type\":\"scatter\"}],                        {\"template\":{\"data\":{\"bar\":[{\"error_x\":{\"color\":\"#2a3f5f\"},\"error_y\":{\"color\":\"#2a3f5f\"},\"marker\":{\"line\":{\"color\":\"#E5ECF6\",\"width\":0.5},\"pattern\":{\"fillmode\":\"overlay\",\"size\":10,\"solidity\":0.2}},\"type\":\"bar\"}],\"barpolar\":[{\"marker\":{\"line\":{\"color\":\"#E5ECF6\",\"width\":0.5},\"pattern\":{\"fillmode\":\"overlay\",\"size\":10,\"solidity\":0.2}},\"type\":\"barpolar\"}],\"carpet\":[{\"aaxis\":{\"endlinecolor\":\"#2a3f5f\",\"gridcolor\":\"white\",\"linecolor\":\"white\",\"minorgridcolor\":\"white\",\"startlinecolor\":\"#2a3f5f\"},\"baxis\":{\"endlinecolor\":\"#2a3f5f\",\"gridcolor\":\"white\",\"linecolor\":\"white\",\"minorgridcolor\":\"white\",\"startlinecolor\":\"#2a3f5f\"},\"type\":\"carpet\"}],\"choropleth\":[{\"colorbar\":{\"outlinewidth\":0,\"ticks\":\"\"},\"type\":\"choropleth\"}],\"contour\":[{\"colorbar\":{\"outlinewidth\":0,\"ticks\":\"\"},\"colorscale\":[[0.0,\"#0d0887\"],[0.1111111111111111,\"#46039f\"],[0.2222222222222222,\"#7201a8\"],[0.3333333333333333,\"#9c179e\"],[0.4444444444444444,\"#bd3786\"],[0.5555555555555556,\"#d8576b\"],[0.6666666666666666,\"#ed7953\"],[0.7777777777777778,\"#fb9f3a\"],[0.8888888888888888,\"#fdca26\"],[1.0,\"#f0f921\"]],\"type\":\"contour\"}],\"contourcarpet\":[{\"colorbar\":{\"outlinewidth\":0,\"ticks\":\"\"},\"type\":\"contourcarpet\"}],\"heatmap\":[{\"colorbar\":{\"outlinewidth\":0,\"ticks\":\"\"},\"colorscale\":[[0.0,\"#0d0887\"],[0.1111111111111111,\"#46039f\"],[0.2222222222222222,\"#7201a8\"],[0.3333333333333333,\"#9c179e\"],[0.4444444444444444,\"#bd3786\"],[0.5555555555555556,\"#d8576b\"],[0.6666666666666666,\"#ed7953\"],[0.7777777777777778,\"#fb9f3a\"],[0.8888888888888888,\"#fdca26\"],[1.0,\"#f0f921\"]],\"type\":\"heatmap\"}],\"heatmapgl\":[{\"colorbar\":{\"outlinewidth\":0,\"ticks\":\"\"},\"colorscale\":[[0.0,\"#0d0887\"],[0.1111111111111111,\"#46039f\"],[0.2222222222222222,\"#7201a8\"],[0.3333333333333333,\"#9c179e\"],[0.4444444444444444,\"#bd3786\"],[0.5555555555555556,\"#d8576b\"],[0.6666666666666666,\"#ed7953\"],[0.7777777777777778,\"#fb9f3a\"],[0.8888888888888888,\"#fdca26\"],[1.0,\"#f0f921\"]],\"type\":\"heatmapgl\"}],\"histogram\":[{\"marker\":{\"pattern\":{\"fillmode\":\"overlay\",\"size\":10,\"solidity\":0.2}},\"type\":\"histogram\"}],\"histogram2d\":[{\"colorbar\":{\"outlinewidth\":0,\"ticks\":\"\"},\"colorscale\":[[0.0,\"#0d0887\"],[0.1111111111111111,\"#46039f\"],[0.2222222222222222,\"#7201a8\"],[0.3333333333333333,\"#9c179e\"],[0.4444444444444444,\"#bd3786\"],[0.5555555555555556,\"#d8576b\"],[0.6666666666666666,\"#ed7953\"],[0.7777777777777778,\"#fb9f3a\"],[0.8888888888888888,\"#fdca26\"],[1.0,\"#f0f921\"]],\"type\":\"histogram2d\"}],\"histogram2dcontour\":[{\"colorbar\":{\"outlinewidth\":0,\"ticks\":\"\"},\"colorscale\":[[0.0,\"#0d0887\"],[0.1111111111111111,\"#46039f\"],[0.2222222222222222,\"#7201a8\"],[0.3333333333333333,\"#9c179e\"],[0.4444444444444444,\"#bd3786\"],[0.5555555555555556,\"#d8576b\"],[0.6666666666666666,\"#ed7953\"],[0.7777777777777778,\"#fb9f3a\"],[0.8888888888888888,\"#fdca26\"],[1.0,\"#f0f921\"]],\"type\":\"histogram2dcontour\"}],\"mesh3d\":[{\"colorbar\":{\"outlinewidth\":0,\"ticks\":\"\"},\"type\":\"mesh3d\"}],\"parcoords\":[{\"line\":{\"colorbar\":{\"outlinewidth\":0,\"ticks\":\"\"}},\"type\":\"parcoords\"}],\"pie\":[{\"automargin\":true,\"type\":\"pie\"}],\"scatter\":[{\"marker\":{\"colorbar\":{\"outlinewidth\":0,\"ticks\":\"\"}},\"type\":\"scatter\"}],\"scatter3d\":[{\"line\":{\"colorbar\":{\"outlinewidth\":0,\"ticks\":\"\"}},\"marker\":{\"colorbar\":{\"outlinewidth\":0,\"ticks\":\"\"}},\"type\":\"scatter3d\"}],\"scattercarpet\":[{\"marker\":{\"colorbar\":{\"outlinewidth\":0,\"ticks\":\"\"}},\"type\":\"scattercarpet\"}],\"scattergeo\":[{\"marker\":{\"colorbar\":{\"outlinewidth\":0,\"ticks\":\"\"}},\"type\":\"scattergeo\"}],\"scattergl\":[{\"marker\":{\"colorbar\":{\"outlinewidth\":0,\"ticks\":\"\"}},\"type\":\"scattergl\"}],\"scattermapbox\":[{\"marker\":{\"colorbar\":{\"outlinewidth\":0,\"ticks\":\"\"}},\"type\":\"scattermapbox\"}],\"scatterpolar\":[{\"marker\":{\"colorbar\":{\"outlinewidth\":0,\"ticks\":\"\"}},\"type\":\"scatterpolar\"}],\"scatterpolargl\":[{\"marker\":{\"colorbar\":{\"outlinewidth\":0,\"ticks\":\"\"}},\"type\":\"scatterpolargl\"}],\"scatterternary\":[{\"marker\":{\"colorbar\":{\"outlinewidth\":0,\"ticks\":\"\"}},\"type\":\"scatterternary\"}],\"surface\":[{\"colorbar\":{\"outlinewidth\":0,\"ticks\":\"\"},\"colorscale\":[[0.0,\"#0d0887\"],[0.1111111111111111,\"#46039f\"],[0.2222222222222222,\"#7201a8\"],[0.3333333333333333,\"#9c179e\"],[0.4444444444444444,\"#bd3786\"],[0.5555555555555556,\"#d8576b\"],[0.6666666666666666,\"#ed7953\"],[0.7777777777777778,\"#fb9f3a\"],[0.8888888888888888,\"#fdca26\"],[1.0,\"#f0f921\"]],\"type\":\"surface\"}],\"table\":[{\"cells\":{\"fill\":{\"color\":\"#EBF0F8\"},\"line\":{\"color\":\"white\"}},\"header\":{\"fill\":{\"color\":\"#C8D4E3\"},\"line\":{\"color\":\"white\"}},\"type\":\"table\"}]},\"layout\":{\"annotationdefaults\":{\"arrowcolor\":\"#2a3f5f\",\"arrowhead\":0,\"arrowwidth\":1},\"autotypenumbers\":\"strict\",\"coloraxis\":{\"colorbar\":{\"outlinewidth\":0,\"ticks\":\"\"}},\"colorscale\":{\"diverging\":[[0,\"#8e0152\"],[0.1,\"#c51b7d\"],[0.2,\"#de77ae\"],[0.3,\"#f1b6da\"],[0.4,\"#fde0ef\"],[0.5,\"#f7f7f7\"],[0.6,\"#e6f5d0\"],[0.7,\"#b8e186\"],[0.8,\"#7fbc41\"],[0.9,\"#4d9221\"],[1,\"#276419\"]],\"sequential\":[[0.0,\"#0d0887\"],[0.1111111111111111,\"#46039f\"],[0.2222222222222222,\"#7201a8\"],[0.3333333333333333,\"#9c179e\"],[0.4444444444444444,\"#bd3786\"],[0.5555555555555556,\"#d8576b\"],[0.6666666666666666,\"#ed7953\"],[0.7777777777777778,\"#fb9f3a\"],[0.8888888888888888,\"#fdca26\"],[1.0,\"#f0f921\"]],\"sequentialminus\":[[0.0,\"#0d0887\"],[0.1111111111111111,\"#46039f\"],[0.2222222222222222,\"#7201a8\"],[0.3333333333333333,\"#9c179e\"],[0.4444444444444444,\"#bd3786\"],[0.5555555555555556,\"#d8576b\"],[0.6666666666666666,\"#ed7953\"],[0.7777777777777778,\"#fb9f3a\"],[0.8888888888888888,\"#fdca26\"],[1.0,\"#f0f921\"]]},\"colorway\":[\"#636efa\",\"#EF553B\",\"#00cc96\",\"#ab63fa\",\"#FFA15A\",\"#19d3f3\",\"#FF6692\",\"#B6E880\",\"#FF97FF\",\"#FECB52\"],\"font\":{\"color\":\"#2a3f5f\"},\"geo\":{\"bgcolor\":\"white\",\"lakecolor\":\"white\",\"landcolor\":\"#E5ECF6\",\"showlakes\":true,\"showland\":true,\"subunitcolor\":\"white\"},\"hoverlabel\":{\"align\":\"left\"},\"hovermode\":\"closest\",\"mapbox\":{\"style\":\"light\"},\"paper_bgcolor\":\"white\",\"plot_bgcolor\":\"#E5ECF6\",\"polar\":{\"angularaxis\":{\"gridcolor\":\"white\",\"linecolor\":\"white\",\"ticks\":\"\"},\"bgcolor\":\"#E5ECF6\",\"radialaxis\":{\"gridcolor\":\"white\",\"linecolor\":\"white\",\"ticks\":\"\"}},\"scene\":{\"xaxis\":{\"backgroundcolor\":\"#E5ECF6\",\"gridcolor\":\"white\",\"gridwidth\":2,\"linecolor\":\"white\",\"showbackground\":true,\"ticks\":\"\",\"zerolinecolor\":\"white\"},\"yaxis\":{\"backgroundcolor\":\"#E5ECF6\",\"gridcolor\":\"white\",\"gridwidth\":2,\"linecolor\":\"white\",\"showbackground\":true,\"ticks\":\"\",\"zerolinecolor\":\"white\"},\"zaxis\":{\"backgroundcolor\":\"#E5ECF6\",\"gridcolor\":\"white\",\"gridwidth\":2,\"linecolor\":\"white\",\"showbackground\":true,\"ticks\":\"\",\"zerolinecolor\":\"white\"}},\"shapedefaults\":{\"line\":{\"color\":\"#2a3f5f\"}},\"ternary\":{\"aaxis\":{\"gridcolor\":\"white\",\"linecolor\":\"white\",\"ticks\":\"\"},\"baxis\":{\"gridcolor\":\"white\",\"linecolor\":\"white\",\"ticks\":\"\"},\"bgcolor\":\"#E5ECF6\",\"caxis\":{\"gridcolor\":\"white\",\"linecolor\":\"white\",\"ticks\":\"\"}},\"title\":{\"x\":0.05},\"xaxis\":{\"automargin\":true,\"gridcolor\":\"white\",\"linecolor\":\"white\",\"ticks\":\"\",\"title\":{\"standoff\":15},\"zerolinecolor\":\"white\",\"zerolinewidth\":2},\"yaxis\":{\"automargin\":true,\"gridcolor\":\"white\",\"linecolor\":\"white\",\"ticks\":\"\",\"title\":{\"standoff\":15},\"zerolinecolor\":\"white\",\"zerolinewidth\":2}}},\"shapes\":[{\"line\":{\"color\":\"#aaaaaa\",\"dash\":\"dash\"},\"name\":\"threshold\",\"type\":\"line\",\"x0\":0,\"x1\":1,\"xref\":\"x domain\",\"y0\":0.9,\"y1\":0.9,\"yref\":\"y\"}],\"plot_bgcolor\":\"white\",\"xaxis\":{\"showgrid\":false,\"gridwidth\":1,\"gridcolor\":\"LightGrey\",\"showline\":true,\"linewidth\":2,\"linecolor\":\"DarkGrey\"},\"yaxis\":{\"showgrid\":true,\"gridwidth\":1,\"gridcolor\":\"LightGrey\",\"showline\":true,\"linewidth\":2,\"linecolor\":\"DarkGrey\"}},                        {\"responsive\": true}                    ).then(function(){\n",
              "                            \n",
              "var gd = document.getElementById('6372e3e3-20a8-45a9-a0e0-22d9a4406e17');\n",
              "var x = new MutationObserver(function (mutations, observer) {{\n",
              "        var display = window.getComputedStyle(gd).display;\n",
              "        if (!display || display === 'none') {{\n",
              "            console.log([gd, 'removed!']);\n",
              "            Plotly.purge(gd);\n",
              "            observer.disconnect();\n",
              "        }}\n",
              "}});\n",
              "\n",
              "// Listen for the removal of the full notebook cells\n",
              "var notebookContainer = gd.closest('#notebook-container');\n",
              "if (notebookContainer) {{\n",
              "    x.observe(notebookContainer, {childList: true});\n",
              "}}\n",
              "\n",
              "// Listen for the clearing of the current output cell\n",
              "var outputEl = gd.closest('.output');\n",
              "if (outputEl) {{\n",
              "    x.observe(outputEl, {childList: true});\n",
              "}}\n",
              "\n",
              "                        })                };                            </script>        </div>\n",
              "</body>\n",
              "</html>"
            ]
          },
          "metadata": {}
        }
      ]
    },
    {
      "cell_type": "markdown",
      "source": [
        "## USAD"
      ],
      "metadata": {
        "id": "h-Dr-3Zfhn6x"
      }
    },
    {
      "cell_type": "code",
      "source": [
        "### NEW USAD \n",
        "from AnomalyDetectionMethodClass import ADMethod\n",
        "\n",
        "configuration = {\n",
        "    'DATASET': 'NAB', #SWAT, MSL, SMD, NAB\n",
        "    'DATAPATH': \"realKnownCause/machine_temperature_system_failure.csv\", #\"realKnownCause/machine_temperature_system_failure.csv\", #Only needed with NAB\n",
        "    'SEQ_LEN': 100,\n",
        "    'STEP': 100,\n",
        "    'HIDDEN_SIZE': 100, #Needed for USAD method\n",
        "    'LR': 0.0001,\n",
        "    'EPOCHS': 1, \n",
        "    'VERBOSE': True,\n",
        "    'LOGGER': False\n",
        "}\n",
        "# configuration = configurations[curr_config]\n",
        "method = ADMethod(name = 'USAD', config = configuration)\n",
        "train_history = method.train()\n",
        "_, score = method.test()\n",
        "rep = method.results(0.5, True)"
      ],
      "metadata": {
        "id": "JNhKv-p8GDGn"
      },
      "execution_count": null,
      "outputs": []
    },
    {
      "cell_type": "markdown",
      "source": [
        "## DEEPANT"
      ],
      "metadata": {
        "id": "oRndKqA1hssP"
      }
    },
    {
      "cell_type": "code",
      "source": [
        "### NEW DEEPANT \n",
        "from AnomalyDetectionMethodClass import ADMethod\n",
        "\n",
        "configuration = {\n",
        "    'DATASET': 'SWAT', #SWAT, MSL, SMD, NAB\n",
        "    'DATAPATH': None, #\"realKnownCause/machine_temperature_system_failure.csv\", #Only needed with NAB\n",
        "    'SEQ_LEN': 100,\n",
        "    'STEP': 100,\n",
        "    'HIDDEN_SIZE': None, #Needed for USAD method\n",
        "    'LR': 0.000001,\n",
        "    'EPOCHS': 130, #50 for SWAT\n",
        "    'VERBOSE': True,\n",
        "    'LOGGER': True\n",
        "}\n",
        "method = ADMethod(name = 'DEEPANT', config = configuration)\n",
        "train_losses = method.train()\n",
        "predictions, score = method.test()\n",
        "for th in np.linspace(0,1,10,endpoint=False):\n",
        "  rep = method.results(threshold = th, plot = False)\n",
        "method.close_run()"
      ],
      "metadata": {
        "id": "w93QZYTNMKEc",
        "outputId": "10b62d8f-72e0-42a2-99ce-dbff3ee0b263",
        "colab": {
          "base_uri": "https://localhost:8080/",
          "height": 1000
        }
      },
      "execution_count": null,
      "outputs": [
        {
          "output_type": "stream",
          "name": "stdout",
          "text": [
            "=====================================================================\n",
            "Initializing...\n"
          ]
        },
        {
          "output_type": "display_data",
          "data": {
            "text/plain": [
              "<IPython.core.display.HTML object>"
            ],
            "text/html": [
              "Tracking run with wandb version 0.13.5"
            ]
          },
          "metadata": {}
        },
        {
          "output_type": "display_data",
          "data": {
            "text/plain": [
              "<IPython.core.display.HTML object>"
            ],
            "text/html": [
              "Run data is saved locally in <code>/content/Time-Series-Anomaly-Detection-An-experimental-survey/wandb/run-20221128_161422-TRAINING___DEEPANT_SWAT-seqlen_100-step_100-lr_0.00000</code>"
            ]
          },
          "metadata": {}
        },
        {
          "output_type": "display_data",
          "data": {
            "text/plain": [
              "<IPython.core.display.HTML object>"
            ],
            "text/html": [
              "Syncing run <strong><a href=\"https://wandb.ai/michiamoantonio/experimental-survey-AD/runs/TRAINING___DEEPANT_SWAT-seqlen_100-step_100-lr_0.00000\" target=\"_blank\">TRAINING___DEEPANT_SWAT-seqlen_100-step_100-lr_0.00000</a></strong> to <a href=\"https://wandb.ai/michiamoantonio/experimental-survey-AD\" target=\"_blank\">Weights & Biases</a> (<a href=\"https://wandb.me/run\" target=\"_blank\">docs</a>)<br/>"
            ]
          },
          "metadata": {}
        },
        {
          "output_type": "stream",
          "name": "stderr",
          "text": [
            "/content/Time-Series-Anomaly-Detection-An-experimental-survey/datafactory.py:25: DtypeWarning:\n",
            "\n",
            "Columns (26) have mixed types.Specify dtype option on import or set low_memory=False.\n",
            "\n",
            "/content/Time-Series-Anomaly-Detection-An-experimental-survey/datafactory.py:25: DtypeWarning:\n",
            "\n",
            "Columns (1,9,28,46) have mixed types.Specify dtype option on import or set low_memory=False.\n",
            "\n"
          ]
        },
        {
          "output_type": "stream",
          "name": "stdout",
          "text": [
            "Data preprocessing and method configuration finished in 26.244796991348267 sec.\n",
            "Model summary: \n",
            "=================================================================\n",
            "Layer (type:depth-idx)                   Param #\n",
            "=================================================================\n",
            "DeepAnt                                  --\n",
            "├─Sequential: 1-1                        --\n",
            "│    └─Conv1d: 2-1                       4,928\n",
            "│    └─ReLU: 2-2                         --\n",
            "│    └─MaxPool1d: 2-3                    --\n",
            "├─Sequential: 1-2                        --\n",
            "│    └─Conv1d: 2-4                       3,104\n",
            "│    └─ReLU: 2-5                         --\n",
            "│    └─MaxPool1d: 2-6                    --\n",
            "├─Flatten: 1-3                           --\n",
            "├─Sequential: 1-4                        --\n",
            "│    └─Linear: 2-7                       29,480\n",
            "│    └─ReLU: 2-8                         --\n",
            "│    └─Dropout: 2-9                      --\n",
            "├─Linear: 1-5                            2,091\n",
            "=================================================================\n",
            "Total params: 39,603\n",
            "Trainable params: 39,603\n",
            "Non-trainable params: 0\n",
            "=================================================================\n",
            "=====================================================================\n",
            "Training...\n"
          ]
        },
        {
          "output_type": "stream",
          "name": "stderr",
          "text": [
            "/usr/local/lib/python3.7/dist-packages/torch/utils/data/dataloader.py:566: UserWarning:\n",
            "\n",
            "This DataLoader will create 4 worker processes in total. Our suggested max number of worker in current system is 2, which is smaller than what this DataLoader is going to create. Please be aware that excessive worker creation might get DataLoader running slow or even freeze, lower the worker number to avoid potential slowness/freeze if necessary.\n",
            "\n"
          ]
        },
        {
          "output_type": "stream",
          "name": "stdout",
          "text": [
            "Epoch 1/130: train_loss:0.52825\n",
            "Epoch 2/130: train_loss:0.52816\n",
            "Epoch 3/130: train_loss:0.52785\n",
            "Epoch 4/130: train_loss:0.52743\n",
            "Epoch 5/130: train_loss:0.52684\n",
            "Epoch 6/130: train_loss:0.52612\n",
            "Epoch 7/130: train_loss:0.52518\n",
            "Epoch 8/130: train_loss:0.52411\n",
            "Epoch 9/130: train_loss:0.52295\n",
            "Epoch 10/130: train_loss:0.52168\n",
            "Epoch 11/130: train_loss:0.52040\n",
            "Epoch 12/130: train_loss:0.51902\n",
            "Epoch 13/130: train_loss:0.51761\n",
            "Epoch 14/130: train_loss:0.51616\n",
            "Epoch 15/130: train_loss:0.51467\n",
            "Epoch 16/130: train_loss:0.51312\n",
            "Epoch 17/130: train_loss:0.51160\n",
            "Epoch 18/130: train_loss:0.50998\n",
            "Epoch 19/130: train_loss:0.50834\n",
            "Epoch 20/130: train_loss:0.50675\n",
            "Epoch 21/130: train_loss:0.50503\n",
            "Epoch 22/130: train_loss:0.50329\n",
            "Epoch 23/130: train_loss:0.50156\n",
            "Epoch 24/130: train_loss:0.49976\n",
            "Epoch 25/130: train_loss:0.49805\n",
            "Epoch 26/130: train_loss:0.49631\n",
            "Epoch 27/130: train_loss:0.49457\n",
            "Epoch 28/130: train_loss:0.49277\n",
            "Epoch 29/130: train_loss:0.49103\n",
            "Epoch 30/130: train_loss:0.48931\n",
            "Epoch 31/130: train_loss:0.48755\n",
            "Epoch 32/130: train_loss:0.48567\n",
            "Epoch 33/130: train_loss:0.48383\n",
            "Epoch 34/130: train_loss:0.48190\n",
            "Epoch 35/130: train_loss:0.47976\n",
            "Epoch 36/130: train_loss:0.47774\n",
            "Epoch 37/130: train_loss:0.47571\n",
            "Epoch 38/130: train_loss:0.47349\n",
            "Epoch 39/130: train_loss:0.47133\n",
            "Epoch 40/130: train_loss:0.46906\n",
            "Epoch 41/130: train_loss:0.46676\n",
            "Epoch 42/130: train_loss:0.46433\n",
            "Epoch 43/130: train_loss:0.46197\n",
            "Epoch 44/130: train_loss:0.45924\n",
            "Epoch 45/130: train_loss:0.45643\n",
            "Epoch 46/130: train_loss:0.45354\n",
            "Epoch 47/130: train_loss:0.45053\n",
            "Epoch 48/130: train_loss:0.44735\n",
            "Epoch 49/130: train_loss:0.44411\n",
            "Epoch 50/130: train_loss:0.44091\n",
            "Epoch 51/130: train_loss:0.43703\n",
            "Epoch 52/130: train_loss:0.43351\n",
            "Epoch 53/130: train_loss:0.42935\n",
            "Epoch 54/130: train_loss:0.42527\n",
            "Epoch 55/130: train_loss:0.42074\n",
            "Epoch 56/130: train_loss:0.41643\n",
            "Epoch 57/130: train_loss:0.41141\n",
            "Epoch 58/130: train_loss:0.40646\n",
            "Epoch 59/130: train_loss:0.40161\n",
            "Epoch 60/130: train_loss:0.39584\n",
            "Epoch 61/130: train_loss:0.38940\n",
            "Epoch 62/130: train_loss:0.38370\n",
            "Epoch 63/130: train_loss:0.37736\n",
            "Epoch 64/130: train_loss:0.37100\n",
            "Epoch 65/130: train_loss:0.36471\n",
            "Epoch 66/130: train_loss:0.35866\n",
            "Epoch 67/130: train_loss:0.35369\n",
            "Epoch 68/130: train_loss:0.34716\n",
            "Epoch 69/130: train_loss:0.34391\n",
            "Epoch 70/130: train_loss:0.33867\n",
            "Epoch 71/130: train_loss:0.33491\n",
            "Epoch 72/130: train_loss:0.33145\n",
            "Epoch 73/130: train_loss:0.32962\n",
            "Epoch 74/130: train_loss:0.32639\n",
            "Epoch 75/130: train_loss:0.32203\n",
            "Epoch 76/130: train_loss:0.31712\n",
            "Epoch 77/130: train_loss:0.31032\n",
            "Epoch 78/130: train_loss:0.30236\n",
            "Epoch 79/130: train_loss:0.29214\n",
            "Epoch 80/130: train_loss:0.28126\n",
            "Epoch 81/130: train_loss:0.26915\n",
            "Epoch 82/130: train_loss:0.25810\n",
            "Epoch 83/130: train_loss:0.24832\n",
            "Epoch 84/130: train_loss:0.24113\n",
            "Epoch 85/130: train_loss:0.23669\n",
            "Epoch 86/130: train_loss:0.23620\n",
            "Epoch 87/130: train_loss:0.23614\n",
            "Epoch 88/130: train_loss:0.23797\n",
            "Epoch 89/130: train_loss:0.23948\n",
            "Epoch 90/130: train_loss:0.23821\n",
            "Epoch 91/130: train_loss:0.23519\n",
            "Epoch 92/130: train_loss:0.23140\n",
            "Epoch 93/130: train_loss:0.22467\n",
            "Epoch 94/130: train_loss:0.21615\n",
            "Epoch 95/130: train_loss:0.20498\n",
            "Epoch 96/130: train_loss:0.19643\n",
            "Epoch 97/130: train_loss:0.19035\n",
            "Epoch 98/130: train_loss:0.19232\n",
            "Epoch 99/130: train_loss:0.19916\n",
            "Epoch 100/130: train_loss:0.20884\n",
            "Epoch 101/130: train_loss:0.21719\n",
            "Epoch 102/130: train_loss:0.22329\n",
            "Epoch 103/130: train_loss:0.22246\n",
            "Epoch 104/130: train_loss:0.21550\n",
            "Epoch 105/130: train_loss:0.20292\n",
            "Epoch 106/130: train_loss:0.18934\n",
            "Epoch 107/130: train_loss:0.17720\n",
            "Epoch 108/130: train_loss:0.17148\n",
            "Epoch 109/130: train_loss:0.17530\n",
            "Epoch 110/130: train_loss:0.18240\n",
            "Epoch 111/130: train_loss:0.18975\n",
            "Epoch 112/130: train_loss:0.19411\n",
            "Epoch 113/130: train_loss:0.19715\n",
            "Epoch 114/130: train_loss:0.19586\n",
            "Epoch 115/130: train_loss:0.19339\n",
            "Epoch 116/130: train_loss:0.19020\n",
            "Epoch 117/130: train_loss:0.18470\n",
            "Epoch 118/130: train_loss:0.18017\n",
            "Epoch 119/130: train_loss:0.17479\n",
            "Epoch 120/130: train_loss:0.16852\n",
            "Epoch 121/130: train_loss:0.16499\n",
            "Epoch 122/130: train_loss:0.16220\n",
            "Epoch 123/130: train_loss:0.15966\n",
            "Epoch 124/130: train_loss:0.15956\n",
            "Epoch 125/130: train_loss:0.16114\n",
            "Epoch 126/130: train_loss:0.16399\n",
            "Epoch 127/130: train_loss:0.16812\n",
            "Epoch 128/130: train_loss:0.17393\n",
            "Epoch 129/130: train_loss:0.17854\n",
            "Epoch 130/130: train_loss:0.18356\n",
            "Training finished in 78.156 sec., avg time per epoch: 0.601 sec.\n",
            "=====================================================================\n",
            "=====================================================================\n",
            "Testing...\n",
            "Test finished in 10.900 sec.\n",
            "=====================================================================\n",
            "=====================================================================\n",
            "Computing results... \n"
          ]
        },
        {
          "output_type": "stream",
          "name": "stderr",
          "text": [
            "/usr/local/lib/python3.7/dist-packages/ipykernel_launcher.py:19: DtypeWarning:\n",
            "\n",
            "Columns (1,9,28,46) have mixed types.Specify dtype option on import or set low_memory=False.\n",
            "\n"
          ]
        },
        {
          "output_type": "stream",
          "name": "stdout",
          "text": [
            "              precision    recall  f1-score   support\n",
            "\n",
            "       False       1.00      0.00      0.00      3917\n",
            "        True       0.13      1.00      0.23       582\n",
            "\n",
            "    accuracy                           0.13      4499\n",
            "   macro avg       0.56      0.50      0.11      4499\n",
            "weighted avg       0.89      0.13      0.03      4499\n",
            "\n",
            "=====================================================================\n",
            "Computing results... \n"
          ]
        },
        {
          "output_type": "stream",
          "name": "stderr",
          "text": [
            "/usr/local/lib/python3.7/dist-packages/ipykernel_launcher.py:19: DtypeWarning:\n",
            "\n",
            "Columns (1,9,28,46) have mixed types.Specify dtype option on import or set low_memory=False.\n",
            "\n"
          ]
        },
        {
          "output_type": "stream",
          "name": "stdout",
          "text": [
            "              precision    recall  f1-score   support\n",
            "\n",
            "       False       0.99      0.44      0.61      3917\n",
            "        True       0.21      0.97      0.34       582\n",
            "\n",
            "    accuracy                           0.51      4499\n",
            "   macro avg       0.60      0.71      0.47      4499\n",
            "weighted avg       0.89      0.51      0.58      4499\n",
            "\n",
            "=====================================================================\n",
            "Computing results... \n"
          ]
        },
        {
          "output_type": "stream",
          "name": "stderr",
          "text": [
            "/usr/local/lib/python3.7/dist-packages/ipykernel_launcher.py:19: DtypeWarning:\n",
            "\n",
            "Columns (1,9,28,46) have mixed types.Specify dtype option on import or set low_memory=False.\n",
            "\n"
          ]
        },
        {
          "output_type": "stream",
          "name": "stdout",
          "text": [
            "              precision    recall  f1-score   support\n",
            "\n",
            "       False       0.98      0.66      0.79      3917\n",
            "        True       0.28      0.92      0.43       582\n",
            "\n",
            "    accuracy                           0.69      4499\n",
            "   macro avg       0.63      0.79      0.61      4499\n",
            "weighted avg       0.89      0.69      0.74      4499\n",
            "\n",
            "=====================================================================\n",
            "Computing results... \n"
          ]
        },
        {
          "output_type": "stream",
          "name": "stderr",
          "text": [
            "/usr/local/lib/python3.7/dist-packages/ipykernel_launcher.py:19: DtypeWarning:\n",
            "\n",
            "Columns (1,9,28,46) have mixed types.Specify dtype option on import or set low_memory=False.\n",
            "\n"
          ]
        },
        {
          "output_type": "stream",
          "name": "stdout",
          "text": [
            "              precision    recall  f1-score   support\n",
            "\n",
            "       False       0.97      0.86      0.91      3917\n",
            "        True       0.47      0.85      0.61       582\n",
            "\n",
            "    accuracy                           0.86      4499\n",
            "   macro avg       0.72      0.85      0.76      4499\n",
            "weighted avg       0.91      0.86      0.87      4499\n",
            "\n",
            "=====================================================================\n",
            "Computing results... \n"
          ]
        },
        {
          "output_type": "stream",
          "name": "stderr",
          "text": [
            "/usr/local/lib/python3.7/dist-packages/ipykernel_launcher.py:19: DtypeWarning:\n",
            "\n",
            "Columns (1,9,28,46) have mixed types.Specify dtype option on import or set low_memory=False.\n",
            "\n"
          ]
        },
        {
          "output_type": "stream",
          "name": "stdout",
          "text": [
            "              precision    recall  f1-score   support\n",
            "\n",
            "       False       0.96      0.98      0.97      3917\n",
            "        True       0.86      0.72      0.79       582\n",
            "\n",
            "    accuracy                           0.95      4499\n",
            "   macro avg       0.91      0.85      0.88      4499\n",
            "weighted avg       0.95      0.95      0.95      4499\n",
            "\n",
            "=====================================================================\n",
            "Computing results... \n"
          ]
        },
        {
          "output_type": "stream",
          "name": "stderr",
          "text": [
            "/usr/local/lib/python3.7/dist-packages/ipykernel_launcher.py:19: DtypeWarning:\n",
            "\n",
            "Columns (1,9,28,46) have mixed types.Specify dtype option on import or set low_memory=False.\n",
            "\n"
          ]
        },
        {
          "output_type": "stream",
          "name": "stdout",
          "text": [
            "              precision    recall  f1-score   support\n",
            "\n",
            "       False       0.95      1.00      0.97      3917\n",
            "        True       0.98      0.65      0.79       582\n",
            "\n",
            "    accuracy                           0.95      4499\n",
            "   macro avg       0.97      0.83      0.88      4499\n",
            "weighted avg       0.96      0.95      0.95      4499\n",
            "\n",
            "=====================================================================\n",
            "Computing results... \n"
          ]
        },
        {
          "output_type": "stream",
          "name": "stderr",
          "text": [
            "/usr/local/lib/python3.7/dist-packages/ipykernel_launcher.py:19: DtypeWarning:\n",
            "\n",
            "Columns (1,9,28,46) have mixed types.Specify dtype option on import or set low_memory=False.\n",
            "\n"
          ]
        },
        {
          "output_type": "stream",
          "name": "stdout",
          "text": [
            "              precision    recall  f1-score   support\n",
            "\n",
            "       False       0.95      1.00      0.97      3917\n",
            "        True       1.00      0.62      0.76       582\n",
            "\n",
            "    accuracy                           0.95      4499\n",
            "   macro avg       0.97      0.81      0.87      4499\n",
            "weighted avg       0.95      0.95      0.95      4499\n",
            "\n",
            "=====================================================================\n",
            "Computing results... \n"
          ]
        },
        {
          "output_type": "stream",
          "name": "stderr",
          "text": [
            "/usr/local/lib/python3.7/dist-packages/ipykernel_launcher.py:19: DtypeWarning:\n",
            "\n",
            "Columns (1,9,28,46) have mixed types.Specify dtype option on import or set low_memory=False.\n",
            "\n"
          ]
        },
        {
          "output_type": "stream",
          "name": "stdout",
          "text": [
            "              precision    recall  f1-score   support\n",
            "\n",
            "       False       0.95      1.00      0.97      3917\n",
            "        True       1.00      0.62      0.76       582\n",
            "\n",
            "    accuracy                           0.95      4499\n",
            "   macro avg       0.97      0.81      0.87      4499\n",
            "weighted avg       0.95      0.95      0.95      4499\n",
            "\n",
            "=====================================================================\n",
            "Computing results... \n"
          ]
        },
        {
          "output_type": "stream",
          "name": "stderr",
          "text": [
            "/usr/local/lib/python3.7/dist-packages/ipykernel_launcher.py:19: DtypeWarning:\n",
            "\n",
            "Columns (1,9,28,46) have mixed types.Specify dtype option on import or set low_memory=False.\n",
            "\n"
          ]
        },
        {
          "output_type": "stream",
          "name": "stdout",
          "text": [
            "              precision    recall  f1-score   support\n",
            "\n",
            "       False       0.95      1.00      0.97      3917\n",
            "        True       1.00      0.62      0.76       582\n",
            "\n",
            "    accuracy                           0.95      4499\n",
            "   macro avg       0.97      0.81      0.87      4499\n",
            "weighted avg       0.95      0.95      0.95      4499\n",
            "\n",
            "=====================================================================\n",
            "Computing results... \n"
          ]
        },
        {
          "output_type": "stream",
          "name": "stderr",
          "text": [
            "/usr/local/lib/python3.7/dist-packages/ipykernel_launcher.py:19: DtypeWarning:\n",
            "\n",
            "Columns (1,9,28,46) have mixed types.Specify dtype option on import or set low_memory=False.\n",
            "\n"
          ]
        },
        {
          "output_type": "stream",
          "name": "stdout",
          "text": [
            "              precision    recall  f1-score   support\n",
            "\n",
            "       False       0.95      1.00      0.97      3917\n",
            "        True       1.00      0.62      0.76       582\n",
            "\n",
            "    accuracy                           0.95      4499\n",
            "   macro avg       0.97      0.81      0.87      4499\n",
            "weighted avg       0.95      0.95      0.95      4499\n",
            "\n",
            "Run closed.\n",
            "Best accuracy is 0.95 with threshold 0.50\n",
            "Best Avg f1-score is 0.88 with threshold 0.50\n",
            "Best True f1-score is 0.79 with threshold 0.40\n"
          ]
        },
        {
          "output_type": "display_data",
          "data": {
            "text/plain": [
              "<IPython.core.display.HTML object>"
            ],
            "text/html": [
              "Waiting for W&B process to finish... <strong style=\"color:green\">(success).</strong>"
            ]
          },
          "metadata": {}
        },
        {
          "output_type": "display_data",
          "data": {
            "text/plain": [
              "<IPython.core.display.HTML object>"
            ],
            "text/html": [
              "<style>\n",
              "    table.wandb td:nth-child(1) { padding: 0 10px; text-align: left ; width: auto;} td:nth-child(2) {text-align: left ; width: 100%}\n",
              "    .wandb-row { display: flex; flex-direction: row; flex-wrap: wrap; justify-content: flex-start; width: 100% }\n",
              "    .wandb-col { display: flex; flex-direction: column; flex-basis: 100%; flex: 1; padding: 10px; }\n",
              "    </style>\n",
              "<div class=\"wandb-row\"><div class=\"wandb-col\"><h3>Run history:</h3><br/><table class=\"wandb\"><tr><td>F1_Avg</td><td>▁▄▆▇██████</td></tr><tr><td>F1_True</td><td>▁▂▄▆██████</td></tr><tr><td>Precision_Avg</td><td>▁▂▂▄▇█████</td></tr><tr><td>Precision_True</td><td>▁▂▂▄▇█████</td></tr><tr><td>Recall_Avg</td><td>▁▅▇██▇▇▇▇▇</td></tr><tr><td>Recall_True</td><td>█▇▆▅▃▂▁▁▁▁</td></tr><tr><td>accuracy</td><td>▁▄▆▇██████</td></tr><tr><td>epoch</td><td>▁▁▁▁▂▂▂▂▂▃▃▃▃▃▃▄▄▄▄▄▅▅▅▅▅▅▆▆▆▆▆▆▇▇▇▇▇███</td></tr><tr><td>loss</td><td>███████▇▇▇▇▇▇▇▇▆▆▆▅▅▅▄▄▄▃▃▂▂▂▂▂▂▂▁▂▂▁▁▁▁</td></tr><tr><td>threshold</td><td>▁▂▃▃▄▅▆▆▇█</td></tr></table><br/></div><div class=\"wandb-col\"><h3>Run summary:</h3><br/><table class=\"wandb\"><tr><td>F1_Avg</td><td>0.86839</td></tr><tr><td>F1_True</td><td>0.76433</td></tr><tr><td>Precision_Avg</td><td>0.97318</td></tr><tr><td>Precision_True</td><td>1.0</td></tr><tr><td>Recall_Avg</td><td>0.80928</td></tr><tr><td>Recall_True</td><td>0.61856</td></tr><tr><td>accuracy</td><td>0.95066</td></tr><tr><td>epoch</td><td>129</td></tr><tr><td>init_time</td><td>26.2448</td></tr><tr><td>loss</td><td>0.18356</td></tr><tr><td>test_time</td><td>10.89995</td></tr><tr><td>threshold</td><td>0.9</td></tr><tr><td>training_time</td><td>78.15583</td></tr></table><br/></div></div>"
            ]
          },
          "metadata": {}
        },
        {
          "output_type": "display_data",
          "data": {
            "text/plain": [
              "<IPython.core.display.HTML object>"
            ],
            "text/html": [
              "Synced <strong style=\"color:#cdcd00\">TRAINING___DEEPANT_SWAT-seqlen_100-step_100-lr_0.00000</strong>: <a href=\"https://wandb.ai/michiamoantonio/experimental-survey-AD/runs/TRAINING___DEEPANT_SWAT-seqlen_100-step_100-lr_0.00000\" target=\"_blank\">https://wandb.ai/michiamoantonio/experimental-survey-AD/runs/TRAINING___DEEPANT_SWAT-seqlen_100-step_100-lr_0.00000</a><br/>Synced 5 W&B file(s), 10 media file(s), 20 artifact file(s) and 0 other file(s)"
            ]
          },
          "metadata": {}
        },
        {
          "output_type": "display_data",
          "data": {
            "text/plain": [
              "<IPython.core.display.HTML object>"
            ],
            "text/html": [
              "Find logs at: <code>./wandb/run-20221128_161422-TRAINING___DEEPANT_SWAT-seqlen_100-step_100-lr_0.00000/logs</code>"
            ]
          },
          "metadata": {}
        }
      ]
    },
    {
      "cell_type": "markdown",
      "source": [
        "## OTHER"
      ],
      "metadata": {
        "id": "E-VywoByhw6p"
      }
    },
    {
      "cell_type": "code",
      "source": [
        "import random\n",
        "\n",
        "random.seed(277)"
      ],
      "metadata": {
        "id": "BAhqRmjk8UWj"
      },
      "execution_count": null,
      "outputs": []
    },
    {
      "cell_type": "code",
      "source": [
        "configurations = []\n",
        "seq_lens = [10, 20, 10, 300]\n",
        "for seq_len in seq_lens:\n",
        "  steps = [1, seq_len]\n",
        "  for step in steps:\n",
        "    epochs = [30,50,80]\n",
        "    lrs= [0.00001, 0.000001, 0.0000001]\n",
        "    for e, lr in zip(epochs, lrs):\n",
        "      conf = {\n",
        "          'DATASET': 'SWAT', #SWAT, MSL, SMD, NAB\n",
        "          'DATAPATH': None, #\"realKnownCause/machine_temperature_system_failure.csv\", #Only needed with NAB\n",
        "          'SEQ_LEN': seq_len,\n",
        "          'STEP': step,\n",
        "          'HIDDEN_SIZE': 100, #Needed for USAD method\n",
        "          'LR': lr,\n",
        "          'EPOCHS': e, \n",
        "          'VERBOSE': False,\n",
        "          'LOGGER': True\n",
        "      }\n",
        "      configurations.append(conf)"
      ],
      "metadata": {
        "id": "9-ZnX9WnCOzY"
      },
      "execution_count": null,
      "outputs": []
    },
    {
      "cell_type": "code",
      "source": [
        "curr_config = 11 #add one per each run \n",
        "\n",
        "### NEW USAD \n",
        "from AnomalyDetectionMethodClass import ADMethod\n",
        "\n",
        "# configuration = {\n",
        "#     'DATASET': 'SWAT', #SWAT, MSL, SMD, NAB\n",
        "#     'DATAPATH': None, #\"realKnownCause/machine_temperature_system_failure.csv\", #Only needed with NAB\n",
        "#     'SEQ_LEN': 100,\n",
        "#     'STEP': 100,\n",
        "#     'HIDDEN_SIZE': 100, #Needed for USAD method\n",
        "#     'LR': 0.0001,\n",
        "#     'EPOCHS': 30, \n",
        "#     'VERBOSE': True,\n",
        "#     'LOGGER': True\n",
        "# }\n",
        "configuration = configurations[curr_config]\n",
        "method = ADMethod(name = 'USAD', config = configuration)\n",
        "train_history = method.train()\n",
        "_, score = method.test()\n",
        "for th in np.linspace(0,1,10,endpoint=False):\n",
        "  rep = method.results(threshold = th, plot = False)\n",
        "\n",
        "method.close_run()"
      ],
      "metadata": {
        "id": "yAzTRgG-5Ao1"
      },
      "execution_count": null,
      "outputs": []
    },
    {
      "cell_type": "code",
      "source": [
        "method.ground.shape, method.anomalies.shape"
      ],
      "metadata": {
        "id": "pWJ38qHeRsCI",
        "colab": {
          "base_uri": "https://localhost:8080/"
        },
        "outputId": "082df6b3-4513-4ba1-b9e0-77365dc86f6c"
      },
      "execution_count": null,
      "outputs": [
        {
          "output_type": "execute_result",
          "data": {
            "text/plain": [
              "((4499,), (2699,))"
            ]
          },
          "metadata": {},
          "execution_count": 4
        }
      ]
    },
    {
      "cell_type": "code",
      "source": [],
      "metadata": {
        "id": "CtDixTEHRr_e"
      },
      "execution_count": null,
      "outputs": []
    },
    {
      "cell_type": "code",
      "source": [],
      "metadata": {
        "id": "U9ldBdAGRr9J"
      },
      "execution_count": null,
      "outputs": []
    },
    {
      "cell_type": "code",
      "source": [],
      "metadata": {
        "id": "V0_ufISORr6u"
      },
      "execution_count": null,
      "outputs": []
    },
    {
      "cell_type": "code",
      "source": [],
      "metadata": {
        "id": "P41lU0eRRr4O"
      },
      "execution_count": null,
      "outputs": []
    },
    {
      "cell_type": "code",
      "source": [
        "### USAD\n",
        "from AnomalyDetectionMethodClass import ADMethod_back\n",
        "settings_={\n",
        "    'EPOCHS':20,\n",
        "    'BATCH_SIZE': 256,\n",
        "    'SEQ_LEN': 12,\n",
        "    'HIDDEN_SIZE': 100,\n",
        "    'ALPHA': 0.5,\n",
        "    'BETA': 0.5,\n",
        "    'CONFIDENCE': 0.82,\n",
        "    'DATASET': 'SWAT'}\n",
        "data_path = ''\n",
        "method_ = ADMethod_back('USAD',settings_,'')\n",
        "\n",
        "method_.prepare_pipeline()\n",
        "#h = method.train()\n",
        "#scores, report = method.test()"
      ],
      "metadata": {
        "id": "8HysJsSBIfX0",
        "colab": {
          "base_uri": "https://localhost:8080/"
        },
        "outputId": "890de6a9-5377-4002-e1d7-93f3b2da93d2"
      },
      "execution_count": null,
      "outputs": [
        {
          "output_type": "stream",
          "name": "stderr",
          "text": [
            "/content/Time-Series-Anomaly-Detection-An-experimental-survey/USAD/USADSolver.py:22: DtypeWarning: Columns (26) have mixed types.Specify dtype option on import or set low_memory=False.\n",
            "  self.prepare_data()\n",
            "/content/Time-Series-Anomaly-Detection-An-experimental-survey/USAD/USADSolver.py:22: DtypeWarning: Columns (1,9,28,46) have mixed types.Specify dtype option on import or set low_memory=False.\n",
            "  self.prepare_data()\n"
          ]
        },
        {
          "output_type": "stream",
          "name": "stdout",
          "text": [
            "(494988, 12, 51)\n"
          ]
        }
      ]
    },
    {
      "cell_type": "code",
      "source": [
        "for [el] in method_.solver.train_loader:\n",
        "  print(el.size())\n",
        "  break\n",
        "  "
      ],
      "metadata": {
        "colab": {
          "base_uri": "https://localhost:8080/"
        },
        "id": "aUupyW1h0kl2",
        "outputId": "a73ed80e-c9df-4bf7-f64b-0cd63ade522b"
      },
      "execution_count": null,
      "outputs": [
        {
          "output_type": "stream",
          "name": "stdout",
          "text": [
            "torch.Size([256, 612])\n"
          ]
        }
      ]
    },
    {
      "cell_type": "code",
      "source": [
        "for el in method.train_dl:\n",
        "  print(el.size())\n",
        "  break\n",
        "\n"
      ],
      "metadata": {
        "colab": {
          "base_uri": "https://localhost:8080/"
        },
        "id": "dvapzMfnBtCl",
        "outputId": "dc93836b-e16d-40ff-d303-6b0db73d0bfe"
      },
      "execution_count": null,
      "outputs": [
        {
          "output_type": "stream",
          "name": "stdout",
          "text": [
            "torch.Size([256, 612])\n"
          ]
        }
      ]
    },
    {
      "cell_type": "code",
      "source": [
        "for el in method.solver.train_loader:\n",
        "  print(el[0].shape)\n",
        "  print(len(el))\n",
        "  break"
      ],
      "metadata": {
        "colab": {
          "base_uri": "https://localhost:8080/"
        },
        "id": "HyC6JV0Z0rJy",
        "outputId": "8630b255-8b0e-4984-d8af-8835be170c13"
      },
      "execution_count": null,
      "outputs": [
        {
          "output_type": "stream",
          "name": "stdout",
          "text": [
            "torch.Size([7919, 612])\n",
            "1\n"
          ]
        }
      ]
    },
    {
      "cell_type": "code",
      "source": [
        "###  TRANSFORMER\n",
        "from AnomalyDetectionMethodClass import ADMethod\n",
        "data_path = './dataset/MSL'\n",
        "settings = {\n",
        "    'lr':1e-4,\n",
        "    'num_epochs':3,\n",
        "    'k':3,\n",
        "    'win_size':100,\n",
        "    'input_c':55,\n",
        "    'output_c':55,\n",
        "    'batch_size':256,\n",
        "    'pretrained_model':None,\n",
        "    'dataset':'MSL',\n",
        "    'mode':'train', # choices=['train', 'test']\n",
        "    'data_path':'./dataset/MSL',\n",
        "    'model_save_path':'checkpoints',\n",
        "    'anormly_ratio':1\n",
        "}\n",
        "method = ADMethod('transformer',settings, data_path)\n",
        "\n",
        "method.prepare_pipeline()\n",
        "method.train()\n",
        "scores, report = method.test()"
      ],
      "metadata": {
        "id": "UEinh9TJbwD6"
      },
      "execution_count": null,
      "outputs": []
    },
    {
      "cell_type": "code",
      "source": [
        "### DEEPANT\n",
        "from AnomalyDetectionMethodClass import ADMethod\n",
        "# data_path = './NAB/realKnownCause/cpu_utilization_asg_misconfiguration.csv'\n",
        "data_path = './dataset/MSL'\n",
        "\n",
        "\n",
        "LR_LIST = [0.001, 0.0001, 0.00001, 0.000001]\n",
        "SEQ_LIST = [100, 30, 100, 300]\n",
        "for lr in [0.0001]:#LR_LIST:\n",
        "  for seq in [100]: #SEQ_LIST:\n",
        "    # wandb.init(project=\"experimental-survey-AD\", entity=\"michiamoantonio\", group='DeepAnt')\n",
        "    # wandb.log({'lr': lr})\n",
        "    # wandb.log({'seq_len': seq})\n",
        "    settings = {\n",
        "      'SEQ_LEN': seq,\n",
        "      'out_dim': 1,\n",
        "      'EPOCHS': 1,\n",
        "      'LR': lr,\n",
        "      'CONFIDENCE': 0.50,\n",
        "      'TH_LIST': [0.1, 0.2, 0.3, 0.4, 0.5, 0.6, 0.7, 0.8, 0.9],\n",
        "      'TH_SEARCH': True,\n",
        "      'VERBOSE': True,\n",
        "      'DATASET': 'SWAT'\n",
        "    }\n",
        "    # wandb.config = settings\n",
        "    method = ADMethod('DeepAnt',settings, data_path)\n",
        "\n",
        "    method.prepare_pipeline()\n",
        "    l = method.train()\n",
        "    scores, report = method.test()\n",
        "\n",
        "    print(f\"lr: {lr}, seq_len: {seq}\")\n",
        "    for i,el in enumerate(report): \n",
        "      print(f\"#### th: {settings['TH_LIST'][i]}, f1-score: {el['macro avg']['f1-score']}\")\n",
        "      # wandb.log({'th': settings['TH_LIST'][i], 'f1-score': el['macro avg']['f1-score']})\n",
        "    # wandb.finish()\n",
        "\n"
      ],
      "metadata": {
        "id": "a8y-8dwBgXf1",
        "colab": {
          "base_uri": "https://localhost:8080/"
        },
        "outputId": "162a387d-a240-4cc9-c0bd-14a825c53010"
      },
      "execution_count": null,
      "outputs": [
        {
          "output_type": "stream",
          "name": "stdout",
          "text": [
            "LOAD TRAIN DATA\n"
          ]
        },
        {
          "output_type": "stream",
          "name": "stderr",
          "text": [
            "/content/Time-Series-Anomaly-Detection-An-experimental-survey/DeepAnt/DeepAntSolver.py:22: DtypeWarning: Columns (26) have mixed types.Specify dtype option on import or set low_memory=False.\n",
            "  self.prepare_data(data_path)\n"
          ]
        },
        {
          "output_type": "stream",
          "name": "stdout",
          "text": [
            "SCALER\n",
            "SCALED\n",
            "window\n",
            "WINDOWED\n"
          ]
        }
      ]
    },
    {
      "cell_type": "code",
      "source": [
        "!pip install torchinfo\n",
        "from torchinfo import summary\n",
        "summary(method.solver.model)"
      ],
      "metadata": {
        "id": "z1jw6nzI8RZZ"
      },
      "execution_count": null,
      "outputs": []
    }
  ]
}