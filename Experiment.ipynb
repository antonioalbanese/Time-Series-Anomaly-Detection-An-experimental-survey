{
  "nbformat": 4,
  "nbformat_minor": 0,
  "metadata": {
    "colab": {
      "provenance": [],
      "authorship_tag": "ABX9TyP+9RaxLgmZqExWcpK2/4qQ",
      "include_colab_link": true
    },
    "kernelspec": {
      "name": "python3",
      "display_name": "Python 3"
    },
    "language_info": {
      "name": "python"
    },
    "accelerator": "GPU",
    "gpuClass": "standard",
    "widgets": {
      "application/vnd.jupyter.widget-state+json": {
        "f506632e0c19486092fb5affde3fbc60": {
          "model_module": "@jupyter-widgets/controls",
          "model_name": "VBoxModel",
          "model_module_version": "1.5.0",
          "state": {
            "_dom_classes": [],
            "_model_module": "@jupyter-widgets/controls",
            "_model_module_version": "1.5.0",
            "_model_name": "VBoxModel",
            "_view_count": null,
            "_view_module": "@jupyter-widgets/controls",
            "_view_module_version": "1.5.0",
            "_view_name": "VBoxView",
            "box_style": "",
            "children": [
              "IPY_MODEL_f819f0785a684c25be38d206a2bcebfd",
              "IPY_MODEL_8520924e53e94d53ab97544de7e6e21a"
            ],
            "layout": "IPY_MODEL_be4a4cf1a5cb4232aa8c42020ada45bc"
          }
        },
        "f819f0785a684c25be38d206a2bcebfd": {
          "model_module": "@jupyter-widgets/controls",
          "model_name": "LabelModel",
          "model_module_version": "1.5.0",
          "state": {
            "_dom_classes": [],
            "_model_module": "@jupyter-widgets/controls",
            "_model_module_version": "1.5.0",
            "_model_name": "LabelModel",
            "_view_count": null,
            "_view_module": "@jupyter-widgets/controls",
            "_view_module_version": "1.5.0",
            "_view_name": "LabelView",
            "description": "",
            "description_tooltip": null,
            "layout": "IPY_MODEL_4ddbb52fed754fd098fd29e523bc54c1",
            "placeholder": "​",
            "style": "IPY_MODEL_98f87ffe214144f4abe75bf8c3cc7364",
            "value": "0.008 MB of 0.008 MB uploaded (0.000 MB deduped)\r"
          }
        },
        "8520924e53e94d53ab97544de7e6e21a": {
          "model_module": "@jupyter-widgets/controls",
          "model_name": "FloatProgressModel",
          "model_module_version": "1.5.0",
          "state": {
            "_dom_classes": [],
            "_model_module": "@jupyter-widgets/controls",
            "_model_module_version": "1.5.0",
            "_model_name": "FloatProgressModel",
            "_view_count": null,
            "_view_module": "@jupyter-widgets/controls",
            "_view_module_version": "1.5.0",
            "_view_name": "ProgressView",
            "bar_style": "",
            "description": "",
            "description_tooltip": null,
            "layout": "IPY_MODEL_1390233b0cc944348c2d08424666b121",
            "max": 1,
            "min": 0,
            "orientation": "horizontal",
            "style": "IPY_MODEL_bb294d6f6fb44a30bb42247d74392ebd",
            "value": 1
          }
        },
        "be4a4cf1a5cb4232aa8c42020ada45bc": {
          "model_module": "@jupyter-widgets/base",
          "model_name": "LayoutModel",
          "model_module_version": "1.2.0",
          "state": {
            "_model_module": "@jupyter-widgets/base",
            "_model_module_version": "1.2.0",
            "_model_name": "LayoutModel",
            "_view_count": null,
            "_view_module": "@jupyter-widgets/base",
            "_view_module_version": "1.2.0",
            "_view_name": "LayoutView",
            "align_content": null,
            "align_items": null,
            "align_self": null,
            "border": null,
            "bottom": null,
            "display": null,
            "flex": null,
            "flex_flow": null,
            "grid_area": null,
            "grid_auto_columns": null,
            "grid_auto_flow": null,
            "grid_auto_rows": null,
            "grid_column": null,
            "grid_gap": null,
            "grid_row": null,
            "grid_template_areas": null,
            "grid_template_columns": null,
            "grid_template_rows": null,
            "height": null,
            "justify_content": null,
            "justify_items": null,
            "left": null,
            "margin": null,
            "max_height": null,
            "max_width": null,
            "min_height": null,
            "min_width": null,
            "object_fit": null,
            "object_position": null,
            "order": null,
            "overflow": null,
            "overflow_x": null,
            "overflow_y": null,
            "padding": null,
            "right": null,
            "top": null,
            "visibility": null,
            "width": null
          }
        },
        "4ddbb52fed754fd098fd29e523bc54c1": {
          "model_module": "@jupyter-widgets/base",
          "model_name": "LayoutModel",
          "model_module_version": "1.2.0",
          "state": {
            "_model_module": "@jupyter-widgets/base",
            "_model_module_version": "1.2.0",
            "_model_name": "LayoutModel",
            "_view_count": null,
            "_view_module": "@jupyter-widgets/base",
            "_view_module_version": "1.2.0",
            "_view_name": "LayoutView",
            "align_content": null,
            "align_items": null,
            "align_self": null,
            "border": null,
            "bottom": null,
            "display": null,
            "flex": null,
            "flex_flow": null,
            "grid_area": null,
            "grid_auto_columns": null,
            "grid_auto_flow": null,
            "grid_auto_rows": null,
            "grid_column": null,
            "grid_gap": null,
            "grid_row": null,
            "grid_template_areas": null,
            "grid_template_columns": null,
            "grid_template_rows": null,
            "height": null,
            "justify_content": null,
            "justify_items": null,
            "left": null,
            "margin": null,
            "max_height": null,
            "max_width": null,
            "min_height": null,
            "min_width": null,
            "object_fit": null,
            "object_position": null,
            "order": null,
            "overflow": null,
            "overflow_x": null,
            "overflow_y": null,
            "padding": null,
            "right": null,
            "top": null,
            "visibility": null,
            "width": null
          }
        },
        "98f87ffe214144f4abe75bf8c3cc7364": {
          "model_module": "@jupyter-widgets/controls",
          "model_name": "DescriptionStyleModel",
          "model_module_version": "1.5.0",
          "state": {
            "_model_module": "@jupyter-widgets/controls",
            "_model_module_version": "1.5.0",
            "_model_name": "DescriptionStyleModel",
            "_view_count": null,
            "_view_module": "@jupyter-widgets/base",
            "_view_module_version": "1.2.0",
            "_view_name": "StyleView",
            "description_width": ""
          }
        },
        "1390233b0cc944348c2d08424666b121": {
          "model_module": "@jupyter-widgets/base",
          "model_name": "LayoutModel",
          "model_module_version": "1.2.0",
          "state": {
            "_model_module": "@jupyter-widgets/base",
            "_model_module_version": "1.2.0",
            "_model_name": "LayoutModel",
            "_view_count": null,
            "_view_module": "@jupyter-widgets/base",
            "_view_module_version": "1.2.0",
            "_view_name": "LayoutView",
            "align_content": null,
            "align_items": null,
            "align_self": null,
            "border": null,
            "bottom": null,
            "display": null,
            "flex": null,
            "flex_flow": null,
            "grid_area": null,
            "grid_auto_columns": null,
            "grid_auto_flow": null,
            "grid_auto_rows": null,
            "grid_column": null,
            "grid_gap": null,
            "grid_row": null,
            "grid_template_areas": null,
            "grid_template_columns": null,
            "grid_template_rows": null,
            "height": null,
            "justify_content": null,
            "justify_items": null,
            "left": null,
            "margin": null,
            "max_height": null,
            "max_width": null,
            "min_height": null,
            "min_width": null,
            "object_fit": null,
            "object_position": null,
            "order": null,
            "overflow": null,
            "overflow_x": null,
            "overflow_y": null,
            "padding": null,
            "right": null,
            "top": null,
            "visibility": null,
            "width": null
          }
        },
        "bb294d6f6fb44a30bb42247d74392ebd": {
          "model_module": "@jupyter-widgets/controls",
          "model_name": "ProgressStyleModel",
          "model_module_version": "1.5.0",
          "state": {
            "_model_module": "@jupyter-widgets/controls",
            "_model_module_version": "1.5.0",
            "_model_name": "ProgressStyleModel",
            "_view_count": null,
            "_view_module": "@jupyter-widgets/base",
            "_view_module_version": "1.2.0",
            "_view_name": "StyleView",
            "bar_color": null,
            "description_width": ""
          }
        }
      }
    }
  },
  "cells": [
    {
      "cell_type": "markdown",
      "metadata": {
        "id": "view-in-github",
        "colab_type": "text"
      },
      "source": [
        "<a href=\"https://colab.research.google.com/github/antonioalbanese/Time-Series-Anomaly-Detection-An-experimental-survey/blob/main/Experiment.ipynb\" target=\"_parent\"><img src=\"https://colab.research.google.com/assets/colab-badge.svg\" alt=\"Open In Colab\"/></a>"
      ]
    },
    {
      "cell_type": "code",
      "source": [
        "!pip install pytorch_lightning torchinfo --quiet"
      ],
      "metadata": {
        "colab": {
          "base_uri": "https://localhost:8080/"
        },
        "id": "DEh4gQRTg-i9",
        "outputId": "c9c64dc4-97b9-48df-fd4f-30f3d0a03ba5"
      },
      "execution_count": null,
      "outputs": [
        {
          "output_type": "stream",
          "name": "stdout",
          "text": [
            "\u001b[K     |████████████████████████████████| 796 kB 26.6 MB/s \n",
            "\u001b[K     |████████████████████████████████| 136 kB 61.3 MB/s \n",
            "\u001b[K     |████████████████████████████████| 529 kB 73.5 MB/s \n",
            "\u001b[K     |████████████████████████████████| 87 kB 6.8 MB/s \n",
            "\u001b[?25h  Building wheel for fire (setup.py) ... \u001b[?25l\u001b[?25hdone\n"
          ]
        }
      ]
    },
    {
      "cell_type": "code",
      "source": [],
      "metadata": {
        "colab": {
          "base_uri": "https://localhost:8080/"
        },
        "id": "1C6X88d0MyhS",
        "outputId": "ecd2ad41-6a8a-4ab2-eb98-b6aed975cb0d"
      },
      "execution_count": 2,
      "outputs": [
        {
          "output_type": "stream",
          "name": "stdout",
          "text": [
            "\u001b[K     |████████████████████████████████| 1.9 MB 35.3 MB/s \n",
            "\u001b[K     |████████████████████████████████| 166 kB 62.6 MB/s \n",
            "\u001b[K     |████████████████████████████████| 182 kB 63.0 MB/s \n",
            "\u001b[K     |████████████████████████████████| 63 kB 1.9 MB/s \n",
            "\u001b[K     |████████████████████████████████| 166 kB 71.9 MB/s \n",
            "\u001b[K     |████████████████████████████████| 162 kB 67.4 MB/s \n",
            "\u001b[K     |████████████████████████████████| 162 kB 74.3 MB/s \n",
            "\u001b[K     |████████████████████████████████| 158 kB 68.5 MB/s \n",
            "\u001b[K     |████████████████████████████████| 157 kB 73.3 MB/s \n",
            "\u001b[K     |████████████████████████████████| 157 kB 75.1 MB/s \n",
            "\u001b[K     |████████████████████████████████| 157 kB 74.6 MB/s \n",
            "\u001b[K     |████████████████████████████████| 157 kB 70.8 MB/s \n",
            "\u001b[K     |████████████████████████████████| 157 kB 72.8 MB/s \n",
            "\u001b[K     |████████████████████████████████| 157 kB 76.2 MB/s \n",
            "\u001b[K     |████████████████████████████████| 157 kB 52.0 MB/s \n",
            "\u001b[K     |████████████████████████████████| 156 kB 59.6 MB/s \n",
            "\u001b[?25h  Building wheel for pathtools (setup.py) ... \u001b[?25l\u001b[?25hdone\n",
            "\u001b[34m\u001b[1mwandb\u001b[0m: Logging into wandb.ai. (Learn how to deploy a W&B server locally: https://wandb.me/wandb-server)\n",
            "\u001b[34m\u001b[1mwandb\u001b[0m: You can find your API key in your browser here: https://wandb.ai/authorize\n",
            "\u001b[34m\u001b[1mwandb\u001b[0m: Paste an API key from your profile and hit enter, or press ctrl+c to quit: \n",
            "\u001b[34m\u001b[1mwandb\u001b[0m: Appending key for api.wandb.ai to your netrc file: /root/.netrc\n"
          ]
        }
      ]
    },
    {
      "cell_type": "code",
      "execution_count": 1,
      "metadata": {
        "colab": {
          "base_uri": "https://localhost:8080/"
        },
        "id": "-gxesA1FbjV5",
        "outputId": "ac3a0ef9-18ba-4085-dec1-207b9e205be5"
      },
      "outputs": [
        {
          "output_type": "stream",
          "name": "stdout",
          "text": [
            "Cloning into 'Time-Series-Anomaly-Detection-An-experimental-survey'...\n",
            "remote: Enumerating objects: 700, done.\u001b[K\n",
            "remote: Counting objects: 100% (183/183), done.\u001b[K\n",
            "remote: Compressing objects: 100% (183/183), done.\u001b[K\n",
            "remote: Total 700 (delta 126), reused 0 (delta 0), pack-reused 517\u001b[K\n",
            "Receiving objects: 100% (700/700), 2.72 MiB | 4.76 MiB/s, done.\n",
            "Resolving deltas: 100% (399/399), done.\n",
            "/content/Time-Series-Anomaly-Detection-An-experimental-survey\n",
            "Downloading...\n",
            "From: https://drive.google.com/uc?id=1ZCLBU_pKTbsPlcj_LwxZE3IRy6mrlys3\n",
            "To: /content/Time-Series-Anomaly-Detection-An-experimental-survey/dataset/MSL.zip\n",
            "100% 767k/767k [00:00<00:00, 133MB/s]\n"
          ]
        }
      ],
      "source": [
        "# !pip install wandb --quiet\n",
        "# !wandb login\n",
        "\n",
        "# import wandb\n",
        "\n",
        "\n",
        "!git clone https://github.com/antonioalbanese/Time-Series-Anomaly-Detection-An-experimental-survey/\n",
        "\n",
        "%cd Time-Series-Anomaly-Detection-An-experimental-survey\n",
        "\n",
        "%mkdir dataset\n",
        "!gdown https://drive.google.com/uc?id=1ZCLBU_pKTbsPlcj_LwxZE3IRy6mrlys3 -O=\"./dataset/MSL.zip\"\n",
        "# !gdown https://drive.google.com/uc?id=18JNYBsaX7tu0Qfgo92nCBCklv471L1xB -O=\"./dataset/SMD.zip\"\n",
        "import zipfile\n",
        "with zipfile.ZipFile(\"./dataset/MSL.zip\", 'r') as zip_ref:\n",
        "    zip_ref.extractall(\"./dataset/\")\n",
        "# with zipfile.ZipFile(\"./dataset/SMD.zip\", 'r') as zip_ref:\n",
        "#     zip_ref.extractall(\"./dataset/\")"
      ]
    },
    {
      "cell_type": "code",
      "source": [
        "!mkdir input\n",
        "#normal period\n",
        "!python USAD/gdrivedl.py https://drive.google.com/open?id=1rVJ5ry5GG-ZZi5yI4x9lICB8VhErXwCw input/\n",
        "#anomalies\n",
        "!python USAD/gdrivedl.py https://drive.google.com/open?id=1iDYc0OEmidN712fquOBRFjln90SbpaE7 input/"
      ],
      "metadata": {
        "id": "bAm8xpOkP9Ph",
        "outputId": "5312f5be-1b15-42cb-bb3d-7b121ad574b0",
        "colab": {
          "base_uri": "https://localhost:8080/"
        }
      },
      "execution_count": 1,
      "outputs": [
        {
          "output_type": "stream",
          "name": "stdout",
          "text": [
            "python3: can't open file 'USAD/gdrivedl.py': [Errno 2] No such file or directory\n",
            "python3: can't open file 'USAD/gdrivedl.py': [Errno 2] No such file or directory\n"
          ]
        }
      ]
    },
    {
      "cell_type": "code",
      "source": [
        "### USAD\n",
        "from AnomalyDetectionMethodClass import ADMethod\n",
        "settings={\n",
        "    'EPOCHS':20,\n",
        "    'BATCH_SIZE': 7919,\n",
        "    'SEQ_LEN': 12,\n",
        "    'HIDDEN_SIZE': 100,\n",
        "    'ALPHA': 0.5,\n",
        "    'BETA': 0.5,\n",
        "    'CONFIDENCE': 0.82,\n",
        "    'DATASET': 'SWAT'}\n",
        "data_path = ''\n",
        "method = ADMethod('USAD',settings,'')\n",
        "\n",
        "method.prepare_pipeline()\n",
        "h = method.train()\n",
        "scores, report = method.test()"
      ],
      "metadata": {
        "id": "8HysJsSBIfX0"
      },
      "execution_count": null,
      "outputs": []
    },
    {
      "cell_type": "code",
      "source": [
        "###  TRANSFORMER\n",
        "from AnomalyDetectionMethodClass import ADMethod\n",
        "data_path = './dataset/MSL'\n",
        "settings = {\n",
        "    'lr':1e-4,\n",
        "    'num_epochs':3,\n",
        "    'k':3,\n",
        "    'win_size':100,\n",
        "    'input_c':55,\n",
        "    'output_c':55,\n",
        "    'batch_size':256,\n",
        "    'pretrained_model':None,\n",
        "    'dataset':'MSL',\n",
        "    'mode':'train', # choices=['train', 'test']\n",
        "    'data_path':'./dataset/MSL',\n",
        "    'model_save_path':'checkpoints',\n",
        "    'anormly_ratio':1\n",
        "}\n",
        "method = ADMethod('transformer',settings, data_path)\n",
        "\n",
        "method.prepare_pipeline()\n",
        "method.train()\n",
        "scores, report = method.test()"
      ],
      "metadata": {
        "id": "UEinh9TJbwD6"
      },
      "execution_count": null,
      "outputs": []
    },
    {
      "cell_type": "code",
      "source": [
        "test_labels = np.load(\"./dataset/MSL/MSL_test_label.npy\")"
      ],
      "metadata": {
        "id": "Q1upRxZ9veku"
      },
      "execution_count": 27,
      "outputs": []
    },
    {
      "cell_type": "code",
      "source": [
        "\n",
        "### DEEPANT\n",
        "from AnomalyDetectionMethodClass import ADMethod\n",
        "# data_path = './NAB/realKnownCause/cpu_utilization_asg_misconfiguration.csv'\n",
        "data_path = './dataset/MSL'\n",
        "\n",
        "\n",
        "LR_LIST = [0.001, 0.0001, 0.00001, 0.000001]\n",
        "SEQ_LIST = [10, 30, 100, 300]\n",
        "for lr in [0.0001]:#LR_LIST:\n",
        "  for seq in [100]: #SEQ_LIST:\n",
        "    # wandb.init(project=\"experimental-survey-AD\", entity=\"michiamoantonio\", group='DeepAnt')\n",
        "    # wandb.log({'lr': lr})\n",
        "    # wandb.log({'seq_len': seq})\n",
        "    settings = {\n",
        "      'SEQ_LEN': seq,\n",
        "      'out_dim': 1,\n",
        "      'EPOCHS': 50,\n",
        "      'LR': lr,\n",
        "      'CONFIDENCE': 0.50,\n",
        "      'TH_LIST': [0.1, 0.2, 0.3, 0.4, 0.5, 0.6, 0.7, 0.8, 0.9],\n",
        "      'TH_SEARCH': True,\n",
        "      'VERBOSE': True,\n",
        "      'DATASET': 'MSL'\n",
        "    }\n",
        "    # wandb.config = settings\n",
        "    method = ADMethod('DeepAnt',settings, data_path)\n",
        "\n",
        "    method.prepare_pipeline()\n",
        "    l = method.train()\n",
        "    scores, report = method.test()\n",
        "\n",
        "    print(f\"lr: {lr}, seq_len: {seq}\")\n",
        "    for i,el in enumerate(report): \n",
        "      print(f\"#### th: {settings['TH_LIST'][i]}, f1-score: {el['macro avg']['f1-score']}\")\n",
        "      # wandb.log({'th': settings['TH_LIST'][i], 'f1-score': el['macro avg']['f1-score']})\n",
        "    # wandb.finish()\n",
        "\n"
      ],
      "metadata": {
        "id": "a8y-8dwBgXf1",
        "colab": {
          "base_uri": "https://localhost:8080/",
          "height": 1000
        },
        "outputId": "9f674082-4cc1-4285-d40d-0c963e70687f"
      },
      "execution_count": 2,
      "outputs": [
        {
          "output_type": "stream",
          "name": "stderr",
          "text": [
            "/usr/local/lib/python3.7/dist-packages/torch/utils/data/dataloader.py:566: UserWarning: This DataLoader will create 10 worker processes in total. Our suggested max number of worker in current system is 2, which is smaller than what this DataLoader is going to create. Please be aware that excessive worker creation might get DataLoader running slow or even freeze, lower the worker number to avoid potential slowness/freeze if necessary.\n",
            "  cpuset_checked))\n",
            "/usr/local/lib/python3.7/dist-packages/torch/nn/modules/loss.py:96: UserWarning: Using a target size (torch.Size([32, 55])) that is different to the input size (torch.Size([32, 1])). This will likely lead to incorrect results due to broadcasting. Please ensure they have the same size.\n",
            "  return F.l1_loss(input, target, reduction=self.reduction)\n"
          ]
        },
        {
          "output_type": "stream",
          "name": "stdout",
          "text": [
            "Epoch 0: loss:28.12133095320314\n"
          ]
        },
        {
          "output_type": "stream",
          "name": "stderr",
          "text": [
            "/usr/local/lib/python3.7/dist-packages/torch/nn/modules/loss.py:96: UserWarning: Using a target size (torch.Size([9, 55])) that is different to the input size (torch.Size([9, 1])). This will likely lead to incorrect results due to broadcasting. Please ensure they have the same size.\n",
            "  return F.l1_loss(input, target, reduction=self.reduction)\n"
          ]
        },
        {
          "output_type": "stream",
          "name": "stdout",
          "text": [
            "Epoch 1: loss:39.51123037561774\n",
            "Epoch 2: loss:40.273208072409034\n",
            "Epoch 3: loss:40.39943799795583\n",
            "Epoch 4: loss:48.512650138000026\n",
            "Epoch 5: loss:48.59434955660254\n",
            "Epoch 6: loss:49.535875857109204\n",
            "Epoch 7: loss:51.634741452522576\n",
            "Epoch 8: loss:52.618641280336305\n",
            "Epoch 9: loss:50.033640017034486\n",
            "Epoch 10: loss:54.5605488140136\n",
            "Epoch 11: loss:51.312093501212075\n",
            "Epoch 12: loss:52.92748553387355\n",
            "Epoch 13: loss:53.73053902992979\n",
            "Epoch 14: loss:52.318169217556715\n",
            "Epoch 15: loss:54.38945517735556\n",
            "Epoch 16: loss:51.88914574193768\n",
            "Epoch 17: loss:54.95440223440528\n",
            "Epoch 18: loss:52.13972094573546\n",
            "Epoch 19: loss:54.72607652330771\n",
            "Epoch 20: loss:52.128172013675794\n",
            "Epoch 21: loss:54.70736210560426\n",
            "Epoch 22: loss:52.28570576547645\n",
            "Epoch 23: loss:54.305365800857544\n",
            "Epoch 24: loss:51.70490976865403\n",
            "Epoch 25: loss:54.870985597372055\n",
            "Epoch 26: loss:51.89786215801723\n",
            "Epoch 27: loss:55.02683272631839\n",
            "Epoch 28: loss:52.45559849101119\n",
            "Epoch 29: loss:54.658901458606124\n",
            "Epoch 30: loss:53.15844518854283\n",
            "Epoch 31: loss:53.61036132834852\n",
            "Epoch 32: loss:52.94407615705859\n",
            "Epoch 33: loss:53.76038863835856\n",
            "Epoch 34: loss:53.346984025789425\n",
            "Epoch 35: loss:53.36088467715308\n",
            "Epoch 36: loss:53.00240431248676\n",
            "Epoch 37: loss:53.79747226648033\n",
            "Epoch 38: loss:53.540349832270294\n",
            "Epoch 39: loss:53.26270011230372\n",
            "Epoch 40: loss:53.592148806434125\n",
            "Epoch 41: loss:53.29409148590639\n",
            "Epoch 42: loss:54.234859948745\n",
            "Epoch 43: loss:52.44768614321947\n",
            "Epoch 44: loss:53.61752269859426\n",
            "Epoch 45: loss:52.98836347134784\n",
            "Epoch 46: loss:53.69670291128568\n",
            "Epoch 47: loss:52.84578876872547\n",
            "Epoch 48: loss:53.08081511128694\n",
            "Epoch 49: loss:53.698660218622535\n"
          ]
        },
        {
          "output_type": "error",
          "ename": "NameError",
          "evalue": "ignored",
          "traceback": [
            "\u001b[0;31m---------------------------------------------------------------------------\u001b[0m",
            "\u001b[0;31mNameError\u001b[0m                                 Traceback (most recent call last)",
            "\u001b[0;32m<ipython-input-2-75c8422000d5>\u001b[0m in \u001b[0;36m<module>\u001b[0;34m\u001b[0m\n\u001b[1;32m     28\u001b[0m     \u001b[0mmethod\u001b[0m\u001b[0;34m.\u001b[0m\u001b[0mprepare_pipeline\u001b[0m\u001b[0;34m(\u001b[0m\u001b[0;34m)\u001b[0m\u001b[0;34m\u001b[0m\u001b[0;34m\u001b[0m\u001b[0m\n\u001b[1;32m     29\u001b[0m     \u001b[0ml\u001b[0m \u001b[0;34m=\u001b[0m \u001b[0mmethod\u001b[0m\u001b[0;34m.\u001b[0m\u001b[0mtrain\u001b[0m\u001b[0;34m(\u001b[0m\u001b[0;34m)\u001b[0m\u001b[0;34m\u001b[0m\u001b[0;34m\u001b[0m\u001b[0m\n\u001b[0;32m---> 30\u001b[0;31m     \u001b[0mscores\u001b[0m\u001b[0;34m,\u001b[0m \u001b[0mreport\u001b[0m \u001b[0;34m=\u001b[0m \u001b[0mmethod\u001b[0m\u001b[0;34m.\u001b[0m\u001b[0mtest\u001b[0m\u001b[0;34m(\u001b[0m\u001b[0;34m)\u001b[0m\u001b[0;34m\u001b[0m\u001b[0;34m\u001b[0m\u001b[0m\n\u001b[0m\u001b[1;32m     31\u001b[0m \u001b[0;34m\u001b[0m\u001b[0m\n\u001b[1;32m     32\u001b[0m     \u001b[0mprint\u001b[0m\u001b[0;34m(\u001b[0m\u001b[0;34mf\"lr: {lr}, seq_len: {seq}\"\u001b[0m\u001b[0;34m)\u001b[0m\u001b[0;34m\u001b[0m\u001b[0;34m\u001b[0m\u001b[0m\n",
            "\u001b[0;32m/content/Time-Series-Anomaly-Detection-An-experimental-survey/AnomalyDetectionMethodClass.py\u001b[0m in \u001b[0;36mtest\u001b[0;34m(self)\u001b[0m\n\u001b[1;32m     41\u001b[0m \u001b[0;34m\u001b[0m\u001b[0m\n\u001b[1;32m     42\u001b[0m                 \u001b[0;32mif\u001b[0m \u001b[0mself\u001b[0m\u001b[0;34m.\u001b[0m\u001b[0mmethod_name\u001b[0m \u001b[0;34m==\u001b[0m \u001b[0;34m'DeepAnt'\u001b[0m\u001b[0;34m:\u001b[0m\u001b[0;34m\u001b[0m\u001b[0;34m\u001b[0m\u001b[0m\n\u001b[0;32m---> 43\u001b[0;31m                         \u001b[0mgen_sig\u001b[0m\u001b[0;34m,\u001b[0m \u001b[0mself\u001b[0m\u001b[0;34m.\u001b[0m\u001b[0manomaly_scores\u001b[0m\u001b[0;34m,\u001b[0m \u001b[0mself\u001b[0m\u001b[0;34m.\u001b[0m\u001b[0mclassification_report\u001b[0m \u001b[0;34m=\u001b[0m \u001b[0mself\u001b[0m\u001b[0;34m.\u001b[0m\u001b[0msolver\u001b[0m\u001b[0;34m.\u001b[0m\u001b[0mtest\u001b[0m\u001b[0;34m(\u001b[0m\u001b[0;34m)\u001b[0m\u001b[0;34m\u001b[0m\u001b[0;34m\u001b[0m\u001b[0m\n\u001b[0m\u001b[1;32m     44\u001b[0m \u001b[0;34m\u001b[0m\u001b[0m\n\u001b[1;32m     45\u001b[0m                 \u001b[0;32mif\u001b[0m \u001b[0mself\u001b[0m\u001b[0;34m.\u001b[0m\u001b[0mmethod_name\u001b[0m \u001b[0;34m==\u001b[0m \u001b[0;34m'USAD'\u001b[0m\u001b[0;34m:\u001b[0m\u001b[0;34m\u001b[0m\u001b[0;34m\u001b[0m\u001b[0m\n",
            "\u001b[0;32m/content/Time-Series-Anomaly-Detection-An-experimental-survey/DeepAnt/DeepAntSolver.py\u001b[0m in \u001b[0;36mtest\u001b[0;34m(self)\u001b[0m\n\u001b[1;32m     84\u001b[0m         \u001b[0msc\u001b[0m \u001b[0;34m=\u001b[0m \u001b[0msklearn\u001b[0m\u001b[0;34m.\u001b[0m\u001b[0mpreprocessing\u001b[0m\u001b[0;34m.\u001b[0m\u001b[0mMinMaxScaler\u001b[0m\u001b[0;34m(\u001b[0m\u001b[0mfeature_range\u001b[0m\u001b[0;34m=\u001b[0m\u001b[0;34m(\u001b[0m\u001b[0;36m0\u001b[0m\u001b[0;34m,\u001b[0m\u001b[0;36m1\u001b[0m\u001b[0;34m)\u001b[0m\u001b[0;34m)\u001b[0m\u001b[0;34m\u001b[0m\u001b[0;34m\u001b[0m\u001b[0m\n\u001b[1;32m     85\u001b[0m         \u001b[0mlosses\u001b[0m \u001b[0;34m=\u001b[0m \u001b[0msc\u001b[0m\u001b[0;34m.\u001b[0m\u001b[0mfit_transform\u001b[0m\u001b[0;34m(\u001b[0m\u001b[0mnp\u001b[0m\u001b[0;34m.\u001b[0m\u001b[0marray\u001b[0m\u001b[0;34m(\u001b[0m\u001b[0mloss_list\u001b[0m\u001b[0;34m)\u001b[0m\u001b[0;34m.\u001b[0m\u001b[0mreshape\u001b[0m\u001b[0;34m(\u001b[0m\u001b[0;34m-\u001b[0m\u001b[0;36m1\u001b[0m\u001b[0;34m,\u001b[0m \u001b[0;36m1\u001b[0m\u001b[0;34m)\u001b[0m\u001b[0;34m)\u001b[0m\u001b[0;34m\u001b[0m\u001b[0;34m\u001b[0m\u001b[0m\n\u001b[0;32m---> 86\u001b[0;31m         \u001b[0mtrue_labels\u001b[0m \u001b[0;34m=\u001b[0m \u001b[0mload_true_labels\u001b[0m\u001b[0;34m(\u001b[0m\u001b[0mself\u001b[0m\u001b[0;34m.\u001b[0m\u001b[0mdata_path\u001b[0m\u001b[0;34m,\u001b[0m \u001b[0mlosses\u001b[0m\u001b[0;34m.\u001b[0m\u001b[0mshape\u001b[0m\u001b[0;34m[\u001b[0m\u001b[0;36m0\u001b[0m\u001b[0;34m]\u001b[0m\u001b[0;34m)\u001b[0m\u001b[0;34m\u001b[0m\u001b[0;34m\u001b[0m\u001b[0m\n\u001b[0m\u001b[1;32m     87\u001b[0m         \u001b[0mreports\u001b[0m \u001b[0;34m=\u001b[0m \u001b[0;34m[\u001b[0m\u001b[0;34m]\u001b[0m\u001b[0;34m\u001b[0m\u001b[0;34m\u001b[0m\u001b[0m\n\u001b[1;32m     88\u001b[0m \u001b[0;34m\u001b[0m\u001b[0m\n",
            "\u001b[0;32m/content/Time-Series-Anomaly-Detection-An-experimental-survey/DeepAnt/DeepAntSolver.py\u001b[0m in \u001b[0;36mload_true_labels\u001b[0;34m(data_path, l)\u001b[0m\n\u001b[1;32m    110\u001b[0m \u001b[0;34m\u001b[0m\u001b[0m\n\u001b[1;32m    111\u001b[0m \u001b[0;32mdef\u001b[0m \u001b[0mload_true_labels\u001b[0m\u001b[0;34m(\u001b[0m\u001b[0mdata_path\u001b[0m\u001b[0;34m,\u001b[0m \u001b[0ml\u001b[0m\u001b[0;34m)\u001b[0m\u001b[0;34m:\u001b[0m\u001b[0;34m\u001b[0m\u001b[0;34m\u001b[0m\u001b[0m\n\u001b[0;32m--> 112\u001b[0;31m     \u001b[0;32mif\u001b[0m \u001b[0mself\u001b[0m\u001b[0;34m.\u001b[0m\u001b[0mconfig\u001b[0m\u001b[0;34m[\u001b[0m\u001b[0;34m'DATASET'\u001b[0m\u001b[0;34m]\u001b[0m \u001b[0;34m==\u001b[0m \u001b[0;34m'NAB'\u001b[0m\u001b[0;34m:\u001b[0m\u001b[0;34m\u001b[0m\u001b[0;34m\u001b[0m\u001b[0m\n\u001b[0m\u001b[1;32m    113\u001b[0m         \u001b[0;32mwith\u001b[0m \u001b[0mopen\u001b[0m\u001b[0;34m(\u001b[0m\u001b[0;34m\"./NAB/combined_windows.json\"\u001b[0m\u001b[0;34m)\u001b[0m \u001b[0;32mas\u001b[0m \u001b[0mFI\u001b[0m\u001b[0;34m:\u001b[0m\u001b[0;34m\u001b[0m\u001b[0;34m\u001b[0m\u001b[0m\n\u001b[1;32m    114\u001b[0m             \u001b[0mj_label\u001b[0m \u001b[0;34m=\u001b[0m \u001b[0mjson\u001b[0m\u001b[0;34m.\u001b[0m\u001b[0mload\u001b[0m\u001b[0;34m(\u001b[0m\u001b[0mFI\u001b[0m\u001b[0;34m)\u001b[0m\u001b[0;34m\u001b[0m\u001b[0;34m\u001b[0m\u001b[0m\n",
            "\u001b[0;31mNameError\u001b[0m: name 'self' is not defined"
          ]
        }
      ]
    },
    {
      "cell_type": "code",
      "source": [
        "import numpy as np\n",
        "x = [[1, 2,3],[2, 4, 6],[3, 5, 7]]\n",
        "np.array(x)[:2]"
      ],
      "metadata": {
        "id": "jeXBKEWTBRFp",
        "outputId": "f9721599-16f7-4a1b-c8ab-f92d08e5f5e4",
        "colab": {
          "base_uri": "https://localhost:8080/"
        }
      },
      "execution_count": 10,
      "outputs": [
        {
          "output_type": "execute_result",
          "data": {
            "text/plain": [
              "array([[1, 2, 3],\n",
              "       [2, 4, 6]])"
            ]
          },
          "metadata": {},
          "execution_count": 10
        }
      ]
    },
    {
      "cell_type": "code",
      "source": [
        "wandb.finish()"
      ],
      "metadata": {
        "colab": {
          "base_uri": "https://localhost:8080/",
          "height": 150,
          "referenced_widgets": [
            "f506632e0c19486092fb5affde3fbc60",
            "f819f0785a684c25be38d206a2bcebfd",
            "8520924e53e94d53ab97544de7e6e21a",
            "be4a4cf1a5cb4232aa8c42020ada45bc",
            "4ddbb52fed754fd098fd29e523bc54c1",
            "98f87ffe214144f4abe75bf8c3cc7364",
            "1390233b0cc944348c2d08424666b121",
            "bb294d6f6fb44a30bb42247d74392ebd"
          ]
        },
        "id": "O7qxItvBiXPu",
        "outputId": "f99eb30b-e67c-4a94-c25e-3b1311990f32"
      },
      "execution_count": 11,
      "outputs": [
        {
          "output_type": "display_data",
          "data": {
            "text/plain": [
              "<IPython.core.display.HTML object>"
            ],
            "text/html": [
              "Waiting for W&B process to finish... <strong style=\"color:green\">(success).</strong>"
            ]
          },
          "metadata": {}
        },
        {
          "output_type": "display_data",
          "data": {
            "text/plain": [
              "VBox(children=(Label(value='0.001 MB of 0.008 MB uploaded (0.000 MB deduped)\\r'), FloatProgress(value=0.087699…"
            ],
            "application/vnd.jupyter.widget-view+json": {
              "version_major": 2,
              "version_minor": 0,
              "model_id": "f506632e0c19486092fb5affde3fbc60"
            }
          },
          "metadata": {}
        },
        {
          "output_type": "display_data",
          "data": {
            "text/plain": [
              "<IPython.core.display.HTML object>"
            ],
            "text/html": [
              "Synced <strong style=\"color:#cdcd00\">gentle-gorge-1</strong>: <a href=\"https://wandb.ai/michiamoantonio/uncategorized/runs/n9h12iao\" target=\"_blank\">https://wandb.ai/michiamoantonio/uncategorized/runs/n9h12iao</a><br/>Synced 4 W&B file(s), 0 media file(s), 0 artifact file(s) and 0 other file(s)"
            ]
          },
          "metadata": {}
        },
        {
          "output_type": "display_data",
          "data": {
            "text/plain": [
              "<IPython.core.display.HTML object>"
            ],
            "text/html": [
              "Find logs at: <code>/content/wandb/run-20221111_151931-n9h12iao/logs</code>"
            ]
          },
          "metadata": {}
        }
      ]
    },
    {
      "cell_type": "code",
      "source": [
        "method.solver.model"
      ],
      "metadata": {
        "colab": {
          "base_uri": "https://localhost:8080/"
        },
        "id": "xDk5Pgh1eCoN",
        "outputId": "2fdb281f-f832-449a-dab3-a2218e0a5b88"
      },
      "execution_count": 4,
      "outputs": [
        {
          "output_type": "execute_result",
          "data": {
            "text/plain": [
              "DeepAnt(\n",
              "  (convblock1): Sequential(\n",
              "    (0): Conv1d(1, 32, kernel_size=(3,), stride=(1,), padding=valid)\n",
              "    (1): ReLU(inplace=True)\n",
              "    (2): MaxPool1d(kernel_size=2, stride=2, padding=0, dilation=1, ceil_mode=False)\n",
              "  )\n",
              "  (convblock2): Sequential(\n",
              "    (0): Conv1d(32, 32, kernel_size=(3,), stride=(1,), padding=valid)\n",
              "    (1): ReLU(inplace=True)\n",
              "    (2): MaxPool1d(kernel_size=2, stride=2, padding=0, dilation=1, ceil_mode=False)\n",
              "  )\n",
              "  (flatten): Flatten(start_dim=1, end_dim=-1)\n",
              "  (denseblock): Sequential(\n",
              "    (0): Linear(in_features=32, out_features=40, bias=True)\n",
              "    (1): ReLU(inplace=True)\n",
              "    (2): Dropout(p=0.25, inplace=False)\n",
              "  )\n",
              "  (out): Linear(in_features=40, out_features=1, bias=True)\n",
              ")"
            ]
          },
          "metadata": {},
          "execution_count": 4
        }
      ]
    },
    {
      "cell_type": "code",
      "source": [
        "!pip install torchinfo\n",
        "from torchinfo import summary\n",
        "summary(method.solver.model)"
      ],
      "metadata": {
        "id": "z1jw6nzI8RZZ"
      },
      "execution_count": null,
      "outputs": []
    }
  ]
}