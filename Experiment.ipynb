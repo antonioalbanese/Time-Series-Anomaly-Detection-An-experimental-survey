{
  "nbformat": 4,
  "nbformat_minor": 0,
  "metadata": {
    "colab": {
      "provenance": [],
      "authorship_tag": "ABX9TyN/YK/rsTn9vuVXcYFny33F",
      "include_colab_link": true
    },
    "kernelspec": {
      "name": "python3",
      "display_name": "Python 3"
    },
    "language_info": {
      "name": "python"
    },
    "accelerator": "GPU"
  },
  "cells": [
    {
      "cell_type": "markdown",
      "metadata": {
        "id": "view-in-github",
        "colab_type": "text"
      },
      "source": [
        "<a href=\"https://colab.research.google.com/github/antonioalbanese/Time-Series-Anomaly-Detection-An-experimental-survey/blob/main/Experiment.ipynb\" target=\"_parent\"><img src=\"https://colab.research.google.com/assets/colab-badge.svg\" alt=\"Open In Colab\"/></a>"
      ]
    },
    {
      "cell_type": "code",
      "execution_count": 1,
      "metadata": {
        "colab": {
          "base_uri": "https://localhost:8080/"
        },
        "id": "-gxesA1FbjV5",
        "outputId": "faf22f6f-df8b-471d-c9fd-f27c0b96a023"
      },
      "outputs": [
        {
          "output_type": "stream",
          "name": "stdout",
          "text": [
            "Cloning into 'Time-Series-Anomaly-Detection-An-experimental-survey'...\n",
            "remote: Enumerating objects: 147, done.\u001b[K\n",
            "remote: Counting objects: 100% (130/130), done.\u001b[K\n",
            "remote: Compressing objects: 100% (104/104), done.\u001b[K\n",
            "remote: Total 147 (delta 29), reused 111 (delta 20), pack-reused 17\u001b[K\n",
            "Receiving objects: 100% (147/147), 1.93 MiB | 12.91 MiB/s, done.\n",
            "Resolving deltas: 100% (29/29), done.\n",
            "/content/Time-Series-Anomaly-Detection-An-experimental-survey\n",
            "Downloading...\n",
            "From: https://drive.google.com/uc?id=1ZCLBU_pKTbsPlcj_LwxZE3IRy6mrlys3\n",
            "To: /content/Time-Series-Anomaly-Detection-An-experimental-survey/dataset/MSL.zip\n",
            "100% 767k/767k [00:00<00:00, 152MB/s]\n"
          ]
        }
      ],
      "source": [
        "!git clone https://github.com/antonioalbanese/Time-Series-Anomaly-Detection-An-experimental-survey/\n",
        "\n",
        "%cd Time-Series-Anomaly-Detection-An-experimental-survey\n",
        "\n",
        "%mkdir dataset\n",
        "!gdown https://drive.google.com/uc?id=1ZCLBU_pKTbsPlcj_LwxZE3IRy6mrlys3 -O=\"./dataset/MSL.zip\"\n",
        "import zipfile\n",
        "with zipfile.ZipFile(\"./dataset/MSL.zip\", 'r') as zip_ref:\n",
        "    zip_ref.extractall(\"./dataset/\")"
      ]
    },
    {
      "cell_type": "code",
      "source": [
        "from AnomalyDetectionMethodClass import ADMethod\n",
        "data_path = './dataset/MSL'\n",
        "settings = {\n",
        "    'lr':1e-4,\n",
        "    'num_epochs':3,\n",
        "    'k':3,\n",
        "    'win_size':100,\n",
        "    'input_c':55,\n",
        "    'output_c':55,\n",
        "    'batch_size':256,\n",
        "    'pretrained_model':None,\n",
        "    'dataset':'MSL',\n",
        "    'mode':'train', # choices=['train', 'test']\n",
        "    'data_path':'./dataset/MSL',\n",
        "    'model_save_path':'checkpoints',\n",
        "    'anormly_ratio':1\n",
        "}\n",
        "method = ADMethod('transformer',settings, data_path)"
      ],
      "metadata": {
        "id": "UEinh9TJbwD6"
      },
      "execution_count": 2,
      "outputs": []
    },
    {
      "cell_type": "code",
      "source": [
        "method.prepare_pipeline()\n",
        "method.train()\n",
        "method.test()\n",
        "method.results()"
      ],
      "metadata": {
        "colab": {
          "base_uri": "https://localhost:8080/"
        },
        "id": "Sszr6Cqlbz5F",
        "outputId": "f8586ee2-ec5e-4f2d-bbcc-6b52465a32f9"
      },
      "execution_count": 3,
      "outputs": [
        {
          "output_type": "stream",
          "name": "stdout",
          "text": [
            "test: (73729, 55)\n",
            "train: (58317, 55)\n",
            "test: (73729, 55)\n",
            "train: (58317, 55)\n",
            "test: (73729, 55)\n",
            "train: (58317, 55)\n",
            "test: (73729, 55)\n",
            "train: (58317, 55)\n",
            "======================TRAIN MODE======================\n",
            "\tspeed: 0.8180s/iter; left time: 478.5215s\n",
            "\tspeed: 0.7547s/iter; left time: 366.0355s\n",
            "Epoch: 1 cost time: 178.35229921340942\n",
            "Epoch: 1, Steps: 228 | Train Loss: -41.9398839 Vali Loss: -44.9924650 \n",
            "Validation loss decreased (inf --> -44.992465).  Saving model ...\n",
            "Updating learning rate to 0.0001\n",
            "\tspeed: 1.5929s/iter; left time: 568.6633s\n",
            "\tspeed: 0.7542s/iter; left time: 193.8339s\n",
            "Epoch: 2 cost time: 171.64147114753723\n",
            "Epoch: 2, Steps: 228 | Train Loss: -47.0828519 Vali Loss: -45.9290438 \n",
            "EarlyStopping counter: 1 out of 3\n",
            "Updating learning rate to 5e-05\n",
            "\tspeed: 1.5907s/iter; left time: 205.2040s\n",
            "\tspeed: 0.7547s/iter; left time: 21.8872s\n",
            "Epoch: 3 cost time: 171.46167659759521\n",
            "Epoch: 3, Steps: 228 | Train Loss: -47.7037282 Vali Loss: -46.1303732 \n",
            "EarlyStopping counter: 2 out of 3\n",
            "Updating learning rate to 2.5e-05\n",
            "======================TEST MODE======================\n"
          ]
        },
        {
          "output_type": "stream",
          "name": "stderr",
          "text": [
            "/usr/local/lib/python3.7/dist-packages/torch/nn/_reduction.py:42: UserWarning: size_average and reduce args will be deprecated, please use reduction='none' instead.\n",
            "  warnings.warn(warning.format(ret))\n"
          ]
        },
        {
          "output_type": "stream",
          "name": "stdout",
          "text": [
            "Threshold : 0.007498042606748454\n",
            "pred:    (73700,)\n",
            "gt:      (73700,)\n",
            "pred:  (73700,)\n",
            "gt:    (73700,)\n",
            "Accuracy : 0.9857, Precision : 0.9193, Recall : 0.9473, F-score : 0.9331 \n"
          ]
        }
      ]
    }
  ]
}