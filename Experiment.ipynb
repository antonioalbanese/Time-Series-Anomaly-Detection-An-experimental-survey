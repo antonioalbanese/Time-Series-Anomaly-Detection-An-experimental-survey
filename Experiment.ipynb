{
  "nbformat": 4,
  "nbformat_minor": 0,
  "metadata": {
    "colab": {
      "provenance": [],
      "authorship_tag": "ABX9TyPxD0JQWieE8F2ZNPShQfvB",
      "include_colab_link": true
    },
    "kernelspec": {
      "name": "python3",
      "display_name": "Python 3"
    },
    "language_info": {
      "name": "python"
    },
    "accelerator": "GPU",
    "gpuClass": "standard"
  },
  "cells": [
    {
      "cell_type": "markdown",
      "metadata": {
        "id": "view-in-github",
        "colab_type": "text"
      },
      "source": [
        "<a href=\"https://colab.research.google.com/github/antonioalbanese/Time-Series-Anomaly-Detection-An-experimental-survey/blob/main/Experiment.ipynb\" target=\"_parent\"><img src=\"https://colab.research.google.com/assets/colab-badge.svg\" alt=\"Open In Colab\"/></a>"
      ]
    },
    {
      "cell_type": "code",
      "source": [
        "!pip install pytorch_lightning torchinfo --quiet"
      ],
      "metadata": {
        "colab": {
          "base_uri": "https://localhost:8080/"
        },
        "id": "DEh4gQRTg-i9",
        "outputId": "c9c64dc4-97b9-48df-fd4f-30f3d0a03ba5"
      },
      "execution_count": 5,
      "outputs": [
        {
          "output_type": "stream",
          "name": "stdout",
          "text": [
            "\u001b[K     |████████████████████████████████| 796 kB 26.6 MB/s \n",
            "\u001b[K     |████████████████████████████████| 136 kB 61.3 MB/s \n",
            "\u001b[K     |████████████████████████████████| 529 kB 73.5 MB/s \n",
            "\u001b[K     |████████████████████████████████| 87 kB 6.8 MB/s \n",
            "\u001b[?25h  Building wheel for fire (setup.py) ... \u001b[?25l\u001b[?25hdone\n"
          ]
        }
      ]
    },
    {
      "cell_type": "code",
      "execution_count": 1,
      "metadata": {
        "colab": {
          "base_uri": "https://localhost:8080/"
        },
        "id": "-gxesA1FbjV5",
        "outputId": "9f02e11a-f583-4f97-864a-d2e82844e757"
      },
      "outputs": [
        {
          "output_type": "stream",
          "name": "stdout",
          "text": [
            "Cloning into 'Time-Series-Anomaly-Detection-An-experimental-survey'...\n",
            "remote: Enumerating objects: 443, done.\u001b[K\n",
            "remote: Counting objects: 100% (350/350), done.\u001b[K\n",
            "remote: Compressing objects: 100% (226/226), done.\u001b[K\n",
            "remote: Total 443 (delta 195), reused 211 (delta 121), pack-reused 93\u001b[K\n",
            "Receiving objects: 100% (443/443), 2.66 MiB | 15.20 MiB/s, done.\n",
            "Resolving deltas: 100% (207/207), done.\n",
            "/content/Time-Series-Anomaly-Detection-An-experimental-survey\n",
            "Downloading...\n",
            "From: https://drive.google.com/uc?id=1ZCLBU_pKTbsPlcj_LwxZE3IRy6mrlys3\n",
            "To: /content/Time-Series-Anomaly-Detection-An-experimental-survey/dataset/MSL.zip\n",
            "100% 767k/767k [00:00<00:00, 148MB/s]\n"
          ]
        }
      ],
      "source": [
        "!git clone https://github.com/antonioalbanese/Time-Series-Anomaly-Detection-An-experimental-survey/\n",
        "\n",
        "%cd Time-Series-Anomaly-Detection-An-experimental-survey\n",
        "\n",
        "%mkdir dataset\n",
        "!gdown https://drive.google.com/uc?id=1ZCLBU_pKTbsPlcj_LwxZE3IRy6mrlys3 -O=\"./dataset/MSL.zip\"\n",
        "import zipfile\n",
        "with zipfile.ZipFile(\"./dataset/MSL.zip\", 'r') as zip_ref:\n",
        "    zip_ref.extractall(\"./dataset/\")"
      ]
    },
    {
      "cell_type": "code",
      "source": [
        "!mkdir input\n",
        "#normal period\n",
        "!python USAD/gdrivedl.py https://drive.google.com/open?id=1rVJ5ry5GG-ZZi5yI4x9lICB8VhErXwCw input/\n",
        "#anomalies\n",
        "!python USAD/gdrivedl.py https://drive.google.com/open?id=1iDYc0OEmidN712fquOBRFjln90SbpaE7 input/"
      ],
      "metadata": {
        "id": "bAm8xpOkP9Ph",
        "outputId": "84475c5e-d0a4-4b36-be30-f53c4fa9dc74",
        "colab": {
          "base_uri": "https://localhost:8080/"
        }
      },
      "execution_count": 2,
      "outputs": [
        {
          "output_type": "stream",
          "name": "stdout",
          "text": [
            "input/SWaT_Dataset_Normal_v1.csv\n",
            "[==================================================] 163.77MB/163.77MB\n",
            "input/SWaT_Dataset_Attack_v0.csv\n",
            "[==================================================] 127.27MB/127.27MB\n"
          ]
        }
      ]
    },
    {
      "cell_type": "code",
      "source": [
        "from AnomalyDetectionMethodClass import ADMethod\n",
        "settings={\n",
        "    'EPOCHS':100,\n",
        "    'BATCH_SIZE': 7919,\n",
        "    'SEQ_LEN': 12,\n",
        "    'HIDDEN_SIZE': 100}\n",
        "data_path = ''\n",
        "method = ADMethod('USAD',settings,'')\n",
        "\n",
        "method.prepare_pipeline()\n",
        "h = method.train()\n",
        "r = method.test()"
      ],
      "metadata": {
        "id": "8HysJsSBIfX0",
        "outputId": "1fcf5efa-c759-415f-b6ba-5f8a481213fd",
        "colab": {
          "base_uri": "https://localhost:8080/"
        }
      },
      "execution_count": 3,
      "outputs": [
        {
          "output_type": "stream",
          "name": "stderr",
          "text": [
            "/content/Time-Series-Anomaly-Detection-An-experimental-survey/USAD/USADSolver.py:19: DtypeWarning: Columns (26) have mixed types.Specify dtype option on import or set low_memory=False.\n",
            "  self.prepare_data()\n",
            "/content/Time-Series-Anomaly-Detection-An-experimental-survey/USAD/USADSolver.py:19: DtypeWarning: Columns (1,9,28,46) have mixed types.Specify dtype option on import or set low_memory=False.\n",
            "  self.prepare_data()\n"
          ]
        },
        {
          "output_type": "stream",
          "name": "stdout",
          "text": [
            "Epoch [0], val_loss1: 0.0259, val_loss2: 0.0257\n",
            "Epoch [1], val_loss1: 0.0281, val_loss2: -0.0050\n",
            "Epoch [2], val_loss1: 0.1206, val_loss2: -0.0753\n",
            "Epoch [3], val_loss1: 0.0351, val_loss2: -0.0245\n",
            "Epoch [4], val_loss1: 0.0252, val_loss2: -0.0162\n",
            "Epoch [5], val_loss1: 0.0207, val_loss2: -0.0149\n",
            "Epoch [6], val_loss1: 0.0211, val_loss2: -0.0161\n",
            "Epoch [7], val_loss1: 0.0208, val_loss2: -0.0167\n",
            "Epoch [8], val_loss1: 0.1323, val_loss2: -0.1077\n",
            "Epoch [9], val_loss1: 0.1268, val_loss2: -0.1115\n",
            "Epoch [10], val_loss1: 0.1264, val_loss2: -0.1128\n",
            "Epoch [11], val_loss1: 0.1275, val_loss2: -0.1152\n",
            "Epoch [12], val_loss1: 0.1283, val_loss2: -0.1169\n",
            "Epoch [13], val_loss1: 0.1291, val_loss2: -0.1186\n",
            "Epoch [14], val_loss1: 0.1296, val_loss2: -0.1197\n",
            "Epoch [15], val_loss1: 0.1305, val_loss2: -0.1213\n",
            "Epoch [16], val_loss1: 0.1314, val_loss2: -0.1227\n",
            "Epoch [17], val_loss1: 0.1339, val_loss2: -0.1256\n",
            "Epoch [18], val_loss1: 0.1440, val_loss2: -0.1355\n",
            "Epoch [19], val_loss1: 0.1449, val_loss2: -0.1369\n",
            "Epoch [20], val_loss1: 0.1460, val_loss2: -0.1383\n",
            "Epoch [21], val_loss1: 0.1462, val_loss2: -0.1389\n",
            "Epoch [22], val_loss1: 0.1465, val_loss2: -0.1395\n",
            "Epoch [23], val_loss1: 0.1467, val_loss2: -0.1400\n",
            "Epoch [24], val_loss1: 0.1467, val_loss2: -0.1403\n",
            "Epoch [25], val_loss1: 0.1469, val_loss2: -0.1407\n",
            "Epoch [26], val_loss1: 0.1478, val_loss2: -0.1418\n",
            "Epoch [27], val_loss1: 0.1480, val_loss2: -0.1422\n",
            "Epoch [28], val_loss1: 0.1497, val_loss2: -0.1441\n",
            "Epoch [29], val_loss1: 0.1501, val_loss2: -0.1446\n",
            "Epoch [30], val_loss1: 0.1504, val_loss2: -0.1451\n",
            "Epoch [31], val_loss1: 0.1505, val_loss2: -0.1454\n",
            "Epoch [32], val_loss1: 0.1507, val_loss2: -0.1457\n",
            "Epoch [33], val_loss1: 0.1508, val_loss2: -0.1460\n",
            "Epoch [34], val_loss1: 0.1509, val_loss2: -0.1462\n",
            "Epoch [35], val_loss1: 0.1510, val_loss2: -0.1465\n",
            "Epoch [36], val_loss1: 0.1511, val_loss2: -0.1467\n",
            "Epoch [37], val_loss1: 0.1512, val_loss2: -0.1469\n",
            "Epoch [38], val_loss1: 0.1514, val_loss2: -0.1471\n",
            "Epoch [39], val_loss1: 0.1514, val_loss2: -0.1473\n",
            "Epoch [40], val_loss1: 0.1516, val_loss2: -0.1476\n",
            "Epoch [41], val_loss1: 0.1516, val_loss2: -0.1477\n",
            "Epoch [42], val_loss1: 0.1517, val_loss2: -0.1479\n",
            "Epoch [43], val_loss1: 0.1518, val_loss2: -0.1481\n",
            "Epoch [44], val_loss1: 0.1519, val_loss2: -0.1483\n",
            "Epoch [45], val_loss1: 0.1520, val_loss2: -0.1484\n",
            "Epoch [46], val_loss1: 0.1514, val_loss2: -0.1480\n",
            "Epoch [47], val_loss1: 0.1515, val_loss2: -0.1481\n",
            "Epoch [48], val_loss1: 0.1521, val_loss2: -0.1488\n",
            "Epoch [49], val_loss1: 0.1522, val_loss2: -0.1489\n",
            "Epoch [50], val_loss1: 0.1522, val_loss2: -0.1490\n",
            "Epoch [51], val_loss1: 0.1523, val_loss2: -0.1492\n",
            "Epoch [52], val_loss1: 0.1530, val_loss2: -0.1499\n",
            "Epoch [53], val_loss1: 0.1514, val_loss2: -0.1484\n",
            "Epoch [54], val_loss1: 0.1521, val_loss2: -0.1491\n",
            "Epoch [55], val_loss1: 0.1521, val_loss2: -0.1492\n",
            "Epoch [56], val_loss1: 0.1522, val_loss2: -0.1494\n",
            "Epoch [57], val_loss1: 0.1524, val_loss2: -0.1496\n",
            "Epoch [58], val_loss1: 0.1524, val_loss2: -0.1496\n",
            "Epoch [59], val_loss1: 0.1519, val_loss2: -0.1492\n",
            "Epoch [60], val_loss1: 0.1520, val_loss2: -0.1493\n",
            "Epoch [61], val_loss1: 0.1520, val_loss2: -0.1494\n",
            "Epoch [62], val_loss1: 0.1521, val_loss2: -0.1495\n",
            "Epoch [63], val_loss1: 0.1521, val_loss2: -0.1496\n",
            "Epoch [64], val_loss1: 0.1521, val_loss2: -0.1497\n",
            "Epoch [65], val_loss1: 0.1522, val_loss2: -0.1498\n",
            "Epoch [66], val_loss1: 0.1523, val_loss2: -0.1498\n",
            "Epoch [67], val_loss1: 0.1522, val_loss2: -0.1498\n",
            "Epoch [68], val_loss1: 0.1551, val_loss2: -0.1527\n",
            "Epoch [69], val_loss1: 0.1558, val_loss2: -0.1535\n",
            "Epoch [70], val_loss1: 0.1558, val_loss2: -0.1535\n",
            "Epoch [71], val_loss1: 0.1559, val_loss2: -0.1536\n",
            "Epoch [72], val_loss1: 0.1559, val_loss2: -0.1536\n",
            "Epoch [73], val_loss1: 0.1559, val_loss2: -0.1537\n",
            "Epoch [74], val_loss1: 0.1560, val_loss2: -0.1538\n",
            "Epoch [75], val_loss1: 0.1560, val_loss2: -0.1538\n",
            "Epoch [76], val_loss1: 0.1560, val_loss2: -0.1539\n",
            "Epoch [77], val_loss1: 0.1560, val_loss2: -0.1539\n",
            "Epoch [78], val_loss1: 0.1561, val_loss2: -0.1540\n",
            "Epoch [79], val_loss1: 0.1561, val_loss2: -0.1541\n",
            "Epoch [80], val_loss1: 0.1561, val_loss2: -0.1541\n",
            "Epoch [81], val_loss1: 0.1562, val_loss2: -0.1541\n",
            "Epoch [82], val_loss1: 0.1562, val_loss2: -0.1542\n",
            "Epoch [83], val_loss1: 0.1562, val_loss2: -0.1542\n",
            "Epoch [84], val_loss1: 0.1562, val_loss2: -0.1543\n",
            "Epoch [85], val_loss1: 0.1562, val_loss2: -0.1543\n",
            "Epoch [86], val_loss1: 0.1563, val_loss2: -0.1544\n",
            "Epoch [87], val_loss1: 0.1563, val_loss2: -0.1544\n",
            "Epoch [88], val_loss1: 0.1563, val_loss2: -0.1544\n",
            "Epoch [89], val_loss1: 0.1563, val_loss2: -0.1545\n",
            "Epoch [90], val_loss1: 0.1563, val_loss2: -0.1545\n",
            "Epoch [91], val_loss1: 0.1564, val_loss2: -0.1546\n",
            "Epoch [92], val_loss1: 0.1564, val_loss2: -0.1546\n",
            "Epoch [93], val_loss1: 0.1564, val_loss2: -0.1546\n",
            "Epoch [94], val_loss1: 0.1564, val_loss2: -0.1547\n",
            "Epoch [95], val_loss1: 0.1564, val_loss2: -0.1547\n",
            "Epoch [96], val_loss1: 0.1559, val_loss2: -0.1542\n",
            "Epoch [97], val_loss1: 0.1559, val_loss2: -0.1542\n",
            "Epoch [98], val_loss1: 0.1559, val_loss2: -0.1542\n",
            "Epoch [99], val_loss1: 0.1559, val_loss2: -0.1543\n"
          ]
        }
      ]
    },
    {
      "cell_type": "code",
      "source": [
        "###  TRANSFORMER\n",
        "from AnomalyDetectionMethodClass import ADMethod\n",
        "data_path = './dataset/MSL'\n",
        "settings = {\n",
        "    'lr':1e-4,\n",
        "    'num_epochs':3,\n",
        "    'k':3,\n",
        "    'win_size':100,\n",
        "    'input_c':55,\n",
        "    'output_c':55,\n",
        "    'batch_size':256,\n",
        "    'pretrained_model':None,\n",
        "    'dataset':'MSL',\n",
        "    'mode':'train', # choices=['train', 'test']\n",
        "    'data_path':'./dataset/MSL',\n",
        "    'model_save_path':'checkpoints',\n",
        "    'anormly_ratio':1\n",
        "}\n",
        "method = ADMethod('transformer',settings, data_path)\n",
        "\n",
        "method.prepare_pipeline()\n",
        "method.train()\n",
        "method.test()\n",
        "method.results()"
      ],
      "metadata": {
        "id": "UEinh9TJbwD6"
      },
      "execution_count": null,
      "outputs": []
    },
    {
      "cell_type": "code",
      "source": [
        "### DEEPANT\n",
        "from AnomalyDetectionMethodClass import ADMethod\n",
        "data_path = './NAB/realKnownCause/ambient_temperature_system_failure.csv'\n",
        "settings = {\n",
        "  'SEQ_LEN': 10,\n",
        "  'out_dim': 1,\n",
        "  'EPOCHS': 50\n",
        "}\n",
        "method = ADMethod('DeepAnt',settings, data_path)\n",
        "\n",
        "method.prepare_pipeline()\n",
        "l = method.train()\n",
        "p, lp = method.test()\n",
        "# method.results()\n",
        "\n",
        "\n",
        "import seaborn as sns\n",
        "def plot_predictions(preds, threshold, bins = 80):\n",
        "    sns.displot(preds, bins = bins, kde = True, height = 8, aspect = 2)\n",
        "    plt.axvline(x = threshold, color = 'r', linestyle = '--', label = 'Chosen Threshold')\n",
        "    plt.title('Loss Distribution')\n",
        "    plt.legend()\n",
        "\n",
        "def loss_plot(preds, threshold):\n",
        "    fig = plt.figure(figsize=(15,8))\n",
        "    plt.plot(preds, label = 'Loss')\n",
        "    # preds.plot(figsize = (15,8), title = 'Chosen Threshold', label = 'Loss')\n",
        "    plt.axhline(y = threshold, color = 'r', linestyle = '--', label = 'Chosen Threshold')\n",
        "    plt.legend()\n",
        "    plt.show()\n",
        "\n",
        "def ts_plot(df, preds, threshold, alg = 'DeepAnT', range = None):\n",
        "    idx = preds.loc[lambda x: x > threshold].index\n",
        "    plt.figure(figsize = (20,8))\n",
        "    if range is not None:\n",
        "        min, max = range\n",
        "        df = df[min:max]\n",
        "    plt.plot(df, label = '_nolegend_')\n",
        "    plt.scatter(idx, df.loc[idx], color = 'red', label = 'Detected Anomalies by DeepAnt')\n",
        "    plt.title('Detected Anomalies in Time Series')\n",
        "    plt.legend()\n",
        "    plt.show()\n",
        "\n",
        "\n",
        "\n",
        "import sklearn\n",
        "import numpy as np\n",
        "sc = sklearn.preprocessing.MinMaxScaler(feature_range=(0,1))\n",
        "losses = sc.fit_transform(np.array(lp).reshape(-1, 1))\n",
        "plot_predictions(losses, 0.75)\n",
        "loss_plot(losses, 0.75)\n",
        "\n",
        "\n",
        "import pandas as pd\n",
        "df = pd.read_csv(data_path, index_col = 'timestamp', parse_dates=['timestamp'])\n",
        "target_idx = method.solver.dataset.timestamp\n",
        "preds_losses = pd.Series(losses.reshape((-1)), index = target_idx)\n",
        "ts_plot(df, preds_losses, 0.70)"
      ],
      "metadata": {
        "id": "a8y-8dwBgXf1",
        "outputId": "c2136862-b66e-4b11-9de2-4b62c39354e1",
        "colab": {
          "base_uri": "https://localhost:8080/",
          "height": 435
        }
      },
      "execution_count": 7,
      "outputs": [
        {
          "output_type": "stream",
          "name": "stderr",
          "text": [
            "/usr/local/lib/python3.7/dist-packages/torch/utils/data/dataloader.py:566: UserWarning: This DataLoader will create 10 worker processes in total. Our suggested max number of worker in current system is 2, which is smaller than what this DataLoader is going to create. Please be aware that excessive worker creation might get DataLoader running slow or even freeze, lower the worker number to avoid potential slowness/freeze if necessary.\n",
            "  cpuset_checked))\n"
          ]
        },
        {
          "output_type": "error",
          "ename": "NameError",
          "evalue": "ignored",
          "traceback": [
            "\u001b[0;31m---------------------------------------------------------------------------\u001b[0m",
            "\u001b[0;31mNameError\u001b[0m                                 Traceback (most recent call last)",
            "\u001b[0;32m<ipython-input-7-cf28e69c9e60>\u001b[0m in \u001b[0;36m<module>\u001b[0;34m\u001b[0m\n\u001b[1;32m      9\u001b[0m \u001b[0mmethod\u001b[0m \u001b[0;34m=\u001b[0m \u001b[0mADMethod\u001b[0m\u001b[0;34m(\u001b[0m\u001b[0;34m'DeepAnt'\u001b[0m\u001b[0;34m,\u001b[0m\u001b[0msettings\u001b[0m\u001b[0;34m,\u001b[0m \u001b[0mdata_path\u001b[0m\u001b[0;34m)\u001b[0m\u001b[0;34m\u001b[0m\u001b[0;34m\u001b[0m\u001b[0m\n\u001b[1;32m     10\u001b[0m \u001b[0;34m\u001b[0m\u001b[0m\n\u001b[0;32m---> 11\u001b[0;31m \u001b[0mmethod\u001b[0m\u001b[0;34m.\u001b[0m\u001b[0mprepare_pipeline\u001b[0m\u001b[0;34m(\u001b[0m\u001b[0;34m)\u001b[0m\u001b[0;34m\u001b[0m\u001b[0;34m\u001b[0m\u001b[0m\n\u001b[0m\u001b[1;32m     12\u001b[0m \u001b[0ml\u001b[0m \u001b[0;34m=\u001b[0m \u001b[0mmethod\u001b[0m\u001b[0;34m.\u001b[0m\u001b[0mtrain\u001b[0m\u001b[0;34m(\u001b[0m\u001b[0;34m)\u001b[0m\u001b[0;34m\u001b[0m\u001b[0;34m\u001b[0m\u001b[0m\n\u001b[1;32m     13\u001b[0m \u001b[0mp\u001b[0m\u001b[0;34m,\u001b[0m \u001b[0mlp\u001b[0m \u001b[0;34m=\u001b[0m \u001b[0mmethod\u001b[0m\u001b[0;34m.\u001b[0m\u001b[0mtest\u001b[0m\u001b[0;34m(\u001b[0m\u001b[0;34m)\u001b[0m\u001b[0;34m\u001b[0m\u001b[0;34m\u001b[0m\u001b[0m\n",
            "\u001b[0;32m/content/Time-Series-Anomaly-Detection-An-experimental-survey/AnomalyDetectionMethodClass.py\u001b[0m in \u001b[0;36mprepare_pipeline\u001b[0;34m(self)\u001b[0m\n\u001b[1;32m     21\u001b[0m                         \u001b[0mself\u001b[0m\u001b[0;34m.\u001b[0m\u001b[0msolver\u001b[0m \u001b[0;34m=\u001b[0m \u001b[0mTransformerSolver\u001b[0m\u001b[0;34m.\u001b[0m\u001b[0mTransformerSolver\u001b[0m\u001b[0;34m(\u001b[0m\u001b[0mself\u001b[0m\u001b[0;34m.\u001b[0m\u001b[0msettings\u001b[0m\u001b[0;34m)\u001b[0m\u001b[0;34m\u001b[0m\u001b[0;34m\u001b[0m\u001b[0m\n\u001b[1;32m     22\u001b[0m                 \u001b[0;32mif\u001b[0m \u001b[0mself\u001b[0m\u001b[0;34m.\u001b[0m\u001b[0mmethod_name\u001b[0m \u001b[0;34m==\u001b[0m \u001b[0;34m'DeepAnt'\u001b[0m\u001b[0;34m:\u001b[0m\u001b[0;34m\u001b[0m\u001b[0;34m\u001b[0m\u001b[0m\n\u001b[0;32m---> 23\u001b[0;31m                         \u001b[0mself\u001b[0m\u001b[0;34m.\u001b[0m\u001b[0msolver\u001b[0m \u001b[0;34m=\u001b[0m  \u001b[0mDeepAntSolver\u001b[0m\u001b[0;34m.\u001b[0m\u001b[0mDeepAntSolver\u001b[0m\u001b[0;34m(\u001b[0m\u001b[0mself\u001b[0m\u001b[0;34m.\u001b[0m\u001b[0msettings\u001b[0m\u001b[0;34m,\u001b[0m \u001b[0mself\u001b[0m\u001b[0;34m.\u001b[0m\u001b[0mdata_path\u001b[0m\u001b[0;34m)\u001b[0m\u001b[0;34m\u001b[0m\u001b[0;34m\u001b[0m\u001b[0m\n\u001b[0m\u001b[1;32m     24\u001b[0m                 \u001b[0;32mif\u001b[0m \u001b[0mself\u001b[0m\u001b[0;34m.\u001b[0m\u001b[0mmethod_name\u001b[0m \u001b[0;34m==\u001b[0m \u001b[0;34m'USAD'\u001b[0m\u001b[0;34m:\u001b[0m\u001b[0;34m\u001b[0m\u001b[0;34m\u001b[0m\u001b[0m\n\u001b[1;32m     25\u001b[0m                         \u001b[0mself\u001b[0m\u001b[0;34m.\u001b[0m\u001b[0msolver\u001b[0m \u001b[0;34m=\u001b[0m  \u001b[0mUSADSolver\u001b[0m\u001b[0;34m.\u001b[0m\u001b[0mUSADSolver\u001b[0m\u001b[0;34m(\u001b[0m\u001b[0mself\u001b[0m\u001b[0;34m.\u001b[0m\u001b[0msettings\u001b[0m\u001b[0;34m)\u001b[0m\u001b[0;34m\u001b[0m\u001b[0;34m\u001b[0m\u001b[0m\n",
            "\u001b[0;32m/content/Time-Series-Anomaly-Detection-An-experimental-survey/DeepAnt/DeepAntSolver.py\u001b[0m in \u001b[0;36m__init__\u001b[0;34m(self, config, data_path)\u001b[0m\n\u001b[1;32m     17\u001b[0m         \u001b[0mself\u001b[0m\u001b[0;34m.\u001b[0m\u001b[0mdevice\u001b[0m \u001b[0;34m=\u001b[0m \u001b[0mtorch\u001b[0m\u001b[0;34m.\u001b[0m\u001b[0mdevice\u001b[0m\u001b[0;34m(\u001b[0m\u001b[0;34m\"cuda:0\"\u001b[0m \u001b[0;32mif\u001b[0m \u001b[0mtorch\u001b[0m\u001b[0;34m.\u001b[0m\u001b[0mcuda\u001b[0m\u001b[0;34m.\u001b[0m\u001b[0mis_available\u001b[0m\u001b[0;34m(\u001b[0m\u001b[0;34m)\u001b[0m \u001b[0;32melse\u001b[0m \u001b[0;34m\"cpu\"\u001b[0m\u001b[0;34m)\u001b[0m\u001b[0;34m\u001b[0m\u001b[0;34m\u001b[0m\u001b[0m\n\u001b[1;32m     18\u001b[0m         \u001b[0mself\u001b[0m\u001b[0;34m.\u001b[0m\u001b[0mprepare_data\u001b[0m\u001b[0;34m(\u001b[0m\u001b[0mdata_path\u001b[0m\u001b[0;34m)\u001b[0m\u001b[0;34m\u001b[0m\u001b[0;34m\u001b[0m\u001b[0m\n\u001b[0;32m---> 19\u001b[0;31m         \u001b[0mself\u001b[0m\u001b[0;34m.\u001b[0m\u001b[0mbuild_model\u001b[0m\u001b[0;34m(\u001b[0m\u001b[0;34m)\u001b[0m\u001b[0;34m\u001b[0m\u001b[0;34m\u001b[0m\u001b[0m\n\u001b[0m\u001b[1;32m     20\u001b[0m \u001b[0;34m\u001b[0m\u001b[0m\n\u001b[1;32m     21\u001b[0m \u001b[0;34m\u001b[0m\u001b[0m\n",
            "\u001b[0;32m/content/Time-Series-Anomaly-Detection-An-experimental-survey/DeepAnt/DeepAntSolver.py\u001b[0m in \u001b[0;36mbuild_model\u001b[0;34m(self)\u001b[0m\n\u001b[1;32m     28\u001b[0m     \u001b[0;32mdef\u001b[0m \u001b[0mbuild_model\u001b[0m\u001b[0;34m(\u001b[0m\u001b[0mself\u001b[0m\u001b[0;34m)\u001b[0m\u001b[0;34m:\u001b[0m\u001b[0;34m\u001b[0m\u001b[0;34m\u001b[0m\u001b[0m\n\u001b[1;32m     29\u001b[0m         \u001b[0mself\u001b[0m\u001b[0;34m.\u001b[0m\u001b[0mmodel\u001b[0m \u001b[0;34m=\u001b[0m \u001b[0mDeepAnt\u001b[0m\u001b[0;34m(\u001b[0m\u001b[0mself\u001b[0m\u001b[0;34m.\u001b[0m\u001b[0mconfig\u001b[0m\u001b[0;34m[\u001b[0m\u001b[0;34m'SEQ_LEN'\u001b[0m\u001b[0;34m]\u001b[0m\u001b[0;34m,\u001b[0m \u001b[0mself\u001b[0m\u001b[0;34m.\u001b[0m\u001b[0mconfig\u001b[0m\u001b[0;34m[\u001b[0m\u001b[0;34m'out_dim'\u001b[0m\u001b[0;34m]\u001b[0m\u001b[0;34m)\u001b[0m\u001b[0;34m\u001b[0m\u001b[0;34m\u001b[0m\u001b[0m\n\u001b[0;32m---> 30\u001b[0;31m         \u001b[0mself\u001b[0m\u001b[0;34m.\u001b[0m\u001b[0manomaly_detector\u001b[0m \u001b[0;34m=\u001b[0m \u001b[0mAnomalyDetector\u001b[0m\u001b[0;34m(\u001b[0m\u001b[0mself\u001b[0m\u001b[0;34m.\u001b[0m\u001b[0mmodel\u001b[0m\u001b[0;34m)\u001b[0m\u001b[0;34m\u001b[0m\u001b[0;34m\u001b[0m\u001b[0m\n\u001b[0m\u001b[1;32m     31\u001b[0m         \u001b[0mself\u001b[0m\u001b[0;34m.\u001b[0m\u001b[0mcriterion\u001b[0m \u001b[0;34m=\u001b[0m \u001b[0mnn\u001b[0m\u001b[0;34m.\u001b[0m\u001b[0mL1Loss\u001b[0m\u001b[0;34m(\u001b[0m\u001b[0;34m)\u001b[0m\u001b[0;34m\u001b[0m\u001b[0;34m\u001b[0m\u001b[0m\n\u001b[1;32m     32\u001b[0m         \u001b[0mself\u001b[0m\u001b[0;34m.\u001b[0m\u001b[0moptimizer\u001b[0m \u001b[0;34m=\u001b[0m \u001b[0mtorch\u001b[0m\u001b[0;34m.\u001b[0m\u001b[0moptim\u001b[0m\u001b[0;34m.\u001b[0m\u001b[0mAdam\u001b[0m\u001b[0;34m(\u001b[0m\u001b[0mself\u001b[0m\u001b[0;34m.\u001b[0m\u001b[0mmodel\u001b[0m\u001b[0;34m.\u001b[0m\u001b[0mparameters\u001b[0m\u001b[0;34m(\u001b[0m\u001b[0;34m)\u001b[0m\u001b[0;34m,\u001b[0m \u001b[0mlr\u001b[0m \u001b[0;34m=\u001b[0m \u001b[0;36m1e-5\u001b[0m\u001b[0;34m)\u001b[0m\u001b[0;34m\u001b[0m\u001b[0;34m\u001b[0m\u001b[0m\n",
            "\u001b[0;31mNameError\u001b[0m: name 'AnomalyDetector' is not defined"
          ]
        }
      ]
    }
  ]
}