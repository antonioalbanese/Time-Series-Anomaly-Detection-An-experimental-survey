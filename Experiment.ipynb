{
  "nbformat": 4,
  "nbformat_minor": 0,
  "metadata": {
    "colab": {
      "provenance": [],
      "include_colab_link": true
    },
    "kernelspec": {
      "name": "python3",
      "display_name": "Python 3"
    },
    "language_info": {
      "name": "python"
    },
    "accelerator": "GPU",
    "gpuClass": "standard"
  },
  "cells": [
    {
      "cell_type": "markdown",
      "metadata": {
        "id": "view-in-github",
        "colab_type": "text"
      },
      "source": [
        "<a href=\"https://colab.research.google.com/github/antonioalbanese/Time-Series-Anomaly-Detection-An-experimental-survey/blob/main/Experiment.ipynb\" target=\"_parent\"><img src=\"https://colab.research.google.com/assets/colab-badge.svg\" alt=\"Open In Colab\"/></a>"
      ]
    },
    {
      "cell_type": "code",
      "execution_count": 1,
      "metadata": {
        "colab": {
          "base_uri": "https://localhost:8080/"
        },
        "id": "-gxesA1FbjV5",
        "outputId": "86c2745f-96d9-4298-f4dd-e52ee56419b6"
      },
      "outputs": [
        {
          "output_type": "stream",
          "name": "stdout",
          "text": [
            "Cloning into 'Time-Series-Anomaly-Detection-An-experimental-survey'...\n",
            "remote: Enumerating objects: 819, done.\u001b[K\n",
            "remote: Counting objects: 100% (302/302), done.\u001b[K\n",
            "remote: Compressing objects: 100% (159/159), done.\u001b[K\n",
            "remote: Total 819 (delta 207), reused 203 (delta 143), pack-reused 517\u001b[K\n",
            "Receiving objects: 100% (819/819), 2.75 MiB | 11.09 MiB/s, done.\n",
            "Resolving deltas: 100% (480/480), done.\n",
            "/content/Time-Series-Anomaly-Detection-An-experimental-survey\n"
          ]
        }
      ],
      "source": [
        "# !pip install wandb --quiet\n",
        "# !wandb login\n",
        "\n",
        "# import wandb\n",
        "\n",
        "\n",
        "!git clone https://github.com/antonioalbanese/Time-Series-Anomaly-Detection-An-experimental-survey/\n",
        "\n",
        "%cd Time-Series-Anomaly-Detection-An-experimental-survey\n",
        "\n",
        "# %mkdir dataset\n",
        "# !gdown https://drive.google.com/uc?id=1ZCLBU_pKTbsPlcj_LwxZE3IRy6mrlys3 -O=\"./dataset/MSL.zip\"\n",
        "# !gdown https://drive.google.com/uc?id=18JNYBsaX7tu0Qfgo92nCBCklv471L1xB -O=\"./dataset/SMD.zip\"\n",
        "# import zipfile\n",
        "# with zipfile.ZipFile(\"./dataset/MSL.zip\", 'r') as zip_ref:\n",
        "#     zip_ref.extractall(\"./dataset/\")\n",
        "# with zipfile.ZipFile(\"./dataset/SMD.zip\", 'r') as zip_ref:\n",
        "#     zip_ref.extractall(\"./dataset/\")"
      ]
    },
    {
      "cell_type": "code",
      "source": [
        "!mkdir data\n",
        "!mkdir data/SWAT\n",
        "#normal period\n",
        "!python USAD/gdrivedl.py https://drive.google.com/open?id=1rVJ5ry5GG-ZZi5yI4x9lICB8VhErXwCw data/SWAT\n",
        "#anomalies\n",
        "!python USAD/gdrivedl.py https://drive.google.com/open?id=1iDYc0OEmidN712fquOBRFjln90SbpaE7 data/SWAT"
      ],
      "metadata": {
        "id": "bAm8xpOkP9Ph",
        "outputId": "c7a669d6-7857-41a1-8cbe-6404a13a4f04",
        "colab": {
          "base_uri": "https://localhost:8080/"
        }
      },
      "execution_count": 2,
      "outputs": [
        {
          "output_type": "stream",
          "name": "stdout",
          "text": [
            "data/SWAT/SWaT_Dataset_Normal_v1.csv\n",
            "[==================================================] 163.77MB/163.77MB\n",
            "data/SWAT/SWaT_Dataset_Attack_v0.csv\n",
            "[==================================================] 127.27MB/127.27MB\n"
          ]
        }
      ]
    },
    {
      "cell_type": "code",
      "source": [
        "### NEW DEEPANT\n",
        "from AnomalyDetectionMethodClass import ADMethod\n",
        "\n",
        "configuration = {\n",
        "    'DATASET': 'SWAT',\n",
        "    'DATAPATH': None,\n",
        "    'SEQ_LEN': 100,\n",
        "    'STEP': 100,\n",
        "    'LR': 0.0001,\n",
        "    'EPOCHS': 50,\n",
        "    'VERBOSE': True\n",
        "}\n",
        "method = ADMethod(name = 'DEEPANT', config = configuration)"
      ],
      "metadata": {
        "id": "w93QZYTNMKEc",
        "outputId": "2c27e44b-d8db-401c-a76f-a9954ff7b4d2",
        "colab": {
          "base_uri": "https://localhost:8080/"
        }
      },
      "execution_count": 8,
      "outputs": [
        {
          "output_type": "stream",
          "name": "stderr",
          "text": [
            "/content/Time-Series-Anomaly-Detection-An-experimental-survey/datafactory.py:20: DtypeWarning: Columns (26) have mixed types.Specify dtype option on import or set low_memory=False.\n",
            "  self.load_data()\n",
            "/content/Time-Series-Anomaly-Detection-An-experimental-survey/datafactory.py:20: DtypeWarning: Columns (1,9,28,46) have mixed types.Specify dtype option on import or set low_memory=False.\n",
            "  self.load_data()\n",
            "/usr/local/lib/python3.7/dist-packages/torch/utils/data/dataloader.py:566: UserWarning: This DataLoader will create 4 worker processes in total. Our suggested max number of worker in current system is 2, which is smaller than what this DataLoader is going to create. Please be aware that excessive worker creation might get DataLoader running slow or even freeze, lower the worker number to avoid potential slowness/freeze if necessary.\n",
            "  cpuset_checked))\n"
          ]
        }
      ]
    },
    {
      "cell_type": "code",
      "source": [
        "method.train()"
      ],
      "metadata": {
        "id": "2h02BnjIQ9hx",
        "outputId": "ebd9dadd-24ab-466c-9cbb-512a00f32f96",
        "colab": {
          "base_uri": "https://localhost:8080/"
        }
      },
      "execution_count": 9,
      "outputs": [
        {
          "output_type": "stream",
          "name": "stdout",
          "text": [
            "Epoch 1/50: train_loss:0.5505902618169785\n",
            "Epoch 2/50: train_loss:0.5411247342824936\n",
            "Epoch 3/50: train_loss:0.5226950854063034\n",
            "Epoch 4/50: train_loss:0.4948487788438797\n",
            "Epoch 5/50: train_loss:0.4588527485728264\n",
            "Epoch 6/50: train_loss:0.39776845574378966\n",
            "Epoch 7/50: train_loss:0.3208754763007164\n",
            "Epoch 8/50: train_loss:0.3099981516599655\n",
            "Epoch 9/50: train_loss:0.3469611406326294\n",
            "Epoch 10/50: train_loss:0.2684433996677399\n",
            "Epoch 11/50: train_loss:0.3942651227116585\n",
            "Epoch 12/50: train_loss:0.23967766836285592\n",
            "Epoch 13/50: train_loss:0.21334592029452323\n",
            "Epoch 14/50: train_loss:0.19394998028874397\n",
            "Epoch 15/50: train_loss:0.19993529841303825\n",
            "Epoch 16/50: train_loss:0.18783982917666436\n",
            "Epoch 17/50: train_loss:0.17277236580848693\n",
            "Epoch 18/50: train_loss:0.16105403304100036\n",
            "Epoch 19/50: train_loss:0.20590783432126045\n",
            "Epoch 20/50: train_loss:0.17760936617851258\n",
            "Epoch 21/50: train_loss:0.18636239543557168\n",
            "Epoch 22/50: train_loss:0.19816538766026498\n",
            "Epoch 23/50: train_loss:0.18937015682458877\n",
            "Epoch 24/50: train_loss:0.19591442719101906\n",
            "Epoch 25/50: train_loss:0.20234141126275063\n",
            "Epoch 26/50: train_loss:0.21101555675268174\n",
            "Epoch 27/50: train_loss:0.2161712072789669\n",
            "Epoch 28/50: train_loss:0.21778228431940078\n",
            "Epoch 29/50: train_loss:0.22084449529647826\n",
            "Epoch 30/50: train_loss:0.221609777957201\n",
            "Epoch 31/50: train_loss:0.21857981234788895\n",
            "Epoch 32/50: train_loss:0.21361611559987068\n",
            "Epoch 33/50: train_loss:0.20781374648213385\n",
            "Epoch 34/50: train_loss:0.1996828831732273\n",
            "Epoch 35/50: train_loss:0.18879494071006775\n",
            "Epoch 36/50: train_loss:0.18198835775256156\n",
            "Epoch 37/50: train_loss:0.1829640820622444\n",
            "Epoch 38/50: train_loss:0.1886134386062622\n",
            "Epoch 39/50: train_loss:0.19224858060479164\n",
            "Epoch 40/50: train_loss:0.19320515617728234\n",
            "Epoch 41/50: train_loss:0.18773092180490494\n",
            "Epoch 42/50: train_loss:0.18667170256376267\n",
            "Epoch 43/50: train_loss:0.18542492166161537\n",
            "Epoch 44/50: train_loss:0.18460187315940857\n",
            "Epoch 45/50: train_loss:0.18586824908852578\n",
            "Epoch 46/50: train_loss:0.1897117979824543\n",
            "Epoch 47/50: train_loss:0.191581654548645\n",
            "Epoch 48/50: train_loss:0.1914973832666874\n",
            "Epoch 49/50: train_loss:0.1908549338579178\n",
            "Epoch 50/50: train_loss:0.18958169221878052\n",
            "training finished\n"
          ]
        }
      ]
    },
    {
      "cell_type": "markdown",
      "source": [
        "nuovo metodo training sembra funzionare con SWAT, implementare test e poi altri dataset su Deep Ant. Poi riportare nel nuovo metodo tutti gli altri modelli"
      ],
      "metadata": {
        "id": "uucoZOJvXx6R"
      }
    },
    {
      "cell_type": "code",
      "source": [
        "import torch\n",
        "t = torch.tensor([\n",
        "               [\n",
        "                 [1,11],\n",
        "                 [2,22],\n",
        "                 [3,33]\n",
        "               ],\n",
        "               [\n",
        "                 [4,44],\n",
        "                 [5,55],\n",
        "                 [6,66]\n",
        "               ],\n",
        "               [\n",
        "                 [7,77],\n",
        "                 [8,88],\n",
        "                 [9,99]\n",
        "                ],\n",
        "               [\n",
        "                 [10,1010],\n",
        "                 [11,1111],\n",
        "                 [12,1212]\n",
        "                ],\n",
        "               [\n",
        "                 [13,1313],\n",
        "                 [14,1414],\n",
        "                 [15,1515]\n",
        "                ]\n",
        "            ])\n",
        "\n",
        "print(t.size())\n",
        "#256, 100, 51\n",
        "tp = t.permute(0,-1,1)\n",
        "print(tp)\n",
        "\n",
        "tp.size()\n"
      ],
      "metadata": {
        "id": "BzzdE7_ETyuF",
        "outputId": "13432195-a820-4baa-df3a-6573d395e37e",
        "colab": {
          "base_uri": "https://localhost:8080/"
        }
      },
      "execution_count": 12,
      "outputs": [
        {
          "output_type": "stream",
          "name": "stdout",
          "text": [
            "torch.Size([5, 3, 2])\n",
            "tensor([[[   1,    2,    3],\n",
            "         [  11,   22,   33]],\n",
            "\n",
            "        [[   4,    5,    6],\n",
            "         [  44,   55,   66]],\n",
            "\n",
            "        [[   7,    8,    9],\n",
            "         [  77,   88,   99]],\n",
            "\n",
            "        [[  10,   11,   12],\n",
            "         [1010, 1111, 1212]],\n",
            "\n",
            "        [[  13,   14,   15],\n",
            "         [1313, 1414, 1515]]])\n"
          ]
        },
        {
          "output_type": "execute_result",
          "data": {
            "text/plain": [
              "torch.Size([5, 2, 3])"
            ]
          },
          "metadata": {},
          "execution_count": 12
        }
      ]
    },
    {
      "cell_type": "code",
      "source": [
        "### USAD\n",
        "from AnomalyDetectionMethodClass import ADMethod\n",
        "settings={\n",
        "    'EPOCHS':20,\n",
        "    'BATCH_SIZE': 7919,\n",
        "    'SEQ_LEN': 12,\n",
        "    'HIDDEN_SIZE': 100,\n",
        "    'ALPHA': 0.5,\n",
        "    'BETA': 0.5,\n",
        "    'CONFIDENCE': 0.82,\n",
        "    'DATASET': 'SWAT'}\n",
        "data_path = ''\n",
        "method = ADMethod('USAD',settings,'')\n",
        "\n",
        "method.prepare_pipeline()\n",
        "h = method.train()\n",
        "scores, report = method.test()"
      ],
      "metadata": {
        "id": "8HysJsSBIfX0"
      },
      "execution_count": null,
      "outputs": []
    },
    {
      "cell_type": "code",
      "source": [
        "###  TRANSFORMER\n",
        "from AnomalyDetectionMethodClass import ADMethod\n",
        "data_path = './dataset/MSL'\n",
        "settings = {\n",
        "    'lr':1e-4,\n",
        "    'num_epochs':3,\n",
        "    'k':3,\n",
        "    'win_size':100,\n",
        "    'input_c':55,\n",
        "    'output_c':55,\n",
        "    'batch_size':256,\n",
        "    'pretrained_model':None,\n",
        "    'dataset':'MSL',\n",
        "    'mode':'train', # choices=['train', 'test']\n",
        "    'data_path':'./dataset/MSL',\n",
        "    'model_save_path':'checkpoints',\n",
        "    'anormly_ratio':1\n",
        "}\n",
        "method = ADMethod('transformer',settings, data_path)\n",
        "\n",
        "method.prepare_pipeline()\n",
        "method.train()\n",
        "scores, report = method.test()"
      ],
      "metadata": {
        "id": "UEinh9TJbwD6"
      },
      "execution_count": null,
      "outputs": []
    },
    {
      "cell_type": "code",
      "source": [
        "### DEEPANT\n",
        "from AnomalyDetectionMethodClass import ADMethod\n",
        "# data_path = './NAB/realKnownCause/cpu_utilization_asg_misconfiguration.csv'\n",
        "data_path = './dataset/MSL'\n",
        "\n",
        "\n",
        "LR_LIST = [0.001, 0.0001, 0.00001, 0.000001]\n",
        "SEQ_LIST = [100, 30, 100, 300]\n",
        "for lr in [0.0001]:#LR_LIST:\n",
        "  for seq in [100]: #SEQ_LIST:\n",
        "    # wandb.init(project=\"experimental-survey-AD\", entity=\"michiamoantonio\", group='DeepAnt')\n",
        "    # wandb.log({'lr': lr})\n",
        "    # wandb.log({'seq_len': seq})\n",
        "    settings = {\n",
        "      'SEQ_LEN': seq,\n",
        "      'out_dim': 1,\n",
        "      'EPOCHS': 1,\n",
        "      'LR': lr,\n",
        "      'CONFIDENCE': 0.50,\n",
        "      'TH_LIST': [0.1, 0.2, 0.3, 0.4, 0.5, 0.6, 0.7, 0.8, 0.9],\n",
        "      'TH_SEARCH': True,\n",
        "      'VERBOSE': True,\n",
        "      'DATASET': 'SWAT'\n",
        "    }\n",
        "    # wandb.config = settings\n",
        "    method = ADMethod('DeepAnt',settings, data_path)\n",
        "\n",
        "    method.prepare_pipeline()\n",
        "    l = method.train()\n",
        "    scores, report = method.test()\n",
        "\n",
        "    print(f\"lr: {lr}, seq_len: {seq}\")\n",
        "    for i,el in enumerate(report): \n",
        "      print(f\"#### th: {settings['TH_LIST'][i]}, f1-score: {el['macro avg']['f1-score']}\")\n",
        "      # wandb.log({'th': settings['TH_LIST'][i], 'f1-score': el['macro avg']['f1-score']})\n",
        "    # wandb.finish()\n",
        "\n"
      ],
      "metadata": {
        "id": "a8y-8dwBgXf1",
        "colab": {
          "base_uri": "https://localhost:8080/"
        },
        "outputId": "162a387d-a240-4cc9-c0bd-14a825c53010"
      },
      "execution_count": null,
      "outputs": [
        {
          "output_type": "stream",
          "name": "stdout",
          "text": [
            "LOAD TRAIN DATA\n"
          ]
        },
        {
          "output_type": "stream",
          "name": "stderr",
          "text": [
            "/content/Time-Series-Anomaly-Detection-An-experimental-survey/DeepAnt/DeepAntSolver.py:22: DtypeWarning: Columns (26) have mixed types.Specify dtype option on import or set low_memory=False.\n",
            "  self.prepare_data(data_path)\n"
          ]
        },
        {
          "output_type": "stream",
          "name": "stdout",
          "text": [
            "SCALER\n",
            "SCALED\n",
            "window\n",
            "WINDOWED\n"
          ]
        }
      ]
    },
    {
      "cell_type": "code",
      "source": [
        "!pip install torchinfo\n",
        "from torchinfo import summary\n",
        "summary(method.solver.model)"
      ],
      "metadata": {
        "id": "z1jw6nzI8RZZ"
      },
      "execution_count": null,
      "outputs": []
    }
  ]
}