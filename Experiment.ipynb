{
  "nbformat": 4,
  "nbformat_minor": 0,
  "metadata": {
    "colab": {
      "provenance": [],
      "authorship_tag": "ABX9TyOUbhiNJITQWZsCFhtmoXR9",
      "include_colab_link": true
    },
    "kernelspec": {
      "name": "python3",
      "display_name": "Python 3"
    },
    "language_info": {
      "name": "python"
    },
    "accelerator": "GPU",
    "gpuClass": "standard"
  },
  "cells": [
    {
      "cell_type": "markdown",
      "metadata": {
        "id": "view-in-github",
        "colab_type": "text"
      },
      "source": [
        "<a href=\"https://colab.research.google.com/github/antonioalbanese/Time-Series-Anomaly-Detection-An-experimental-survey/blob/main/Experiment.ipynb\" target=\"_parent\"><img src=\"https://colab.research.google.com/assets/colab-badge.svg\" alt=\"Open In Colab\"/></a>"
      ]
    },
    {
      "cell_type": "code",
      "source": [
        "!pip install pytorch_lightning torchinfo --quiet"
      ],
      "metadata": {
        "colab": {
          "base_uri": "https://localhost:8080/"
        },
        "id": "DEh4gQRTg-i9",
        "outputId": "c9c64dc4-97b9-48df-fd4f-30f3d0a03ba5"
      },
      "execution_count": null,
      "outputs": [
        {
          "output_type": "stream",
          "name": "stdout",
          "text": [
            "\u001b[K     |████████████████████████████████| 796 kB 26.6 MB/s \n",
            "\u001b[K     |████████████████████████████████| 136 kB 61.3 MB/s \n",
            "\u001b[K     |████████████████████████████████| 529 kB 73.5 MB/s \n",
            "\u001b[K     |████████████████████████████████| 87 kB 6.8 MB/s \n",
            "\u001b[?25h  Building wheel for fire (setup.py) ... \u001b[?25l\u001b[?25hdone\n"
          ]
        }
      ]
    },
    {
      "cell_type": "code",
      "execution_count": 1,
      "metadata": {
        "colab": {
          "base_uri": "https://localhost:8080/"
        },
        "id": "-gxesA1FbjV5",
        "outputId": "9918dfea-eeb2-4560-e432-93b782d9a047"
      },
      "outputs": [
        {
          "output_type": "stream",
          "name": "stdout",
          "text": [
            "Cloning into 'Time-Series-Anomaly-Detection-An-experimental-survey'...\n",
            "remote: Enumerating objects: 450, done.\u001b[K\n",
            "remote: Counting objects: 100% (357/357), done.\u001b[K\n",
            "remote: Compressing objects: 100% (233/233), done.\u001b[K\n",
            "remote: Total 450 (delta 200), reused 211 (delta 121), pack-reused 93\u001b[K\n",
            "Receiving objects: 100% (450/450), 2.66 MiB | 11.08 MiB/s, done.\n",
            "Resolving deltas: 100% (212/212), done.\n",
            "/content/Time-Series-Anomaly-Detection-An-experimental-survey\n",
            "Downloading...\n",
            "From: https://drive.google.com/uc?id=1ZCLBU_pKTbsPlcj_LwxZE3IRy6mrlys3\n",
            "To: /content/Time-Series-Anomaly-Detection-An-experimental-survey/dataset/MSL.zip\n",
            "100% 767k/767k [00:00<00:00, 145MB/s]\n",
            "Downloading...\n",
            "From: https://drive.google.com/uc?id=18JNYBsaX7tu0Qfgo92nCBCklv471L1xB\n",
            "To: /content/Time-Series-Anomaly-Detection-An-experimental-survey/dataset/SMD.zip\n",
            "100% 195M/195M [00:01<00:00, 173MB/s]\n"
          ]
        }
      ],
      "source": [
        "!git clone https://github.com/antonioalbanese/Time-Series-Anomaly-Detection-An-experimental-survey/\n",
        "\n",
        "%cd Time-Series-Anomaly-Detection-An-experimental-survey\n",
        "\n",
        "%mkdir dataset\n",
        "!gdown https://drive.google.com/uc?id=1ZCLBU_pKTbsPlcj_LwxZE3IRy6mrlys3 -O=\"./dataset/MSL.zip\"\n",
        "!gdown https://drive.google.com/uc?id=18JNYBsaX7tu0Qfgo92nCBCklv471L1xB -O=\"./dataset/SMD.zip\"\n",
        "import zipfile\n",
        "with zipfile.ZipFile(\"./dataset/MSL.zip\", 'r') as zip_ref:\n",
        "    zip_ref.extractall(\"./dataset/\")\n",
        "with zipfile.ZipFile(\"./dataset/SMD.zip\", 'r') as zip_ref:\n",
        "    zip_ref.extractall(\"./dataset/\")"
      ]
    },
    {
      "cell_type": "code",
      "source": [
        "!mkdir input\n",
        "#normal period\n",
        "!python USAD/gdrivedl.py https://drive.google.com/open?id=1rVJ5ry5GG-ZZi5yI4x9lICB8VhErXwCw input/\n",
        "#anomalies\n",
        "!python USAD/gdrivedl.py https://drive.google.com/open?id=1iDYc0OEmidN712fquOBRFjln90SbpaE7 input/\n",
        "\n"
      ],
      "metadata": {
        "id": "bAm8xpOkP9Ph",
        "outputId": "3a7d5642-db85-43a4-8a55-b5b48a5fbba6",
        "colab": {
          "base_uri": "https://localhost:8080/"
        }
      },
      "execution_count": 3,
      "outputs": [
        {
          "output_type": "stream",
          "name": "stdout",
          "text": [
            "input/SWaT_Dataset_Normal_v1.csv\n",
            "[==================================================] 163.77MB/163.77MB\n",
            "input/SWaT_Dataset_Attack_v0.csv\n",
            "[==================================================] 127.27MB/127.27MB\n"
          ]
        }
      ]
    },
    {
      "cell_type": "code",
      "source": [
        "from AnomalyDetectionMethodClass import ADMethod\n",
        "settings={\n",
        "    'EPOCHS':50,\n",
        "    'BATCH_SIZE': 7919,\n",
        "    'SEQ_LEN': 12,\n",
        "    'HIDDEN_SIZE': 100}\n",
        "data_path = ''\n",
        "method = ADMethod('USAD',settings,'')\n",
        "\n",
        "method.prepare_pipeline()\n",
        "h = method.train()\n",
        "r = method.test()"
      ],
      "metadata": {
        "id": "8HysJsSBIfX0",
        "outputId": "85dd3956-e621-4fb2-dff7-bea4aa2f801f",
        "colab": {
          "base_uri": "https://localhost:8080/"
        }
      },
      "execution_count": 4,
      "outputs": [
        {
          "output_type": "stream",
          "name": "stderr",
          "text": [
            "/content/Time-Series-Anomaly-Detection-An-experimental-survey/USAD/USADSolver.py:19: DtypeWarning: Columns (26) have mixed types.Specify dtype option on import or set low_memory=False.\n",
            "  self.prepare_data()\n",
            "/content/Time-Series-Anomaly-Detection-An-experimental-survey/USAD/USADSolver.py:19: DtypeWarning: Columns (1,9,28,46) have mixed types.Specify dtype option on import or set low_memory=False.\n",
            "  self.prepare_data()\n"
          ]
        },
        {
          "output_type": "stream",
          "name": "stdout",
          "text": [
            "Epoch [0], val_loss1: 0.0259, val_loss2: 0.0258\n",
            "Epoch [1], val_loss1: 0.0235, val_loss2: -0.0050\n",
            "Epoch [2], val_loss1: 0.0261, val_loss2: -0.0145\n",
            "Epoch [3], val_loss1: 0.0400, val_loss2: -0.0292\n",
            "Epoch [4], val_loss1: 0.0401, val_loss2: -0.0335\n",
            "Epoch [5], val_loss1: 0.0426, val_loss2: -0.0344\n",
            "Epoch [6], val_loss1: 0.0429, val_loss2: -0.0387\n",
            "Epoch [7], val_loss1: 0.0431, val_loss2: -0.0392\n",
            "Epoch [8], val_loss1: 0.0784, val_loss2: -0.0635\n",
            "Epoch [9], val_loss1: 0.0724, val_loss2: -0.0598\n",
            "Epoch [10], val_loss1: 0.0723, val_loss2: -0.0620\n",
            "Epoch [11], val_loss1: 0.0779, val_loss2: -0.0691\n",
            "Epoch [12], val_loss1: 0.0746, val_loss2: -0.0675\n",
            "Epoch [13], val_loss1: 0.0749, val_loss2: -0.0684\n",
            "Epoch [14], val_loss1: 0.0750, val_loss2: -0.0690\n",
            "Epoch [15], val_loss1: 0.0741, val_loss2: -0.0685\n",
            "Epoch [16], val_loss1: 0.0745, val_loss2: -0.0692\n",
            "Epoch [17], val_loss1: 0.0746, val_loss2: -0.0697\n",
            "Epoch [18], val_loss1: 0.0750, val_loss2: -0.0703\n",
            "Epoch [19], val_loss1: 0.0747, val_loss2: -0.0703\n",
            "Epoch [20], val_loss1: 0.0752, val_loss2: -0.0710\n",
            "Epoch [21], val_loss1: 0.0757, val_loss2: -0.0717\n",
            "Epoch [22], val_loss1: 0.0759, val_loss2: -0.0720\n",
            "Epoch [23], val_loss1: 0.0760, val_loss2: -0.0723\n",
            "Epoch [24], val_loss1: 0.0761, val_loss2: -0.0726\n",
            "Epoch [25], val_loss1: 0.0762, val_loss2: -0.0728\n",
            "Epoch [26], val_loss1: 0.0763, val_loss2: -0.0730\n",
            "Epoch [27], val_loss1: 0.0764, val_loss2: -0.0733\n",
            "Epoch [28], val_loss1: 0.0765, val_loss2: -0.0735\n",
            "Epoch [29], val_loss1: 0.0766, val_loss2: -0.0737\n",
            "Epoch [30], val_loss1: 0.0767, val_loss2: -0.0738\n",
            "Epoch [31], val_loss1: 0.0768, val_loss2: -0.0740\n",
            "Epoch [32], val_loss1: 0.0768, val_loss2: -0.0741\n",
            "Epoch [33], val_loss1: 0.0769, val_loss2: -0.0743\n",
            "Epoch [34], val_loss1: 0.0769, val_loss2: -0.0744\n",
            "Epoch [35], val_loss1: 0.0770, val_loss2: -0.0745\n",
            "Epoch [36], val_loss1: 0.0754, val_loss2: -0.0731\n",
            "Epoch [37], val_loss1: 0.0785, val_loss2: -0.0761\n",
            "Epoch [38], val_loss1: 0.0783, val_loss2: -0.0760\n",
            "Epoch [39], val_loss1: 0.0780, val_loss2: -0.0758\n",
            "Epoch [40], val_loss1: 0.0795, val_loss2: -0.0773\n",
            "Epoch [41], val_loss1: 0.0775, val_loss2: -0.0754\n",
            "Epoch [42], val_loss1: 0.0775, val_loss2: -0.0754\n",
            "Epoch [43], val_loss1: 0.0775, val_loss2: -0.0755\n",
            "Epoch [44], val_loss1: 0.0775, val_loss2: -0.0756\n",
            "Epoch [45], val_loss1: 0.0776, val_loss2: -0.0756\n",
            "Epoch [46], val_loss1: 0.0776, val_loss2: -0.0757\n",
            "Epoch [47], val_loss1: 0.0776, val_loss2: -0.0758\n",
            "Epoch [48], val_loss1: 0.0777, val_loss2: -0.0759\n",
            "Epoch [49], val_loss1: 0.0777, val_loss2: -0.0759\n"
          ]
        }
      ]
    },
    {
      "cell_type": "code",
      "source": [
        "torch.cuda.empty_cache()"
      ],
      "metadata": {
        "id": "jnDtvDziBHTS"
      },
      "execution_count": 33,
      "outputs": []
    },
    {
      "cell_type": "code",
      "source": [
        "len(method.solver.test_labels)\n"
      ],
      "metadata": {
        "colab": {
          "base_uri": "https://localhost:8080/"
        },
        "id": "Yl_OPF4T4cF0",
        "outputId": "ce37ffeb-cfaf-4478-bff4-e639cc5107ee"
      },
      "execution_count": 4,
      "outputs": [
        {
          "output_type": "execute_result",
          "data": {
            "text/plain": [
              "449907"
            ]
          },
          "metadata": {},
          "execution_count": 4
        }
      ]
    },
    {
      "cell_type": "code",
      "source": [],
      "metadata": {
        "id": "QbuT49Zj4n-t"
      },
      "execution_count": 39,
      "outputs": []
    },
    {
      "cell_type": "code",
      "source": [
        "import torch\n",
        "import numpy as np\n",
        "y_pred=np.concatenate([torch.stack(r[:-1]).flatten().detach().cpu().numpy(),\n",
        "                              r[-1].flatten().detach().cpu().numpy()])\n",
        "\n",
        "for i,el in enumerate(y_pred):\n",
        "  if el >=0.4552:\n",
        "    y_pred[i] = 1\n",
        "  else:\n",
        "    y_pred[i] = 0\n",
        " \n",
        "from sklearn.metrics import classification_report\n",
        "print(classification_report(np.array(method.solver.test_labels), y_pred))"
      ],
      "metadata": {
        "colab": {
          "base_uri": "https://localhost:8080/"
        },
        "id": "Sc9-TnJGAA6D",
        "outputId": "b469a7e1-522a-4495-ffe0-2f6b713964a1"
      },
      "execution_count": 15,
      "outputs": [
        {
          "output_type": "stream",
          "name": "stdout",
          "text": [
            "              precision    recall  f1-score   support\n",
            "\n",
            "         0.0       0.93      0.90      0.92    394901\n",
            "         1.0       0.43      0.53      0.48     55006\n",
            "\n",
            "    accuracy                           0.86    449907\n",
            "   macro avg       0.68      0.72      0.70    449907\n",
            "weighted avg       0.87      0.86      0.86    449907\n",
            "\n"
          ]
        }
      ]
    },
    {
      "cell_type": "code",
      "source": [
        "import matplotlib.pyplot as plt\n",
        "plt.plot(y_pred)"
      ],
      "metadata": {
        "colab": {
          "base_uri": "https://localhost:8080/",
          "height": 282
        },
        "id": "zyzpT2Om-ykR",
        "outputId": "4ef77254-8f66-4a16-d0e6-8acdf1278cee"
      },
      "execution_count": 55,
      "outputs": [
        {
          "output_type": "execute_result",
          "data": {
            "text/plain": [
              "[<matplotlib.lines.Line2D at 0x7f6af8e15bd0>]"
            ]
          },
          "metadata": {},
          "execution_count": 55
        },
        {
          "output_type": "display_data",
          "data": {
            "text/plain": [
              "<Figure size 432x288 with 1 Axes>"
            ],
            "image/png": "[encoded data removed]"
          },
          "metadata": {
            "needs_background": "light"
          }
        }
      ]
    },
    {
      "cell_type": "code",
      "source": [],
      "metadata": {
        "colab": {
          "base_uri": "https://localhost:8080/"
        },
        "id": "EZe4hEvo-Wvg",
        "outputId": "23789b93-de76-409d-d4e2-57bd52576131"
      },
      "execution_count": 42,
      "outputs": [
        {
          "output_type": "stream",
          "name": "stdout",
          "text": [
            "              precision    recall  f1-score   support\n",
            "\n",
            "         0.0       0.93      0.56      0.70    394901\n",
            "         1.0       0.18      0.70      0.29     55006\n",
            "\n",
            "    accuracy                           0.57    449907\n",
            "   macro avg       0.56      0.63      0.49    449907\n",
            "weighted avg       0.84      0.57      0.65    449907\n",
            "\n"
          ]
        }
      ]
    },
    {
      "cell_type": "code",
      "source": [
        "###  TRANSFORMER\n",
        "from AnomalyDetectionMethodClass import ADMethod\n",
        "data_path = './dataset/MSL'\n",
        "settings = {\n",
        "    'lr':1e-4,\n",
        "    'num_epochs':3,\n",
        "    'k':3,\n",
        "    'win_size':100,\n",
        "    'input_c':55,\n",
        "    'output_c':55,\n",
        "    'batch_size':256,\n",
        "    'pretrained_model':None,\n",
        "    'dataset':'MSL',\n",
        "    'mode':'train', # choices=['train', 'test']\n",
        "    'data_path':'./dataset/MSL',\n",
        "    'model_save_path':'checkpoints',\n",
        "    'anormly_ratio':1\n",
        "}\n",
        "method = ADMethod('transformer',settings, data_path)\n",
        "\n",
        "method.prepare_pipeline()\n",
        "method.train()\n",
        "method.test()\n",
        "method.results()"
      ],
      "metadata": {
        "id": "UEinh9TJbwD6"
      },
      "execution_count": null,
      "outputs": []
    },
    {
      "cell_type": "code",
      "source": [
        "### DEEPANT\n",
        "from AnomalyDetectionMethodClass import ADMethod\n",
        "data_path = './NAB/realKnownCause/ambient_temperature_system_failure.csv'\n",
        "settings = {\n",
        "  'SEQ_LEN': 10,\n",
        "  'out_dim': 1,\n",
        "  'EPOCHS': 50\n",
        "}\n",
        "method = ADMethod('DeepAnt',settings, data_path)\n",
        "\n",
        "method.prepare_pipeline()\n",
        "l = method.train()\n",
        "p, lp = method.test()\n",
        "# method.results()\n",
        "\n",
        "\n",
        "import seaborn as sns\n",
        "def plot_predictions(preds, threshold, bins = 80):\n",
        "    sns.displot(preds, bins = bins, kde = True, height = 8, aspect = 2)\n",
        "    plt.axvline(x = threshold, color = 'r', linestyle = '--', label = 'Chosen Threshold')\n",
        "    plt.title('Loss Distribution')\n",
        "    plt.legend()\n",
        "\n",
        "def loss_plot(preds, threshold):\n",
        "    fig = plt.figure(figsize=(15,8))\n",
        "    plt.plot(preds, label = 'Loss')\n",
        "    # preds.plot(figsize = (15,8), title = 'Chosen Threshold', label = 'Loss')\n",
        "    plt.axhline(y = threshold, color = 'r', linestyle = '--', label = 'Chosen Threshold')\n",
        "    plt.legend()\n",
        "    plt.show()\n",
        "\n",
        "def ts_plot(df, preds, threshold, alg = 'DeepAnT', range = None):\n",
        "    idx = preds.loc[lambda x: x > threshold].index\n",
        "    plt.figure(figsize = (20,8))\n",
        "    if range is not None:\n",
        "        min, max = range\n",
        "        df = df[min:max]\n",
        "    plt.plot(df, label = '_nolegend_')\n",
        "    plt.scatter(idx, df.loc[idx], color = 'red', label = 'Detected Anomalies by DeepAnt')\n",
        "    plt.title('Detected Anomalies in Time Series')\n",
        "    plt.legend()\n",
        "    plt.show()\n",
        "\n",
        "\n",
        "\n",
        "import sklearn\n",
        "import numpy as np\n",
        "sc = sklearn.preprocessing.MinMaxScaler(feature_range=(0,1))\n",
        "losses = sc.fit_transform(np.array(lp).reshape(-1, 1))\n",
        "plot_predictions(losses, 0.75)\n",
        "loss_plot(losses, 0.75)\n",
        "\n",
        "\n",
        "import pandas as pd\n",
        "df = pd.read_csv(data_path, index_col = 'timestamp', parse_dates=['timestamp'])\n",
        "target_idx = method.solver.dataset.timestamp\n",
        "preds_losses = pd.Series(losses.reshape((-1)), index = target_idx)\n",
        "ts_plot(df, preds_losses, 0.70)"
      ],
      "metadata": {
        "id": "a8y-8dwBgXf1",
        "outputId": "c2136862-b66e-4b11-9de2-4b62c39354e1",
        "colab": {
          "base_uri": "https://localhost:8080/",
          "height": 435
        }
      },
      "execution_count": null,
      "outputs": [
        {
          "output_type": "stream",
          "name": "stderr",
          "text": [
            "/usr/local/lib/python3.7/dist-packages/torch/utils/data/dataloader.py:566: UserWarning: This DataLoader will create 10 worker processes in total. Our suggested max number of worker in current system is 2, which is smaller than what this DataLoader is going to create. Please be aware that excessive worker creation might get DataLoader running slow or even freeze, lower the worker number to avoid potential slowness/freeze if necessary.\n",
            "  cpuset_checked))\n"
          ]
        },
        {
          "output_type": "error",
          "ename": "NameError",
          "evalue": "ignored",
          "traceback": [
            "\u001b[0;31m---------------------------------------------------------------------------\u001b[0m",
            "\u001b[0;31mNameError\u001b[0m                                 Traceback (most recent call last)",
            "\u001b[0;32m<ipython-input-7-cf28e69c9e60>\u001b[0m in \u001b[0;36m<module>\u001b[0;34m\u001b[0m\n\u001b[1;32m      9\u001b[0m \u001b[0mmethod\u001b[0m \u001b[0;34m=\u001b[0m \u001b[0mADMethod\u001b[0m\u001b[0;34m(\u001b[0m\u001b[0;34m'DeepAnt'\u001b[0m\u001b[0;34m,\u001b[0m\u001b[0msettings\u001b[0m\u001b[0;34m,\u001b[0m \u001b[0mdata_path\u001b[0m\u001b[0;34m)\u001b[0m\u001b[0;34m\u001b[0m\u001b[0;34m\u001b[0m\u001b[0m\n\u001b[1;32m     10\u001b[0m \u001b[0;34m\u001b[0m\u001b[0m\n\u001b[0;32m---> 11\u001b[0;31m \u001b[0mmethod\u001b[0m\u001b[0;34m.\u001b[0m\u001b[0mprepare_pipeline\u001b[0m\u001b[0;34m(\u001b[0m\u001b[0;34m)\u001b[0m\u001b[0;34m\u001b[0m\u001b[0;34m\u001b[0m\u001b[0m\n\u001b[0m\u001b[1;32m     12\u001b[0m \u001b[0ml\u001b[0m \u001b[0;34m=\u001b[0m \u001b[0mmethod\u001b[0m\u001b[0;34m.\u001b[0m\u001b[0mtrain\u001b[0m\u001b[0;34m(\u001b[0m\u001b[0;34m)\u001b[0m\u001b[0;34m\u001b[0m\u001b[0;34m\u001b[0m\u001b[0m\n\u001b[1;32m     13\u001b[0m \u001b[0mp\u001b[0m\u001b[0;34m,\u001b[0m \u001b[0mlp\u001b[0m \u001b[0;34m=\u001b[0m \u001b[0mmethod\u001b[0m\u001b[0;34m.\u001b[0m\u001b[0mtest\u001b[0m\u001b[0;34m(\u001b[0m\u001b[0;34m)\u001b[0m\u001b[0;34m\u001b[0m\u001b[0;34m\u001b[0m\u001b[0m\n",
            "\u001b[0;32m/content/Time-Series-Anomaly-Detection-An-experimental-survey/AnomalyDetectionMethodClass.py\u001b[0m in \u001b[0;36mprepare_pipeline\u001b[0;34m(self)\u001b[0m\n\u001b[1;32m     21\u001b[0m                         \u001b[0mself\u001b[0m\u001b[0;34m.\u001b[0m\u001b[0msolver\u001b[0m \u001b[0;34m=\u001b[0m \u001b[0mTransformerSolver\u001b[0m\u001b[0;34m.\u001b[0m\u001b[0mTransformerSolver\u001b[0m\u001b[0;34m(\u001b[0m\u001b[0mself\u001b[0m\u001b[0;34m.\u001b[0m\u001b[0msettings\u001b[0m\u001b[0;34m)\u001b[0m\u001b[0;34m\u001b[0m\u001b[0;34m\u001b[0m\u001b[0m\n\u001b[1;32m     22\u001b[0m                 \u001b[0;32mif\u001b[0m \u001b[0mself\u001b[0m\u001b[0;34m.\u001b[0m\u001b[0mmethod_name\u001b[0m \u001b[0;34m==\u001b[0m \u001b[0;34m'DeepAnt'\u001b[0m\u001b[0;34m:\u001b[0m\u001b[0;34m\u001b[0m\u001b[0;34m\u001b[0m\u001b[0m\n\u001b[0;32m---> 23\u001b[0;31m                         \u001b[0mself\u001b[0m\u001b[0;34m.\u001b[0m\u001b[0msolver\u001b[0m \u001b[0;34m=\u001b[0m  \u001b[0mDeepAntSolver\u001b[0m\u001b[0;34m.\u001b[0m\u001b[0mDeepAntSolver\u001b[0m\u001b[0;34m(\u001b[0m\u001b[0mself\u001b[0m\u001b[0;34m.\u001b[0m\u001b[0msettings\u001b[0m\u001b[0;34m,\u001b[0m \u001b[0mself\u001b[0m\u001b[0;34m.\u001b[0m\u001b[0mdata_path\u001b[0m\u001b[0;34m)\u001b[0m\u001b[0;34m\u001b[0m\u001b[0;34m\u001b[0m\u001b[0m\n\u001b[0m\u001b[1;32m     24\u001b[0m                 \u001b[0;32mif\u001b[0m \u001b[0mself\u001b[0m\u001b[0;34m.\u001b[0m\u001b[0mmethod_name\u001b[0m \u001b[0;34m==\u001b[0m \u001b[0;34m'USAD'\u001b[0m\u001b[0;34m:\u001b[0m\u001b[0;34m\u001b[0m\u001b[0;34m\u001b[0m\u001b[0m\n\u001b[1;32m     25\u001b[0m                         \u001b[0mself\u001b[0m\u001b[0;34m.\u001b[0m\u001b[0msolver\u001b[0m \u001b[0;34m=\u001b[0m  \u001b[0mUSADSolver\u001b[0m\u001b[0;34m.\u001b[0m\u001b[0mUSADSolver\u001b[0m\u001b[0;34m(\u001b[0m\u001b[0mself\u001b[0m\u001b[0;34m.\u001b[0m\u001b[0msettings\u001b[0m\u001b[0;34m)\u001b[0m\u001b[0;34m\u001b[0m\u001b[0;34m\u001b[0m\u001b[0m\n",
            "\u001b[0;32m/content/Time-Series-Anomaly-Detection-An-experimental-survey/DeepAnt/DeepAntSolver.py\u001b[0m in \u001b[0;36m__init__\u001b[0;34m(self, config, data_path)\u001b[0m\n\u001b[1;32m     17\u001b[0m         \u001b[0mself\u001b[0m\u001b[0;34m.\u001b[0m\u001b[0mdevice\u001b[0m \u001b[0;34m=\u001b[0m \u001b[0mtorch\u001b[0m\u001b[0;34m.\u001b[0m\u001b[0mdevice\u001b[0m\u001b[0;34m(\u001b[0m\u001b[0;34m\"cuda:0\"\u001b[0m \u001b[0;32mif\u001b[0m \u001b[0mtorch\u001b[0m\u001b[0;34m.\u001b[0m\u001b[0mcuda\u001b[0m\u001b[0;34m.\u001b[0m\u001b[0mis_available\u001b[0m\u001b[0;34m(\u001b[0m\u001b[0;34m)\u001b[0m \u001b[0;32melse\u001b[0m \u001b[0;34m\"cpu\"\u001b[0m\u001b[0;34m)\u001b[0m\u001b[0;34m\u001b[0m\u001b[0;34m\u001b[0m\u001b[0m\n\u001b[1;32m     18\u001b[0m         \u001b[0mself\u001b[0m\u001b[0;34m.\u001b[0m\u001b[0mprepare_data\u001b[0m\u001b[0;34m(\u001b[0m\u001b[0mdata_path\u001b[0m\u001b[0;34m)\u001b[0m\u001b[0;34m\u001b[0m\u001b[0;34m\u001b[0m\u001b[0m\n\u001b[0;32m---> 19\u001b[0;31m         \u001b[0mself\u001b[0m\u001b[0;34m.\u001b[0m\u001b[0mbuild_model\u001b[0m\u001b[0;34m(\u001b[0m\u001b[0;34m)\u001b[0m\u001b[0;34m\u001b[0m\u001b[0;34m\u001b[0m\u001b[0m\n\u001b[0m\u001b[1;32m     20\u001b[0m \u001b[0;34m\u001b[0m\u001b[0m\n\u001b[1;32m     21\u001b[0m \u001b[0;34m\u001b[0m\u001b[0m\n",
            "\u001b[0;32m/content/Time-Series-Anomaly-Detection-An-experimental-survey/DeepAnt/DeepAntSolver.py\u001b[0m in \u001b[0;36mbuild_model\u001b[0;34m(self)\u001b[0m\n\u001b[1;32m     28\u001b[0m     \u001b[0;32mdef\u001b[0m \u001b[0mbuild_model\u001b[0m\u001b[0;34m(\u001b[0m\u001b[0mself\u001b[0m\u001b[0;34m)\u001b[0m\u001b[0;34m:\u001b[0m\u001b[0;34m\u001b[0m\u001b[0;34m\u001b[0m\u001b[0m\n\u001b[1;32m     29\u001b[0m         \u001b[0mself\u001b[0m\u001b[0;34m.\u001b[0m\u001b[0mmodel\u001b[0m \u001b[0;34m=\u001b[0m \u001b[0mDeepAnt\u001b[0m\u001b[0;34m(\u001b[0m\u001b[0mself\u001b[0m\u001b[0;34m.\u001b[0m\u001b[0mconfig\u001b[0m\u001b[0;34m[\u001b[0m\u001b[0;34m'SEQ_LEN'\u001b[0m\u001b[0;34m]\u001b[0m\u001b[0;34m,\u001b[0m \u001b[0mself\u001b[0m\u001b[0;34m.\u001b[0m\u001b[0mconfig\u001b[0m\u001b[0;34m[\u001b[0m\u001b[0;34m'out_dim'\u001b[0m\u001b[0;34m]\u001b[0m\u001b[0;34m)\u001b[0m\u001b[0;34m\u001b[0m\u001b[0;34m\u001b[0m\u001b[0m\n\u001b[0;32m---> 30\u001b[0;31m         \u001b[0mself\u001b[0m\u001b[0;34m.\u001b[0m\u001b[0manomaly_detector\u001b[0m \u001b[0;34m=\u001b[0m \u001b[0mAnomalyDetector\u001b[0m\u001b[0;34m(\u001b[0m\u001b[0mself\u001b[0m\u001b[0;34m.\u001b[0m\u001b[0mmodel\u001b[0m\u001b[0;34m)\u001b[0m\u001b[0;34m\u001b[0m\u001b[0;34m\u001b[0m\u001b[0m\n\u001b[0m\u001b[1;32m     31\u001b[0m         \u001b[0mself\u001b[0m\u001b[0;34m.\u001b[0m\u001b[0mcriterion\u001b[0m \u001b[0;34m=\u001b[0m \u001b[0mnn\u001b[0m\u001b[0;34m.\u001b[0m\u001b[0mL1Loss\u001b[0m\u001b[0;34m(\u001b[0m\u001b[0;34m)\u001b[0m\u001b[0;34m\u001b[0m\u001b[0;34m\u001b[0m\u001b[0m\n\u001b[1;32m     32\u001b[0m         \u001b[0mself\u001b[0m\u001b[0;34m.\u001b[0m\u001b[0moptimizer\u001b[0m \u001b[0;34m=\u001b[0m \u001b[0mtorch\u001b[0m\u001b[0;34m.\u001b[0m\u001b[0moptim\u001b[0m\u001b[0;34m.\u001b[0m\u001b[0mAdam\u001b[0m\u001b[0;34m(\u001b[0m\u001b[0mself\u001b[0m\u001b[0;34m.\u001b[0m\u001b[0mmodel\u001b[0m\u001b[0;34m.\u001b[0m\u001b[0mparameters\u001b[0m\u001b[0;34m(\u001b[0m\u001b[0;34m)\u001b[0m\u001b[0;34m,\u001b[0m \u001b[0mlr\u001b[0m \u001b[0;34m=\u001b[0m \u001b[0;36m1e-5\u001b[0m\u001b[0;34m)\u001b[0m\u001b[0;34m\u001b[0m\u001b[0;34m\u001b[0m\u001b[0m\n",
            "\u001b[0;31mNameError\u001b[0m: name 'AnomalyDetector' is not defined"
          ]
        }
      ]
    }
  ]
}