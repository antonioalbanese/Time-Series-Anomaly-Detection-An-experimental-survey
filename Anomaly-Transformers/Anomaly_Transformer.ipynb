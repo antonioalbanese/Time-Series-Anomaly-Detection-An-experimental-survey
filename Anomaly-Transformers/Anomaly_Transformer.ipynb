{
  "nbformat": 4,
  "nbformat_minor": 0,
  "metadata": {
    "colab": {
      "provenance": [],
      "authorship_tag": "ABX9TyPY237YKMGYsumyVynAeirI",
      "include_colab_link": true
    },
    "kernelspec": {
      "name": "python3",
      "display_name": "Python 3"
    },
    "language_info": {
      "name": "python"
    },
    "accelerator": "GPU"
  },
  "cells": [
    {
      "cell_type": "markdown",
      "metadata": {
        "id": "view-in-github",
        "colab_type": "text"
      },
      "source": [
        "<a href=\"https://colab.research.google.com/github/antonioalbanese/Time-Series-Anomaly-Detection-An-experimental-survey/blob/main/Anomaly-Transformers/Anomaly_Transformer.ipynb\" target=\"_parent\"><img src=\"https://colab.research.google.com/assets/colab-badge.svg\" alt=\"Open In Colab\"/></a>"
      ]
    },
    {
      "cell_type": "code",
      "execution_count": 6,
      "metadata": {
        "colab": {
          "base_uri": "https://localhost:8080/"
        },
        "id": "R9R73RnMuTSr",
        "outputId": "97ac9e72-2f14-4d80-ef1d-a0673196fe38"
      },
      "outputs": [
        {
          "output_type": "stream",
          "name": "stdout",
          "text": [
            "fatal: destination path 'Time-Series-Anomaly-Detection-An-experimental-survey' already exists and is not an empty directory.\n",
            "/content/Time-Series-Anomaly-Detection-An-experimental-survey/Anomaly-Transformers/Anomaly-Transformer-main\n"
          ]
        }
      ],
      "source": [
        "!git clone https://github.com/antonioalbanese/Time-Series-Anomaly-Detection-An-experimental-survey/\n",
        "\n",
        "%cd Time-Series-Anomaly-Detection-An-experimental-survey/Anomaly-Transformers/Anomaly-Transformer-main"
      ]
    },
    {
      "cell_type": "code",
      "source": [
        "%mkdir dataset\n",
        "!gdown https://drive.google.com/uc?id=1ZCLBU_pKTbsPlcj_LwxZE3IRy6mrlys3 -O=\"./dataset/MSL.zip\"\n",
        "import zipfile\n",
        "with zipfile.ZipFile(\"./dataset/MSL.zip\", 'r') as zip_ref:\n",
        "    zip_ref.extractall(\"./dataset/\")\n"
      ],
      "metadata": {
        "colab": {
          "base_uri": "https://localhost:8080/"
        },
        "id": "kPnt30P5x33h",
        "outputId": "c2f0c75c-4528-47e0-89c4-b2a19f1c21c1"
      },
      "execution_count": 7,
      "outputs": [
        {
          "output_type": "stream",
          "name": "stdout",
          "text": [
            "Downloading...\n",
            "From: https://drive.google.com/uc?id=1ZCLBU_pKTbsPlcj_LwxZE3IRy6mrlys3\n",
            "To: /content/Time-Series-Anomaly-Detection-An-experimental-survey/Anomaly-Transformers/Anomaly-Transformer-main/dataset/MSL.zip\n",
            "\r  0% 0.00/767k [00:00<?, ?B/s]\r100% 767k/767k [00:00<00:00, 136MB/s]\n"
          ]
        }
      ]
    },
    {
      "cell_type": "code",
      "source": [
        "##################################\n",
        "############## MAIN ##############\n",
        "##################################\n",
        "import os\n",
        "import argparse\n",
        "\n",
        "from torch.backends import cudnn\n",
        "from utils.utils import *\n",
        "\n",
        "from solver import Solver\n",
        "\n",
        "def str2bool(v):\n",
        "    return v.lower() in ('true')\n",
        "\n",
        "\n",
        "def main(config):\n",
        "    cudnn.benchmark = True\n",
        "    if (not os.path.exists(config.model_save_path)):\n",
        "        mkdir(config.model_save_path)\n",
        "    solver = Solver(vars(config))\n",
        "\n",
        "    if config.mode == 'train':\n",
        "        solver.train()\n",
        "    elif config.mode == 'test':\n",
        "        solver.test()\n",
        "\n",
        "    return solver\n",
        "\n",
        "############################\n",
        "# default settings for MSL #\n",
        "############################\n",
        "lr=1e-4\n",
        "num_epochs=3\n",
        "k=3\n",
        "win_size=100\n",
        "input_c=55\n",
        "output_c=55\n",
        "batch_size=256\n",
        "pretrained_model=None\n",
        "dataset='MSL'\n",
        "mode='train' # choices=['train', 'test']\n",
        "data_path='./dataset/MSL'\n",
        "model_save_path='checkpoints'\n",
        "anormly_ratio=1\n",
        "\n",
        "parser = argparse.ArgumentParser()\n",
        "parser.add_argument('--lr', type=float, default=1e-4)\n",
        "parser.add_argument('--num_epochs', type=int, default=10)\n",
        "parser.add_argument('--k', type=int, default=3)\n",
        "parser.add_argument('--win_size', type=int, default=100)\n",
        "parser.add_argument('--input_c', type=int, default=38)\n",
        "parser.add_argument('--output_c', type=int, default=38)\n",
        "parser.add_argument('--batch_size', type=int, default=1024)\n",
        "parser.add_argument('--pretrained_model', type=str, default=None)\n",
        "parser.add_argument('--dataset', type=str, default='credit')\n",
        "parser.add_argument('--mode', type=str, default='train', choices=['train', 'test'])\n",
        "parser.add_argument('--data_path', type=str, default='./dataset/creditcard_ts.csv')\n",
        "parser.add_argument('--model_save_path', type=str, default='checkpoints')\n",
        "parser.add_argument('--anormly_ratio', type=float, default=4.00)\n",
        "\n",
        "args = \"--lr 1e-4 \\\n",
        "    --num_epochs 10 \\\n",
        "    --k 3 \\\n",
        "    --win_size 100 \\\n",
        "    --input_c 55 \\\n",
        "    --output_c 55 \\\n",
        "    --batch_size 256 \\\n",
        "    --pretrained_model 20 \\\n",
        "    --dataset MSL \\\n",
        "    --mode test\\\n",
        "    --data_path ./dataset/MSL \\\n",
        "    --model_save_path checkpoints \\\n",
        "    --anormly_ratio 1\"\n",
        "\n",
        "config = parser.parse_args(args = args.split())\n",
        "\n",
        "# print('------------ Options -------------')\n",
        "# for k in sorted(config):\n",
        "#     print('%s: %s' % (str(k), str(config[k])))\n",
        "# print('-------------- End ----------------')\n",
        "main(config)"
      ],
      "metadata": {
        "colab": {
          "base_uri": "https://localhost:8080/"
        },
        "id": "XDOGTancu9fO",
        "outputId": "7b7371bc-ae66-4f86-806d-8900e371548d"
      },
      "execution_count": 9,
      "outputs": [
        {
          "output_type": "stream",
          "name": "stdout",
          "text": [
            "test: (73729, 55)\n",
            "train: (58317, 55)\n",
            "test: (73729, 55)\n",
            "train: (58317, 55)\n",
            "test: (73729, 55)\n",
            "train: (58317, 55)\n",
            "test: (73729, 55)\n",
            "train: (58317, 55)\n",
            "======================TEST MODE======================\n"
          ]
        },
        {
          "output_type": "stream",
          "name": "stderr",
          "text": [
            "/usr/local/lib/python3.7/dist-packages/torch/nn/_reduction.py:42: UserWarning: size_average and reduce args will be deprecated, please use reduction='none' instead.\n",
            "  warnings.warn(warning.format(ret))\n"
          ]
        },
        {
          "output_type": "stream",
          "name": "stdout",
          "text": [
            "Threshold : 0.00425358126405618\n",
            "pred:    (73700,)\n",
            "gt:      (73700,)\n",
            "pred:  (73700,)\n",
            "gt:    (73700,)\n",
            "Accuracy : 0.9842, Precision : 0.9158, Recall : 0.9364, F-score : 0.9260 \n"
          ]
        },
        {
          "output_type": "execute_result",
          "data": {
            "text/plain": [
              "<solver.Solver at 0x7f7ac4a35750>"
            ]
          },
          "metadata": {},
          "execution_count": 9
        }
      ]
    }
  ]
}