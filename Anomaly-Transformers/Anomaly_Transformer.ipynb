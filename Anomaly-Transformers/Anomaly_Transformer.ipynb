{
  "nbformat": 4,
  "nbformat_minor": 0,
  "metadata": {
    "colab": {
      "provenance": [],
      "authorship_tag": "ABX9TyPpTaBBJa4C9k/pxJlTEPri",
      "include_colab_link": true
    },
    "kernelspec": {
      "name": "python3",
      "display_name": "Python 3"
    },
    "language_info": {
      "name": "python"
    },
    "accelerator": "GPU"
  },
  "cells": [
    {
      "cell_type": "markdown",
      "metadata": {
        "id": "view-in-github",
        "colab_type": "text"
      },
      "source": [
        "<a href=\"https://colab.research.google.com/github/antonioalbanese/Time-Series-Anomaly-Detection-An-experimental-survey/blob/main/Anomaly-Transofrmers/Anomaly_Transofrmer.ipynb\" target=\"_parent\"><img src=\"https://colab.research.google.com/assets/colab-badge.svg\" alt=\"Open In Colab\"/></a>"
      ]
    },
    {
      "cell_type": "code",
      "execution_count": 1,
      "metadata": {
        "colab": {
          "base_uri": "https://localhost:8080/"
        },
        "id": "R9R73RnMuTSr",
        "outputId": "34364869-144d-40de-fcb7-1f9328928161"
      },
      "outputs": [
        {
          "output_type": "stream",
          "name": "stdout",
          "text": [
            "Cloning into 'Anomaly-Transformer'...\n",
            "remote: Enumerating objects: 122, done.\u001b[K\n",
            "remote: Counting objects: 100% (32/32), done.\u001b[K\n",
            "remote: Compressing objects: 100% (15/15), done.\u001b[K\n",
            "remote: Total 122 (delta 25), reused 17 (delta 17), pack-reused 90\u001b[K\n",
            "Receiving objects: 100% (122/122), 26.66 MiB | 38.94 MiB/s, done.\n",
            "Resolving deltas: 100% (51/51), done.\n",
            "/content/Anomaly-Transformer\n"
          ]
        }
      ],
      "source": [
        "!git clone https://github.com/thuml/Anomaly-Transformer\n",
        "%cd Anomaly-Transformer/"
      ]
    },
    {
      "cell_type": "code",
      "source": [
        "%mkdir dataset\n",
        "!gdown https://drive.google.com/uc?id=1ZCLBU_pKTbsPlcj_LwxZE3IRy6mrlys3 -O=\"./dataset/MSL.zip\"\n",
        "import zipfile\n",
        "with zipfile.ZipFile(\"./dataset/MSL.zip\", 'r') as zip_ref:\n",
        "    zip_ref.extractall(\"./dataset/\")\n"
      ],
      "metadata": {
        "colab": {
          "base_uri": "https://localhost:8080/"
        },
        "id": "kPnt30P5x33h",
        "outputId": "6d50ee8e-e37f-47b9-83b5-aaeb651295ae"
      },
      "execution_count": 2,
      "outputs": [
        {
          "output_type": "stream",
          "name": "stdout",
          "text": [
            "Downloading...\n",
            "From: https://drive.google.com/uc?id=1ZCLBU_pKTbsPlcj_LwxZE3IRy6mrlys3\n",
            "To: /content/Anomaly-Transformer/dataset/MSL.zip\n",
            "\r  0% 0.00/767k [00:00<?, ?B/s]\r100% 767k/767k [00:00<00:00, 123MB/s]\n"
          ]
        }
      ]
    },
    {
      "cell_type": "code",
      "source": [
        "##################################\n",
        "############## MAIN ##############\n",
        "##################################\n",
        "import os\n",
        "import argparse\n",
        "\n",
        "from torch.backends import cudnn\n",
        "from utils.utils import *\n",
        "\n",
        "from solver import Solver\n",
        "\n",
        "def str2bool(v):\n",
        "    return v.lower() in ('true')\n",
        "\n",
        "\n",
        "def main(config):\n",
        "    cudnn.benchmark = True\n",
        "    if (not os.path.exists(config.model_save_path)):\n",
        "        mkdir(config.model_save_path)\n",
        "    solver = Solver(vars(config))\n",
        "\n",
        "    if config.mode == 'train':\n",
        "        solver.train()\n",
        "    elif config.mode == 'test':\n",
        "        solver.test()\n",
        "\n",
        "    return solver\n",
        "\n",
        "############################\n",
        "# default settings for MSL #\n",
        "############################\n",
        "lr=1e-4\n",
        "num_epochs=3\n",
        "k=3\n",
        "win_size=100\n",
        "input_c=55\n",
        "output_c=55\n",
        "batch_size=256\n",
        "pretrained_model=None\n",
        "dataset='MSL'\n",
        "mode='train' # choices=['train', 'test']\n",
        "data_path='./dataset/MSL'\n",
        "model_save_path='checkpoints'\n",
        "anormly_ratio=1\n",
        "\n",
        "parser = argparse.ArgumentParser()\n",
        "parser.add_argument('--lr', type=float, default=1e-4)\n",
        "parser.add_argument('--num_epochs', type=int, default=10)\n",
        "parser.add_argument('--k', type=int, default=3)\n",
        "parser.add_argument('--win_size', type=int, default=100)\n",
        "parser.add_argument('--input_c', type=int, default=38)\n",
        "parser.add_argument('--output_c', type=int, default=38)\n",
        "parser.add_argument('--batch_size', type=int, default=1024)\n",
        "parser.add_argument('--pretrained_model', type=str, default=None)\n",
        "parser.add_argument('--dataset', type=str, default='credit')\n",
        "parser.add_argument('--mode', type=str, default='train', choices=['train', 'test'])\n",
        "parser.add_argument('--data_path', type=str, default='./dataset/creditcard_ts.csv')\n",
        "parser.add_argument('--model_save_path', type=str, default='checkpoints')\n",
        "parser.add_argument('--anormly_ratio', type=float, default=4.00)\n",
        "\n",
        "args = \"--lr 1e-4 \\\n",
        "    --num_epochs 3 \\\n",
        "    --k 3 \\\n",
        "    --win_size 100 \\\n",
        "    --input_c 55 \\\n",
        "    --output_c 55 \\\n",
        "    --batch_size 256 \\\n",
        "    --pretrained_model None \\\n",
        "    --dataset MSL \\\n",
        "    --mode train\\\n",
        "    --data_path ./dataset/MSL \\\n",
        "    --model_save_path checkpoints \\\n",
        "    --anormly_ratio 1\"\n",
        "\n",
        "config = parser.parse_args(args = args.split())\n",
        "\n",
        "# print('------------ Options -------------')\n",
        "# for k in sorted(config):\n",
        "#     print('%s: %s' % (str(k), str(config[k])))\n",
        "# print('-------------- End ----------------')\n",
        "main(config)"
      ],
      "metadata": {
        "colab": {
          "base_uri": "https://localhost:8080/"
        },
        "id": "XDOGTancu9fO",
        "outputId": "42cf5a4f-b4f4-4c87-b606-f53f9850bf3e"
      },
      "execution_count": 5,
      "outputs": [
        {
          "output_type": "stream",
          "name": "stdout",
          "text": [
            "test: (73729, 55)\n",
            "train: (58317, 55)\n",
            "test: (73729, 55)\n",
            "train: (58317, 55)\n",
            "test: (73729, 55)\n",
            "train: (58317, 55)\n",
            "test: (73729, 55)\n",
            "train: (58317, 55)\n",
            "======================TRAIN MODE======================\n",
            "\tspeed: 0.6579s/iter; left time: 384.8585s\n",
            "\tspeed: 0.6773s/iter; left time: 328.4829s\n",
            "Epoch: 1 cost time: 152.59120202064514\n",
            "Epoch: 1, Steps: 228 | Train Loss: -42.1041788 Vali Loss: -45.4377022 \n",
            "Validation loss decreased (inf --> -45.437702).  Saving model ...\n",
            "Updating learning rate to 0.0001\n",
            "\tspeed: 1.4754s/iter; left time: 526.7239s\n",
            "\tspeed: 0.6936s/iter; left time: 178.2670s\n",
            "Epoch: 2 cost time: 157.59030771255493\n",
            "Epoch: 2, Steps: 228 | Train Loss: -47.5018357 Vali Loss: -46.0409565 \n",
            "EarlyStopping counter: 1 out of 3\n",
            "Updating learning rate to 5e-05\n",
            "\tspeed: 1.4808s/iter; left time: 191.0202s\n",
            "\tspeed: 0.6933s/iter; left time: 20.1051s\n",
            "Epoch: 3 cost time: 157.53933358192444\n",
            "Epoch: 3, Steps: 228 | Train Loss: -47.7976447 Vali Loss: -46.2894040 \n",
            "EarlyStopping counter: 2 out of 3\n",
            "Updating learning rate to 2.5e-05\n"
          ]
        },
        {
          "output_type": "execute_result",
          "data": {
            "text/plain": [
              "<solver.Solver at 0x7fd850d41310>"
            ]
          },
          "metadata": {},
          "execution_count": 5
        }
      ]
    }
  ]
}